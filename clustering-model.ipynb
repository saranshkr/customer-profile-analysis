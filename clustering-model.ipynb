{
 "cells": [
  {
   "cell_type": "code",
   "execution_count": 1,
   "metadata": {},
   "outputs": [],
   "source": [
    "from mpl_toolkits.mplot3d import Axes3D\n",
    "from sklearn.cluster import AgglomerativeClustering\n",
    "from matplotlib.colors import ListedColormap\n",
    "from sklearn import metrics"
   ]
  },
  {
   "cell_type": "code",
   "execution_count": 2,
   "metadata": {},
   "outputs": [],
   "source": [
    "import pandas as pd\n",
    "import numpy as np\n",
    "import matplotlib.pyplot as plt\n",
    "import seaborn as sns"
   ]
  },
  {
   "cell_type": "code",
   "execution_count": 3,
   "metadata": {},
   "outputs": [
    {
     "data": {
      "text/plain": [
       "(2212, 11)"
      ]
     },
     "execution_count": 3,
     "metadata": {},
     "output_type": "execute_result"
    }
   ],
   "source": [
    "df_orig = pd.read_csv('dataset/cluster_dataset.csv')\n",
    "df_orig.shape"
   ]
  },
  {
   "cell_type": "code",
   "execution_count": 4,
   "metadata": {},
   "outputs": [
    {
     "data": {
      "text/html": [
       "<div>\n",
       "<style scoped>\n",
       "    .dataframe tbody tr th:only-of-type {\n",
       "        vertical-align: middle;\n",
       "    }\n",
       "\n",
       "    .dataframe tbody tr th {\n",
       "        vertical-align: top;\n",
       "    }\n",
       "\n",
       "    .dataframe thead th {\n",
       "        text-align: right;\n",
       "    }\n",
       "</style>\n",
       "<table border=\"1\" class=\"dataframe\">\n",
       "  <thead>\n",
       "    <tr style=\"text-align: right;\">\n",
       "      <th></th>\n",
       "      <th>Age</th>\n",
       "      <th>Education</th>\n",
       "      <th>Rel_Status</th>\n",
       "      <th>Income</th>\n",
       "      <th>TotalSpend</th>\n",
       "      <th>Wines</th>\n",
       "      <th>Fruits</th>\n",
       "      <th>Meat</th>\n",
       "      <th>Fish</th>\n",
       "      <th>Sweet</th>\n",
       "      <th>Gold</th>\n",
       "    </tr>\n",
       "  </thead>\n",
       "  <tbody>\n",
       "    <tr>\n",
       "      <th>0</th>\n",
       "      <td>55</td>\n",
       "      <td>Graduation</td>\n",
       "      <td>Single</td>\n",
       "      <td>58138.0</td>\n",
       "      <td>1617</td>\n",
       "      <td>635</td>\n",
       "      <td>88</td>\n",
       "      <td>546</td>\n",
       "      <td>172</td>\n",
       "      <td>88</td>\n",
       "      <td>88</td>\n",
       "    </tr>\n",
       "    <tr>\n",
       "      <th>1</th>\n",
       "      <td>60</td>\n",
       "      <td>Graduation</td>\n",
       "      <td>Single</td>\n",
       "      <td>46344.0</td>\n",
       "      <td>27</td>\n",
       "      <td>11</td>\n",
       "      <td>1</td>\n",
       "      <td>6</td>\n",
       "      <td>2</td>\n",
       "      <td>1</td>\n",
       "      <td>6</td>\n",
       "    </tr>\n",
       "    <tr>\n",
       "      <th>2</th>\n",
       "      <td>48</td>\n",
       "      <td>Graduation</td>\n",
       "      <td>Coupled</td>\n",
       "      <td>71613.0</td>\n",
       "      <td>776</td>\n",
       "      <td>426</td>\n",
       "      <td>49</td>\n",
       "      <td>127</td>\n",
       "      <td>111</td>\n",
       "      <td>21</td>\n",
       "      <td>42</td>\n",
       "    </tr>\n",
       "    <tr>\n",
       "      <th>3</th>\n",
       "      <td>30</td>\n",
       "      <td>Graduation</td>\n",
       "      <td>Coupled</td>\n",
       "      <td>26646.0</td>\n",
       "      <td>53</td>\n",
       "      <td>11</td>\n",
       "      <td>4</td>\n",
       "      <td>20</td>\n",
       "      <td>10</td>\n",
       "      <td>3</td>\n",
       "      <td>5</td>\n",
       "    </tr>\n",
       "    <tr>\n",
       "      <th>4</th>\n",
       "      <td>33</td>\n",
       "      <td>PhD</td>\n",
       "      <td>Coupled</td>\n",
       "      <td>58293.0</td>\n",
       "      <td>422</td>\n",
       "      <td>173</td>\n",
       "      <td>43</td>\n",
       "      <td>118</td>\n",
       "      <td>46</td>\n",
       "      <td>27</td>\n",
       "      <td>15</td>\n",
       "    </tr>\n",
       "  </tbody>\n",
       "</table>\n",
       "</div>"
      ],
      "text/plain": [
       "   Age   Education Rel_Status   Income  TotalSpend  Wines  Fruits  Meat  Fish  \\\n",
       "0   55  Graduation     Single  58138.0        1617    635      88   546   172   \n",
       "1   60  Graduation     Single  46344.0          27     11       1     6     2   \n",
       "2   48  Graduation    Coupled  71613.0         776    426      49   127   111   \n",
       "3   30  Graduation    Coupled  26646.0          53     11       4    20    10   \n",
       "4   33         PhD    Coupled  58293.0         422    173      43   118    46   \n",
       "\n",
       "   Sweet  Gold  \n",
       "0     88    88  \n",
       "1      1     6  \n",
       "2     21    42  \n",
       "3      3     5  \n",
       "4     27    15  "
      ]
     },
     "execution_count": 4,
     "metadata": {},
     "output_type": "execute_result"
    }
   ],
   "source": [
    "df_orig.head()"
   ]
  },
  {
   "cell_type": "code",
   "execution_count": 5,
   "metadata": {},
   "outputs": [],
   "source": [
    "# def encode_and_bind(dataframe, feature):\n",
    "#     dummies = pd.get_dummies(dataframe[[feature]])\n",
    "#     res = pd.concat([dummies, dataframe], axis=1)\n",
    "#     res = res.drop([feature], axis=1)\n",
    "#     return(res) "
   ]
  },
  {
   "cell_type": "code",
   "execution_count": 6,
   "metadata": {},
   "outputs": [],
   "source": [
    "# df = encode_and_bind(dataframe=df, feature='Education')\n",
    "# df = encode_and_bind(df, 'Rel_Status')\n",
    "# df.head(10)"
   ]
  },
  {
   "cell_type": "code",
   "execution_count": 7,
   "metadata": {},
   "outputs": [],
   "source": [
    "df = df_orig.copy()"
   ]
  },
  {
   "cell_type": "code",
   "execution_count": 8,
   "metadata": {},
   "outputs": [
    {
     "data": {
      "text/html": [
       "<div>\n",
       "<style scoped>\n",
       "    .dataframe tbody tr th:only-of-type {\n",
       "        vertical-align: middle;\n",
       "    }\n",
       "\n",
       "    .dataframe tbody tr th {\n",
       "        vertical-align: top;\n",
       "    }\n",
       "\n",
       "    .dataframe thead th {\n",
       "        text-align: right;\n",
       "    }\n",
       "</style>\n",
       "<table border=\"1\" class=\"dataframe\">\n",
       "  <thead>\n",
       "    <tr style=\"text-align: right;\">\n",
       "      <th></th>\n",
       "      <th>Age</th>\n",
       "      <th>Education</th>\n",
       "      <th>Rel_Status</th>\n",
       "      <th>Income</th>\n",
       "      <th>TotalSpend</th>\n",
       "      <th>Wines</th>\n",
       "      <th>Fruits</th>\n",
       "      <th>Meat</th>\n",
       "      <th>Fish</th>\n",
       "      <th>Sweet</th>\n",
       "      <th>Gold</th>\n",
       "    </tr>\n",
       "  </thead>\n",
       "  <tbody>\n",
       "    <tr>\n",
       "      <th>0</th>\n",
       "      <td>55</td>\n",
       "      <td>2</td>\n",
       "      <td>1</td>\n",
       "      <td>58138.0</td>\n",
       "      <td>1617</td>\n",
       "      <td>635</td>\n",
       "      <td>88</td>\n",
       "      <td>546</td>\n",
       "      <td>172</td>\n",
       "      <td>88</td>\n",
       "      <td>88</td>\n",
       "    </tr>\n",
       "    <tr>\n",
       "      <th>1</th>\n",
       "      <td>60</td>\n",
       "      <td>2</td>\n",
       "      <td>1</td>\n",
       "      <td>46344.0</td>\n",
       "      <td>27</td>\n",
       "      <td>11</td>\n",
       "      <td>1</td>\n",
       "      <td>6</td>\n",
       "      <td>2</td>\n",
       "      <td>1</td>\n",
       "      <td>6</td>\n",
       "    </tr>\n",
       "    <tr>\n",
       "      <th>2</th>\n",
       "      <td>48</td>\n",
       "      <td>2</td>\n",
       "      <td>0</td>\n",
       "      <td>71613.0</td>\n",
       "      <td>776</td>\n",
       "      <td>426</td>\n",
       "      <td>49</td>\n",
       "      <td>127</td>\n",
       "      <td>111</td>\n",
       "      <td>21</td>\n",
       "      <td>42</td>\n",
       "    </tr>\n",
       "    <tr>\n",
       "      <th>3</th>\n",
       "      <td>30</td>\n",
       "      <td>2</td>\n",
       "      <td>0</td>\n",
       "      <td>26646.0</td>\n",
       "      <td>53</td>\n",
       "      <td>11</td>\n",
       "      <td>4</td>\n",
       "      <td>20</td>\n",
       "      <td>10</td>\n",
       "      <td>3</td>\n",
       "      <td>5</td>\n",
       "    </tr>\n",
       "    <tr>\n",
       "      <th>4</th>\n",
       "      <td>33</td>\n",
       "      <td>4</td>\n",
       "      <td>0</td>\n",
       "      <td>58293.0</td>\n",
       "      <td>422</td>\n",
       "      <td>173</td>\n",
       "      <td>43</td>\n",
       "      <td>118</td>\n",
       "      <td>46</td>\n",
       "      <td>27</td>\n",
       "      <td>15</td>\n",
       "    </tr>\n",
       "    <tr>\n",
       "      <th>5</th>\n",
       "      <td>46</td>\n",
       "      <td>3</td>\n",
       "      <td>0</td>\n",
       "      <td>62513.0</td>\n",
       "      <td>716</td>\n",
       "      <td>520</td>\n",
       "      <td>42</td>\n",
       "      <td>98</td>\n",
       "      <td>0</td>\n",
       "      <td>42</td>\n",
       "      <td>14</td>\n",
       "    </tr>\n",
       "    <tr>\n",
       "      <th>6</th>\n",
       "      <td>41</td>\n",
       "      <td>2</td>\n",
       "      <td>1</td>\n",
       "      <td>55635.0</td>\n",
       "      <td>590</td>\n",
       "      <td>235</td>\n",
       "      <td>65</td>\n",
       "      <td>164</td>\n",
       "      <td>50</td>\n",
       "      <td>49</td>\n",
       "      <td>27</td>\n",
       "    </tr>\n",
       "    <tr>\n",
       "      <th>7</th>\n",
       "      <td>28</td>\n",
       "      <td>4</td>\n",
       "      <td>0</td>\n",
       "      <td>33454.0</td>\n",
       "      <td>169</td>\n",
       "      <td>76</td>\n",
       "      <td>10</td>\n",
       "      <td>56</td>\n",
       "      <td>3</td>\n",
       "      <td>1</td>\n",
       "      <td>23</td>\n",
       "    </tr>\n",
       "    <tr>\n",
       "      <th>8</th>\n",
       "      <td>39</td>\n",
       "      <td>4</td>\n",
       "      <td>0</td>\n",
       "      <td>30351.0</td>\n",
       "      <td>46</td>\n",
       "      <td>14</td>\n",
       "      <td>0</td>\n",
       "      <td>24</td>\n",
       "      <td>3</td>\n",
       "      <td>3</td>\n",
       "      <td>2</td>\n",
       "    </tr>\n",
       "    <tr>\n",
       "      <th>9</th>\n",
       "      <td>64</td>\n",
       "      <td>4</td>\n",
       "      <td>0</td>\n",
       "      <td>5648.0</td>\n",
       "      <td>49</td>\n",
       "      <td>28</td>\n",
       "      <td>0</td>\n",
       "      <td>6</td>\n",
       "      <td>1</td>\n",
       "      <td>1</td>\n",
       "      <td>13</td>\n",
       "    </tr>\n",
       "  </tbody>\n",
       "</table>\n",
       "</div>"
      ],
      "text/plain": [
       "   Age  Education  Rel_Status   Income  TotalSpend  Wines  Fruits  Meat  Fish  \\\n",
       "0   55          2           1  58138.0        1617    635      88   546   172   \n",
       "1   60          2           1  46344.0          27     11       1     6     2   \n",
       "2   48          2           0  71613.0         776    426      49   127   111   \n",
       "3   30          2           0  26646.0          53     11       4    20    10   \n",
       "4   33          4           0  58293.0         422    173      43   118    46   \n",
       "5   46          3           0  62513.0         716    520      42    98     0   \n",
       "6   41          2           1  55635.0         590    235      65   164    50   \n",
       "7   28          4           0  33454.0         169     76      10    56     3   \n",
       "8   39          4           0  30351.0          46     14       0    24     3   \n",
       "9   64          4           0   5648.0          49     28       0     6     1   \n",
       "\n",
       "   Sweet  Gold  \n",
       "0     88    88  \n",
       "1      1     6  \n",
       "2     21    42  \n",
       "3      3     5  \n",
       "4     27    15  \n",
       "5     42    14  \n",
       "6     49    27  \n",
       "7      1    23  \n",
       "8      3     2  \n",
       "9      1    13  "
      ]
     },
     "execution_count": 8,
     "metadata": {},
     "output_type": "execute_result"
    }
   ],
   "source": [
    "from sklearn.preprocessing import LabelEncoder\n",
    "le = LabelEncoder()\n",
    "df['Education'] = le.fit_transform(df['Education'])\n",
    "df['Rel_Status'] = le.fit_transform(df['Rel_Status'])\n",
    "df.head(10)"
   ]
  },
  {
   "cell_type": "code",
   "execution_count": 9,
   "metadata": {},
   "outputs": [
    {
     "data": {
      "text/html": [
       "<div>\n",
       "<style scoped>\n",
       "    .dataframe tbody tr th:only-of-type {\n",
       "        vertical-align: middle;\n",
       "    }\n",
       "\n",
       "    .dataframe tbody tr th {\n",
       "        vertical-align: top;\n",
       "    }\n",
       "\n",
       "    .dataframe thead th {\n",
       "        text-align: right;\n",
       "    }\n",
       "</style>\n",
       "<table border=\"1\" class=\"dataframe\">\n",
       "  <thead>\n",
       "    <tr style=\"text-align: right;\">\n",
       "      <th></th>\n",
       "      <th>Education</th>\n",
       "      <th>Rel_Status</th>\n",
       "      <th>Age</th>\n",
       "      <th>Income</th>\n",
       "      <th>TotalSpend</th>\n",
       "      <th>Wines</th>\n",
       "      <th>Fruits</th>\n",
       "      <th>Meat</th>\n",
       "      <th>Fish</th>\n",
       "      <th>Sweet</th>\n",
       "      <th>Gold</th>\n",
       "    </tr>\n",
       "  </thead>\n",
       "  <tbody>\n",
       "    <tr>\n",
       "      <th>0</th>\n",
       "      <td>2</td>\n",
       "      <td>1</td>\n",
       "      <td>55</td>\n",
       "      <td>58138.0</td>\n",
       "      <td>1617</td>\n",
       "      <td>635</td>\n",
       "      <td>88</td>\n",
       "      <td>546</td>\n",
       "      <td>172</td>\n",
       "      <td>88</td>\n",
       "      <td>88</td>\n",
       "    </tr>\n",
       "    <tr>\n",
       "      <th>1</th>\n",
       "      <td>2</td>\n",
       "      <td>1</td>\n",
       "      <td>60</td>\n",
       "      <td>46344.0</td>\n",
       "      <td>27</td>\n",
       "      <td>11</td>\n",
       "      <td>1</td>\n",
       "      <td>6</td>\n",
       "      <td>2</td>\n",
       "      <td>1</td>\n",
       "      <td>6</td>\n",
       "    </tr>\n",
       "    <tr>\n",
       "      <th>2</th>\n",
       "      <td>2</td>\n",
       "      <td>0</td>\n",
       "      <td>48</td>\n",
       "      <td>71613.0</td>\n",
       "      <td>776</td>\n",
       "      <td>426</td>\n",
       "      <td>49</td>\n",
       "      <td>127</td>\n",
       "      <td>111</td>\n",
       "      <td>21</td>\n",
       "      <td>42</td>\n",
       "    </tr>\n",
       "    <tr>\n",
       "      <th>3</th>\n",
       "      <td>2</td>\n",
       "      <td>0</td>\n",
       "      <td>30</td>\n",
       "      <td>26646.0</td>\n",
       "      <td>53</td>\n",
       "      <td>11</td>\n",
       "      <td>4</td>\n",
       "      <td>20</td>\n",
       "      <td>10</td>\n",
       "      <td>3</td>\n",
       "      <td>5</td>\n",
       "    </tr>\n",
       "    <tr>\n",
       "      <th>4</th>\n",
       "      <td>4</td>\n",
       "      <td>0</td>\n",
       "      <td>33</td>\n",
       "      <td>58293.0</td>\n",
       "      <td>422</td>\n",
       "      <td>173</td>\n",
       "      <td>43</td>\n",
       "      <td>118</td>\n",
       "      <td>46</td>\n",
       "      <td>27</td>\n",
       "      <td>15</td>\n",
       "    </tr>\n",
       "  </tbody>\n",
       "</table>\n",
       "</div>"
      ],
      "text/plain": [
       "   Education  Rel_Status  Age   Income  TotalSpend  Wines  Fruits  Meat  Fish  \\\n",
       "0          2           1   55  58138.0        1617    635      88   546   172   \n",
       "1          2           1   60  46344.0          27     11       1     6     2   \n",
       "2          2           0   48  71613.0         776    426      49   127   111   \n",
       "3          2           0   30  26646.0          53     11       4    20    10   \n",
       "4          4           0   33  58293.0         422    173      43   118    46   \n",
       "\n",
       "   Sweet  Gold  \n",
       "0     88    88  \n",
       "1      1     6  \n",
       "2     21    42  \n",
       "3      3     5  \n",
       "4     27    15  "
      ]
     },
     "execution_count": 9,
     "metadata": {},
     "output_type": "execute_result"
    }
   ],
   "source": [
    "df = df.reindex(columns=(['Rel_Status'] + list([a for a in df.columns if a != 'Rel_Status']) ))\n",
    "df = df.reindex(columns=(['Education'] + list([a for a in df.columns if a != 'Education']) ))\n",
    "df.head()"
   ]
  },
  {
   "cell_type": "code",
   "execution_count": 10,
   "metadata": {},
   "outputs": [
    {
     "data": {
      "text/html": [
       "<div>\n",
       "<style scoped>\n",
       "    .dataframe tbody tr th:only-of-type {\n",
       "        vertical-align: middle;\n",
       "    }\n",
       "\n",
       "    .dataframe tbody tr th {\n",
       "        vertical-align: top;\n",
       "    }\n",
       "\n",
       "    .dataframe thead th {\n",
       "        text-align: right;\n",
       "    }\n",
       "</style>\n",
       "<table border=\"1\" class=\"dataframe\">\n",
       "  <thead>\n",
       "    <tr style=\"text-align: right;\">\n",
       "      <th></th>\n",
       "      <th>Education</th>\n",
       "      <th>Rel_Status</th>\n",
       "      <th>Age</th>\n",
       "      <th>Income</th>\n",
       "      <th>TotalSpend</th>\n",
       "      <th>Wines</th>\n",
       "      <th>Fruits</th>\n",
       "      <th>Meat</th>\n",
       "      <th>Fish</th>\n",
       "      <th>Sweet</th>\n",
       "      <th>Gold</th>\n",
       "    </tr>\n",
       "  </thead>\n",
       "  <tbody>\n",
       "    <tr>\n",
       "      <th>0</th>\n",
       "      <td>2</td>\n",
       "      <td>1</td>\n",
       "      <td>0.927582</td>\n",
       "      <td>0.287105</td>\n",
       "      <td>1.676245</td>\n",
       "      <td>0.977660</td>\n",
       "      <td>1.552041</td>\n",
       "      <td>1.690293</td>\n",
       "      <td>2.453472</td>\n",
       "      <td>1.483713</td>\n",
       "      <td>0.852576</td>\n",
       "    </tr>\n",
       "    <tr>\n",
       "      <th>1</th>\n",
       "      <td>2</td>\n",
       "      <td>1</td>\n",
       "      <td>1.353640</td>\n",
       "      <td>-0.260882</td>\n",
       "      <td>-0.963297</td>\n",
       "      <td>-0.872618</td>\n",
       "      <td>-0.637461</td>\n",
       "      <td>-0.718230</td>\n",
       "      <td>-0.651004</td>\n",
       "      <td>-0.634019</td>\n",
       "      <td>-0.733642</td>\n",
       "    </tr>\n",
       "    <tr>\n",
       "      <th>2</th>\n",
       "      <td>2</td>\n",
       "      <td>0</td>\n",
       "      <td>0.331100</td>\n",
       "      <td>0.913196</td>\n",
       "      <td>0.280110</td>\n",
       "      <td>0.357935</td>\n",
       "      <td>0.570540</td>\n",
       "      <td>-0.178542</td>\n",
       "      <td>1.339513</td>\n",
       "      <td>-0.147184</td>\n",
       "      <td>-0.037254</td>\n",
       "    </tr>\n",
       "    <tr>\n",
       "      <th>3</th>\n",
       "      <td>2</td>\n",
       "      <td>0</td>\n",
       "      <td>-1.202709</td>\n",
       "      <td>-1.176114</td>\n",
       "      <td>-0.920135</td>\n",
       "      <td>-0.872618</td>\n",
       "      <td>-0.561961</td>\n",
       "      <td>-0.655787</td>\n",
       "      <td>-0.504911</td>\n",
       "      <td>-0.585335</td>\n",
       "      <td>-0.752987</td>\n",
       "    </tr>\n",
       "    <tr>\n",
       "      <th>4</th>\n",
       "      <td>4</td>\n",
       "      <td>0</td>\n",
       "      <td>-0.947074</td>\n",
       "      <td>0.294307</td>\n",
       "      <td>-0.307562</td>\n",
       "      <td>-0.392257</td>\n",
       "      <td>0.419540</td>\n",
       "      <td>-0.218684</td>\n",
       "      <td>0.152508</td>\n",
       "      <td>-0.001133</td>\n",
       "      <td>-0.559545</td>\n",
       "    </tr>\n",
       "    <tr>\n",
       "      <th>5</th>\n",
       "      <td>3</td>\n",
       "      <td>0</td>\n",
       "      <td>0.160677</td>\n",
       "      <td>0.490381</td>\n",
       "      <td>0.180505</td>\n",
       "      <td>0.636663</td>\n",
       "      <td>0.394373</td>\n",
       "      <td>-0.307889</td>\n",
       "      <td>-0.687527</td>\n",
       "      <td>0.363993</td>\n",
       "      <td>-0.578889</td>\n",
       "    </tr>\n",
       "    <tr>\n",
       "      <th>6</th>\n",
       "      <td>2</td>\n",
       "      <td>1</td>\n",
       "      <td>-0.265381</td>\n",
       "      <td>0.170807</td>\n",
       "      <td>-0.028667</td>\n",
       "      <td>-0.208416</td>\n",
       "      <td>0.973207</td>\n",
       "      <td>-0.013514</td>\n",
       "      <td>0.225554</td>\n",
       "      <td>0.534385</td>\n",
       "      <td>-0.327416</td>\n",
       "    </tr>\n",
       "    <tr>\n",
       "      <th>7</th>\n",
       "      <td>4</td>\n",
       "      <td>0</td>\n",
       "      <td>-1.373133</td>\n",
       "      <td>-0.859793</td>\n",
       "      <td>-0.727564</td>\n",
       "      <td>-0.679881</td>\n",
       "      <td>-0.410961</td>\n",
       "      <td>-0.495218</td>\n",
       "      <td>-0.632742</td>\n",
       "      <td>-0.634019</td>\n",
       "      <td>-0.404792</td>\n",
       "    </tr>\n",
       "    <tr>\n",
       "      <th>8</th>\n",
       "      <td>4</td>\n",
       "      <td>0</td>\n",
       "      <td>-0.435805</td>\n",
       "      <td>-1.003968</td>\n",
       "      <td>-0.931755</td>\n",
       "      <td>-0.863722</td>\n",
       "      <td>-0.662628</td>\n",
       "      <td>-0.637946</td>\n",
       "      <td>-0.632742</td>\n",
       "      <td>-0.585335</td>\n",
       "      <td>-0.811019</td>\n",
       "    </tr>\n",
       "    <tr>\n",
       "      <th>9</th>\n",
       "      <td>4</td>\n",
       "      <td>0</td>\n",
       "      <td>1.694487</td>\n",
       "      <td>-2.151748</td>\n",
       "      <td>-0.926775</td>\n",
       "      <td>-0.822210</td>\n",
       "      <td>-0.662628</td>\n",
       "      <td>-0.718230</td>\n",
       "      <td>-0.669265</td>\n",
       "      <td>-0.634019</td>\n",
       "      <td>-0.598234</td>\n",
       "    </tr>\n",
       "  </tbody>\n",
       "</table>\n",
       "</div>"
      ],
      "text/plain": [
       "   Education  Rel_Status       Age    Income  TotalSpend     Wines    Fruits  \\\n",
       "0          2           1  0.927582  0.287105    1.676245  0.977660  1.552041   \n",
       "1          2           1  1.353640 -0.260882   -0.963297 -0.872618 -0.637461   \n",
       "2          2           0  0.331100  0.913196    0.280110  0.357935  0.570540   \n",
       "3          2           0 -1.202709 -1.176114   -0.920135 -0.872618 -0.561961   \n",
       "4          4           0 -0.947074  0.294307   -0.307562 -0.392257  0.419540   \n",
       "5          3           0  0.160677  0.490381    0.180505  0.636663  0.394373   \n",
       "6          2           1 -0.265381  0.170807   -0.028667 -0.208416  0.973207   \n",
       "7          4           0 -1.373133 -0.859793   -0.727564 -0.679881 -0.410961   \n",
       "8          4           0 -0.435805 -1.003968   -0.931755 -0.863722 -0.662628   \n",
       "9          4           0  1.694487 -2.151748   -0.926775 -0.822210 -0.662628   \n",
       "\n",
       "       Meat      Fish     Sweet      Gold  \n",
       "0  1.690293  2.453472  1.483713  0.852576  \n",
       "1 -0.718230 -0.651004 -0.634019 -0.733642  \n",
       "2 -0.178542  1.339513 -0.147184 -0.037254  \n",
       "3 -0.655787 -0.504911 -0.585335 -0.752987  \n",
       "4 -0.218684  0.152508 -0.001133 -0.559545  \n",
       "5 -0.307889 -0.687527  0.363993 -0.578889  \n",
       "6 -0.013514  0.225554  0.534385 -0.327416  \n",
       "7 -0.495218 -0.632742 -0.634019 -0.404792  \n",
       "8 -0.637946 -0.632742 -0.585335 -0.811019  \n",
       "9 -0.718230 -0.669265 -0.634019 -0.598234  "
      ]
     },
     "execution_count": 10,
     "metadata": {},
     "output_type": "execute_result"
    }
   ],
   "source": [
    "from sklearn.preprocessing import StandardScaler\n",
    "scaler = StandardScaler()\n",
    "df[df.columns[2:]] = pd.DataFrame(scaler.fit_transform(df[df.columns[2:]]), columns=df.columns[2:])\n",
    "df.head(10)"
   ]
  },
  {
   "cell_type": "code",
   "execution_count": 11,
   "metadata": {},
   "outputs": [],
   "source": [
    "from sklearn.cluster import KMeans\n",
    "from sklearn.datasets import make_blobs\n",
    "from yellowbrick.cluster import KElbowVisualizer"
   ]
  },
  {
   "cell_type": "code",
   "execution_count": 12,
   "metadata": {},
   "outputs": [
    {
     "data": {
      "image/png": "[encoded data removed]",
      "text/plain": [
       "<Figure size 576x396 with 1 Axes>"
      ]
     },
     "metadata": {},
     "output_type": "display_data"
    }
   ],
   "source": [
    "X = df_orig[['Income', 'TotalSpend']]\n",
    "pl = sns.scatterplot(y=X['Income'], x=X['TotalSpend'])\n",
    "plt.xlabel('Income')\n",
    "plt.ylabel('Total Spend')\n",
    "plt.show()"
   ]
  },
  {
   "cell_type": "code",
   "execution_count": 13,
   "metadata": {},
   "outputs": [
    {
     "data": {
      "text/html": [
       "<div>\n",
       "<style scoped>\n",
       "    .dataframe tbody tr th:only-of-type {\n",
       "        vertical-align: middle;\n",
       "    }\n",
       "\n",
       "    .dataframe tbody tr th {\n",
       "        vertical-align: top;\n",
       "    }\n",
       "\n",
       "    .dataframe thead th {\n",
       "        text-align: right;\n",
       "    }\n",
       "</style>\n",
       "<table border=\"1\" class=\"dataframe\">\n",
       "  <thead>\n",
       "    <tr style=\"text-align: right;\">\n",
       "      <th></th>\n",
       "      <th>Education</th>\n",
       "      <th>Rel_Status</th>\n",
       "      <th>Age</th>\n",
       "      <th>Income</th>\n",
       "      <th>TotalSpend</th>\n",
       "    </tr>\n",
       "  </thead>\n",
       "  <tbody>\n",
       "    <tr>\n",
       "      <th>0</th>\n",
       "      <td>2</td>\n",
       "      <td>1</td>\n",
       "      <td>0.927582</td>\n",
       "      <td>0.287105</td>\n",
       "      <td>1.676245</td>\n",
       "    </tr>\n",
       "    <tr>\n",
       "      <th>1</th>\n",
       "      <td>2</td>\n",
       "      <td>1</td>\n",
       "      <td>1.353640</td>\n",
       "      <td>-0.260882</td>\n",
       "      <td>-0.963297</td>\n",
       "    </tr>\n",
       "    <tr>\n",
       "      <th>2</th>\n",
       "      <td>2</td>\n",
       "      <td>0</td>\n",
       "      <td>0.331100</td>\n",
       "      <td>0.913196</td>\n",
       "      <td>0.280110</td>\n",
       "    </tr>\n",
       "    <tr>\n",
       "      <th>3</th>\n",
       "      <td>2</td>\n",
       "      <td>0</td>\n",
       "      <td>-1.202709</td>\n",
       "      <td>-1.176114</td>\n",
       "      <td>-0.920135</td>\n",
       "    </tr>\n",
       "    <tr>\n",
       "      <th>4</th>\n",
       "      <td>4</td>\n",
       "      <td>0</td>\n",
       "      <td>-0.947074</td>\n",
       "      <td>0.294307</td>\n",
       "      <td>-0.307562</td>\n",
       "    </tr>\n",
       "  </tbody>\n",
       "</table>\n",
       "</div>"
      ],
      "text/plain": [
       "   Education  Rel_Status       Age    Income  TotalSpend\n",
       "0          2           1  0.927582  0.287105    1.676245\n",
       "1          2           1  1.353640 -0.260882   -0.963297\n",
       "2          2           0  0.331100  0.913196    0.280110\n",
       "3          2           0 -1.202709 -1.176114   -0.920135\n",
       "4          4           0 -0.947074  0.294307   -0.307562"
      ]
     },
     "execution_count": 13,
     "metadata": {},
     "output_type": "execute_result"
    }
   ],
   "source": [
    "X = df[df.columns[:5]]\n",
    "X.head()"
   ]
  },
  {
   "cell_type": "code",
   "execution_count": 14,
   "metadata": {},
   "outputs": [
    {
     "data": {
      "text/html": [
       "<div>\n",
       "<style scoped>\n",
       "    .dataframe tbody tr th:only-of-type {\n",
       "        vertical-align: middle;\n",
       "    }\n",
       "\n",
       "    .dataframe tbody tr th {\n",
       "        vertical-align: top;\n",
       "    }\n",
       "\n",
       "    .dataframe thead th {\n",
       "        text-align: right;\n",
       "    }\n",
       "</style>\n",
       "<table border=\"1\" class=\"dataframe\">\n",
       "  <thead>\n",
       "    <tr style=\"text-align: right;\">\n",
       "      <th></th>\n",
       "      <th>Education</th>\n",
       "      <th>Rel_Status</th>\n",
       "      <th>Age</th>\n",
       "      <th>Income</th>\n",
       "      <th>TotalSpend</th>\n",
       "    </tr>\n",
       "  </thead>\n",
       "  <tbody>\n",
       "    <tr>\n",
       "      <th>0</th>\n",
       "      <td>1.360395</td>\n",
       "      <td>0.659962</td>\n",
       "      <td>-0.758060</td>\n",
       "      <td>-0.825192</td>\n",
       "      <td>-0.885467</td>\n",
       "    </tr>\n",
       "    <tr>\n",
       "      <th>1</th>\n",
       "      <td>-0.508626</td>\n",
       "      <td>-0.527571</td>\n",
       "      <td>-1.508185</td>\n",
       "      <td>-0.581770</td>\n",
       "      <td>0.501466</td>\n",
       "    </tr>\n",
       "    <tr>\n",
       "      <th>2</th>\n",
       "      <td>0.723357</td>\n",
       "      <td>0.554104</td>\n",
       "      <td>-0.392298</td>\n",
       "      <td>0.428057</td>\n",
       "      <td>0.369737</td>\n",
       "    </tr>\n",
       "    <tr>\n",
       "      <th>3</th>\n",
       "      <td>-1.812110</td>\n",
       "      <td>0.119238</td>\n",
       "      <td>0.726672</td>\n",
       "      <td>0.327885</td>\n",
       "      <td>-0.158037</td>\n",
       "    </tr>\n",
       "    <tr>\n",
       "      <th>4</th>\n",
       "      <td>0.270110</td>\n",
       "      <td>-1.047000</td>\n",
       "      <td>1.503064</td>\n",
       "      <td>0.453913</td>\n",
       "      <td>0.378911</td>\n",
       "    </tr>\n",
       "  </tbody>\n",
       "</table>\n",
       "</div>"
      ],
      "text/plain": [
       "   Education  Rel_Status       Age    Income  TotalSpend\n",
       "0   1.360395    0.659962 -0.758060 -0.825192   -0.885467\n",
       "1  -0.508626   -0.527571 -1.508185 -0.581770    0.501466\n",
       "2   0.723357    0.554104 -0.392298  0.428057    0.369737\n",
       "3  -1.812110    0.119238  0.726672  0.327885   -0.158037\n",
       "4   0.270110   -1.047000  1.503064  0.453913    0.378911"
      ]
     },
     "execution_count": 14,
     "metadata": {},
     "output_type": "execute_result"
    }
   ],
   "source": [
    "from sklearn.decomposition import PCA\n",
    "pca = PCA()\n",
    "pca_df = pd.DataFrame(pca.fit_transform(X), columns=X.columns)\n",
    "pca_df.head()"
   ]
  },
  {
   "cell_type": "code",
   "execution_count": 15,
   "metadata": {},
   "outputs": [
    {
     "data": {
      "image/png": "[encoded data removed]",
      "text/plain": [
       "<Figure size 576x396 with 2 Axes>"
      ]
     },
     "metadata": {},
     "output_type": "display_data"
    },
    {
     "data": {
      "text/plain": [
       "<AxesSubplot:title={'center':'Distortion Score Elbow for KMeans Clustering'}, xlabel='k', ylabel='distortion score'>"
      ]
     },
     "execution_count": 15,
     "metadata": {},
     "output_type": "execute_result"
    }
   ],
   "source": [
    "model = KMeans()\n",
    "visualizer = KElbowVisualizer(model)\n",
    "visualizer.fit(pca_df)\n",
    "visualizer.show()"
   ]
  },
  {
   "cell_type": "code",
   "execution_count": 16,
   "metadata": {},
   "outputs": [
    {
     "data": {
      "text/html": [
       "<div>\n",
       "<style scoped>\n",
       "    .dataframe tbody tr th:only-of-type {\n",
       "        vertical-align: middle;\n",
       "    }\n",
       "\n",
       "    .dataframe tbody tr th {\n",
       "        vertical-align: top;\n",
       "    }\n",
       "\n",
       "    .dataframe thead th {\n",
       "        text-align: right;\n",
       "    }\n",
       "</style>\n",
       "<table border=\"1\" class=\"dataframe\">\n",
       "  <thead>\n",
       "    <tr style=\"text-align: right;\">\n",
       "      <th></th>\n",
       "      <th>Age</th>\n",
       "      <th>Education</th>\n",
       "      <th>Rel_Status</th>\n",
       "      <th>Income</th>\n",
       "      <th>TotalSpend</th>\n",
       "      <th>Wines</th>\n",
       "      <th>Fruits</th>\n",
       "      <th>Meat</th>\n",
       "      <th>Fish</th>\n",
       "      <th>Sweet</th>\n",
       "      <th>Gold</th>\n",
       "      <th>Cluster</th>\n",
       "    </tr>\n",
       "  </thead>\n",
       "  <tbody>\n",
       "    <tr>\n",
       "      <th>0</th>\n",
       "      <td>55</td>\n",
       "      <td>Graduation</td>\n",
       "      <td>Single</td>\n",
       "      <td>58138.0</td>\n",
       "      <td>1617</td>\n",
       "      <td>635</td>\n",
       "      <td>88</td>\n",
       "      <td>546</td>\n",
       "      <td>172</td>\n",
       "      <td>88</td>\n",
       "      <td>88</td>\n",
       "      <td>3</td>\n",
       "    </tr>\n",
       "    <tr>\n",
       "      <th>1</th>\n",
       "      <td>60</td>\n",
       "      <td>Graduation</td>\n",
       "      <td>Single</td>\n",
       "      <td>46344.0</td>\n",
       "      <td>27</td>\n",
       "      <td>11</td>\n",
       "      <td>1</td>\n",
       "      <td>6</td>\n",
       "      <td>2</td>\n",
       "      <td>1</td>\n",
       "      <td>6</td>\n",
       "      <td>2</td>\n",
       "    </tr>\n",
       "    <tr>\n",
       "      <th>2</th>\n",
       "      <td>48</td>\n",
       "      <td>Graduation</td>\n",
       "      <td>Coupled</td>\n",
       "      <td>71613.0</td>\n",
       "      <td>776</td>\n",
       "      <td>426</td>\n",
       "      <td>49</td>\n",
       "      <td>127</td>\n",
       "      <td>111</td>\n",
       "      <td>21</td>\n",
       "      <td>42</td>\n",
       "      <td>1</td>\n",
       "    </tr>\n",
       "    <tr>\n",
       "      <th>3</th>\n",
       "      <td>30</td>\n",
       "      <td>Graduation</td>\n",
       "      <td>Coupled</td>\n",
       "      <td>26646.0</td>\n",
       "      <td>53</td>\n",
       "      <td>11</td>\n",
       "      <td>4</td>\n",
       "      <td>20</td>\n",
       "      <td>10</td>\n",
       "      <td>3</td>\n",
       "      <td>5</td>\n",
       "      <td>0</td>\n",
       "    </tr>\n",
       "    <tr>\n",
       "      <th>4</th>\n",
       "      <td>33</td>\n",
       "      <td>PhD</td>\n",
       "      <td>Coupled</td>\n",
       "      <td>58293.0</td>\n",
       "      <td>422</td>\n",
       "      <td>173</td>\n",
       "      <td>43</td>\n",
       "      <td>118</td>\n",
       "      <td>46</td>\n",
       "      <td>27</td>\n",
       "      <td>15</td>\n",
       "      <td>2</td>\n",
       "    </tr>\n",
       "    <tr>\n",
       "      <th>5</th>\n",
       "      <td>46</td>\n",
       "      <td>Master</td>\n",
       "      <td>Coupled</td>\n",
       "      <td>62513.0</td>\n",
       "      <td>716</td>\n",
       "      <td>520</td>\n",
       "      <td>42</td>\n",
       "      <td>98</td>\n",
       "      <td>0</td>\n",
       "      <td>42</td>\n",
       "      <td>14</td>\n",
       "      <td>2</td>\n",
       "    </tr>\n",
       "    <tr>\n",
       "      <th>6</th>\n",
       "      <td>41</td>\n",
       "      <td>Graduation</td>\n",
       "      <td>Single</td>\n",
       "      <td>55635.0</td>\n",
       "      <td>590</td>\n",
       "      <td>235</td>\n",
       "      <td>65</td>\n",
       "      <td>164</td>\n",
       "      <td>50</td>\n",
       "      <td>49</td>\n",
       "      <td>27</td>\n",
       "      <td>1</td>\n",
       "    </tr>\n",
       "    <tr>\n",
       "      <th>7</th>\n",
       "      <td>28</td>\n",
       "      <td>PhD</td>\n",
       "      <td>Coupled</td>\n",
       "      <td>33454.0</td>\n",
       "      <td>169</td>\n",
       "      <td>76</td>\n",
       "      <td>10</td>\n",
       "      <td>56</td>\n",
       "      <td>3</td>\n",
       "      <td>1</td>\n",
       "      <td>23</td>\n",
       "      <td>2</td>\n",
       "    </tr>\n",
       "    <tr>\n",
       "      <th>8</th>\n",
       "      <td>39</td>\n",
       "      <td>PhD</td>\n",
       "      <td>Coupled</td>\n",
       "      <td>30351.0</td>\n",
       "      <td>46</td>\n",
       "      <td>14</td>\n",
       "      <td>0</td>\n",
       "      <td>24</td>\n",
       "      <td>3</td>\n",
       "      <td>3</td>\n",
       "      <td>2</td>\n",
       "      <td>2</td>\n",
       "    </tr>\n",
       "    <tr>\n",
       "      <th>9</th>\n",
       "      <td>64</td>\n",
       "      <td>PhD</td>\n",
       "      <td>Coupled</td>\n",
       "      <td>5648.0</td>\n",
       "      <td>49</td>\n",
       "      <td>28</td>\n",
       "      <td>0</td>\n",
       "      <td>6</td>\n",
       "      <td>1</td>\n",
       "      <td>1</td>\n",
       "      <td>13</td>\n",
       "      <td>2</td>\n",
       "    </tr>\n",
       "  </tbody>\n",
       "</table>\n",
       "</div>"
      ],
      "text/plain": [
       "   Age   Education Rel_Status   Income  TotalSpend  Wines  Fruits  Meat  Fish  \\\n",
       "0   55  Graduation     Single  58138.0        1617    635      88   546   172   \n",
       "1   60  Graduation     Single  46344.0          27     11       1     6     2   \n",
       "2   48  Graduation    Coupled  71613.0         776    426      49   127   111   \n",
       "3   30  Graduation    Coupled  26646.0          53     11       4    20    10   \n",
       "4   33         PhD    Coupled  58293.0         422    173      43   118    46   \n",
       "5   46      Master    Coupled  62513.0         716    520      42    98     0   \n",
       "6   41  Graduation     Single  55635.0         590    235      65   164    50   \n",
       "7   28         PhD    Coupled  33454.0         169     76      10    56     3   \n",
       "8   39         PhD    Coupled  30351.0          46     14       0    24     3   \n",
       "9   64         PhD    Coupled   5648.0          49     28       0     6     1   \n",
       "\n",
       "   Sweet  Gold  Cluster  \n",
       "0     88    88        3  \n",
       "1      1     6        2  \n",
       "2     21    42        1  \n",
       "3      3     5        0  \n",
       "4     27    15        2  \n",
       "5     42    14        2  \n",
       "6     49    27        1  \n",
       "7      1    23        2  \n",
       "8      3     2        2  \n",
       "9      1    13        2  "
      ]
     },
     "execution_count": 16,
     "metadata": {},
     "output_type": "execute_result"
    }
   ],
   "source": [
    "from sklearn.cluster import AgglomerativeClustering\n",
    "ac = AgglomerativeClustering(n_clusters=4)\n",
    "ac_df = ac.fit_predict(pca_df)\n",
    "df['Cluster'] = ac_df\n",
    "df_orig['Cluster'] = ac_df\n",
    "df_orig.head(10)"
   ]
  },
  {
   "cell_type": "code",
   "execution_count": 17,
   "metadata": {},
   "outputs": [],
   "source": [
    "df_orig['Cluster'] = df_orig['Cluster'].astype('category')"
   ]
  },
  {
   "cell_type": "code",
   "execution_count": 18,
   "metadata": {},
   "outputs": [
    {
     "name": "stderr",
     "output_type": "stream",
     "text": [
      "C:\\Users\\saran\\AppData\\Local\\Programs\\Python\\Python39\\lib\\site-packages\\seaborn\\_decorators.py:36: FutureWarning: Pass the following variable as a keyword arg: x. From version 0.12, the only valid positional argument will be `data`, and passing other arguments without an explicit keyword will result in an error or misinterpretation.\n",
      "  warnings.warn(\n"
     ]
    },
    {
     "data": {
      "text/plain": [
       "Text(0.5, 1.0, 'Cluster Population')"
      ]
     },
     "execution_count": 18,
     "metadata": {},
     "output_type": "execute_result"
    },
    {
     "data": {
      "image/png": "[encoded data removed]",
      "text/plain": [
       "<Figure size 576x396 with 1 Axes>"
      ]
     },
     "metadata": {},
     "output_type": "display_data"
    }
   ],
   "source": [
    "cplot = sns.countplot(df['Cluster'])\n",
    "cplot.set_title('Cluster Population')\n",
    "# plt.show()"
   ]
  },
  {
   "cell_type": "code",
   "execution_count": 19,
   "metadata": {},
   "outputs": [
    {
     "data": {
      "image/png": "[encoded data removed]",
      "text/plain": [
       "<Figure size 576x396 with 1 Axes>"
      ]
     },
     "metadata": {},
     "output_type": "display_data"
    }
   ],
   "source": [
    "pl = sns.scatterplot(data=df_orig, x=df_orig['TotalSpend'], y=df_orig['Income'], hue=df_orig['Cluster'])\n",
    "pl.set_title(\"Cluster Profile Based On Income And Spending\")\n",
    "plt.legend()\n",
    "plt.show()"
   ]
  },
  {
   "cell_type": "code",
   "execution_count": 30,
   "metadata": {},
   "outputs": [
    {
     "data": {
      "text/plain": [
       "Text(0.5, 1.0, 'Cluster Profile Based On Age And Spending')"
      ]
     },
     "execution_count": 30,
     "metadata": {},
     "output_type": "execute_result"
    },
    {
     "data": {
      "image/png": "[encoded data removed]",
      "text/plain": [
       "<Figure size 576x396 with 1 Axes>"
      ]
     },
     "metadata": {},
     "output_type": "display_data"
    }
   ],
   "source": [
    "pl = sns.scatterplot(data=df_orig, x=df_orig['TotalSpend'], y=df_orig['Age'], hue=df_orig['Cluster'])\n",
    "pl.set_title(\"Cluster Profile Based On Age And Spending\")\n",
    "# plt.legend()\n",
    "# plt.show()"
   ]
  },
  {
   "cell_type": "code",
   "execution_count": 21,
   "metadata": {},
   "outputs": [],
   "source": [
    "import plotly.express as px\n",
    "import plotly.graph_objects as go"
   ]
  },
  {
   "cell_type": "code",
   "execution_count": 22,
   "metadata": {},
   "outputs": [
    {
     "data": {
      "text/plain": [
       "25-40    785\n",
       "50-60    630\n",
       "40-50    623\n",
       "<25      115\n",
       "65+       59\n",
       "Name: AgeRange, dtype: int64"
      ]
     },
     "execution_count": 22,
     "metadata": {},
     "output_type": "execute_result"
    }
   ],
   "source": [
    "bins = [0, 25, 40, 50, 65, np.inf]\n",
    "labels = ['<25', '25-40', '40-50', '50-65', '65+']\n",
    "df_orig['AgeRange'] = pd.cut(df_orig['Age'], bins=bins, labels=labels)\n",
    "df_orig['AgeRange'].value_counts()"
   ]
  },
  {
   "cell_type": "code",
   "execution_count": 23,
   "metadata": {},
   "outputs": [
    {
     "data": {
      "application/vnd.plotly.v1+json": {
       "config": {
        "plotlyServerURL": "https://plot.ly"
       },
       "data": [
        {
         "customdata": [
          [
           55,
           "Graduation",
           "Single"
          ],
          [
           66,
           "PhD",
           "Single"
          ],
          [
           64,
           "Master",
           "Coupled"
          ],
          [
           63,
           "PhD",
           "Coupled"
          ],
          [
           60,
           "PhD",
           "Coupled"
          ],
          [
           67,
           "Master",
           "Coupled"
          ],
          [
           70,
           "PhD",
           "Single"
          ],
          [
           58,
           "PhD",
           "Coupled"
          ],
          [
           57,
           "Graduation",
           "Single"
          ],
          [
           48,
           "Master",
           "Coupled"
          ],
          [
           57,
           "Master",
           "Coupled"
          ],
          [
           61,
           "Graduation",
           "Single"
          ],
          [
           62,
           "PhD",
           "Single"
          ],
          [
           65,
           "Graduation",
           "Coupled"
          ],
          [
           55,
           "Graduation",
           "Coupled"
          ],
          [
           58,
           "Master",
           "Coupled"
          ],
          [
           54,
           "Graduation",
           "Coupled"
          ],
          [
           68,
           "PhD",
           "Coupled"
          ],
          [
           55,
           "Graduation",
           "Coupled"
          ],
          [
           60,
           "Master",
           "Coupled"
          ],
          [
           58,
           "PhD",
           "Coupled"
          ],
          [
           51,
           "Graduation",
           "Coupled"
          ],
          [
           60,
           "PhD",
           "Coupled"
          ],
          [
           64,
           "Graduation",
           "Coupled"
          ],
          [
           58,
           "Graduation",
           "Single"
          ],
          [
           67,
           "PhD",
           "Coupled"
          ],
          [
           60,
           "Graduation",
           "Single"
          ],
          [
           64,
           "PhD",
           "Coupled"
          ],
          [
           67,
           "Master",
           "Coupled"
          ],
          [
           59,
           "Graduation",
           "Coupled"
          ],
          [
           59,
           "Graduation",
           "Coupled"
          ],
          [
           62,
           "Graduation",
           "Single"
          ],
          [
           58,
           "Graduation",
           "Single"
          ],
          [
           60,
           "Graduation",
           "Coupled"
          ],
          [
           65,
           "Master",
           "Coupled"
          ],
          [
           60,
           "Graduation",
           "Single"
          ],
          [
           55,
           "PhD",
           "Single"
          ],
          [
           54,
           "Graduation",
           "Coupled"
          ],
          [
           54,
           "Graduation",
           "Coupled"
          ],
          [
           60,
           "Graduation",
           "Coupled"
          ],
          [
           45,
           "Graduation",
           "Coupled"
          ],
          [
           51,
           "Graduation",
           "Coupled"
          ],
          [
           59,
           "Graduation",
           "Single"
          ],
          [
           57,
           "Graduation",
           "Single"
          ],
          [
           61,
           "Graduation",
           "Coupled"
          ],
          [
           57,
           "Master",
           "Coupled"
          ],
          [
           48,
           "Graduation",
           "Single"
          ],
          [
           60,
           "Master",
           "Coupled"
          ],
          [
           49,
           "PhD",
           "Single"
          ],
          [
           67,
           "Graduation",
           "Single"
          ],
          [
           52,
           "PhD",
           "Single"
          ],
          [
           56,
           "Graduation",
           "Coupled"
          ],
          [
           57,
           "PhD",
           "Coupled"
          ],
          [
           63,
           "PhD",
           "Coupled"
          ],
          [
           61,
           "Graduation",
           "Single"
          ],
          [
           56,
           "Graduation",
           "Coupled"
          ],
          [
           70,
           "Master",
           "Coupled"
          ],
          [
           55,
           "Graduation",
           "Coupled"
          ],
          [
           53,
           "Graduation",
           "Coupled"
          ],
          [
           50,
           "Graduation",
           "Coupled"
          ],
          [
           52,
           "Graduation",
           "Coupled"
          ],
          [
           45,
           "PhD",
           "Single"
          ],
          [
           47,
           "Graduation",
           "Coupled"
          ],
          [
           58,
           "PhD",
           "Coupled"
          ],
          [
           51,
           "Graduation",
           "Coupled"
          ],
          [
           71,
           "PhD",
           "Coupled"
          ],
          [
           72,
           "PhD",
           "Coupled"
          ],
          [
           52,
           "PhD",
           "Single"
          ],
          [
           49,
           "Graduation",
           "Coupled"
          ],
          [
           49,
           "Graduation",
           "Single"
          ],
          [
           60,
           "PhD",
           "Coupled"
          ],
          [
           58,
           "Graduation",
           "Single"
          ],
          [
           50,
           "Graduation",
           "Coupled"
          ],
          [
           64,
           "Graduation",
           "Single"
          ],
          [
           51,
           "Graduation",
           "Coupled"
          ],
          [
           58,
           "PhD",
           "Coupled"
          ],
          [
           57,
           "Graduation",
           "Coupled"
          ],
          [
           54,
           "PhD",
           "Coupled"
          ],
          [
           58,
           "Graduation",
           "Coupled"
          ],
          [
           69,
           "PhD",
           "Single"
          ],
          [
           65,
           "PhD",
           "Coupled"
          ],
          [
           69,
           "Graduation",
           "Coupled"
          ],
          [
           59,
           "Graduation",
           "Single"
          ],
          [
           55,
           "Master",
           "Coupled"
          ],
          [
           54,
           "Graduation",
           "Coupled"
          ],
          [
           70,
           "Master",
           "Coupled"
          ],
          [
           59,
           "Graduation",
           "Coupled"
          ],
          [
           55,
           "PhD",
           "Coupled"
          ],
          [
           50,
           "Graduation",
           "Single"
          ],
          [
           64,
           "Master",
           "Coupled"
          ],
          [
           54,
           "Graduation",
           "Coupled"
          ],
          [
           57,
           "Graduation",
           "Single"
          ],
          [
           48,
           "Master",
           "Single"
          ],
          [
           52,
           "Graduation",
           "Coupled"
          ],
          [
           58,
           "Graduation",
           "Single"
          ],
          [
           64,
           "PhD",
           "Coupled"
          ],
          [
           49,
           "Graduation",
           "Coupled"
          ],
          [
           65,
           "Graduation",
           "Single"
          ],
          [
           52,
           "Graduation",
           "Coupled"
          ],
          [
           56,
           "PhD",
           "Coupled"
          ],
          [
           61,
           "Graduation",
           "Single"
          ],
          [
           62,
           "Master",
           "Single"
          ],
          [
           52,
           "Graduation",
           "Coupled"
          ],
          [
           66,
           "PhD",
           "Coupled"
          ],
          [
           53,
           "PhD",
           "Single"
          ],
          [
           66,
           "Master",
           "Coupled"
          ],
          [
           55,
           "Graduation",
           "Coupled"
          ],
          [
           54,
           "Master",
           "Single"
          ],
          [
           66,
           "PhD",
           "Coupled"
          ],
          [
           49,
           "PhD",
           "Coupled"
          ],
          [
           54,
           "Graduation",
           "Coupled"
          ],
          [
           65,
           "PhD",
           "Coupled"
          ],
          [
           59,
           "Graduation",
           "Coupled"
          ],
          [
           48,
           "Graduation",
           "Coupled"
          ],
          [
           58,
           "Graduation",
           "Coupled"
          ],
          [
           59,
           "PhD",
           "Coupled"
          ],
          [
           65,
           "Graduation",
           "Coupled"
          ],
          [
           60,
           "PhD",
           "Single"
          ],
          [
           50,
           "Graduation",
           "Coupled"
          ],
          [
           61,
           "Graduation",
           "Coupled"
          ],
          [
           62,
           "Graduation",
           "Single"
          ],
          [
           62,
           "PhD",
           "Coupled"
          ],
          [
           56,
           "PhD",
           "Coupled"
          ],
          [
           68,
           "Master",
           "Coupled"
          ],
          [
           55,
           "PhD",
           "Coupled"
          ],
          [
           60,
           "PhD",
           "Coupled"
          ],
          [
           69,
           "PhD",
           "Single"
          ],
          [
           55,
           "Graduation",
           "Coupled"
          ],
          [
           58,
           "Master",
           "Coupled"
          ],
          [
           54,
           "Graduation",
           "Coupled"
          ],
          [
           59,
           "Graduation",
           "Coupled"
          ],
          [
           55,
           "PhD",
           "Single"
          ],
          [
           57,
           "Graduation",
           "Coupled"
          ],
          [
           60,
           "PhD",
           "Coupled"
          ],
          [
           60,
           "Graduation",
           "Coupled"
          ],
          [
           58,
           "Master",
           "Single"
          ],
          [
           70,
           "PhD",
           "Single"
          ],
          [
           57,
           "Graduation",
           "Coupled"
          ],
          [
           56,
           "Graduation",
           "Single"
          ],
          [
           55,
           "Graduation",
           "Coupled"
          ],
          [
           52,
           "Graduation",
           "Single"
          ],
          [
           47,
           "PhD",
           "Single"
          ],
          [
           50,
           "PhD",
           "Single"
          ],
          [
           59,
           "Graduation",
           "Coupled"
          ],
          [
           59,
           "PhD",
           "Single"
          ],
          [
           61,
           "PhD",
           "Single"
          ],
          [
           62,
           "Graduation",
           "Single"
          ],
          [
           60,
           "Graduation",
           "Coupled"
          ],
          [
           54,
           "Graduation",
           "Coupled"
          ],
          [
           52,
           "Graduation",
           "Coupled"
          ],
          [
           53,
           "Master",
           "Coupled"
          ],
          [
           59,
           "Graduation",
           "Coupled"
          ],
          [
           63,
           "Graduation",
           "Coupled"
          ],
          [
           60,
           "Graduation",
           "Single"
          ],
          [
           56,
           "PhD",
           "Single"
          ],
          [
           59,
           "Master",
           "Coupled"
          ],
          [
           61,
           "Graduation",
           "Coupled"
          ],
          [
           60,
           "PhD",
           "Coupled"
          ],
          [
           55,
           "Graduation",
           "Coupled"
          ],
          [
           52,
           "Graduation",
           "Coupled"
          ],
          [
           53,
           "PhD",
           "Coupled"
          ],
          [
           64,
           "PhD",
           "Coupled"
          ],
          [
           60,
           "Graduation",
           "Single"
          ],
          [
           63,
           "Master",
           "Coupled"
          ],
          [
           55,
           "Graduation",
           "Coupled"
          ],
          [
           57,
           "Graduation",
           "Coupled"
          ],
          [
           52,
           "Graduation",
           "Coupled"
          ],
          [
           56,
           "Graduation",
           "Coupled"
          ],
          [
           55,
           "PhD",
           "Coupled"
          ],
          [
           56,
           "PhD",
           "Single"
          ],
          [
           54,
           "Graduation",
           "Coupled"
          ],
          [
           56,
           "Graduation",
           "Single"
          ],
          [
           53,
           "PhD",
           "Single"
          ],
          [
           59,
           "Graduation",
           "Single"
          ],
          [
           54,
           "Master",
           "Single"
          ],
          [
           62,
           "Master",
           "Coupled"
          ],
          [
           51,
           "PhD",
           "Single"
          ],
          [
           60,
           "Master",
           "Coupled"
          ],
          [
           68,
           "Graduation",
           "Single"
          ],
          [
           56,
           "Graduation",
           "Coupled"
          ],
          [
           59,
           "PhD",
           "Coupled"
          ],
          [
           70,
           "PhD",
           "Single"
          ],
          [
           53,
           "Graduation",
           "Coupled"
          ],
          [
           62,
           "Graduation",
           "Coupled"
          ],
          [
           56,
           "Graduation",
           "Coupled"
          ],
          [
           65,
           "Graduation",
           "Coupled"
          ],
          [
           52,
           "PhD",
           "Single"
          ],
          [
           61,
           "PhD",
           "Single"
          ],
          [
           54,
           "Graduation",
           "Coupled"
          ],
          [
           56,
           "Master",
           "Coupled"
          ],
          [
           57,
           "Master",
           "Coupled"
          ],
          [
           58,
           "Graduation",
           "Coupled"
          ],
          [
           54,
           "PhD",
           "Coupled"
          ],
          [
           58,
           "PhD",
           "Single"
          ],
          [
           52,
           "Graduation",
           "Single"
          ],
          [
           67,
           "Master",
           "Coupled"
          ],
          [
           61,
           "Graduation",
           "Coupled"
          ],
          [
           70,
           "Graduation",
           "Coupled"
          ],
          [
           68,
           "Graduation",
           "Coupled"
          ],
          [
           60,
           "Graduation",
           "Coupled"
          ],
          [
           56,
           "Master",
           "Single"
          ],
          [
           53,
           "Master",
           "Coupled"
          ],
          [
           46,
           "Graduation",
           "Coupled"
          ],
          [
           51,
           "Master",
           "Coupled"
          ],
          [
           68,
           "PhD",
           "Coupled"
          ],
          [
           51,
           "Graduation",
           "Coupled"
          ],
          [
           65,
           "Graduation",
           "Single"
          ],
          [
           63,
           "Master",
           "Coupled"
          ],
          [
           51,
           "PhD",
           "Single"
          ],
          [
           57,
           "PhD",
           "Coupled"
          ],
          [
           68,
           "PhD",
           "Single"
          ],
          [
           54,
           "Master",
           "Single"
          ],
          [
           66,
           "Graduation",
           "Coupled"
          ],
          [
           57,
           "Master",
           "Coupled"
          ],
          [
           60,
           "Master",
           "Coupled"
          ],
          [
           70,
           "Graduation",
           "Coupled"
          ],
          [
           64,
           "Master",
           "Single"
          ],
          [
           67,
           "Graduation",
           "Coupled"
          ],
          [
           55,
           "Graduation",
           "Coupled"
          ],
          [
           49,
           "Graduation",
           "Coupled"
          ],
          [
           60,
           "Graduation",
           "Single"
          ],
          [
           54,
           "Graduation",
           "Coupled"
          ],
          [
           61,
           "Graduation",
           "Coupled"
          ],
          [
           54,
           "Graduation",
           "Coupled"
          ],
          [
           56,
           "Master",
           "Single"
          ],
          [
           52,
           "Graduation",
           "Coupled"
          ],
          [
           68,
           "PhD",
           "Coupled"
          ],
          [
           58,
           "Graduation",
           "Coupled"
          ],
          [
           55,
           "Graduation",
           "Coupled"
          ],
          [
           53,
           "Graduation",
           "Coupled"
          ],
          [
           57,
           "PhD",
           "Single"
          ],
          [
           55,
           "Graduation",
           "Coupled"
          ],
          [
           50,
           "Graduation",
           "Coupled"
          ],
          [
           66,
           "PhD",
           "Single"
          ],
          [
           54,
           "PhD",
           "Single"
          ],
          [
           56,
           "Graduation",
           "Single"
          ],
          [
           56,
           "Graduation",
           "Coupled"
          ],
          [
           52,
           "Graduation",
           "Coupled"
          ],
          [
           60,
           "Graduation",
           "Single"
          ],
          [
           60,
           "Graduation",
           "Coupled"
          ],
          [
           62,
           "PhD",
           "Coupled"
          ],
          [
           56,
           "PhD",
           "Coupled"
          ],
          [
           66,
           "PhD",
           "Single"
          ],
          [
           67,
           "PhD",
           "Coupled"
          ],
          [
           66,
           "Master",
           "Coupled"
          ],
          [
           63,
           "Graduation",
           "Single"
          ],
          [
           58,
           "Graduation",
           "Coupled"
          ],
          [
           56,
           "Master",
           "Coupled"
          ],
          [
           58,
           "Master",
           "Single"
          ],
          [
           56,
           "Master",
           "Coupled"
          ],
          [
           66,
           "PhD",
           "Coupled"
          ],
          [
           58,
           "PhD",
           "Coupled"
          ],
          [
           68,
           "Graduation",
           "Coupled"
          ],
          [
           51,
           "Graduation",
           "Single"
          ],
          [
           60,
           "PhD",
           "Coupled"
          ],
          [
           62,
           "Graduation",
           "Coupled"
          ],
          [
           61,
           "Graduation",
           "Single"
          ],
          [
           63,
           "Master",
           "Single"
          ],
          [
           56,
           "Master",
           "Coupled"
          ],
          [
           54,
           "Master",
           "Coupled"
          ],
          [
           57,
           "Graduation",
           "Single"
          ],
          [
           52,
           "PhD",
           "Single"
          ],
          [
           62,
           "Graduation",
           "Coupled"
          ],
          [
           48,
           "Graduation",
           "Coupled"
          ],
          [
           59,
           "Graduation",
           "Single"
          ],
          [
           50,
           "Graduation",
           "Coupled"
          ],
          [
           66,
           "Graduation",
           "Coupled"
          ],
          [
           60,
           "Graduation",
           "Coupled"
          ],
          [
           67,
           "Master",
           "Coupled"
          ],
          [
           64,
           "PhD",
           "Coupled"
          ],
          [
           64,
           "PhD",
           "Single"
          ],
          [
           57,
           "Graduation",
           "Coupled"
          ],
          [
           61,
           "PhD",
           "Coupled"
          ],
          [
           54,
           "Graduation",
           "Coupled"
          ],
          [
           58,
           "Graduation",
           "Single"
          ],
          [
           50,
           "Graduation",
           "Coupled"
          ],
          [
           55,
           "Graduation",
           "Coupled"
          ],
          [
           58,
           "Graduation",
           "Coupled"
          ],
          [
           49,
           "PhD",
           "Single"
          ],
          [
           59,
           "Graduation",
           "Single"
          ],
          [
           62,
           "Graduation",
           "Single"
          ],
          [
           52,
           "Graduation",
           "Coupled"
          ],
          [
           55,
           "Master",
           "Coupled"
          ],
          [
           58,
           "PhD",
           "Single"
          ],
          [
           60,
           "Master",
           "Single"
          ],
          [
           56,
           "Master",
           "Coupled"
          ],
          [
           52,
           "Graduation",
           "Coupled"
          ],
          [
           65,
           "PhD",
           "Single"
          ],
          [
           56,
           "Graduation",
           "Coupled"
          ],
          [
           62,
           "PhD",
           "Coupled"
          ],
          [
           60,
           "PhD",
           "Single"
          ],
          [
           63,
           "PhD",
           "Coupled"
          ],
          [
           59,
           "Graduation",
           "Coupled"
          ],
          [
           50,
           "PhD",
           "Single"
          ],
          [
           56,
           "Graduation",
           "Single"
          ],
          [
           70,
           "Master",
           "Single"
          ],
          [
           54,
           "Graduation",
           "Single"
          ],
          [
           66,
           "PhD",
           "Coupled"
          ],
          [
           62,
           "Graduation",
           "Coupled"
          ],
          [
           63,
           "PhD",
           "Single"
          ],
          [
           62,
           "Graduation",
           "Single"
          ],
          [
           63,
           "Graduation",
           "Single"
          ],
          [
           64,
           "PhD",
           "Single"
          ],
          [
           66,
           "Graduation",
           "Coupled"
          ],
          [
           51,
           "Graduation",
           "Coupled"
          ],
          [
           64,
           "Graduation",
           "Single"
          ],
          [
           63,
           "Graduation",
           "Coupled"
          ],
          [
           66,
           "Master",
           "Single"
          ],
          [
           56,
           "Graduation",
           "Single"
          ],
          [
           54,
           "PhD",
           "Single"
          ],
          [
           55,
           "Graduation",
           "Single"
          ],
          [
           54,
           "Graduation",
           "Single"
          ],
          [
           62,
           "Master",
           "Coupled"
          ],
          [
           63,
           "Master",
           "Coupled"
          ],
          [
           66,
           "PhD",
           "Single"
          ],
          [
           58,
           "Graduation",
           "Coupled"
          ],
          [
           62,
           "Graduation",
           "Single"
          ],
          [
           55,
           "Graduation",
           "Single"
          ],
          [
           63,
           "Graduation",
           "Coupled"
          ],
          [
           62,
           "Graduation",
           "Single"
          ],
          [
           60,
           "PhD",
           "Coupled"
          ],
          [
           57,
           "Graduation",
           "Coupled"
          ],
          [
           55,
           "Graduation",
           "Coupled"
          ],
          [
           63,
           "Master",
           "Coupled"
          ],
          [
           65,
           "PhD",
           "Coupled"
          ],
          [
           58,
           "Graduation",
           "Single"
          ],
          [
           62,
           "PhD",
           "Coupled"
          ],
          [
           51,
           "Master",
           "Single"
          ],
          [
           57,
           "Master",
           "Single"
          ],
          [
           56,
           "Graduation",
           "Single"
          ],
          [
           59,
           "PhD",
           "Coupled"
          ],
          [
           59,
           "Graduation",
           "Single"
          ],
          [
           62,
           "Graduation",
           "Coupled"
          ],
          [
           59,
           "Graduation",
           "Coupled"
          ],
          [
           53,
           "Graduation",
           "Coupled"
          ],
          [
           58,
           "PhD",
           "Coupled"
          ],
          [
           57,
           "Master",
           "Coupled"
          ],
          [
           55,
           "Graduation",
           "Coupled"
          ],
          [
           66,
           "PhD",
           "Single"
          ],
          [
           68,
           "PhD",
           "Coupled"
          ],
          [
           58,
           "Master",
           "Coupled"
          ]
         ],
         "hovertemplate": "Cluster=3<br>TotalSpend=%{x}<br>Income=%{y}<br>Age=%{customdata[0]}<br>Education=%{customdata[1]}<br>Rel_Status=%{customdata[2]}<extra></extra>",
         "legendgroup": "3",
         "marker": {
          "color": "#636efa",
          "symbol": "circle"
         },
         "mode": "markers",
         "name": "3",
         "showlegend": true,
         "type": "scattergl",
         "x": [
          1617,
          1315,
          1782,
          972,
          544,
          1196,
          902,
          1319,
          507,
          1693,
          1957,
          884,
          606,
          1076,
          653,
          1253,
          863,
          1120,
          1097,
          660,
          661,
          1385,
          1021,
          1381,
          1231,
          1706,
          421,
          1318,
          1033,
          1600,
          1270,
          535,
          1804,
          1101,
          1615,
          1103,
          605,
          1009,
          1102,
          1390,
          1148,
          1495,
          1635,
          957,
          930,
          859,
          1478,
          1374,
          916,
          1157,
          1307,
          1283,
          1161,
          507,
          940,
          835,
          900,
          2153,
          1348,
          1932,
          1005,
          1173,
          1040,
          1485,
          1073,
          1242,
          2119,
          1688,
          1068,
          1379,
          428,
          868,
          893,
          926,
          1495,
          1743,
          973,
          2092,
          1722,
          682,
          976,
          746,
          1210,
          1924,
          777,
          1902,
          1727,
          1291,
          1600,
          1008,
          1957,
          1867,
          1478,
          819,
          1151,
          594,
          1193,
          939,
          1825,
          963,
          1375,
          1477,
          1005,
          1348,
          1307,
          2252,
          599,
          2008,
          1095,
          1241,
          1004,
          948,
          869,
          1947,
          1380,
          480,
          1677,
          1099,
          902,
          1574,
          833,
          1507,
          1158,
          1612,
          729,
          767,
          1167,
          1526,
          860,
          1957,
          1616,
          1482,
          1043,
          544,
          1677,
          1226,
          902,
          797,
          1638,
          928,
          1449,
          1453,
          1198,
          976,
          1650,
          966,
          833,
          2302,
          728,
          926,
          1910,
          1085,
          1415,
          1789,
          528,
          859,
          1574,
          1314,
          704,
          1033,
          1123,
          2440,
          1250,
          1178,
          1155,
          766,
          2116,
          1401,
          523,
          1192,
          777,
          868,
          1323,
          1156,
          2008,
          957,
          1313,
          660,
          1103,
          684,
          411,
          1060,
          1370,
          1026,
          684,
          990,
          1232,
          1020,
          758,
          1084,
          685,
          545,
          1215,
          811,
          899,
          711,
          992,
          999,
          1736,
          2302,
          1540,
          1643,
          1121,
          1678,
          1196,
          1400,
          1424,
          1178,
          1313,
          1483,
          634,
          1143,
          1899,
          789,
          794,
          1428,
          1930,
          2283,
          879,
          1134,
          1507,
          637,
          1574,
          1115,
          1540,
          819,
          444,
          1910,
          1045,
          1443,
          1396,
          907,
          854,
          1234,
          1156,
          677,
          1106,
          1033,
          792,
          841,
          633,
          1019,
          1315,
          1798,
          1105,
          974,
          892,
          2352,
          1334,
          1152,
          1095,
          734,
          894,
          1511,
          825,
          1603,
          708,
          1695,
          1220,
          1526,
          1067,
          1686,
          1327,
          1456,
          1504,
          1125,
          1376,
          1382,
          1033,
          2231,
          467,
          976,
          1165,
          917,
          398,
          902,
          907,
          1588,
          1143,
          1338,
          1331,
          953,
          1633,
          1662,
          1024,
          1042,
          1574,
          685,
          1515,
          1039,
          1685,
          507,
          976,
          1198,
          1676,
          1735,
          1191,
          414,
          901,
          775,
          1272,
          1336,
          1130,
          1734,
          1138,
          1429,
          2211,
          2217,
          1691,
          283,
          1870,
          1655,
          1175,
          874,
          930,
          868,
          639,
          932,
          1088,
          993,
          1680,
          715,
          1518,
          874,
          976,
          615,
          1038,
          1573,
          1169,
          1334,
          731,
          1338,
          1213,
          731,
          1016,
          1566,
          1169,
          1528,
          1234,
          444,
          843
         ],
         "xaxis": "x",
         "y": [
          58138,
          82800,
          76995,
          58607,
          65324,
          68657,
          48948,
          72550,
          65486,
          79143,
          82384,
          61823,
          67680,
          70666,
          69096,
          66991,
          65031,
          65846,
          87195,
          56129,
          77376,
          86111,
          61010,
          69372,
          80317,
          70356,
          62551,
          83837,
          66835,
          80067,
          86718,
          69142,
          64497,
          77972,
          83790,
          51537,
          79761,
          64961,
          61074,
          75027,
          75702,
          80124,
          69267,
          60714,
          75278,
          50898,
          79946,
          55951,
          57912,
          77457,
          64325,
          62187,
          66334,
          59292,
          82623,
          71113,
          65073,
          78618,
          79530,
          72025,
          63381,
          83664,
          75276,
          66465,
          75072,
          75865,
          93027,
          84865,
          75236,
          81246,
          55707,
          57959,
          60597,
          70165,
          80124,
          75261,
          62503,
          78952,
          76005,
          55614,
          67911,
          65275,
          53653,
          89120,
          71367,
          80184,
          70503,
          77863,
          85620,
          81698,
          87771,
          79800,
          69882,
          62807,
          72906,
          61467,
          81168,
          72298,
          70971,
          65488,
          84574,
          63120,
          63381,
          76140,
          62859,
          77632,
          66886,
          98777,
          73059,
          81300,
          78468,
          66375,
          59111,
          72190,
          80395,
          53593,
          72025,
          64108,
          82224,
          83844,
          75127,
          78939,
          74250,
          62847,
          82017,
          70421,
          82716,
          48192,
          52750,
          87771,
          93404,
          80995,
          71391,
          65324,
          80812,
          86424,
          48948,
          64090,
          78331,
          81320,
          86429,
          78420,
          52278,
          62820,
          74637,
          64950,
          75127,
          94384,
          54753,
          83715,
          82576,
          53103,
          80763,
          85683,
          78028,
          65569,
          83844,
          64504,
          61180,
          76081,
          77037,
          69098,
          72228,
          62845,
          65196,
          59925,
          88347,
          79456,
          84460,
          71691,
          71367,
          79803,
          76045,
          76773,
          98777,
          67381,
          85696,
          56129,
          63285,
          54450,
          57744,
          57513,
          79410,
          57304,
          54450,
          77142,
          54959,
          62000,
          58113,
          66636,
          50965,
          65748,
          75032,
          61284,
          76624,
          66000,
          67433,
          55956,
          78569,
          94384,
          64857,
          81843,
          77382,
          72828,
          71604,
          71434,
          90842,
          62845,
          85696,
          76542,
          62159,
          75154,
          92344,
          63915,
          67087,
          80589,
          78427,
          82657,
          52852,
          77343,
          73892,
          57957,
          83844,
          65148,
          64857,
          62807,
          64014,
          76998,
          65492,
          71706,
          49667,
          53977,
          55759,
          82032,
          67786,
          66033,
          63943,
          76081,
          79865,
          75315,
          55517,
          75283,
          82800,
          81574,
          78093,
          82460,
          74268,
          90226,
          70638,
          52973,
          73059,
          59821,
          69755,
          82014,
          62670,
          86610,
          62335,
          73705,
          58656,
          77520,
          60230,
          82571,
          71107,
          82427,
          70044,
          77437,
          70321,
          81795,
          66835,
          80360,
          51569,
          67131,
          85431,
          71232,
          62535,
          63404,
          53977,
          90369,
          46757,
          72071,
          72282,
          62568,
          80739,
          57333,
          84953,
          68148,
          64260,
          60200,
          72905,
          69702,
          90933,
          59292,
          62820,
          52278,
          91249,
          77598,
          80982,
          67472,
          75903,
          54356,
          70792,
          80872,
          76842,
          74485,
          77226,
          72643,
          94642,
          91712,
          94472,
          68805,
          71964,
          68281,
          77027,
          49912,
          68117,
          67225,
          60689,
          76320,
          59462,
          67046,
          77610,
          71866,
          79823,
          49912,
          67911,
          58275,
          69805,
          72217,
          65487,
          78499,
          58482,
          72071,
          71965,
          65210,
          67716,
          84117,
          65487,
          73803,
          82032,
          64014,
          69245
         ],
         "yaxis": "y"
        },
        {
         "customdata": [
          [
           60,
           "Graduation",
           "Single"
          ],
          [
           33,
           "PhD",
           "Coupled"
          ],
          [
           46,
           "Master",
           "Coupled"
          ],
          [
           28,
           "PhD",
           "Coupled"
          ],
          [
           39,
           "PhD",
           "Coupled"
          ],
          [
           64,
           "PhD",
           "Coupled"
          ],
          [
           61,
           "Master",
           "Single"
          ],
          [
           66,
           "Graduation",
           "Coupled"
          ],
          [
           62,
           "Graduation",
           "Coupled"
          ],
          [
           25,
           "Master",
           "Single"
          ],
          [
           50,
           "Master",
           "Coupled"
          ],
          [
           60,
           "PhD",
           "Single"
          ],
          [
           62,
           "Master",
           "Single"
          ],
          [
           28,
           "Master",
           "Coupled"
          ],
          [
           55,
           "Graduation",
           "Coupled"
          ],
          [
           38,
           "Master",
           "Coupled"
          ],
          [
           45,
           "Graduation",
           "Coupled"
          ],
          [
           46,
           "PhD",
           "Coupled"
          ],
          [
           47,
           "Graduation",
           "Coupled"
          ],
          [
           38,
           "PhD",
           "Coupled"
          ],
          [
           62,
           "Graduation",
           "Coupled"
          ],
          [
           48,
           "Graduation",
           "Coupled"
          ],
          [
           50,
           "Master",
           "Coupled"
          ],
          [
           53,
           "Graduation",
           "Coupled"
          ],
          [
           43,
           "Master",
           "Coupled"
          ],
          [
           57,
           "Graduation",
           "Single"
          ],
          [
           47,
           "Graduation",
           "Coupled"
          ],
          [
           42,
           "Master",
           "Single"
          ],
          [
           44,
           "PhD",
           "Coupled"
          ],
          [
           52,
           "Graduation",
           "Single"
          ],
          [
           30,
           "PhD",
           "Coupled"
          ],
          [
           55,
           "PhD",
           "Single"
          ],
          [
           49,
           "Graduation",
           "Coupled"
          ],
          [
           51,
           "Master",
           "Coupled"
          ],
          [
           32,
           "PhD",
           "Coupled"
          ],
          [
           51,
           "Graduation",
           "Single"
          ],
          [
           47,
           "Master",
           "Single"
          ],
          [
           28,
           "Master",
           "Coupled"
          ],
          [
           61,
           "Master",
           "Coupled"
          ],
          [
           61,
           "Graduation",
           "Coupled"
          ],
          [
           49,
           "PhD",
           "Coupled"
          ],
          [
           54,
           "PhD",
           "Coupled"
          ],
          [
           41,
           "PhD",
           "Single"
          ],
          [
           48,
           "PhD",
           "Single"
          ],
          [
           48,
           "Master",
           "Coupled"
          ],
          [
           61,
           "Master",
           "Coupled"
          ],
          [
           45,
           "Graduation",
           "Coupled"
          ],
          [
           55,
           "Graduation",
           "Single"
          ],
          [
           55,
           "Master",
           "Single"
          ],
          [
           47,
           "Graduation",
           "Coupled"
          ],
          [
           54,
           "Graduation",
           "Single"
          ],
          [
           57,
           "Graduation",
           "Coupled"
          ],
          [
           49,
           "Graduation",
           "Coupled"
          ],
          [
           44,
           "Graduation",
           "Coupled"
          ],
          [
           55,
           "PhD",
           "Coupled"
          ],
          [
           47,
           "Graduation",
           "Single"
          ],
          [
           44,
           "PhD",
           "Coupled"
          ],
          [
           55,
           "Graduation",
           "Coupled"
          ],
          [
           38,
           "PhD",
           "Coupled"
          ],
          [
           30,
           "Master",
           "Coupled"
          ],
          [
           53,
           "Basic",
           "Coupled"
          ],
          [
           44,
           "PhD",
           "Single"
          ],
          [
           47,
           "Graduation",
           "Coupled"
          ],
          [
           49,
           "PhD",
           "Coupled"
          ],
          [
           41,
           "PhD",
           "Single"
          ],
          [
           48,
           "PhD",
           "Single"
          ],
          [
           28,
           "Master",
           "Single"
          ],
          [
           50,
           "Master",
           "Single"
          ],
          [
           48,
           "Graduation",
           "Coupled"
          ],
          [
           57,
           "Graduation",
           "Coupled"
          ],
          [
           44,
           "PhD",
           "Coupled"
          ],
          [
           39,
           "Master",
           "Coupled"
          ],
          [
           59,
           "Master",
           "Single"
          ],
          [
           33,
           "PhD",
           "Coupled"
          ],
          [
           28,
           "PhD",
           "Coupled"
          ],
          [
           47,
           "Graduation",
           "Single"
          ],
          [
           48,
           "PhD",
           "Coupled"
          ],
          [
           31,
           "Master",
           "Coupled"
          ],
          [
           50,
           "PhD",
           "Coupled"
          ],
          [
           38,
           "Master",
           "Single"
          ],
          [
           38,
           "PhD",
           "Single"
          ],
          [
           51,
           "PhD",
           "Coupled"
          ],
          [
           48,
           "Graduation",
           "Single"
          ],
          [
           56,
           "PhD",
           "Single"
          ],
          [
           44,
           "Master",
           "Coupled"
          ],
          [
           34,
           "PhD",
           "Coupled"
          ],
          [
           61,
           "Master",
           "Coupled"
          ],
          [
           47,
           "Master",
           "Coupled"
          ],
          [
           42,
           "PhD",
           "Coupled"
          ],
          [
           31,
           "Master",
           "Single"
          ],
          [
           39,
           "PhD",
           "Coupled"
          ],
          [
           54,
           "Graduation",
           "Coupled"
          ],
          [
           50,
           "PhD",
           "Coupled"
          ],
          [
           66,
           "Graduation",
           "Coupled"
          ],
          [
           40,
           "PhD",
           "Coupled"
          ],
          [
           39,
           "Master",
           "Coupled"
          ],
          [
           64,
           "Master",
           "Single"
          ],
          [
           44,
           "Graduation",
           "Coupled"
          ],
          [
           48,
           "Graduation",
           "Coupled"
          ],
          [
           27,
           "Master",
           "Coupled"
          ],
          [
           56,
           "Graduation",
           "Single"
          ],
          [
           36,
           "PhD",
           "Coupled"
          ],
          [
           49,
           "Master",
           "Coupled"
          ],
          [
           21,
           "Master",
           "Coupled"
          ],
          [
           47,
           "Graduation",
           "Coupled"
          ],
          [
           58,
           "Master",
           "Coupled"
          ],
          [
           62,
           "Graduation",
           "Coupled"
          ],
          [
           49,
           "PhD",
           "Single"
          ],
          [
           60,
           "Graduation",
           "Single"
          ],
          [
           37,
           "PhD",
           "Single"
          ],
          [
           63,
           "PhD",
           "Coupled"
          ],
          [
           27,
           "PhD",
           "Single"
          ],
          [
           24,
           "PhD",
           "Single"
          ],
          [
           42,
           "Master",
           "Coupled"
          ],
          [
           43,
           "PhD",
           "Coupled"
          ],
          [
           48,
           "Graduation",
           "Coupled"
          ],
          [
           38,
           "Master",
           "Coupled"
          ],
          [
           58,
           "Graduation",
           "Coupled"
          ],
          [
           65,
           "PhD",
           "Coupled"
          ],
          [
           45,
           "PhD",
           "Single"
          ],
          [
           34,
           "PhD",
           "Coupled"
          ],
          [
           45,
           "Graduation",
           "Coupled"
          ],
          [
           43,
           "Master",
           "Single"
          ],
          [
           41,
           "PhD",
           "Single"
          ],
          [
           37,
           "Master",
           "Single"
          ],
          [
           44,
           "PhD",
           "Coupled"
          ],
          [
           58,
           "Graduation",
           "Single"
          ],
          [
           33,
           "Master",
           "Single"
          ],
          [
           45,
           "Master",
           "Coupled"
          ],
          [
           63,
           "Graduation",
           "Coupled"
          ],
          [
           34,
           "Master",
           "Coupled"
          ],
          [
           67,
           "PhD",
           "Coupled"
          ],
          [
           53,
           "Graduation",
           "Coupled"
          ],
          [
           58,
           "PhD",
           "Single"
          ],
          [
           49,
           "Graduation",
           "Coupled"
          ],
          [
           40,
           "PhD",
           "Single"
          ],
          [
           43,
           "PhD",
           "Single"
          ],
          [
           39,
           "PhD",
           "Coupled"
          ],
          [
           49,
           "Graduation",
           "Coupled"
          ],
          [
           42,
           "Master",
           "Coupled"
          ],
          [
           41,
           "PhD",
           "Coupled"
          ],
          [
           32,
           "Master",
           "Coupled"
          ],
          [
           60,
           "Graduation",
           "Coupled"
          ],
          [
           57,
           "Master",
           "Coupled"
          ],
          [
           64,
           "Master",
           "Single"
          ],
          [
           42,
           "PhD",
           "Coupled"
          ],
          [
           65,
           "PhD",
           "Coupled"
          ],
          [
           67,
           "Graduation",
           "Coupled"
          ],
          [
           41,
           "Master",
           "Single"
          ],
          [
           42,
           "Master",
           "Single"
          ],
          [
           29,
           "Master",
           "Coupled"
          ],
          [
           62,
           "Graduation",
           "Coupled"
          ],
          [
           56,
           "PhD",
           "Single"
          ],
          [
           63,
           "Graduation",
           "Coupled"
          ],
          [
           41,
           "PhD",
           "Coupled"
          ],
          [
           42,
           "PhD",
           "Single"
          ],
          [
           37,
           "Master",
           "Coupled"
          ],
          [
           40,
           "PhD",
           "Coupled"
          ],
          [
           40,
           "Master",
           "Coupled"
          ],
          [
           41,
           "Master",
           "Single"
          ],
          [
           62,
           "Graduation",
           "Coupled"
          ],
          [
           52,
           "Master",
           "Coupled"
          ],
          [
           57,
           "Master",
           "Coupled"
          ],
          [
           53,
           "Graduation",
           "Single"
          ],
          [
           32,
           "PhD",
           "Coupled"
          ],
          [
           49,
           "Graduation",
           "Coupled"
          ],
          [
           67,
           "PhD",
           "Coupled"
          ],
          [
           52,
           "Graduation",
           "Coupled"
          ],
          [
           37,
           "Master",
           "Coupled"
          ],
          [
           53,
           "PhD",
           "Coupled"
          ],
          [
           37,
           "Master",
           "Coupled"
          ],
          [
           51,
           "Graduation",
           "Coupled"
          ],
          [
           62,
           "Master",
           "Coupled"
          ],
          [
           47,
           "Graduation",
           "Coupled"
          ],
          [
           32,
           "Master",
           "Single"
          ],
          [
           28,
           "PhD",
           "Single"
          ],
          [
           41,
           "Master",
           "Coupled"
          ],
          [
           43,
           "PhD",
           "Single"
          ],
          [
           50,
           "Graduation",
           "Coupled"
          ],
          [
           60,
           "Graduation",
           "Coupled"
          ],
          [
           50,
           "PhD",
           "Single"
          ],
          [
           64,
           "PhD",
           "Coupled"
          ],
          [
           62,
           "Master",
           "Coupled"
          ],
          [
           46,
           "PhD",
           "Coupled"
          ],
          [
           43,
           "PhD",
           "Coupled"
          ],
          [
           32,
           "Master",
           "Coupled"
          ],
          [
           46,
           "Graduation",
           "Coupled"
          ],
          [
           47,
           "PhD",
           "Coupled"
          ],
          [
           57,
           "Master",
           "Coupled"
          ],
          [
           38,
           "PhD",
           "Coupled"
          ],
          [
           62,
           "Graduation",
           "Coupled"
          ],
          [
           62,
           "Master",
           "Coupled"
          ],
          [
           52,
           "Master",
           "Coupled"
          ],
          [
           59,
           "Graduation",
           "Coupled"
          ],
          [
           54,
           "Graduation",
           "Coupled"
          ],
          [
           28,
           "PhD",
           "Single"
          ],
          [
           41,
           "PhD",
           "Coupled"
          ],
          [
           38,
           "Master",
           "Coupled"
          ],
          [
           44,
           "Master",
           "Coupled"
          ],
          [
           47,
           "Master",
           "Coupled"
          ],
          [
           26,
           "Master",
           "Single"
          ],
          [
           44,
           "Master",
           "Single"
          ],
          [
           69,
           "Master",
           "Single"
          ],
          [
           43,
           "PhD",
           "Single"
          ],
          [
           48,
           "Master",
           "Single"
          ],
          [
           52,
           "Master",
           "Coupled"
          ],
          [
           52,
           "PhD",
           "Coupled"
          ],
          [
           35,
           "PhD",
           "Single"
          ],
          [
           52,
           "Graduation",
           "Single"
          ],
          [
           51,
           "Graduation",
           "Coupled"
          ],
          [
           49,
           "Graduation",
           "Single"
          ],
          [
           42,
           "PhD",
           "Coupled"
          ],
          [
           43,
           "Master",
           "Single"
          ],
          [
           64,
           "PhD",
           "Coupled"
          ],
          [
           57,
           "Graduation",
           "Single"
          ],
          [
           61,
           "Graduation",
           "Coupled"
          ],
          [
           47,
           "PhD",
           "Single"
          ],
          [
           49,
           "Graduation",
           "Coupled"
          ],
          [
           57,
           "Master",
           "Coupled"
          ],
          [
           53,
           "Graduation",
           "Coupled"
          ],
          [
           39,
           "PhD",
           "Coupled"
          ],
          [
           45,
           "PhD",
           "Coupled"
          ],
          [
           49,
           "PhD",
           "Coupled"
          ],
          [
           58,
           "Graduation",
           "Coupled"
          ],
          [
           52,
           "PhD",
           "Single"
          ],
          [
           55,
           "Master",
           "Coupled"
          ],
          [
           61,
           "Basic",
           "Coupled"
          ],
          [
           64,
           "Master",
           "Single"
          ],
          [
           52,
           "Master",
           "Coupled"
          ],
          [
           64,
           "PhD",
           "Single"
          ],
          [
           52,
           "Graduation",
           "Single"
          ],
          [
           45,
           "Master",
           "Single"
          ],
          [
           44,
           "PhD",
           "Single"
          ],
          [
           62,
           "Graduation",
           "Single"
          ],
          [
           42,
           "Master",
           "Coupled"
          ],
          [
           60,
           "Graduation",
           "Coupled"
          ],
          [
           56,
           "Graduation",
           "Single"
          ],
          [
           30,
           "PhD",
           "Coupled"
          ],
          [
           48,
           "Graduation",
           "Coupled"
          ],
          [
           48,
           "Master",
           "Coupled"
          ],
          [
           64,
           "PhD",
           "Single"
          ],
          [
           65,
           "PhD",
           "Single"
          ],
          [
           62,
           "Master",
           "Coupled"
          ],
          [
           57,
           "Master",
           "Coupled"
          ],
          [
           64,
           "PhD",
           "Single"
          ],
          [
           55,
           "PhD",
           "Coupled"
          ],
          [
           34,
           "Master",
           "Coupled"
          ],
          [
           55,
           "PhD",
           "Coupled"
          ],
          [
           35,
           "PhD",
           "Single"
          ],
          [
           58,
           "Graduation",
           "Coupled"
          ],
          [
           57,
           "Master",
           "Coupled"
          ],
          [
           48,
           "Graduation",
           "Single"
          ],
          [
           55,
           "PhD",
           "Coupled"
          ],
          [
           60,
           "Graduation",
           "Coupled"
          ],
          [
           48,
           "PhD",
           "Single"
          ],
          [
           58,
           "Master",
           "Single"
          ],
          [
           54,
           "Master",
           "Coupled"
          ],
          [
           45,
           "PhD",
           "Single"
          ],
          [
           36,
           "Master",
           "Coupled"
          ],
          [
           52,
           "Graduation",
           "Single"
          ],
          [
           51,
           "Master",
           "Single"
          ],
          [
           43,
           "Master",
           "Coupled"
          ],
          [
           57,
           "Graduation",
           "Single"
          ],
          [
           62,
           "Graduation",
           "Coupled"
          ],
          [
           37,
           "Master",
           "Coupled"
          ],
          [
           43,
           "Master",
           "Coupled"
          ],
          [
           56,
           "Graduation",
           "Coupled"
          ],
          [
           44,
           "PhD",
           "Coupled"
          ],
          [
           58,
           "Graduation",
           "Single"
          ],
          [
           53,
           "Graduation",
           "Single"
          ],
          [
           50,
           "Graduation",
           "Coupled"
          ],
          [
           37,
           "PhD",
           "Single"
          ],
          [
           46,
           "PhD",
           "Coupled"
          ],
          [
           46,
           "Graduation",
           "Coupled"
          ],
          [
           41,
           "Master",
           "Single"
          ],
          [
           63,
           "Graduation",
           "Coupled"
          ],
          [
           50,
           "Graduation",
           "Single"
          ],
          [
           48,
           "PhD",
           "Coupled"
          ],
          [
           40,
           "PhD",
           "Coupled"
          ],
          [
           41,
           "Master",
           "Coupled"
          ],
          [
           46,
           "Graduation",
           "Coupled"
          ],
          [
           45,
           "Master",
           "Coupled"
          ],
          [
           40,
           "PhD",
           "Coupled"
          ],
          [
           47,
           "Master",
           "Single"
          ],
          [
           27,
           "Master",
           "Single"
          ],
          [
           59,
           "PhD",
           "Single"
          ],
          [
           54,
           "Graduation",
           "Coupled"
          ],
          [
           51,
           "Graduation",
           "Coupled"
          ],
          [
           47,
           "Master",
           "Single"
          ],
          [
           39,
           "PhD",
           "Coupled"
          ],
          [
           40,
           "Graduation",
           "Coupled"
          ],
          [
           44,
           "Graduation",
           "Coupled"
          ],
          [
           28,
           "PhD",
           "Coupled"
          ],
          [
           41,
           "Master",
           "Coupled"
          ],
          [
           59,
           "PhD",
           "Coupled"
          ],
          [
           44,
           "Master",
           "Single"
          ],
          [
           66,
           "PhD",
           "Coupled"
          ],
          [
           33,
           "Master",
           "Coupled"
          ],
          [
           43,
           "PhD",
           "Coupled"
          ],
          [
           51,
           "PhD",
           "Coupled"
          ],
          [
           35,
           "PhD",
           "Coupled"
          ],
          [
           38,
           "PhD",
           "Coupled"
          ],
          [
           40,
           "Master",
           "Single"
          ],
          [
           42,
           "PhD",
           "Single"
          ],
          [
           38,
           "Master",
           "Coupled"
          ],
          [
           37,
           "PhD",
           "Coupled"
          ],
          [
           47,
           "Graduation",
           "Coupled"
          ],
          [
           60,
           "Graduation",
           "Single"
          ],
          [
           41,
           "Graduation",
           "Coupled"
          ],
          [
           56,
           "PhD",
           "Single"
          ],
          [
           52,
           "PhD",
           "Single"
          ],
          [
           43,
           "Master",
           "Coupled"
          ],
          [
           38,
           "PhD",
           "Coupled"
          ],
          [
           39,
           "PhD",
           "Coupled"
          ],
          [
           45,
           "PhD",
           "Coupled"
          ],
          [
           48,
           "Master",
           "Coupled"
          ],
          [
           62,
           "Graduation",
           "Coupled"
          ],
          [
           34,
           "Master",
           "Single"
          ],
          [
           39,
           "PhD",
           "Coupled"
          ],
          [
           58,
           "PhD",
           "Single"
          ],
          [
           31,
           "Master",
           "Coupled"
          ],
          [
           60,
           "Graduation",
           "Single"
          ],
          [
           57,
           "Graduation",
           "Coupled"
          ],
          [
           57,
           "Graduation",
           "Single"
          ],
          [
           59,
           "PhD",
           "Coupled"
          ],
          [
           59,
           "Graduation",
           "Single"
          ],
          [
           50,
           "PhD",
           "Single"
          ],
          [
           38,
           "PhD",
           "Coupled"
          ],
          [
           44,
           "Master",
           "Coupled"
          ],
          [
           43,
           "Master",
           "Coupled"
          ],
          [
           63,
           "Master",
           "Coupled"
          ],
          [
           44,
           "Graduation",
           "Coupled"
          ],
          [
           39,
           "PhD",
           "Coupled"
          ],
          [
           48,
           "Master",
           "Coupled"
          ],
          [
           46,
           "PhD",
           "Coupled"
          ],
          [
           55,
           "PhD",
           "Single"
          ],
          [
           56,
           "PhD",
           "Coupled"
          ],
          [
           41,
           "Master",
           "Single"
          ],
          [
           43,
           "PhD",
           "Coupled"
          ],
          [
           60,
           "Graduation",
           "Coupled"
          ],
          [
           58,
           "Graduation",
           "Coupled"
          ],
          [
           47,
           "Master",
           "Single"
          ],
          [
           47,
           "Master",
           "Coupled"
          ],
          [
           47,
           "Graduation",
           "Coupled"
          ],
          [
           48,
           "PhD",
           "Coupled"
          ],
          [
           30,
           "Master",
           "Coupled"
          ],
          [
           62,
           "PhD",
           "Coupled"
          ],
          [
           26,
           "PhD",
           "Single"
          ],
          [
           41,
           "PhD",
           "Single"
          ],
          [
           50,
           "PhD",
           "Coupled"
          ],
          [
           51,
           "Graduation",
           "Coupled"
          ],
          [
           43,
           "PhD",
           "Coupled"
          ],
          [
           61,
           "Graduation",
           "Coupled"
          ],
          [
           55,
           "Graduation",
           "Coupled"
          ],
          [
           46,
           "Master",
           "Single"
          ],
          [
           35,
           "PhD",
           "Coupled"
          ],
          [
           40,
           "PhD",
           "Single"
          ],
          [
           41,
           "PhD",
           "Single"
          ],
          [
           49,
           "PhD",
           "Coupled"
          ],
          [
           31,
           "Master",
           "Coupled"
          ],
          [
           43,
           "Graduation",
           "Coupled"
          ],
          [
           62,
           "PhD",
           "Coupled"
          ],
          [
           49,
           "Graduation",
           "Coupled"
          ],
          [
           41,
           "PhD",
           "Single"
          ],
          [
           29,
           "PhD",
           "Single"
          ],
          [
           30,
           "PhD",
           "Coupled"
          ],
          [
           30,
           "Master",
           "Coupled"
          ],
          [
           47,
           "Basic",
           "Coupled"
          ],
          [
           33,
           "PhD",
           "Coupled"
          ],
          [
           40,
           "Master",
           "Single"
          ],
          [
           58,
           "Graduation",
           "Coupled"
          ],
          [
           50,
           "Graduation",
           "Single"
          ],
          [
           44,
           "PhD",
           "Coupled"
          ],
          [
           25,
           "Master",
           "Single"
          ],
          [
           52,
           "Graduation",
           "Coupled"
          ],
          [
           51,
           "PhD",
           "Single"
          ],
          [
           40,
           "Master",
           "Coupled"
          ],
          [
           54,
           "Master",
           "Coupled"
          ],
          [
           51,
           "PhD",
           "Single"
          ],
          [
           49,
           "Graduation",
           "Coupled"
          ],
          [
           47,
           "Graduation",
           "Coupled"
          ],
          [
           39,
           "PhD",
           "Coupled"
          ],
          [
           44,
           "Graduation",
           "Coupled"
          ],
          [
           57,
           "Master",
           "Coupled"
          ],
          [
           53,
           "Master",
           "Coupled"
          ],
          [
           60,
           "Master",
           "Coupled"
          ],
          [
           63,
           "Graduation",
           "Coupled"
          ],
          [
           56,
           "Graduation",
           "Coupled"
          ],
          [
           55,
           "Basic",
           "Single"
          ],
          [
           48,
           "Graduation",
           "Coupled"
          ],
          [
           50,
           "PhD",
           "Coupled"
          ],
          [
           54,
           "Graduation",
           "Single"
          ],
          [
           62,
           "Graduation",
           "Single"
          ],
          [
           44,
           "Master",
           "Coupled"
          ],
          [
           55,
           "Master",
           "Coupled"
          ],
          [
           57,
           "PhD",
           "Coupled"
          ],
          [
           48,
           "Graduation",
           "Coupled"
          ],
          [
           56,
           "Graduation",
           "Coupled"
          ],
          [
           40,
           "Graduation",
           "Coupled"
          ],
          [
           49,
           "PhD",
           "Coupled"
          ],
          [
           55,
           "PhD",
           "Single"
          ],
          [
           38,
           "Master",
           "Coupled"
          ],
          [
           59,
           "Master",
           "Coupled"
          ],
          [
           27,
           "PhD",
           "Coupled"
          ],
          [
           38,
           "PhD",
           "Coupled"
          ],
          [
           58,
           "Master",
           "Coupled"
          ],
          [
           61,
           "Graduation",
           "Single"
          ],
          [
           46,
           "PhD",
           "Coupled"
          ],
          [
           34,
           "PhD",
           "Coupled"
          ],
          [
           45,
           "Graduation",
           "Coupled"
          ],
          [
           41,
           "PhD",
           "Coupled"
          ],
          [
           42,
           "PhD",
           "Coupled"
          ],
          [
           41,
           "PhD",
           "Single"
          ],
          [
           53,
           "Graduation",
           "Coupled"
          ],
          [
           62,
           "Graduation",
           "Single"
          ],
          [
           49,
           "PhD",
           "Coupled"
          ],
          [
           65,
           "PhD",
           "Coupled"
          ],
          [
           47,
           "Master",
           "Coupled"
          ],
          [
           44,
           "Master",
           "Single"
          ],
          [
           38,
           "Master",
           "Coupled"
          ],
          [
           49,
           "Graduation",
           "Coupled"
          ],
          [
           55,
           "PhD",
           "Coupled"
          ],
          [
           62,
           "Master",
           "Coupled"
          ],
          [
           61,
           "Basic",
           "Coupled"
          ],
          [
           40,
           "PhD",
           "Coupled"
          ],
          [
           57,
           "Graduation",
           "Coupled"
          ],
          [
           36,
           "PhD",
           "Single"
          ],
          [
           51,
           "PhD",
           "Single"
          ],
          [
           60,
           "Master",
           "Coupled"
          ],
          [
           35,
           "PhD",
           "Coupled"
          ],
          [
           54,
           "PhD",
           "Coupled"
          ],
          [
           48,
           "Master",
           "Coupled"
          ],
          [
           51,
           "PhD",
           "Single"
          ],
          [
           48,
           "Graduation",
           "Coupled"
          ],
          [
           55,
           "Master",
           "Coupled"
          ],
          [
           38,
           "PhD",
           "Coupled"
          ],
          [
           31,
           "Master",
           "Single"
          ],
          [
           31,
           "Master",
           "Coupled"
          ],
          [
           61,
           "Graduation",
           "Single"
          ],
          [
           52,
           "Graduation",
           "Coupled"
          ],
          [
           35,
           "Master",
           "Coupled"
          ],
          [
           30,
           "PhD",
           "Coupled"
          ],
          [
           49,
           "Graduation",
           "Coupled"
          ],
          [
           42,
           "Master",
           "Single"
          ],
          [
           44,
           "Graduation",
           "Coupled"
          ],
          [
           45,
           "Master",
           "Single"
          ],
          [
           56,
           "Graduation",
           "Coupled"
          ],
          [
           48,
           "Master",
           "Single"
          ],
          [
           52,
           "PhD",
           "Single"
          ],
          [
           44,
           "PhD",
           "Coupled"
          ],
          [
           52,
           "Graduation",
           "Single"
          ],
          [
           42,
           "Master",
           "Coupled"
          ],
          [
           59,
           "Master",
           "Single"
          ],
          [
           41,
           "Master",
           "Coupled"
          ],
          [
           42,
           "PhD",
           "Coupled"
          ],
          [
           42,
           "PhD",
           "Coupled"
          ],
          [
           43,
           "PhD",
           "Coupled"
          ],
          [
           51,
           "Graduation",
           "Coupled"
          ],
          [
           61,
           "Graduation",
           "Coupled"
          ],
          [
           55,
           "Graduation",
           "Single"
          ],
          [
           42,
           "Master",
           "Coupled"
          ],
          [
           45,
           "PhD",
           "Coupled"
          ],
          [
           62,
           "Master",
           "Coupled"
          ],
          [
           62,
           "Graduation",
           "Coupled"
          ],
          [
           59,
           "PhD",
           "Single"
          ],
          [
           35,
           "PhD",
           "Coupled"
          ],
          [
           45,
           "Master",
           "Coupled"
          ],
          [
           47,
           "Basic",
           "Coupled"
          ],
          [
           66,
           "Graduation",
           "Coupled"
          ],
          [
           42,
           "PhD",
           "Coupled"
          ],
          [
           45,
           "PhD",
           "Coupled"
          ],
          [
           53,
           "Graduation",
           "Coupled"
          ],
          [
           39,
           "PhD",
           "Coupled"
          ],
          [
           41,
           "PhD",
           "Coupled"
          ],
          [
           30,
           "Master",
           "Coupled"
          ],
          [
           51,
           "Graduation",
           "Coupled"
          ],
          [
           50,
           "Graduation",
           "Coupled"
          ],
          [
           61,
           "Graduation",
           "Coupled"
          ],
          [
           64,
           "Master",
           "Coupled"
          ],
          [
           55,
           "Graduation",
           "Coupled"
          ],
          [
           46,
           "PhD",
           "Single"
          ],
          [
           47,
           "PhD",
           "Coupled"
          ],
          [
           38,
           "PhD",
           "Coupled"
          ],
          [
           64,
           "Master",
           "Single"
          ],
          [
           59,
           "PhD",
           "Coupled"
          ],
          [
           27,
           "Master",
           "Coupled"
          ],
          [
           60,
           "Graduation",
           "Coupled"
          ],
          [
           64,
           "PhD",
           "Coupled"
          ],
          [
           59,
           "Graduation",
           "Coupled"
          ],
          [
           43,
           "PhD",
           "Coupled"
          ],
          [
           26,
           "Master",
           "Single"
          ],
          [
           53,
           "PhD",
           "Coupled"
          ],
          [
           41,
           "Master",
           "Coupled"
          ],
          [
           42,
           "PhD",
           "Coupled"
          ],
          [
           63,
           "PhD",
           "Single"
          ],
          [
           43,
           "PhD",
           "Coupled"
          ],
          [
           38,
           "Master",
           "Coupled"
          ],
          [
           39,
           "Master",
           "Coupled"
          ],
          [
           41,
           "Master",
           "Coupled"
          ],
          [
           37,
           "Master",
           "Single"
          ],
          [
           41,
           "Master",
           "Coupled"
          ],
          [
           41,
           "PhD",
           "Coupled"
          ],
          [
           54,
           "Graduation",
           "Coupled"
          ],
          [
           53,
           "Graduation",
           "Coupled"
          ],
          [
           37,
           "Master",
           "Single"
          ],
          [
           60,
           "PhD",
           "Single"
          ],
          [
           48,
           "Graduation",
           "Single"
          ],
          [
           27,
           "Master",
           "Coupled"
          ],
          [
           62,
           "Master",
           "Single"
          ],
          [
           46,
           "Master",
           "Coupled"
          ],
          [
           50,
           "Master",
           "Coupled"
          ],
          [
           37,
           "Master",
           "Coupled"
          ],
          [
           61,
           "Graduation",
           "Single"
          ],
          [
           58,
           "Graduation",
           "Coupled"
          ],
          [
           27,
           "Master",
           "Coupled"
          ],
          [
           53,
           "PhD",
           "Coupled"
          ],
          [
           37,
           "Master",
           "Single"
          ],
          [
           58,
           "Graduation",
           "Coupled"
          ],
          [
           48,
           "Master",
           "Coupled"
          ],
          [
           41,
           "PhD",
           "Single"
          ],
          [
           60,
           "Master",
           "Coupled"
          ],
          [
           49,
           "Graduation",
           "Coupled"
          ],
          [
           50,
           "PhD",
           "Coupled"
          ],
          [
           48,
           "Master",
           "Coupled"
          ],
          [
           47,
           "PhD",
           "Single"
          ],
          [
           39,
           "PhD",
           "Single"
          ],
          [
           54,
           "Master",
           "Coupled"
          ],
          [
           39,
           "PhD",
           "Coupled"
          ],
          [
           48,
           "Master",
           "Coupled"
          ],
          [
           53,
           "Graduation",
           "Coupled"
          ],
          [
           53,
           "Graduation",
           "Coupled"
          ],
          [
           50,
           "PhD",
           "Coupled"
          ],
          [
           41,
           "Master",
           "Coupled"
          ],
          [
           50,
           "PhD",
           "Coupled"
          ],
          [
           49,
           "Graduation",
           "Coupled"
          ],
          [
           48,
           "PhD",
           "Coupled"
          ],
          [
           54,
           "Graduation",
           "Single"
          ],
          [
           50,
           "Graduation",
           "Coupled"
          ],
          [
           62,
           "PhD",
           "Coupled"
          ],
          [
           50,
           "PhD",
           "Single"
          ],
          [
           44,
           "PhD",
           "Coupled"
          ],
          [
           55,
           "PhD",
           "Coupled"
          ],
          [
           65,
           "PhD",
           "Coupled"
          ],
          [
           59,
           "Graduation",
           "Single"
          ],
          [
           45,
           "Graduation",
           "Coupled"
          ],
          [
           37,
           "Master",
           "Coupled"
          ],
          [
           45,
           "Master",
           "Coupled"
          ],
          [
           53,
           "Master",
           "Single"
          ],
          [
           39,
           "Master",
           "Coupled"
          ],
          [
           64,
           "PhD",
           "Single"
          ],
          [
           66,
           "PhD",
           "Single"
          ],
          [
           36,
           "Master",
           "Single"
          ],
          [
           59,
           "Master",
           "Coupled"
          ],
          [
           55,
           "PhD",
           "Single"
          ],
          [
           45,
           "Graduation",
           "Coupled"
          ],
          [
           48,
           "Graduation",
           "Single"
          ],
          [
           24,
           "PhD",
           "Single"
          ],
          [
           46,
           "PhD",
           "Coupled"
          ],
          [
           54,
           "PhD",
           "Coupled"
          ],
          [
           28,
           "PhD",
           "Single"
          ],
          [
           37,
           "PhD",
           "Coupled"
          ],
          [
           43,
           "Graduation",
           "Coupled"
          ],
          [
           57,
           "PhD",
           "Coupled"
          ],
          [
           31,
           "PhD",
           "Coupled"
          ],
          [
           61,
           "Graduation",
           "Coupled"
          ],
          [
           45,
           "Graduation",
           "Coupled"
          ],
          [
           62,
           "Graduation",
           "Single"
          ],
          [
           28,
           "PhD",
           "Coupled"
          ],
          [
           55,
           "PhD",
           "Single"
          ],
          [
           59,
           "Master",
           "Coupled"
          ],
          [
           41,
           "PhD",
           "Coupled"
          ],
          [
           29,
           "PhD",
           "Coupled"
          ],
          [
           47,
           "Graduation",
           "Coupled"
          ],
          [
           41,
           "PhD",
           "Coupled"
          ],
          [
           32,
           "PhD",
           "Single"
          ],
          [
           35,
           "Master",
           "Single"
          ],
          [
           57,
           "Graduation",
           "Coupled"
          ],
          [
           48,
           "Basic",
           "Single"
          ],
          [
           50,
           "PhD",
           "Coupled"
          ],
          [
           53,
           "Graduation",
           "Coupled"
          ],
          [
           58,
           "Graduation",
           "Single"
          ],
          [
           55,
           "Graduation",
           "Coupled"
          ],
          [
           42,
           "PhD",
           "Coupled"
          ],
          [
           50,
           "Graduation",
           "Coupled"
          ],
          [
           69,
           "PhD",
           "Single"
          ],
          [
           44,
           "PhD",
           "Single"
          ],
          [
           65,
           "Basic",
           "Coupled"
          ],
          [
           51,
           "PhD",
           "Coupled"
          ],
          [
           45,
           "Graduation",
           "Coupled"
          ],
          [
           42,
           "Master",
           "Single"
          ],
          [
           59,
           "PhD",
           "Coupled"
          ],
          [
           38,
           "Graduation",
           "Coupled"
          ],
          [
           34,
           "PhD",
           "Single"
          ],
          [
           53,
           "Basic",
           "Coupled"
          ],
          [
           38,
           "Master",
           "Coupled"
          ],
          [
           38,
           "PhD",
           "Single"
          ],
          [
           67,
           "PhD",
           "Coupled"
          ],
          [
           47,
           "Graduation",
           "Coupled"
          ],
          [
           57,
           "Graduation",
           "Coupled"
          ],
          [
           35,
           "PhD",
           "Coupled"
          ],
          [
           40,
           "PhD",
           "Coupled"
          ],
          [
           38,
           "PhD",
           "Single"
          ],
          [
           45,
           "Graduation",
           "Single"
          ],
          [
           63,
           "Graduation",
           "Coupled"
          ],
          [
           51,
           "PhD",
           "Single"
          ],
          [
           61,
           "Graduation",
           "Coupled"
          ],
          [
           53,
           "Master",
           "Coupled"
          ],
          [
           37,
           "Master",
           "Single"
          ],
          [
           62,
           "Master",
           "Coupled"
          ],
          [
           47,
           "Graduation",
           "Single"
          ],
          [
           63,
           "Graduation",
           "Coupled"
          ],
          [
           47,
           "PhD",
           "Single"
          ],
          [
           46,
           "Graduation",
           "Coupled"
          ],
          [
           30,
           "PhD",
           "Coupled"
          ],
          [
           57,
           "Graduation",
           "Coupled"
          ],
          [
           53,
           "PhD",
           "Coupled"
          ],
          [
           42,
           "Master",
           "Single"
          ],
          [
           42,
           "Master",
           "Single"
          ],
          [
           48,
           "PhD",
           "Single"
          ],
          [
           38,
           "Master",
           "Coupled"
          ],
          [
           54,
           "Graduation",
           "Coupled"
          ],
          [
           51,
           "PhD",
           "Coupled"
          ],
          [
           56,
           "Graduation",
           "Coupled"
          ],
          [
           31,
           "PhD",
           "Coupled"
          ],
          [
           46,
           "Master",
           "Single"
          ],
          [
           48,
           "Master",
           "Coupled"
          ],
          [
           51,
           "PhD",
           "Coupled"
          ],
          [
           48,
           "PhD",
           "Coupled"
          ],
          [
           61,
           "Master",
           "Single"
          ],
          [
           37,
           "Master",
           "Coupled"
          ],
          [
           45,
           "Master",
           "Coupled"
          ],
          [
           41,
           "Master",
           "Coupled"
          ],
          [
           47,
           "PhD",
           "Single"
          ],
          [
           62,
           "Graduation",
           "Single"
          ],
          [
           45,
           "PhD",
           "Coupled"
          ],
          [
           46,
           "PhD",
           "Single"
          ],
          [
           29,
           "PhD",
           "Single"
          ],
          [
           57,
           "PhD",
           "Coupled"
          ],
          [
           64,
           "Graduation",
           "Single"
          ],
          [
           49,
           "PhD",
           "Coupled"
          ],
          [
           27,
           "Master",
           "Coupled"
          ],
          [
           46,
           "Graduation",
           "Coupled"
          ],
          [
           42,
           "PhD",
           "Coupled"
          ],
          [
           54,
           "Graduation",
           "Coupled"
          ],
          [
           33,
           "Master",
           "Coupled"
          ],
          [
           32,
           "PhD",
           "Single"
          ],
          [
           47,
           "PhD",
           "Coupled"
          ],
          [
           36,
           "Master",
           "Coupled"
          ],
          [
           43,
           "PhD",
           "Coupled"
          ],
          [
           48,
           "Master",
           "Coupled"
          ],
          [
           39,
           "PhD",
           "Coupled"
          ],
          [
           32,
           "Master",
           "Coupled"
          ],
          [
           46,
           "Master",
           "Coupled"
          ],
          [
           57,
           "PhD",
           "Single"
          ],
          [
           55,
           "Master",
           "Coupled"
          ],
          [
           63,
           "Graduation",
           "Coupled"
          ],
          [
           36,
           "Master",
           "Coupled"
          ],
          [
           59,
           "Graduation",
           "Coupled"
          ],
          [
           73,
           "PhD",
           "Single"
          ],
          [
           49,
           "PhD",
           "Single"
          ],
          [
           56,
           "Graduation",
           "Single"
          ],
          [
           64,
           "PhD",
           "Single"
          ],
          [
           61,
           "Graduation",
           "Single"
          ],
          [
           48,
           "Graduation",
           "Single"
          ],
          [
           47,
           "Graduation",
           "Single"
          ],
          [
           45,
           "PhD",
           "Single"
          ],
          [
           28,
           "Master",
           "Single"
          ],
          [
           38,
           "PhD",
           "Single"
          ],
          [
           51,
           "Master",
           "Coupled"
          ],
          [
           55,
           "Graduation",
           "Coupled"
          ],
          [
           58,
           "Graduation",
           "Coupled"
          ],
          [
           42,
           "Master",
           "Coupled"
          ],
          [
           53,
           "Graduation",
           "Coupled"
          ],
          [
           37,
           "PhD",
           "Coupled"
          ],
          [
           40,
           "PhD",
           "Coupled"
          ],
          [
           46,
           "PhD",
           "Single"
          ],
          [
           41,
           "Master",
           "Single"
          ],
          [
           49,
           "Graduation",
           "Single"
          ],
          [
           48,
           "PhD",
           "Coupled"
          ],
          [
           31,
           "Master",
           "Coupled"
          ],
          [
           58,
           "Graduation",
           "Coupled"
          ],
          [
           35,
           "Master",
           "Coupled"
          ],
          [
           48,
           "Graduation",
           "Coupled"
          ],
          [
           63,
           "Graduation",
           "Coupled"
          ],
          [
           34,
           "Master",
           "Coupled"
          ],
          [
           55,
           "Graduation",
           "Coupled"
          ],
          [
           62,
           "Graduation",
           "Coupled"
          ],
          [
           59,
           "Master",
           "Single"
          ],
          [
           61,
           "Graduation",
           "Coupled"
          ],
          [
           44,
           "Graduation",
           "Coupled"
          ],
          [
           65,
           "Graduation",
           "Coupled"
          ],
          [
           64,
           "Graduation",
           "Coupled"
          ],
          [
           26,
           "PhD",
           "Single"
          ],
          [
           36,
           "Master",
           "Coupled"
          ],
          [
           54,
           "Basic",
           "Single"
          ],
          [
           52,
           "Graduation",
           "Coupled"
          ],
          [
           42,
           "Master",
           "Coupled"
          ],
          [
           39,
           "Master",
           "Single"
          ],
          [
           44,
           "Basic",
           "Coupled"
          ],
          [
           63,
           "PhD",
           "Coupled"
          ],
          [
           57,
           "Graduation",
           "Single"
          ],
          [
           38,
           "Master",
           "Coupled"
          ],
          [
           51,
           "Master",
           "Coupled"
          ],
          [
           64,
           "Master",
           "Coupled"
          ],
          [
           61,
           "Graduation",
           "Coupled"
          ],
          [
           39,
           "Master",
           "Coupled"
          ],
          [
           59,
           "Master",
           "Coupled"
          ],
          [
           36,
           "Master",
           "Coupled"
          ],
          [
           57,
           "Graduation",
           "Coupled"
          ],
          [
           47,
           "Graduation",
           "Coupled"
          ],
          [
           49,
           "Graduation",
           "Coupled"
          ],
          [
           60,
           "Master",
           "Single"
          ],
          [
           46,
           "Master",
           "Single"
          ],
          [
           57,
           "Graduation",
           "Coupled"
          ],
          [
           43,
           "PhD",
           "Coupled"
          ],
          [
           54,
           "Master",
           "Coupled"
          ],
          [
           40,
           "PhD",
           "Coupled"
          ],
          [
           51,
           "PhD",
           "Coupled"
          ],
          [
           55,
           "Master",
           "Coupled"
          ],
          [
           37,
           "Master",
           "Coupled"
          ],
          [
           39,
           "Master",
           "Coupled"
          ],
          [
           56,
           "Graduation",
           "Coupled"
          ],
          [
           39,
           "PhD",
           "Single"
          ],
          [
           39,
           "PhD",
           "Single"
          ],
          [
           42,
           "Graduation",
           "Coupled"
          ],
          [
           58,
           "Graduation",
           "Coupled"
          ],
          [
           41,
           "PhD",
           "Coupled"
          ],
          [
           50,
           "Graduation",
           "Coupled"
          ],
          [
           65,
           "Graduation",
           "Coupled"
          ],
          [
           40,
           "Graduation",
           "Coupled"
          ],
          [
           59,
           "Graduation",
           "Coupled"
          ],
          [
           39,
           "PhD",
           "Single"
          ],
          [
           60,
           "Graduation",
           "Coupled"
          ],
          [
           49,
           "Basic",
           "Coupled"
          ],
          [
           50,
           "Graduation",
           "Single"
          ],
          [
           64,
           "Master",
           "Single"
          ],
          [
           58,
           "Graduation",
           "Coupled"
          ],
          [
           27,
           "Master",
           "Coupled"
          ],
          [
           51,
           "Master",
           "Coupled"
          ],
          [
           44,
           "PhD",
           "Single"
          ],
          [
           44,
           "Graduation",
           "Coupled"
          ],
          [
           51,
           "Graduation",
           "Single"
          ],
          [
           58,
           "PhD",
           "Coupled"
          ]
         ],
         "hovertemplate": "Cluster=2<br>TotalSpend=%{x}<br>Income=%{y}<br>Age=%{customdata[0]}<br>Education=%{customdata[1]}<br>Rel_Status=%{customdata[2]}<extra></extra>",
         "legendgroup": "2",
         "marker": {
          "color": "#EF553B",
          "symbol": "circle"
         },
         "mode": "markers",
         "name": "2",
         "showlegend": true,
         "type": "scattergl",
         "x": [
          27,
          422,
          716,
          169,
          46,
          49,
          310,
          317,
          444,
          30,
          318,
          302,
          65,
          53,
          22,
          31,
          55,
          518,
          11,
          661,
          65,
          692,
          318,
          56,
          151,
          372,
          194,
          32,
          43,
          606,
          410,
          55,
          187,
          608,
          551,
          114,
          80,
          30,
          90,
          463,
          279,
          106,
          49,
          38,
          127,
          459,
          460,
          306,
          13,
          88,
          259,
          89,
          36,
          148,
          93,
          119,
          45,
          10,
          191,
          66,
          43,
          39,
          608,
          68,
          263,
          38,
          35,
          293,
          65,
          241,
          264,
          541,
          285,
          185,
          17,
          433,
          1117,
          23,
          17,
          64,
          33,
          1101,
          322,
          17,
          275,
          25,
          275,
          90,
          184,
          60,
          231,
          48,
          770,
          317,
          461,
          37,
          390,
          137,
          25,
          100,
          62,
          90,
          546,
          241,
          235,
          32,
          28,
          20,
          630,
          65,
          38,
          160,
          71,
          59,
          1182,
          42,
          16,
          99,
          425,
          636,
          25,
          494,
          29,
          73,
          120,
          17,
          324,
          19,
          492,
          114,
          222,
          209,
          343,
          446,
          41,
          70,
          272,
          46,
          490,
          751,
          48,
          10,
          20,
          46,
          467,
          122,
          156,
          14,
          192,
          59,
          265,
          270,
          135,
          542,
          890,
          31,
          518,
          530,
          70,
          54,
          64,
          32,
          46,
          730,
          216,
          347,
          397,
          138,
          442,
          411,
          493,
          260,
          319,
          96,
          76,
          406,
          21,
          526,
          162,
          240,
          331,
          265,
          11,
          38,
          279,
          62,
          182,
          75,
          227,
          215,
          444,
          143,
          611,
          473,
          55,
          81,
          382,
          69,
          30,
          129,
          213,
          268,
          266,
          882,
          35,
          326,
          404,
          103,
          16,
          393,
          486,
          235,
          235,
          67,
          365,
          165,
          223,
          597,
          26,
          60,
          20,
          34,
          1048,
          257,
          493,
          270,
          29,
          121,
          126,
          57,
          636,
          187,
          57,
          637,
          59,
          596,
          21,
          16,
          65,
          411,
          11,
          284,
          334,
          97,
          63,
          449,
          92,
          99,
          86,
          242,
          450,
          654,
          137,
          16,
          93,
          43,
          47,
          813,
          629,
          177,
          315,
          573,
          41,
          170,
          458,
          63,
          405,
          495,
          570,
          577,
          162,
          63,
          542,
          39,
          385,
          76,
          195,
          35,
          446,
          41,
          40,
          292,
          401,
          393,
          10,
          263,
          55,
          564,
          353,
          401,
          409,
          282,
          199,
          178,
          46,
          95,
          62,
          467,
          46,
          725,
          41,
          77,
          171,
          131,
          54,
          53,
          475,
          694,
          96,
          361,
          578,
          64,
          149,
          23,
          81,
          411,
          94,
          54,
          405,
          45,
          573,
          108,
          89,
          343,
          297,
          488,
          17,
          116,
          103,
          44,
          406,
          236,
          63,
          71,
          702,
          22,
          62,
          92,
          72,
          655,
          54,
          122,
          122,
          691,
          12,
          37,
          278,
          653,
          49,
          506,
          38,
          46,
          47,
          467,
          396,
          20,
          133,
          73,
          121,
          12,
          267,
          63,
          312,
          16,
          44,
          63,
          426,
          96,
          125,
          332,
          330,
          384,
          77,
          30,
          315,
          86,
          61,
          237,
          48,
          301,
          499,
          218,
          106,
          438,
          225,
          18,
          504,
          235,
          88,
          60,
          155,
          96,
          160,
          139,
          195,
          49,
          133,
          363,
          296,
          152,
          90,
          405,
          72,
          40,
          39,
          130,
          152,
          71,
          351,
          21,
          10,
          418,
          49,
          48,
          83,
          793,
          183,
          610,
          76,
          30,
          99,
          38,
          485,
          434,
          496,
          17,
          15,
          62,
          198,
          49,
          656,
          311,
          57,
          448,
          397,
          170,
          373,
          129,
          32,
          320,
          441,
          410,
          227,
          131,
          586,
          187,
          251,
          35,
          493,
          971,
          371,
          322,
          222,
          325,
          42,
          20,
          417,
          289,
          188,
          354,
          727,
          146,
          319,
          454,
          152,
          797,
          20,
          96,
          222,
          8,
          42,
          60,
          23,
          19,
          37,
          289,
          125,
          70,
          22,
          310,
          57,
          529,
          534,
          556,
          46,
          47,
          586,
          13,
          134,
          87,
          217,
          1034,
          380,
          736,
          269,
          1064,
          436,
          747,
          642,
          120,
          106,
          48,
          112,
          55,
          120,
          18,
          793,
          100,
          92,
          25,
          240,
          458,
          407,
          54,
          52,
          268,
          507,
          15,
          66,
          49,
          169,
          299,
          155,
          311,
          95,
          424,
          47,
          35,
          562,
          32,
          41,
          39,
          401,
          506,
          227,
          122,
          561,
          211,
          233,
          601,
          244,
          116,
          425,
          638,
          41,
          31,
          34,
          20,
          396,
          138,
          32,
          67,
          335,
          496,
          231,
          68,
          71,
          772,
          47,
          265,
          404,
          122,
          41,
          10,
          304,
          37,
          688,
          21,
          32,
          72,
          660,
          153,
          279,
          264,
          324,
          69,
          252,
          54,
          68,
          60,
          55,
          358,
          42,
          184,
          145,
          792,
          28,
          1101,
          81,
          167,
          45,
          461,
          20,
          43,
          224,
          101,
          209,
          24,
          252,
          269,
          102,
          144,
          253,
          76,
          62,
          255,
          43,
          76,
          185,
          433,
          34,
          416,
          40,
          27,
          525,
          9,
          68,
          131,
          388,
          173,
          215,
          929,
          275,
          159,
          35,
          395,
          9,
          486,
          103,
          84,
          55,
          367,
          42,
          39,
          34,
          149,
          28,
          46,
          236,
          68,
          397,
          306,
          1028,
          46,
          51,
          47,
          21,
          24,
          1182,
          749,
          91,
          44,
          63,
          455,
          15,
          43,
          162,
          134,
          157,
          463,
          377,
          138,
          161,
          144,
          982,
          88,
          27,
          101,
          140,
          22,
          443,
          174,
          25,
          484,
          413,
          13,
          92,
          441,
          747,
          79,
          265,
          46,
          25,
          392,
          50,
          158,
          43,
          71,
          54,
          137,
          100,
          519,
          653,
          26,
          102,
          433,
          22,
          400,
          26,
          40,
          264,
          45,
          140,
          266,
          22,
          133,
          437,
          123,
          66,
          608,
          395,
          185,
          180,
          81,
          38,
          61,
          300,
          88,
          54,
          31,
          28,
          414,
          94,
          424,
          575,
          257,
          542,
          125,
          17,
          546,
          500,
          424,
          54,
          43,
          53,
          45,
          16,
          415,
          51,
          679,
          586,
          468,
          172
         ],
         "xaxis": "x",
         "y": [
          46344,
          58293,
          62513,
          33454,
          30351,
          5648,
          59354,
          37760,
          40689,
          10979,
          38620,
          46610,
          49389,
          20559,
          21994,
          7500,
          41728,
          55954,
          32474,
          60631,
          28332,
          56046,
          38620,
          29440,
          36138,
          50388,
          54178,
          42394,
          23626,
          47916,
          50150,
          34554,
          49096,
          57288,
          43974,
          50785,
          32557,
          19510,
          54348,
          62998,
          41551,
          33762,
          35860,
          36921,
          49605,
          59354,
          65747,
          49967,
          30523,
          43482,
          52332,
          26091,
          33456,
          50447,
          53537,
          52074,
          38853,
          38285,
          51650,
          30477,
          28249,
          32303,
          61286,
          45759,
          46854,
          40637,
          18890,
          48721,
          44794,
          46097,
          44377,
          46014,
          44551,
          30732,
          34320,
          37070,
          62745,
          23661,
          31686,
          31160,
          30899,
          63342,
          45989,
          40737,
          44159,
          37717,
          43776,
          38179,
          38097,
          31788,
          61905,
          29315,
          66313,
          37760,
          65640,
          44319,
          35416,
          38361,
          29672,
          42386,
          35246,
          46377,
          64100,
          42670,
          54198,
          28839,
          30833,
          47025,
          40464,
          14849,
          54432,
          29999,
          33996,
          35178,
          55212,
          44300,
          33181,
          50737,
          46681,
          62187,
          37717,
          51479,
          29548,
          38578,
          46098,
          33581,
          27421,
          36143,
          43795,
          38823,
          62499,
          51012,
          30507,
          55521,
          48006,
          27213,
          65808,
          30351,
          50437,
          49505,
          37401,
          18492,
          48686,
          50943,
          51529,
          32011,
          56223,
          18100,
          42618,
          36230,
          42207,
          50300,
          50520,
          53790,
          49269,
          41644,
          55842,
          62010,
          38961,
          37760,
          27203,
          48330,
          50943,
          61250,
          39665,
          48920,
          44124,
          36443,
          50353,
          49154,
          57954,
          65316,
          47352,
          44931,
          22944,
          42710,
          27159,
          60504,
          22419,
          43462,
          48799,
          52157,
          29298,
          38443,
          64413,
          36959,
          51287,
          47472,
          54603,
          45207,
          40689,
          27450,
          61794,
          53863,
          24221,
          39684,
          59973,
          17459,
          42169,
          49618,
          21888,
          26877,
          45006,
          48240,
          35791,
          30522,
          54456,
          34487,
          46102,
          56181,
          45906,
          46463,
          55282,
          50616,
          49431,
          61278,
          46734,
          56253,
          14661,
          18690,
          45068,
          29187,
          59304,
          38946,
          50611,
          42315,
          13084,
          47570,
          61923,
          26518,
          45938,
          41335,
          35682,
          43185,
          35178,
          58398,
          45160,
          18988,
          44794,
          56962,
          35946,
          45072,
          70545,
          34941,
          48767,
          51518,
          40662,
          38829,
          31626,
          48726,
          62058,
          42720,
          6835,
          41452,
          40760,
          51124,
          17144,
          42564,
          43783,
          46524,
          45183,
          61872,
          46984,
          34838,
          49681,
          56850,
          55267,
          65968,
          22507,
          57091,
          22419,
          55412,
          56575,
          35441,
          49494,
          34026,
          49980,
          30843,
          46374,
          38576,
          37758,
          44602,
          57906,
          43456,
          19485,
          46231,
          42243,
          51195,
          51390,
          37087,
          57100,
          58917,
          45921,
          35641,
          46015,
          39858,
          34469,
          24401,
          32892,
          56067,
          27922,
          52190,
          44051,
          42767,
          46106,
          16927,
          59754,
          53700,
          59041,
          54237,
          52597,
          41021,
          40233,
          34596,
          40706,
          56962,
          35704,
          33462,
          65352,
          35340,
          42021,
          64587,
          26091,
          46086,
          36930,
          36130,
          36736,
          49187,
          34053,
          38196,
          59412,
          54165,
          28440,
          33564,
          56320,
          32173,
          37334,
          46423,
          37126,
          47703,
          38998,
          33168,
          33585,
          44529,
          28764,
          27100,
          53312,
          42000,
          35860,
          65526,
          16860,
          32892,
          39722,
          46610,
          50014,
          41014,
          39190,
          38578,
          57236,
          27590,
          53187,
          50870,
          66480,
          54466,
          16269,
          33569,
          36262,
          22634,
          31605,
          52034,
          46734,
          39552,
          36778,
          10979,
          49678,
          33419,
          21255,
          54197,
          23091,
          44375,
          59594,
          40344,
          35322,
          66726,
          47353,
          33444,
          48070,
          43140,
          15056,
          44393,
          31497,
          58401,
          62307,
          43641,
          51412,
          40451,
          36317,
          42213,
          56721,
          33629,
          33438,
          54730,
          38452,
          38197,
          37395,
          55249,
          44213,
          59062,
          27683,
          40521,
          20427,
          55158,
          35860,
          31454,
          47139,
          53378,
          45579,
          57183,
          23748,
          37368,
          40800,
          37633,
          39767,
          26997,
          57091,
          15759,
          42997,
          48918,
          60033,
          34043,
          65695,
          45143,
          27238,
          47009,
          46692,
          45503,
          6560,
          35876,
          40049,
          50127,
          43263,
          50150,
          69139,
          33316,
          58554,
          41335,
          67267,
          35791,
          50611,
          56242,
          48904,
          57420,
          46390,
          53761,
          38887,
          29791,
          51039,
          60544,
          37716,
          36864,
          44511,
          36947,
          47352,
          57045,
          36957,
          69389,
          43142,
          22634,
          51315,
          34578,
          54132,
          18690,
          34596,
          43269,
          27100,
          60544,
          42523,
          33402,
          36408,
          51876,
          40304,
          32727,
          38410,
          64866,
          46015,
          28072,
          50725,
          41145,
          39898,
          59892,
          41020,
          57072,
          49854,
          60585,
          42873,
          53374,
          53253,
          54108,
          57136,
          46098,
          37787,
          37401,
          28087,
          19740,
          46098,
          51411,
          51983,
          42386,
          57530,
          37054,
          47175,
          49681,
          47958,
          38998,
          27161,
          38201,
          60482,
          34633,
          45903,
          35860,
          40442,
          61482,
          31497,
          45143,
          52569,
          48432,
          17144,
          36663,
          53843,
          44512,
          27116,
          54072,
          60432,
          65526,
          69139,
          51717,
          50664,
          54414,
          54549,
          41003,
          42731,
          52854,
          46681,
          50002,
          44078,
          30560,
          35924,
          39228,
          58494,
          56551,
          25358,
          35544,
          36634,
          50729,
          34916,
          43602,
          33996,
          63246,
          36732,
          37929,
          49544,
          38232,
          22554,
          23536,
          49413,
          42231,
          49090,
          18169,
          41437,
          38452,
          55012,
          38175,
          52117,
          54222,
          38513,
          16653,
          42586,
          23529,
          46910,
          18690,
          37244,
          54984,
          42403,
          55761,
          45576,
          58086,
          28389,
          63342,
          41120,
          39763,
          38725,
          59481,
          36802,
          28249,
          47808,
          25509,
          51012,
          42664,
          42586,
          28973,
          39435,
          42473,
          46904,
          34026,
          48918,
          34074,
          28520,
          36273,
          59385,
          37070,
          44689,
          7144,
          37758,
          21840,
          50387,
          32583,
          44635,
          33316,
          54111,
          22669,
          44911,
          54693,
          47743,
          32313,
          27071,
          65735,
          4023,
          57705,
          58217,
          21024,
          32889,
          30538,
          26642,
          49638,
          30396,
          50616,
          30298,
          44155,
          49160,
          45759,
          73395,
          45688,
          60491,
          35701,
          31535,
          36038,
          34230,
          22701,
          55212,
          62694,
          61917,
          21059,
          29543,
          54998,
          34242,
          28320,
          34529,
          39898,
          51141,
          61798,
          46998,
          56551,
          40887,
          48877,
          55686,
          38236,
          31385,
          25509,
          58646,
          21994,
          58116,
          39791,
          13672,
          56559,
          32644,
          28420,
          46423,
          41638,
          65814,
          43815,
          48195,
          32765,
          29672,
          60905,
          45057,
          53154,
          32871,
          36927,
          48794,
          38361,
          42192,
          54591,
          42000,
          27889,
          22123,
          51651,
          34109,
          53367,
          22390,
          48699,
          54252,
          53204,
          58646,
          48150,
          34587,
          43018,
          45736,
          37509,
          50116,
          61286,
          58692,
          62637,
          29435,
          23539,
          29732,
          41275,
          63516,
          42769,
          49572,
          30560,
          34176,
          47320,
          31560,
          48432,
          52914,
          38946,
          44325,
          42523,
          27469,
          55593,
          50501,
          48432,
          32144,
          14918,
          45146,
          38054,
          36807,
          40101,
          33562,
          57642,
          58554,
          57967,
          52869
         ],
         "yaxis": "y"
        },
        {
         "customdata": [
          [
           48,
           "Graduation",
           "Coupled"
          ],
          [
           41,
           "Graduation",
           "Single"
          ],
          [
           54,
           "Graduation",
           "Single"
          ],
          [
           48,
           "PhD",
           "Coupled"
          ],
          [
           43,
           "PhD",
           "Coupled"
          ],
          [
           33,
           "Graduation",
           "Coupled"
          ],
          [
           38,
           "Graduation",
           "Single"
          ],
          [
           37,
           "Graduation",
           "Single"
          ],
          [
           35,
           "Graduation",
           "Coupled"
          ],
          [
           47,
           "Graduation",
           "Single"
          ],
          [
           31,
           "Master",
           "Single"
          ],
          [
           37,
           "Graduation",
           "Coupled"
          ],
          [
           43,
           "Graduation",
           "Coupled"
          ],
          [
           40,
           "Master",
           "Coupled"
          ],
          [
           36,
           "Graduation",
           "Single"
          ],
          [
           27,
           "Graduation",
           "Single"
          ],
          [
           41,
           "Graduation",
           "Coupled"
          ],
          [
           41,
           "Graduation",
           "Single"
          ],
          [
           34,
           "Graduation",
           "Coupled"
          ],
          [
           44,
           "Graduation",
           "Coupled"
          ],
          [
           52,
           "Master",
           "Coupled"
          ],
          [
           34,
           "Graduation",
           "Coupled"
          ],
          [
           21,
           "PhD",
           "Single"
          ],
          [
           22,
           "Graduation",
           "Single"
          ],
          [
           44,
           "Graduation",
           "Coupled"
          ],
          [
           30,
           "Graduation",
           "Single"
          ],
          [
           29,
           "Graduation",
           "Single"
          ],
          [
           55,
           "Master",
           "Single"
          ],
          [
           45,
           "Graduation",
           "Coupled"
          ],
          [
           46,
           "PhD",
           "Coupled"
          ],
          [
           20,
           "Master",
           "Single"
          ],
          [
           37,
           "Master",
           "Coupled"
          ],
          [
           39,
           "PhD",
           "Single"
          ],
          [
           36,
           "Graduation",
           "Coupled"
          ],
          [
           38,
           "PhD",
           "Single"
          ],
          [
           41,
           "PhD",
           "Coupled"
          ],
          [
           25,
           "Graduation",
           "Single"
          ],
          [
           37,
           "PhD",
           "Coupled"
          ],
          [
           37,
           "Graduation",
           "Coupled"
          ],
          [
           24,
           "PhD",
           "Coupled"
          ],
          [
           34,
           "Master",
           "Coupled"
          ],
          [
           45,
           "Graduation",
           "Single"
          ],
          [
           35,
           "Graduation",
           "Single"
          ],
          [
           35,
           "PhD",
           "Coupled"
          ],
          [
           28,
           "Graduation",
           "Coupled"
          ],
          [
           32,
           "Graduation",
           "Coupled"
          ],
          [
           44,
           "Graduation",
           "Coupled"
          ],
          [
           44,
           "PhD",
           "Coupled"
          ],
          [
           50,
           "Graduation",
           "Single"
          ],
          [
           36,
           "Graduation",
           "Coupled"
          ],
          [
           40,
           "PhD",
           "Coupled"
          ],
          [
           45,
           "Graduation",
           "Single"
          ],
          [
           23,
           "Graduation",
           "Coupled"
          ],
          [
           41,
           "Graduation",
           "Coupled"
          ],
          [
           24,
           "PhD",
           "Coupled"
          ],
          [
           43,
           "Master",
           "Coupled"
          ],
          [
           39,
           "Graduation",
           "Single"
          ],
          [
           45,
           "PhD",
           "Single"
          ],
          [
           43,
           "Graduation",
           "Coupled"
          ],
          [
           33,
           "Master",
           "Coupled"
          ],
          [
           27,
           "PhD",
           "Single"
          ],
          [
           45,
           "Master",
           "Single"
          ],
          [
           36,
           "Graduation",
           "Coupled"
          ],
          [
           32,
           "Graduation",
           "Coupled"
          ],
          [
           31,
           "Graduation",
           "Single"
          ],
          [
           52,
           "Master",
           "Coupled"
          ],
          [
           37,
           "Master",
           "Single"
          ],
          [
           27,
           "Graduation",
           "Single"
          ],
          [
           42,
           "Graduation",
           "Coupled"
          ],
          [
           52,
           "Graduation",
           "Single"
          ],
          [
           44,
           "Graduation",
           "Single"
          ],
          [
           48,
           "Graduation",
           "Coupled"
          ],
          [
           24,
           "Graduation",
           "Single"
          ],
          [
           44,
           "Graduation",
           "Single"
          ],
          [
           27,
           "Graduation",
           "Coupled"
          ],
          [
           47,
           "PhD",
           "Single"
          ],
          [
           38,
           "Graduation",
           "Coupled"
          ],
          [
           36,
           "PhD",
           "Single"
          ],
          [
           43,
           "PhD",
           "Coupled"
          ],
          [
           43,
           "Graduation",
           "Single"
          ],
          [
           37,
           "PhD",
           "Single"
          ],
          [
           46,
           "Graduation",
           "Single"
          ],
          [
           52,
           "PhD",
           "Coupled"
          ],
          [
           35,
           "Graduation",
           "Coupled"
          ],
          [
           21,
           "Graduation",
           "Single"
          ],
          [
           46,
           "Master",
           "Coupled"
          ],
          [
           22,
           "PhD",
           "Coupled"
          ],
          [
           36,
           "Graduation",
           "Coupled"
          ],
          [
           20,
           "Graduation",
           "Coupled"
          ],
          [
           32,
           "Graduation",
           "Single"
          ],
          [
           39,
           "Master",
           "Coupled"
          ],
          [
           28,
           "Graduation",
           "Coupled"
          ],
          [
           25,
           "Graduation",
           "Coupled"
          ],
          [
           45,
           "Graduation",
           "Coupled"
          ],
          [
           47,
           "Graduation",
           "Single"
          ],
          [
           44,
           "Graduation",
           "Coupled"
          ],
          [
           36,
           "Graduation",
           "Coupled"
          ],
          [
           45,
           "PhD",
           "Single"
          ],
          [
           38,
           "Graduation",
           "Coupled"
          ],
          [
           31,
           "PhD",
           "Coupled"
          ],
          [
           52,
           "Master",
           "Coupled"
          ],
          [
           48,
           "PhD",
           "Single"
          ],
          [
           37,
           "Master",
           "Coupled"
          ],
          [
           39,
           "Graduation",
           "Coupled"
          ],
          [
           49,
           "Master",
           "Single"
          ],
          [
           51,
           "Master",
           "Single"
          ],
          [
           42,
           "PhD",
           "Coupled"
          ],
          [
           27,
           "PhD",
           "Coupled"
          ],
          [
           37,
           "Graduation",
           "Coupled"
          ],
          [
           24,
           "Graduation",
           "Single"
          ],
          [
           34,
           "Graduation",
           "Single"
          ],
          [
           38,
           "Master",
           "Single"
          ],
          [
           27,
           "Master",
           "Single"
          ],
          [
           48,
           "Graduation",
           "Single"
          ],
          [
           44,
           "Graduation",
           "Single"
          ],
          [
           47,
           "Graduation",
           "Single"
          ],
          [
           31,
           "PhD",
           "Coupled"
          ],
          [
           37,
           "Graduation",
           "Coupled"
          ],
          [
           35,
           "PhD",
           "Single"
          ],
          [
           31,
           "Graduation",
           "Coupled"
          ],
          [
           33,
           "Graduation",
           "Single"
          ],
          [
           42,
           "Master",
           "Coupled"
          ],
          [
           50,
           "Graduation",
           "Single"
          ],
          [
           36,
           "PhD",
           "Coupled"
          ],
          [
           37,
           "Master",
           "Coupled"
          ],
          [
           37,
           "PhD",
           "Coupled"
          ],
          [
           38,
           "Graduation",
           "Single"
          ],
          [
           43,
           "PhD",
           "Coupled"
          ],
          [
           40,
           "Graduation",
           "Single"
          ],
          [
           42,
           "Graduation",
           "Coupled"
          ],
          [
           43,
           "Graduation",
           "Coupled"
          ],
          [
           37,
           "Master",
           "Coupled"
          ],
          [
           38,
           "Graduation",
           "Coupled"
          ],
          [
           39,
           "Graduation",
           "Single"
          ],
          [
           38,
           "Graduation",
           "Single"
          ],
          [
           51,
           "Master",
           "Single"
          ],
          [
           42,
           "Graduation",
           "Single"
          ],
          [
           33,
           "Graduation",
           "Coupled"
          ],
          [
           37,
           "PhD",
           "Single"
          ],
          [
           35,
           "Graduation",
           "Single"
          ],
          [
           33,
           "PhD",
           "Single"
          ],
          [
           50,
           "Graduation",
           "Single"
          ],
          [
           45,
           "Graduation",
           "Single"
          ],
          [
           46,
           "Graduation",
           "Coupled"
          ],
          [
           37,
           "PhD",
           "Single"
          ],
          [
           40,
           "PhD",
           "Single"
          ],
          [
           30,
           "PhD",
           "Coupled"
          ],
          [
           25,
           "PhD",
           "Coupled"
          ],
          [
           44,
           "PhD",
           "Coupled"
          ],
          [
           43,
           "Graduation",
           "Single"
          ],
          [
           40,
           "Graduation",
           "Single"
          ],
          [
           36,
           "Graduation",
           "Coupled"
          ],
          [
           36,
           "Graduation",
           "Single"
          ],
          [
           26,
           "Master",
           "Single"
          ],
          [
           27,
           "Graduation",
           "Coupled"
          ],
          [
           47,
           "Master",
           "Single"
          ],
          [
           37,
           "PhD",
           "Coupled"
          ],
          [
           43,
           "Graduation",
           "Single"
          ],
          [
           47,
           "Master",
           "Coupled"
          ],
          [
           38,
           "Master",
           "Single"
          ],
          [
           22,
           "Graduation",
           "Coupled"
          ],
          [
           35,
           "Graduation",
           "Coupled"
          ],
          [
           40,
           "Graduation",
           "Single"
          ],
          [
           40,
           "Graduation",
           "Coupled"
          ],
          [
           43,
           "Graduation",
           "Coupled"
          ],
          [
           19,
           "Graduation",
           "Single"
          ],
          [
           41,
           "PhD",
           "Coupled"
          ],
          [
           38,
           "Graduation",
           "Single"
          ],
          [
           44,
           "Graduation",
           "Coupled"
          ],
          [
           35,
           "Graduation",
           "Coupled"
          ],
          [
           40,
           "PhD",
           "Coupled"
          ],
          [
           49,
           "Graduation",
           "Coupled"
          ],
          [
           47,
           "Graduation",
           "Single"
          ],
          [
           25,
           "Master",
           "Coupled"
          ],
          [
           35,
           "Graduation",
           "Coupled"
          ],
          [
           25,
           "Graduation",
           "Coupled"
          ],
          [
           34,
           "Graduation",
           "Coupled"
          ],
          [
           42,
           "Graduation",
           "Single"
          ],
          [
           40,
           "PhD",
           "Single"
          ],
          [
           40,
           "Graduation",
           "Coupled"
          ],
          [
           41,
           "Graduation",
           "Coupled"
          ],
          [
           41,
           "Graduation",
           "Single"
          ],
          [
           39,
           "Graduation",
           "Single"
          ],
          [
           27,
           "PhD",
           "Coupled"
          ],
          [
           42,
           "Graduation",
           "Coupled"
          ],
          [
           33,
           "PhD",
           "Single"
          ],
          [
           32,
           "Graduation",
           "Single"
          ],
          [
           37,
           "Graduation",
           "Single"
          ],
          [
           44,
           "Graduation",
           "Coupled"
          ],
          [
           56,
           "Master",
           "Single"
          ],
          [
           34,
           "Graduation",
           "Single"
          ],
          [
           28,
           "Graduation",
           "Coupled"
          ],
          [
           35,
           "Graduation",
           "Coupled"
          ],
          [
           30,
           "PhD",
           "Coupled"
          ],
          [
           55,
           "Graduation",
           "Single"
          ],
          [
           35,
           "Master",
           "Coupled"
          ],
          [
           42,
           "Master",
           "Single"
          ],
          [
           40,
           "PhD",
           "Single"
          ],
          [
           43,
           "PhD",
           "Coupled"
          ],
          [
           35,
           "Master",
           "Single"
          ],
          [
           31,
           "Graduation",
           "Coupled"
          ],
          [
           40,
           "PhD",
           "Single"
          ],
          [
           43,
           "Graduation",
           "Single"
          ],
          [
           46,
           "Graduation",
           "Coupled"
          ],
          [
           37,
           "Graduation",
           "Single"
          ],
          [
           21,
           "Graduation",
           "Coupled"
          ],
          [
           18,
           "Graduation",
           "Single"
          ],
          [
           53,
           "Master",
           "Coupled"
          ],
          [
           31,
           "PhD",
           "Coupled"
          ],
          [
           20,
           "Graduation",
           "Single"
          ],
          [
           28,
           "Graduation",
           "Coupled"
          ],
          [
           36,
           "Graduation",
           "Coupled"
          ],
          [
           21,
           "Graduation",
           "Single"
          ],
          [
           37,
           "PhD",
           "Coupled"
          ],
          [
           40,
           "PhD",
           "Coupled"
          ],
          [
           42,
           "Graduation",
           "Coupled"
          ],
          [
           43,
           "PhD",
           "Coupled"
          ],
          [
           42,
           "Graduation",
           "Single"
          ],
          [
           38,
           "PhD",
           "Single"
          ],
          [
           30,
           "Graduation",
           "Single"
          ],
          [
           25,
           "PhD",
           "Coupled"
          ],
          [
           34,
           "Graduation",
           "Single"
          ],
          [
           45,
           "Graduation",
           "Single"
          ],
          [
           40,
           "Graduation",
           "Coupled"
          ],
          [
           26,
           "Graduation",
           "Coupled"
          ],
          [
           41,
           "Master",
           "Coupled"
          ],
          [
           35,
           "Graduation",
           "Single"
          ],
          [
           35,
           "PhD",
           "Coupled"
          ],
          [
           44,
           "Graduation",
           "Coupled"
          ],
          [
           25,
           "Graduation",
           "Single"
          ],
          [
           35,
           "Graduation",
           "Coupled"
          ],
          [
           40,
           "Graduation",
           "Coupled"
          ],
          [
           26,
           "PhD",
           "Single"
          ],
          [
           33,
           "Graduation",
           "Coupled"
          ],
          [
           42,
           "Graduation",
           "Coupled"
          ],
          [
           42,
           "Graduation",
           "Single"
          ],
          [
           45,
           "Graduation",
           "Coupled"
          ],
          [
           41,
           "Graduation",
           "Coupled"
          ],
          [
           27,
           "Graduation",
           "Single"
          ],
          [
           26,
           "Graduation",
           "Coupled"
          ],
          [
           22,
           "Graduation",
           "Single"
          ],
          [
           36,
           "Graduation",
           "Coupled"
          ],
          [
           46,
           "Graduation",
           "Coupled"
          ],
          [
           32,
           "PhD",
           "Coupled"
          ],
          [
           49,
           "Graduation",
           "Single"
          ],
          [
           43,
           "Master",
           "Single"
          ],
          [
           36,
           "Graduation",
           "Coupled"
          ],
          [
           41,
           "PhD",
           "Coupled"
          ],
          [
           34,
           "Graduation",
           "Single"
          ],
          [
           34,
           "Graduation",
           "Coupled"
          ],
          [
           38,
           "Graduation",
           "Single"
          ],
          [
           42,
           "Graduation",
           "Coupled"
          ],
          [
           45,
           "Graduation",
           "Single"
          ],
          [
           46,
           "Graduation",
           "Single"
          ],
          [
           36,
           "Graduation",
           "Coupled"
          ],
          [
           28,
           "Graduation",
           "Single"
          ],
          [
           48,
           "Graduation",
           "Coupled"
          ],
          [
           38,
           "Graduation",
           "Coupled"
          ],
          [
           38,
           "Graduation",
           "Coupled"
          ],
          [
           18,
           "Graduation",
           "Coupled"
          ],
          [
           41,
           "Graduation",
           "Coupled"
          ],
          [
           45,
           "Graduation",
           "Single"
          ],
          [
           22,
           "PhD",
           "Coupled"
          ],
          [
           32,
           "Graduation",
           "Coupled"
          ],
          [
           23,
           "Master",
           "Single"
          ],
          [
           42,
           "Master",
           "Single"
          ],
          [
           43,
           "Master",
           "Single"
          ],
          [
           45,
           "Master",
           "Single"
          ],
          [
           44,
           "Master",
           "Coupled"
          ],
          [
           42,
           "PhD",
           "Coupled"
          ],
          [
           48,
           "PhD",
           "Coupled"
          ],
          [
           41,
           "Graduation",
           "Coupled"
          ],
          [
           44,
           "Graduation",
           "Coupled"
          ],
          [
           48,
           "Graduation",
           "Single"
          ],
          [
           22,
           "PhD",
           "Coupled"
          ],
          [
           43,
           "Graduation",
           "Coupled"
          ],
          [
           41,
           "Graduation",
           "Coupled"
          ],
          [
           39,
           "Graduation",
           "Coupled"
          ],
          [
           48,
           "PhD",
           "Coupled"
          ],
          [
           46,
           "PhD",
           "Coupled"
          ],
          [
           41,
           "Graduation",
           "Coupled"
          ],
          [
           50,
           "Graduation",
           "Single"
          ],
          [
           39,
           "Graduation",
           "Coupled"
          ],
          [
           44,
           "Graduation",
           "Coupled"
          ],
          [
           30,
           "PhD",
           "Single"
          ],
          [
           31,
           "Master",
           "Coupled"
          ],
          [
           38,
           "Graduation",
           "Single"
          ],
          [
           50,
           "Master",
           "Single"
          ],
          [
           42,
           "Graduation",
           "Coupled"
          ],
          [
           34,
           "Graduation",
           "Single"
          ],
          [
           29,
           "Graduation",
           "Coupled"
          ],
          [
           41,
           "Master",
           "Coupled"
          ],
          [
           41,
           "Graduation",
           "Coupled"
          ],
          [
           47,
           "Graduation",
           "Coupled"
          ],
          [
           42,
           "Master",
           "Coupled"
          ],
          [
           33,
           "Graduation",
           "Coupled"
          ],
          [
           47,
           "Graduation",
           "Coupled"
          ],
          [
           49,
           "PhD",
           "Coupled"
          ],
          [
           32,
           "Graduation",
           "Coupled"
          ],
          [
           41,
           "Graduation",
           "Coupled"
          ],
          [
           34,
           "Master",
           "Coupled"
          ],
          [
           31,
           "Graduation",
           "Coupled"
          ],
          [
           37,
           "Graduation",
           "Coupled"
          ],
          [
           20,
           "Graduation",
           "Single"
          ],
          [
           30,
           "Graduation",
           "Coupled"
          ],
          [
           51,
           "Graduation",
           "Single"
          ],
          [
           50,
           "Graduation",
           "Single"
          ],
          [
           39,
           "Graduation",
           "Single"
          ],
          [
           39,
           "Graduation",
           "Single"
          ],
          [
           38,
           "Graduation",
           "Single"
          ],
          [
           35,
           "Graduation",
           "Coupled"
          ],
          [
           45,
           "Master",
           "Single"
          ],
          [
           42,
           "Graduation",
           "Coupled"
          ],
          [
           41,
           "Graduation",
           "Coupled"
          ],
          [
           34,
           "Graduation",
           "Single"
          ],
          [
           46,
           "Graduation",
           "Single"
          ],
          [
           28,
           "Graduation",
           "Coupled"
          ],
          [
           46,
           "Graduation",
           "Single"
          ],
          [
           31,
           "PhD",
           "Coupled"
          ],
          [
           45,
           "Graduation",
           "Coupled"
          ],
          [
           44,
           "Graduation",
           "Single"
          ],
          [
           50,
           "Master",
           "Single"
          ],
          [
           43,
           "Graduation",
           "Coupled"
          ],
          [
           43,
           "PhD",
           "Coupled"
          ],
          [
           34,
           "Graduation",
           "Single"
          ],
          [
           37,
           "Master",
           "Single"
          ],
          [
           44,
           "Master",
           "Coupled"
          ],
          [
           25,
           "Graduation",
           "Coupled"
          ],
          [
           35,
           "Graduation",
           "Coupled"
          ],
          [
           25,
           "Graduation",
           "Coupled"
          ],
          [
           40,
           "Master",
           "Coupled"
          ],
          [
           42,
           "PhD",
           "Coupled"
          ],
          [
           26,
           "Graduation",
           "Coupled"
          ],
          [
           47,
           "Graduation",
           "Coupled"
          ],
          [
           28,
           "Graduation",
           "Coupled"
          ],
          [
           30,
           "PhD",
           "Single"
          ],
          [
           42,
           "Graduation",
           "Coupled"
          ],
          [
           36,
           "Graduation",
           "Coupled"
          ],
          [
           27,
           "PhD",
           "Single"
          ],
          [
           39,
           "PhD",
           "Coupled"
          ],
          [
           41,
           "PhD",
           "Coupled"
          ],
          [
           46,
           "Master",
           "Single"
          ],
          [
           52,
           "Master",
           "Coupled"
          ],
          [
           34,
           "Graduation",
           "Coupled"
          ],
          [
           38,
           "Graduation",
           "Coupled"
          ],
          [
           37,
           "PhD",
           "Single"
          ],
          [
           48,
           "Master",
           "Single"
          ],
          [
           23,
           "Master",
           "Single"
          ],
          [
           27,
           "Graduation",
           "Single"
          ],
          [
           26,
           "Graduation",
           "Coupled"
          ],
          [
           41,
           "Graduation",
           "Coupled"
          ],
          [
           36,
           "Graduation",
           "Coupled"
          ],
          [
           24,
           "Graduation",
           "Single"
          ],
          [
           23,
           "Graduation",
           "Single"
          ],
          [
           29,
           "Graduation",
           "Coupled"
          ],
          [
           27,
           "Graduation",
           "Single"
          ],
          [
           41,
           "PhD",
           "Single"
          ],
          [
           49,
           "PhD",
           "Single"
          ],
          [
           31,
           "Graduation",
           "Coupled"
          ],
          [
           33,
           "Graduation",
           "Single"
          ],
          [
           46,
           "Graduation",
           "Single"
          ],
          [
           36,
           "Graduation",
           "Coupled"
          ],
          [
           33,
           "Graduation",
           "Single"
          ],
          [
           38,
           "Graduation",
           "Single"
          ],
          [
           43,
           "PhD",
           "Coupled"
          ],
          [
           46,
           "PhD",
           "Coupled"
          ],
          [
           27,
           "Master",
           "Coupled"
          ],
          [
           42,
           "Graduation",
           "Coupled"
          ],
          [
           35,
           "Graduation",
           "Coupled"
          ],
          [
           32,
           "Master",
           "Single"
          ],
          [
           45,
           "Graduation",
           "Coupled"
          ],
          [
           42,
           "Graduation",
           "Single"
          ],
          [
           24,
           "Graduation",
           "Single"
          ],
          [
           26,
           "Master",
           "Single"
          ],
          [
           30,
           "PhD",
           "Coupled"
          ],
          [
           36,
           "Graduation",
           "Coupled"
          ],
          [
           36,
           "Graduation",
           "Coupled"
          ],
          [
           28,
           "Graduation",
           "Coupled"
          ],
          [
           46,
           "Graduation",
           "Coupled"
          ],
          [
           36,
           "PhD",
           "Coupled"
          ],
          [
           30,
           "PhD",
           "Coupled"
          ],
          [
           22,
           "Graduation",
           "Single"
          ],
          [
           52,
           "Master",
           "Coupled"
          ],
          [
           47,
           "Graduation",
           "Single"
          ],
          [
           44,
           "Graduation",
           "Single"
          ],
          [
           41,
           "Graduation",
           "Coupled"
          ],
          [
           36,
           "Graduation",
           "Coupled"
          ],
          [
           31,
           "Graduation",
           "Coupled"
          ],
          [
           27,
           "Graduation",
           "Single"
          ],
          [
           44,
           "Graduation",
           "Coupled"
          ],
          [
           34,
           "Graduation",
           "Coupled"
          ],
          [
           38,
           "Graduation",
           "Coupled"
          ],
          [
           38,
           "Graduation",
           "Coupled"
          ],
          [
           38,
           "PhD",
           "Single"
          ],
          [
           45,
           "Master",
           "Coupled"
          ],
          [
           21,
           "Graduation",
           "Coupled"
          ],
          [
           45,
           "Graduation",
           "Coupled"
          ],
          [
           27,
           "Graduation",
           "Coupled"
          ],
          [
           43,
           "PhD",
           "Coupled"
          ],
          [
           37,
           "PhD",
           "Coupled"
          ],
          [
           34,
           "PhD",
           "Coupled"
          ],
          [
           29,
           "PhD",
           "Single"
          ],
          [
           42,
           "Master",
           "Single"
          ],
          [
           41,
           "PhD",
           "Coupled"
          ],
          [
           27,
           "Graduation",
           "Coupled"
          ],
          [
           46,
           "PhD",
           "Coupled"
          ],
          [
           34,
           "Graduation",
           "Single"
          ],
          [
           42,
           "Graduation",
           "Coupled"
          ],
          [
           30,
           "Graduation",
           "Coupled"
          ],
          [
           39,
           "Graduation",
           "Single"
          ],
          [
           49,
           "Graduation",
           "Single"
          ],
          [
           53,
           "Master",
           "Single"
          ],
          [
           38,
           "Graduation",
           "Single"
          ],
          [
           28,
           "PhD",
           "Coupled"
          ],
          [
           44,
           "Master",
           "Single"
          ],
          [
           28,
           "Graduation",
           "Single"
          ],
          [
           42,
           "PhD",
           "Single"
          ],
          [
           38,
           "Graduation",
           "Coupled"
          ],
          [
           24,
           "PhD",
           "Coupled"
          ],
          [
           25,
           "Master",
           "Coupled"
          ],
          [
           46,
           "Graduation",
           "Single"
          ],
          [
           40,
           "Graduation",
           "Single"
          ],
          [
           69,
           "PhD",
           "Single"
          ],
          [
           42,
           "Graduation",
           "Single"
          ],
          [
           41,
           "Master",
           "Coupled"
          ],
          [
           45,
           "Graduation",
           "Coupled"
          ],
          [
           44,
           "Graduation",
           "Single"
          ],
          [
           43,
           "Graduation",
           "Coupled"
          ],
          [
           55,
           "Graduation",
           "Single"
          ],
          [
           30,
           "PhD",
           "Coupled"
          ],
          [
           30,
           "Graduation",
           "Coupled"
          ],
          [
           30,
           "Graduation",
           "Coupled"
          ],
          [
           40,
           "Master",
           "Coupled"
          ],
          [
           37,
           "Graduation",
           "Coupled"
          ],
          [
           36,
           "PhD",
           "Coupled"
          ],
          [
           23,
           "Graduation",
           "Single"
          ],
          [
           48,
           "Master",
           "Coupled"
          ],
          [
           51,
           "PhD",
           "Single"
          ],
          [
           41,
           "Graduation",
           "Coupled"
          ],
          [
           36,
           "Master",
           "Coupled"
          ],
          [
           38,
           "Graduation",
           "Single"
          ],
          [
           50,
           "PhD",
           "Single"
          ],
          [
           37,
           "Graduation",
           "Coupled"
          ],
          [
           42,
           "Graduation",
           "Coupled"
          ],
          [
           36,
           "Graduation",
           "Coupled"
          ],
          [
           48,
           "PhD",
           "Coupled"
          ],
          [
           38,
           "Graduation",
           "Coupled"
          ],
          [
           35,
           "Graduation",
           "Coupled"
          ],
          [
           31,
           "Graduation",
           "Coupled"
          ],
          [
           42,
           "Graduation",
           "Single"
          ],
          [
           40,
           "Graduation",
           "Coupled"
          ],
          [
           42,
           "Graduation",
           "Single"
          ],
          [
           38,
           "Graduation",
           "Single"
          ],
          [
           39,
           "Graduation",
           "Single"
          ],
          [
           37,
           "PhD",
           "Single"
          ],
          [
           31,
           "PhD",
           "Coupled"
          ],
          [
           38,
           "Graduation",
           "Coupled"
          ],
          [
           30,
           "Graduation",
           "Coupled"
          ],
          [
           44,
           "Graduation",
           "Single"
          ],
          [
           25,
           "Graduation",
           "Coupled"
          ],
          [
           44,
           "Graduation",
           "Coupled"
          ],
          [
           38,
           "Graduation",
           "Coupled"
          ],
          [
           19,
           "Graduation",
           "Single"
          ],
          [
           38,
           "Graduation",
           "Coupled"
          ],
          [
           36,
           "Master",
           "Coupled"
          ],
          [
           37,
           "Graduation",
           "Coupled"
          ],
          [
           40,
           "PhD",
           "Coupled"
          ],
          [
           42,
           "Graduation",
           "Single"
          ],
          [
           51,
           "Graduation",
           "Single"
          ],
          [
           31,
           "PhD",
           "Coupled"
          ],
          [
           44,
           "Master",
           "Coupled"
          ],
          [
           41,
           "Graduation",
           "Coupled"
          ],
          [
           27,
           "PhD",
           "Coupled"
          ],
          [
           47,
           "PhD",
           "Coupled"
          ],
          [
           37,
           "Master",
           "Single"
          ],
          [
           64,
           "PhD",
           "Coupled"
          ],
          [
           41,
           "Graduation",
           "Single"
          ],
          [
           40,
           "Graduation",
           "Coupled"
          ],
          [
           49,
           "Graduation",
           "Single"
          ],
          [
           48,
           "PhD",
           "Coupled"
          ],
          [
           34,
           "Graduation",
           "Coupled"
          ],
          [
           23,
           "Master",
           "Single"
          ],
          [
           29,
           "Graduation",
           "Coupled"
          ],
          [
           49,
           "Graduation",
           "Single"
          ],
          [
           39,
           "Graduation",
           "Coupled"
          ],
          [
           38,
           "PhD",
           "Coupled"
          ],
          [
           45,
           "Master",
           "Single"
          ],
          [
           42,
           "Master",
           "Coupled"
          ],
          [
           30,
           "Master",
           "Single"
          ],
          [
           43,
           "Graduation",
           "Single"
          ],
          [
           35,
           "Graduation",
           "Coupled"
          ],
          [
           32,
           "Graduation",
           "Coupled"
          ],
          [
           33,
           "Graduation",
           "Coupled"
          ],
          [
           34,
           "Graduation",
           "Coupled"
          ],
          [
           31,
           "Master",
           "Single"
          ],
          [
           34,
           "Graduation",
           "Coupled"
          ],
          [
           42,
           "Master",
           "Single"
          ],
          [
           46,
           "Graduation",
           "Coupled"
          ],
          [
           33,
           "Graduation",
           "Single"
          ]
         ],
         "hovertemplate": "Cluster=1<br>TotalSpend=%{x}<br>Income=%{y}<br>Age=%{customdata[0]}<br>Education=%{customdata[1]}<br>Rel_Status=%{customdata[2]}<extra></extra>",
         "legendgroup": "1",
         "marker": {
          "color": "#00cc96",
          "symbol": "circle"
         },
         "mode": "markers",
         "name": "1",
         "showlegend": true,
         "type": "scattergl",
         "x": [
          776,
          590,
          1102,
          1672,
          913,
          1395,
          984,
          1617,
          606,
          1093,
          1438,
          612,
          1562,
          1890,
          2209,
          778,
          1366,
          63,
          1169,
          910,
          850,
          969,
          1820,
          730,
          1724,
          1135,
          1923,
          632,
          725,
          1482,
          2077,
          1053,
          871,
          877,
          1293,
          1608,
          1117,
          1835,
          1581,
          1282,
          834,
          1295,
          1150,
          1240,
          1198,
          1135,
          1047,
          714,
          1245,
          576,
          1753,
          2088,
          1627,
          1690,
          2126,
          1531,
          1112,
          845,
          981,
          818,
          925,
          908,
          576,
          1919,
          825,
          1213,
          1508,
          401,
          680,
          946,
          1442,
          1674,
          1538,
          1190,
          1443,
          1029,
          1188,
          1277,
          1670,
          693,
          990,
          1371,
          1377,
          1738,
          1127,
          787,
          1598,
          915,
          1378,
          1474,
          1435,
          1795,
          1188,
          1008,
          733,
          1001,
          971,
          1288,
          1388,
          906,
          747,
          895,
          1053,
          735,
          900,
          663,
          1816,
          1445,
          945,
          1157,
          943,
          2089,
          1651,
          1895,
          1168,
          1062,
          1919,
          662,
          795,
          1772,
          1572,
          795,
          1065,
          1230,
          2086,
          107,
          1237,
          1586,
          1587,
          1179,
          1724,
          1092,
          1174,
          6,
          1064,
          574,
          1029,
          670,
          990,
          576,
          664,
          928,
          2074,
          1146,
          689,
          2114,
          1717,
          1346,
          1044,
          957,
          734,
          614,
          1453,
          1621,
          1443,
          903,
          1511,
          1185,
          965,
          1027,
          836,
          606,
          1472,
          1335,
          1338,
          960,
          1497,
          1064,
          1757,
          1440,
          1226,
          1171,
          564,
          1427,
          1869,
          1364,
          758,
          1525,
          1230,
          1580,
          1027,
          1478,
          726,
          1497,
          769,
          1808,
          1633,
          761,
          2009,
          764,
          1180,
          727,
          486,
          1727,
          995,
          989,
          595,
          2114,
          2018,
          1281,
          1003,
          1139,
          203,
          858,
          1423,
          1253,
          1990,
          1001,
          1919,
          1228,
          1761,
          1149,
          1127,
          1416,
          1113,
          960,
          1829,
          779,
          811,
          1187,
          1250,
          305,
          1079,
          1778,
          1198,
          1564,
          1150,
          1908,
          2486,
          805,
          1493,
          936,
          1901,
          2194,
          1461,
          1968,
          1091,
          1366,
          968,
          938,
          1650,
          906,
          1477,
          1298,
          967,
          2087,
          981,
          1958,
          424,
          937,
          1862,
          1574,
          757,
          1722,
          1956,
          2013,
          1459,
          1833,
          1020,
          1004,
          606,
          1097,
          1711,
          470,
          2525,
          1812,
          1461,
          908,
          1161,
          988,
          1672,
          1065,
          2047,
          530,
          1598,
          805,
          1631,
          973,
          1536,
          1529,
          860,
          928,
          641,
          2279,
          1779,
          1804,
          1862,
          825,
          1286,
          1192,
          2130,
          2346,
          794,
          802,
          59,
          1305,
          832,
          1501,
          1189,
          1194,
          844,
          1149,
          800,
          1258,
          1555,
          861,
          1918,
          447,
          237,
          396,
          1440,
          908,
          769,
          1690,
          545,
          1371,
          1131,
          294,
          1244,
          1091,
          2349,
          795,
          1471,
          1078,
          1180,
          860,
          1631,
          2524,
          612,
          1366,
          928,
          943,
          1198,
          1658,
          1638,
          1923,
          1662,
          733,
          1658,
          904,
          1086,
          1128,
          964,
          1383,
          1174,
          1034,
          1269,
          2525,
          778,
          1682,
          1410,
          1141,
          1538,
          1722,
          882,
          311,
          1092,
          1750,
          612,
          813,
          1179,
          1730,
          1792,
          902,
          1586,
          1529,
          2091,
          1533,
          1572,
          1754,
          815,
          1001,
          1157,
          1319,
          746,
          1080,
          745,
          2157,
          1597,
          877,
          2034,
          1991,
          964,
          564,
          882,
          664,
          1073,
          1149,
          968,
          1338,
          969,
          1179,
          1921,
          1797,
          914,
          1502,
          882,
          1428,
          1052,
          557,
          1401,
          1323,
          1217,
          1536,
          581,
          928,
          424,
          960,
          1555,
          656,
          1049,
          835,
          1596,
          1828,
          946,
          450,
          1702,
          820,
          2126,
          2069,
          732,
          801,
          277,
          1490,
          1564,
          1815,
          416,
          1280,
          1336,
          1512,
          1089,
          1173,
          816,
          561,
          2092,
          1544,
          1012,
          1766,
          823,
          1371,
          415,
          1958,
          895,
          1464,
          1941,
          1305,
          1260,
          1109,
          1665,
          1392,
          1211,
          1575,
          527,
          1615,
          1034,
          1244,
          1174,
          1455,
          602,
          1366,
          1001,
          350,
          1216,
          1367,
          2053,
          1376,
          1264,
          497,
          2006,
          1021,
          1013,
          1631,
          1822,
          1282,
          1931,
          8,
          798,
          1782,
          274,
          1701,
          312,
          1092,
          1479,
          568,
          873,
          2043,
          1893,
          907,
          1644,
          704,
          849,
          1147,
          1623,
          470,
          1438,
          653,
          1049,
          1341,
          1241
         ],
         "xaxis": "x",
         "y": [
          71613,
          55635,
          63033,
          84618,
          67353,
          80011,
          79941,
          82582,
          66373,
          70287,
          75777,
          66653,
          74854,
          75251,
          75825,
          81361,
          79593,
          51813,
          85693,
          52413,
          89058,
          77298,
          68126,
          86037,
          90765,
          101970,
          79607,
          61331,
          73448,
          62981,
          92859,
          65104,
          68352,
          59809,
          74165,
          157243,
          66951,
          80427,
          74068,
          66973,
          69661,
          75922,
          63693,
          102160,
          70951,
          69508,
          72460,
          77622,
          63887,
          51369,
          79930,
          73455,
          73687,
          80134,
          67546,
          65176,
          102692,
          69674,
          72940,
          77882,
          69867,
          63841,
          51369,
          82497,
          68627,
          80950,
          70893,
          66503,
          64795,
          62204,
          75693,
          83003,
          68655,
          84835,
          71952,
          69759,
          72099,
          60000,
          68462,
          54803,
          52614,
          63810,
          66426,
          90300,
          74293,
          70777,
          68682,
          53858,
          80134,
          91065,
          82584,
          92910,
          75433,
          61314,
          67272,
          56796,
          65991,
          66582,
          61456,
          56937,
          83151,
          78825,
          65104,
          60093,
          58308,
          59432,
          78642,
          64355,
          65665,
          81217,
          60152,
          81169,
          73454,
          61839,
          72679,
          76982,
          84169,
          54058,
          54880,
          79908,
          81741,
          71499,
          66565,
          61996,
          92163,
          162397,
          84196,
          69084,
          83917,
          73691,
          105471,
          78710,
          67445,
          153924,
          58330,
          59247,
          66731,
          77353,
          52614,
          70337,
          65295,
          68118,
          68743,
          65777,
          66476,
          86857,
          160803,
          77845,
          69476,
          61209,
          78901,
          71427,
          71022,
          90247,
          71952,
          55250,
          76618,
          58710,
          74806,
          75012,
          89891,
          66373,
          89694,
          67432,
          62882,
          71163,
          83443,
          58330,
          80952,
          75507,
          62220,
          58512,
          79146,
          78285,
          74985,
          67430,
          72063,
          72258,
          71466,
          73926,
          59666,
          72504,
          73170,
          91820,
          65685,
          76412,
          81702,
          56628,
          81205,
          55284,
          60474,
          55357,
          53172,
          70123,
          62450,
          61346,
          42835,
          86857,
          82072,
          68092,
          76630,
          55260,
          54137,
          66825,
          85072,
          75114,
          95529,
          73113,
          84169,
          72354,
          83033,
          77583,
          74293,
          68397,
          79632,
          71796,
          67536,
          55239,
          60554,
          82025,
          51563,
          68274,
          70647,
          92955,
          84219,
          80573,
          63693,
          82170,
          75759,
          64449,
          75437,
          52845,
          95169,
          77568,
          74538,
          91700,
          68695,
          79593,
          70596,
          67605,
          83528,
          67023,
          70713,
          87171,
          66294,
          75345,
          54233,
          85844,
          61825,
          56775,
          83829,
          71819,
          70566,
          86358,
          85606,
          72903,
          68142,
          83145,
          56715,
          80685,
          62710,
          81657,
          74214,
          54386,
          90638,
          78579,
          67369,
          63841,
          70091,
          78075,
          84618,
          77044,
          74918,
          61559,
          68682,
          64722,
          84906,
          65106,
          69969,
          77766,
          74716,
          68118,
          74190,
          76653,
          90687,
          73450,
          83829,
          64191,
          66303,
          71847,
          78687,
          83151,
          52531,
          57811,
          157733,
          71626,
          60894,
          81051,
          65169,
          59868,
          88097,
          71853,
          62061,
          70515,
          69109,
          69627,
          80695,
          53034,
          57338,
          56243,
          75507,
          63841,
          65685,
          80134,
          57537,
          63810,
          92533,
          70844,
          70038,
          68695,
          93790,
          49476,
          67419,
          94871,
          60474,
          70379,
          79419,
          87679,
          57867,
          68487,
          63206,
          78931,
          84219,
          73538,
          79529,
          87188,
          69930,
          58597,
          74004,
          69283,
          71969,
          59235,
          74881,
          65819,
          67445,
          70179,
          63972,
          90638,
          81361,
          75794,
          76445,
          71855,
          68655,
          64509,
          55434,
          57100,
          47111,
          64140,
          56386,
          58684,
          57136,
          157146,
          72066,
          64892,
          69084,
          77766,
          80141,
          69016,
          70440,
          78789,
          56534,
          58350,
          81217,
          61787,
          86580,
          61064,
          64813,
          83512,
          80398,
          55424,
          92491,
          90273,
          74881,
          79146,
          69901,
          77981,
          72117,
          71853,
          70596,
          64590,
          77298,
          78416,
          75702,
          63159,
          79734,
          63207,
          63967,
          78394,
          80336,
          86836,
          72159,
          82733,
          74290,
          70116,
          54006,
          69063,
          61825,
          70886,
          69109,
          60208,
          69932,
          33051,
          70300,
          70643,
          62772,
          52413,
          86979,
          76532,
          67546,
          88420,
          61671,
          69719,
          113734,
          67384,
          80573,
          77870,
          57107,
          70617,
          64849,
          73356,
          72570,
          63211,
          83891,
          56939,
          72335,
          96843,
          70053,
          71670,
          64474,
          85738,
          53201,
          72968,
          79205,
          63684,
          96876,
          71322,
          55914,
          75330,
          61416,
          83273,
          65308,
          76467,
          55801,
          71128,
          70179,
          70038,
          67445,
          69520,
          64713,
          68487,
          56796,
          71322,
          79244,
          80144,
          81929,
          76068,
          78128,
          72967,
          82332,
          44953,
          66476,
          84906,
          82333,
          65220,
          72309,
          156924,
          65333,
          69209,
          59686,
          60896,
          62994,
          91172,
          90000,
          69263,
          60934,
          79174,
          81380,
          76234,
          89616,
          57731,
          73807,
          61014,
          88325,
          58025,
          75777,
          63777,
          44802,
          61223,
          56981
         ],
         "yaxis": "y"
        },
        {
         "customdata": [
          [
           30,
           "Graduation",
           "Coupled"
          ],
          [
           36,
           "Basic",
           "Coupled"
          ],
          [
           25,
           "Graduation",
           "Coupled"
          ],
          [
           32,
           "Graduation",
           "Coupled"
          ],
          [
           27,
           "2n Cycle",
           "Single"
          ],
          [
           30,
           "Graduation",
           "Coupled"
          ],
          [
           34,
           "Graduation",
           "Coupled"
          ],
          [
           44,
           "Graduation",
           "Single"
          ],
          [
           37,
           "Graduation",
           "Coupled"
          ],
          [
           24,
           "Graduation",
           "Coupled"
          ],
          [
           42,
           "Graduation",
           "Coupled"
          ],
          [
           37,
           "2n Cycle",
           "Coupled"
          ],
          [
           41,
           "Graduation",
           "Single"
          ],
          [
           16,
           "2n Cycle",
           "Coupled"
          ],
          [
           36,
           "Graduation",
           "Single"
          ],
          [
           26,
           "Graduation",
           "Single"
          ],
          [
           42,
           "Graduation",
           "Coupled"
          ],
          [
           35,
           "2n Cycle",
           "Single"
          ],
          [
           35,
           "Graduation",
           "Single"
          ],
          [
           37,
           "2n Cycle",
           "Coupled"
          ],
          [
           27,
           "Graduation",
           "Single"
          ],
          [
           44,
           "Graduation",
           "Coupled"
          ],
          [
           40,
           "2n Cycle",
           "Coupled"
          ],
          [
           31,
           "Graduation",
           "Coupled"
          ],
          [
           62,
           "2n Cycle",
           "Coupled"
          ],
          [
           53,
           "2n Cycle",
           "Single"
          ],
          [
           34,
           "Basic",
           "Coupled"
          ],
          [
           34,
           "Graduation",
           "Single"
          ],
          [
           35,
           "2n Cycle",
           "Coupled"
          ],
          [
           46,
           "2n Cycle",
           "Coupled"
          ],
          [
           44,
           "Graduation",
           "Coupled"
          ],
          [
           37,
           "Graduation",
           "Single"
          ],
          [
           48,
           "2n Cycle",
           "Coupled"
          ],
          [
           36,
           "Basic",
           "Single"
          ],
          [
           25,
           "Graduation",
           "Coupled"
          ],
          [
           37,
           "Graduation",
           "Coupled"
          ],
          [
           32,
           "Graduation",
           "Coupled"
          ],
          [
           39,
           "2n Cycle",
           "Coupled"
          ],
          [
           40,
           "2n Cycle",
           "Coupled"
          ],
          [
           26,
           "Graduation",
           "Single"
          ],
          [
           35,
           "Graduation",
           "Single"
          ],
          [
           36,
           "Graduation",
           "Coupled"
          ],
          [
           30,
           "Graduation",
           "Coupled"
          ],
          [
           31,
           "Graduation",
           "Coupled"
          ],
          [
           62,
           "2n Cycle",
           "Coupled"
          ],
          [
           26,
           "2n Cycle",
           "Coupled"
          ],
          [
           29,
           "Graduation",
           "Coupled"
          ],
          [
           34,
           "Basic",
           "Coupled"
          ],
          [
           25,
           "Graduation",
           "Coupled"
          ],
          [
           40,
           "Graduation",
           "Coupled"
          ],
          [
           36,
           "Graduation",
           "Coupled"
          ],
          [
           25,
           "Graduation",
           "Coupled"
          ],
          [
           37,
           "Graduation",
           "Coupled"
          ],
          [
           36,
           "2n Cycle",
           "Single"
          ],
          [
           26,
           "2n Cycle",
           "Coupled"
          ],
          [
           35,
           "Graduation",
           "Coupled"
          ],
          [
           51,
           "2n Cycle",
           "Single"
          ],
          [
           42,
           "Graduation",
           "Coupled"
          ],
          [
           63,
           "Graduation",
           "Single"
          ],
          [
           38,
           "2n Cycle",
           "Coupled"
          ],
          [
           40,
           "Graduation",
           "Single"
          ],
          [
           42,
           "Graduation",
           "Single"
          ],
          [
           28,
           "Graduation",
           "Single"
          ],
          [
           54,
           "2n Cycle",
           "Coupled"
          ],
          [
           49,
           "Graduation",
           "Single"
          ],
          [
           33,
           "Graduation",
           "Single"
          ],
          [
           43,
           "Graduation",
           "Coupled"
          ],
          [
           50,
           "Graduation",
           "Single"
          ],
          [
           32,
           "Basic",
           "Coupled"
          ],
          [
           39,
           "Graduation",
           "Coupled"
          ],
          [
           29,
           "2n Cycle",
           "Coupled"
          ],
          [
           43,
           "Graduation",
           "Coupled"
          ],
          [
           25,
           "2n Cycle",
           "Single"
          ],
          [
           57,
           "2n Cycle",
           "Coupled"
          ],
          [
           26,
           "Graduation",
           "Single"
          ],
          [
           29,
           "Graduation",
           "Coupled"
          ],
          [
           46,
           "Graduation",
           "Single"
          ],
          [
           38,
           "Graduation",
           "Single"
          ],
          [
           46,
           "Graduation",
           "Coupled"
          ],
          [
           41,
           "Graduation",
           "Coupled"
          ],
          [
           39,
           "Graduation",
           "Coupled"
          ],
          [
           29,
           "Graduation",
           "Coupled"
          ],
          [
           30,
           "Graduation",
           "Single"
          ],
          [
           30,
           "Graduation",
           "Coupled"
          ],
          [
           40,
           "Graduation",
           "Coupled"
          ],
          [
           27,
           "Graduation",
           "Single"
          ],
          [
           40,
           "Basic",
           "Coupled"
          ],
          [
           41,
           "Graduation",
           "Single"
          ],
          [
           35,
           "Graduation",
           "Single"
          ],
          [
           36,
           "Graduation",
           "Coupled"
          ],
          [
           37,
           "Graduation",
           "Single"
          ],
          [
           30,
           "2n Cycle",
           "Coupled"
          ],
          [
           37,
           "Graduation",
           "Coupled"
          ],
          [
           43,
           "Graduation",
           "Single"
          ],
          [
           23,
           "Graduation",
           "Single"
          ],
          [
           44,
           "Graduation",
           "Single"
          ],
          [
           28,
           "Graduation",
           "Coupled"
          ],
          [
           39,
           "2n Cycle",
           "Coupled"
          ],
          [
           42,
           "Graduation",
           "Single"
          ],
          [
           41,
           "Graduation",
           "Coupled"
          ],
          [
           28,
           "Graduation",
           "Coupled"
          ],
          [
           25,
           "Graduation",
           "Single"
          ],
          [
           32,
           "2n Cycle",
           "Coupled"
          ],
          [
           57,
           "2n Cycle",
           "Single"
          ],
          [
           39,
           "Graduation",
           "Single"
          ],
          [
           30,
           "2n Cycle",
           "Single"
          ],
          [
           25,
           "Graduation",
           "Single"
          ],
          [
           38,
           "2n Cycle",
           "Coupled"
          ],
          [
           31,
           "Graduation",
           "Coupled"
          ],
          [
           25,
           "2n Cycle",
           "Coupled"
          ],
          [
           23,
           "Graduation",
           "Coupled"
          ],
          [
           46,
           "2n Cycle",
           "Coupled"
          ],
          [
           44,
           "Graduation",
           "Single"
          ],
          [
           27,
           "2n Cycle",
           "Coupled"
          ],
          [
           24,
           "Graduation",
           "Coupled"
          ],
          [
           23,
           "Graduation",
           "Single"
          ],
          [
           40,
           "2n Cycle",
           "Coupled"
          ],
          [
           54,
           "Graduation",
           "Single"
          ],
          [
           37,
           "Graduation",
           "Coupled"
          ],
          [
           33,
           "2n Cycle",
           "Coupled"
          ],
          [
           40,
           "Graduation",
           "Coupled"
          ],
          [
           46,
           "2n Cycle",
           "Single"
          ],
          [
           30,
           "2n Cycle",
           "Coupled"
          ],
          [
           39,
           "Graduation",
           "Coupled"
          ],
          [
           42,
           "Graduation",
           "Single"
          ],
          [
           33,
           "Graduation",
           "Coupled"
          ],
          [
           35,
           "Graduation",
           "Coupled"
          ],
          [
           26,
           "Graduation",
           "Single"
          ],
          [
           35,
           "Graduation",
           "Coupled"
          ],
          [
           38,
           "Graduation",
           "Single"
          ],
          [
           38,
           "Graduation",
           "Coupled"
          ],
          [
           45,
           "Graduation",
           "Coupled"
          ],
          [
           60,
           "2n Cycle",
           "Single"
          ],
          [
           36,
           "Graduation",
           "Single"
          ],
          [
           36,
           "Graduation",
           "Single"
          ],
          [
           22,
           "Basic",
           "Coupled"
          ],
          [
           21,
           "Graduation",
           "Coupled"
          ],
          [
           23,
           "Graduation",
           "Single"
          ],
          [
           49,
           "Graduation",
           "Single"
          ],
          [
           22,
           "Graduation",
           "Coupled"
          ],
          [
           25,
           "Graduation",
           "Coupled"
          ],
          [
           26,
           "Graduation",
           "Coupled"
          ],
          [
           38,
           "2n Cycle",
           "Single"
          ],
          [
           31,
           "Graduation",
           "Single"
          ],
          [
           61,
           "2n Cycle",
           "Coupled"
          ],
          [
           36,
           "2n Cycle",
           "Coupled"
          ],
          [
           43,
           "Graduation",
           "Single"
          ],
          [
           24,
           "2n Cycle",
           "Coupled"
          ],
          [
           33,
           "Graduation",
           "Coupled"
          ],
          [
           46,
           "Graduation",
           "Coupled"
          ],
          [
           51,
           "2n Cycle",
           "Single"
          ],
          [
           25,
           "Graduation",
           "Single"
          ],
          [
           43,
           "2n Cycle",
           "Coupled"
          ],
          [
           35,
           "Graduation",
           "Coupled"
          ],
          [
           44,
           "2n Cycle",
           "Coupled"
          ],
          [
           34,
           "Graduation",
           "Single"
          ],
          [
           42,
           "Graduation",
           "Coupled"
          ],
          [
           38,
           "Graduation",
           "Coupled"
          ],
          [
           35,
           "2n Cycle",
           "Single"
          ],
          [
           43,
           "Graduation",
           "Coupled"
          ],
          [
           46,
           "2n Cycle",
           "Coupled"
          ],
          [
           31,
           "Graduation",
           "Coupled"
          ],
          [
           43,
           "2n Cycle",
           "Coupled"
          ],
          [
           37,
           "Graduation",
           "Coupled"
          ],
          [
           43,
           "Graduation",
           "Single"
          ],
          [
           35,
           "2n Cycle",
           "Coupled"
          ],
          [
           31,
           "Graduation",
           "Coupled"
          ],
          [
           52,
           "Graduation",
           "Single"
          ],
          [
           41,
           "Graduation",
           "Single"
          ],
          [
           57,
           "Graduation",
           "Single"
          ],
          [
           37,
           "Basic",
           "Coupled"
          ],
          [
           39,
           "Basic",
           "Coupled"
          ],
          [
           46,
           "Graduation",
           "Coupled"
          ],
          [
           39,
           "Graduation",
           "Coupled"
          ],
          [
           35,
           "Graduation",
           "Single"
          ],
          [
           42,
           "Graduation",
           "Single"
          ],
          [
           35,
           "2n Cycle",
           "Single"
          ],
          [
           58,
           "2n Cycle",
           "Coupled"
          ],
          [
           37,
           "Graduation",
           "Coupled"
          ],
          [
           35,
           "Graduation",
           "Single"
          ],
          [
           44,
           "2n Cycle",
           "Coupled"
          ],
          [
           54,
           "2n Cycle",
           "Single"
          ],
          [
           27,
           "Graduation",
           "Coupled"
          ],
          [
           54,
           "2n Cycle",
           "Coupled"
          ],
          [
           28,
           "Graduation",
           "Coupled"
          ],
          [
           32,
           "Basic",
           "Coupled"
          ],
          [
           26,
           "Basic",
           "Single"
          ],
          [
           42,
           "2n Cycle",
           "Coupled"
          ],
          [
           40,
           "Graduation",
           "Coupled"
          ],
          [
           28,
           "2n Cycle",
           "Coupled"
          ],
          [
           31,
           "2n Cycle",
           "Coupled"
          ],
          [
           19,
           "Graduation",
           "Single"
          ],
          [
           27,
           "Graduation",
           "Coupled"
          ],
          [
           38,
           "Graduation",
           "Single"
          ],
          [
           31,
           "Graduation",
           "Coupled"
          ],
          [
           52,
           "2n Cycle",
           "Single"
          ],
          [
           35,
           "Graduation",
           "Coupled"
          ],
          [
           36,
           "Graduation",
           "Coupled"
          ],
          [
           24,
           "Basic",
           "Coupled"
          ],
          [
           35,
           "2n Cycle",
           "Coupled"
          ],
          [
           38,
           "2n Cycle",
           "Coupled"
          ],
          [
           43,
           "Graduation",
           "Single"
          ],
          [
           60,
           "2n Cycle",
           "Coupled"
          ],
          [
           35,
           "2n Cycle",
           "Coupled"
          ],
          [
           32,
           "2n Cycle",
           "Coupled"
          ],
          [
           48,
           "2n Cycle",
           "Coupled"
          ],
          [
           41,
           "Graduation",
           "Coupled"
          ],
          [
           38,
           "Graduation",
           "Coupled"
          ],
          [
           44,
           "Graduation",
           "Single"
          ],
          [
           42,
           "Graduation",
           "Coupled"
          ],
          [
           41,
           "Graduation",
           "Coupled"
          ],
          [
           26,
           "Basic",
           "Coupled"
          ],
          [
           36,
           "Graduation",
           "Single"
          ],
          [
           63,
           "Graduation",
           "Single"
          ],
          [
           35,
           "Graduation",
           "Coupled"
          ],
          [
           47,
           "2n Cycle",
           "Single"
          ],
          [
           45,
           "Graduation",
           "Coupled"
          ],
          [
           32,
           "Graduation",
           "Coupled"
          ],
          [
           41,
           "Graduation",
           "Single"
          ],
          [
           38,
           "Graduation",
           "Coupled"
          ],
          [
           35,
           "2n Cycle",
           "Coupled"
          ],
          [
           41,
           "Graduation",
           "Coupled"
          ],
          [
           54,
           "2n Cycle",
           "Single"
          ],
          [
           51,
           "Graduation",
           "Single"
          ],
          [
           30,
           "Graduation",
           "Coupled"
          ],
          [
           20,
           "Graduation",
           "Single"
          ],
          [
           33,
           "2n Cycle",
           "Coupled"
          ],
          [
           33,
           "2n Cycle",
           "Single"
          ],
          [
           38,
           "Graduation",
           "Coupled"
          ],
          [
           26,
           "Graduation",
           "Single"
          ],
          [
           31,
           "Graduation",
           "Coupled"
          ],
          [
           53,
           "2n Cycle",
           "Coupled"
          ],
          [
           21,
           "2n Cycle",
           "Single"
          ],
          [
           33,
           "Graduation",
           "Coupled"
          ],
          [
           39,
           "Graduation",
           "Single"
          ],
          [
           55,
           "2n Cycle",
           "Coupled"
          ],
          [
           24,
           "2n Cycle",
           "Coupled"
          ],
          [
           45,
           "Graduation",
           "Coupled"
          ],
          [
           26,
           "Graduation",
           "Coupled"
          ],
          [
           23,
           "2n Cycle",
           "Coupled"
          ],
          [
           38,
           "2n Cycle",
           "Single"
          ],
          [
           33,
           "Graduation",
           "Coupled"
          ],
          [
           38,
           "Graduation",
           "Coupled"
          ],
          [
           33,
           "2n Cycle",
           "Single"
          ],
          [
           30,
           "Graduation",
           "Coupled"
          ],
          [
           35,
           "2n Cycle",
           "Coupled"
          ],
          [
           42,
           "Graduation",
           "Single"
          ],
          [
           37,
           "Graduation",
           "Coupled"
          ],
          [
           38,
           "Graduation",
           "Single"
          ],
          [
           33,
           "2n Cycle",
           "Coupled"
          ],
          [
           40,
           "Graduation",
           "Coupled"
          ],
          [
           23,
           "Basic",
           "Single"
          ],
          [
           27,
           "Graduation",
           "Single"
          ],
          [
           42,
           "Graduation",
           "Single"
          ],
          [
           40,
           "Graduation",
           "Coupled"
          ],
          [
           59,
           "2n Cycle",
           "Single"
          ],
          [
           31,
           "2n Cycle",
           "Single"
          ],
          [
           25,
           "Graduation",
           "Single"
          ],
          [
           23,
           "Basic",
           "Coupled"
          ],
          [
           61,
           "2n Cycle",
           "Single"
          ],
          [
           26,
           "Basic",
           "Single"
          ],
          [
           32,
           "2n Cycle",
           "Coupled"
          ],
          [
           36,
           "Graduation",
           "Coupled"
          ],
          [
           37,
           "2n Cycle",
           "Single"
          ],
          [
           34,
           "Graduation",
           "Coupled"
          ],
          [
           39,
           "Graduation",
           "Coupled"
          ],
          [
           32,
           "Graduation",
           "Coupled"
          ],
          [
           24,
           "2n Cycle",
           "Coupled"
          ],
          [
           54,
           "2n Cycle",
           "Single"
          ],
          [
           53,
           "2n Cycle",
           "Single"
          ],
          [
           49,
           "Graduation",
           "Single"
          ],
          [
           37,
           "2n Cycle",
           "Single"
          ],
          [
           40,
           "2n Cycle",
           "Coupled"
          ],
          [
           19,
           "Graduation",
           "Single"
          ],
          [
           32,
           "2n Cycle",
           "Coupled"
          ],
          [
           26,
           "Graduation",
           "Coupled"
          ],
          [
           46,
           "Graduation",
           "Coupled"
          ],
          [
           35,
           "Graduation",
           "Single"
          ],
          [
           49,
           "2n Cycle",
           "Coupled"
          ],
          [
           40,
           "Graduation",
           "Coupled"
          ],
          [
           37,
           "Graduation",
           "Single"
          ],
          [
           41,
           "Graduation",
           "Coupled"
          ],
          [
           34,
           "Graduation",
           "Coupled"
          ],
          [
           35,
           "Graduation",
           "Single"
          ],
          [
           26,
           "Basic",
           "Single"
          ],
          [
           48,
           "2n Cycle",
           "Coupled"
          ],
          [
           36,
           "2n Cycle",
           "Coupled"
          ],
          [
           32,
           "Graduation",
           "Single"
          ],
          [
           21,
           "Graduation",
           "Single"
          ],
          [
           27,
           "Graduation",
           "Coupled"
          ],
          [
           28,
           "Graduation",
           "Coupled"
          ],
          [
           49,
           "2n Cycle",
           "Coupled"
          ],
          [
           43,
           "2n Cycle",
           "Single"
          ],
          [
           38,
           "Graduation",
           "Coupled"
          ],
          [
           47,
           "2n Cycle",
           "Single"
          ],
          [
           56,
           "Graduation",
           "Single"
          ],
          [
           37,
           "2n Cycle",
           "Coupled"
          ],
          [
           41,
           "Graduation",
           "Coupled"
          ],
          [
           31,
           "Graduation",
           "Coupled"
          ],
          [
           43,
           "Graduation",
           "Single"
          ],
          [
           31,
           "Graduation",
           "Coupled"
          ],
          [
           26,
           "2n Cycle",
           "Single"
          ],
          [
           34,
           "2n Cycle",
           "Coupled"
          ],
          [
           27,
           "Graduation",
           "Coupled"
          ],
          [
           42,
           "Graduation",
           "Coupled"
          ],
          [
           43,
           "2n Cycle",
           "Coupled"
          ],
          [
           40,
           "2n Cycle",
           "Coupled"
          ],
          [
           30,
           "2n Cycle",
           "Single"
          ],
          [
           35,
           "2n Cycle",
           "Coupled"
          ],
          [
           34,
           "Graduation",
           "Single"
          ],
          [
           37,
           "Graduation",
           "Coupled"
          ],
          [
           28,
           "Basic",
           "Single"
          ],
          [
           61,
           "2n Cycle",
           "Single"
          ],
          [
           46,
           "Graduation",
           "Single"
          ],
          [
           36,
           "Graduation",
           "Coupled"
          ],
          [
           40,
           "2n Cycle",
           "Coupled"
          ],
          [
           24,
           "Graduation",
           "Coupled"
          ],
          [
           36,
           "2n Cycle",
           "Single"
          ],
          [
           32,
           "Graduation",
           "Coupled"
          ],
          [
           26,
           "Graduation",
           "Single"
          ],
          [
           33,
           "Graduation",
           "Coupled"
          ],
          [
           37,
           "Graduation",
           "Coupled"
          ],
          [
           45,
           "2n Cycle",
           "Coupled"
          ],
          [
           18,
           "Basic",
           "Coupled"
          ],
          [
           40,
           "2n Cycle",
           "Coupled"
          ],
          [
           34,
           "Basic",
           "Coupled"
          ],
          [
           32,
           "Graduation",
           "Single"
          ],
          [
           43,
           "Graduation",
           "Single"
          ],
          [
           28,
           "Graduation",
           "Single"
          ],
          [
           40,
           "2n Cycle",
           "Coupled"
          ],
          [
           48,
           "2n Cycle",
           "Coupled"
          ],
          [
           51,
           "2n Cycle",
           "Single"
          ],
          [
           36,
           "Graduation",
           "Coupled"
          ],
          [
           33,
           "Graduation",
           "Single"
          ],
          [
           23,
           "Graduation",
           "Coupled"
          ],
          [
           38,
           "Graduation",
           "Single"
          ],
          [
           50,
           "Graduation",
           "Single"
          ],
          [
           26,
           "Basic",
           "Single"
          ],
          [
           40,
           "Graduation",
           "Coupled"
          ],
          [
           56,
           "2n Cycle",
           "Single"
          ],
          [
           32,
           "Graduation",
           "Coupled"
          ],
          [
           26,
           "Graduation",
           "Coupled"
          ],
          [
           42,
           "Graduation",
           "Single"
          ],
          [
           36,
           "Graduation",
           "Single"
          ],
          [
           30,
           "Graduation",
           "Coupled"
          ],
          [
           24,
           "Graduation",
           "Coupled"
          ],
          [
           30,
           "Basic",
           "Single"
          ],
          [
           43,
           "Graduation",
           "Single"
          ],
          [
           20,
           "Basic",
           "Single"
          ],
          [
           57,
           "2n Cycle",
           "Coupled"
          ],
          [
           38,
           "Graduation",
           "Coupled"
          ],
          [
           43,
           "Graduation",
           "Coupled"
          ],
          [
           56,
           "2n Cycle",
           "Single"
          ],
          [
           40,
           "Graduation",
           "Single"
          ],
          [
           38,
           "Graduation",
           "Coupled"
          ],
          [
           41,
           "2n Cycle",
           "Single"
          ],
          [
           43,
           "Graduation",
           "Single"
          ],
          [
           44,
           "2n Cycle",
           "Coupled"
          ],
          [
           42,
           "Graduation",
           "Single"
          ],
          [
           41,
           "2n Cycle",
           "Coupled"
          ],
          [
           34,
           "Graduation",
           "Single"
          ],
          [
           29,
           "2n Cycle",
           "Coupled"
          ],
          [
           43,
           "Graduation",
           "Single"
          ],
          [
           37,
           "Graduation",
           "Coupled"
          ],
          [
           58,
           "2n Cycle",
           "Coupled"
          ],
          [
           25,
           "2n Cycle",
           "Coupled"
          ],
          [
           41,
           "2n Cycle",
           "Coupled"
          ],
          [
           41,
           "Graduation",
           "Coupled"
          ],
          [
           30,
           "Graduation",
           "Coupled"
          ],
          [
           35,
           "Graduation",
           "Single"
          ],
          [
           40,
           "Basic",
           "Coupled"
          ],
          [
           32,
           "Graduation",
           "Coupled"
          ],
          [
           35,
           "Graduation",
           "Coupled"
          ],
          [
           43,
           "Graduation",
           "Coupled"
          ],
          [
           38,
           "Graduation",
           "Coupled"
          ],
          [
           30,
           "Graduation",
           "Single"
          ],
          [
           23,
           "Graduation",
           "Coupled"
          ],
          [
           31,
           "Basic",
           "Single"
          ],
          [
           38,
           "Graduation",
           "Single"
          ],
          [
           54,
           "2n Cycle",
           "Coupled"
          ],
          [
           25,
           "Graduation",
           "Coupled"
          ],
          [
           35,
           "Graduation",
           "Coupled"
          ],
          [
           21,
           "Basic",
           "Coupled"
          ],
          [
           62,
           "2n Cycle",
           "Coupled"
          ],
          [
           36,
           "2n Cycle",
           "Single"
          ],
          [
           37,
           "Graduation",
           "Single"
          ],
          [
           40,
           "Graduation",
           "Coupled"
          ],
          [
           53,
           "2n Cycle",
           "Coupled"
          ],
          [
           28,
           "Graduation",
           "Coupled"
          ],
          [
           57,
           "2n Cycle",
           "Coupled"
          ],
          [
           39,
           "Graduation",
           "Coupled"
          ],
          [
           37,
           "2n Cycle",
           "Coupled"
          ],
          [
           32,
           "Graduation",
           "Coupled"
          ],
          [
           40,
           "Graduation",
           "Coupled"
          ],
          [
           37,
           "2n Cycle",
           "Single"
          ],
          [
           40,
           "Graduation",
           "Single"
          ],
          [
           42,
           "Graduation",
           "Single"
          ],
          [
           23,
           "Graduation",
           "Single"
          ],
          [
           42,
           "Graduation",
           "Coupled"
          ],
          [
           41,
           "Graduation",
           "Coupled"
          ],
          [
           41,
           "2n Cycle",
           "Single"
          ],
          [
           43,
           "Graduation",
           "Coupled"
          ],
          [
           56,
           "2n Cycle",
           "Single"
          ],
          [
           41,
           "Graduation",
           "Single"
          ],
          [
           41,
           "2n Cycle",
           "Single"
          ],
          [
           40,
           "Graduation",
           "Single"
          ],
          [
           34,
           "2n Cycle",
           "Coupled"
          ],
          [
           27,
           "2n Cycle",
           "Coupled"
          ],
          [
           30,
           "Graduation",
           "Coupled"
          ],
          [
           33,
           "Graduation",
           "Coupled"
          ],
          [
           41,
           "2n Cycle",
           "Coupled"
          ],
          [
           41,
           "2n Cycle",
           "Coupled"
          ],
          [
           41,
           "Graduation",
           "Coupled"
          ],
          [
           41,
           "Graduation",
           "Single"
          ],
          [
           41,
           "Graduation",
           "Coupled"
          ],
          [
           36,
           "Graduation",
           "Coupled"
          ],
          [
           43,
           "2n Cycle",
           "Coupled"
          ],
          [
           36,
           "Graduation",
           "Coupled"
          ],
          [
           47,
           "Graduation",
           "Single"
          ],
          [
           32,
           "2n Cycle",
           "Coupled"
          ],
          [
           33,
           "Graduation",
           "Coupled"
          ],
          [
           36,
           "2n Cycle",
           "Coupled"
          ],
          [
           23,
           "Graduation",
           "Coupled"
          ],
          [
           36,
           "Graduation",
           "Single"
          ],
          [
           41,
           "2n Cycle",
           "Single"
          ],
          [
           35,
           "Graduation",
           "Coupled"
          ],
          [
           37,
           "2n Cycle",
           "Coupled"
          ],
          [
           36,
           "2n Cycle",
           "Coupled"
          ],
          [
           34,
           "Graduation",
           "Single"
          ],
          [
           35,
           "Graduation",
           "Coupled"
          ],
          [
           42,
           "Graduation",
           "Single"
          ],
          [
           38,
           "Graduation",
           "Single"
          ],
          [
           40,
           "Graduation",
           "Single"
          ],
          [
           37,
           "2n Cycle",
           "Coupled"
          ],
          [
           55,
           "2n Cycle",
           "Coupled"
          ],
          [
           24,
           "2n Cycle",
           "Coupled"
          ],
          [
           24,
           "2n Cycle",
           "Single"
          ],
          [
           24,
           "Graduation",
           "Single"
          ],
          [
           25,
           "Graduation",
           "Coupled"
          ],
          [
           26,
           "2n Cycle",
           "Coupled"
          ],
          [
           49,
           "Graduation",
           "Single"
          ],
          [
           38,
           "2n Cycle",
           "Coupled"
          ],
          [
           49,
           "2n Cycle",
           "Coupled"
          ],
          [
           37,
           "Graduation",
           "Single"
          ],
          [
           52,
           "Graduation",
           "Single"
          ],
          [
           30,
           "Graduation",
           "Coupled"
          ],
          [
           24,
           "Graduation",
           "Coupled"
          ],
          [
           29,
           "Graduation",
           "Coupled"
          ],
          [
           35,
           "Graduation",
           "Coupled"
          ],
          [
           32,
           "Graduation",
           "Coupled"
          ],
          [
           21,
           "Graduation",
           "Coupled"
          ],
          [
           33,
           "Graduation",
           "Coupled"
          ],
          [
           24,
           "Basic",
           "Coupled"
          ],
          [
           29,
           "Graduation",
           "Single"
          ],
          [
           23,
           "2n Cycle",
           "Single"
          ],
          [
           34,
           "2n Cycle",
           "Coupled"
          ],
          [
           38,
           "Graduation",
           "Single"
          ],
          [
           36,
           "Graduation",
           "Coupled"
          ],
          [
           30,
           "Graduation",
           "Coupled"
          ],
          [
           42,
           "Graduation",
           "Coupled"
          ],
          [
           30,
           "2n Cycle",
           "Coupled"
          ],
          [
           32,
           "Graduation",
           "Coupled"
          ],
          [
           37,
           "2n Cycle",
           "Coupled"
          ],
          [
           35,
           "Graduation",
           "Coupled"
          ],
          [
           34,
           "Basic",
           "Coupled"
          ],
          [
           33,
           "2n Cycle",
           "Coupled"
          ],
          [
           32,
           "Graduation",
           "Coupled"
          ],
          [
           49,
           "Graduation",
           "Single"
          ],
          [
           41,
           "2n Cycle",
           "Coupled"
          ],
          [
           28,
           "2n Cycle",
           "Single"
          ],
          [
           58,
           "2n Cycle",
           "Coupled"
          ],
          [
           21,
           "2n Cycle",
           "Coupled"
          ],
          [
           38,
           "Graduation",
           "Coupled"
          ],
          [
           34,
           "Basic",
           "Single"
          ],
          [
           34,
           "Graduation",
           "Coupled"
          ],
          [
           31,
           "2n Cycle",
           "Single"
          ],
          [
           22,
           "Graduation",
           "Coupled"
          ],
          [
           41,
           "2n Cycle",
           "Coupled"
          ],
          [
           24,
           "Graduation",
           "Single"
          ],
          [
           39,
           "Basic",
           "Coupled"
          ],
          [
           35,
           "Graduation",
           "Coupled"
          ],
          [
           22,
           "Basic",
           "Single"
          ],
          [
           28,
           "Graduation",
           "Coupled"
          ],
          [
           37,
           "Graduation",
           "Coupled"
          ],
          [
           39,
           "Graduation",
           "Coupled"
          ],
          [
           34,
           "Graduation",
           "Coupled"
          ],
          [
           55,
           "2n Cycle",
           "Single"
          ],
          [
           30,
           "Graduation",
           "Coupled"
          ],
          [
           38,
           "Graduation",
           "Coupled"
          ],
          [
           34,
           "2n Cycle",
           "Single"
          ],
          [
           41,
           "Graduation",
           "Single"
          ],
          [
           34,
           "Basic",
           "Single"
          ],
          [
           49,
           "2n Cycle",
           "Coupled"
          ],
          [
           34,
           "2n Cycle",
           "Single"
          ],
          [
           27,
           "2n Cycle",
           "Coupled"
          ],
          [
           27,
           "Graduation",
           "Single"
          ],
          [
           29,
           "2n Cycle",
           "Coupled"
          ],
          [
           33,
           "Basic",
           "Single"
          ],
          [
           42,
           "Graduation",
           "Coupled"
          ],
          [
           39,
           "Graduation",
           "Coupled"
          ],
          [
           30,
           "Graduation",
           "Coupled"
          ],
          [
           33,
           "2n Cycle",
           "Coupled"
          ],
          [
           51,
           "2n Cycle",
           "Coupled"
          ],
          [
           38,
           "Graduation",
           "Single"
          ],
          [
           33,
           "2n Cycle",
           "Coupled"
          ],
          [
           49,
           "Graduation",
           "Single"
          ],
          [
           31,
           "2n Cycle",
           "Coupled"
          ],
          [
           34,
           "2n Cycle",
           "Coupled"
          ],
          [
           44,
           "Graduation",
           "Coupled"
          ],
          [
           26,
           "Graduation",
           "Single"
          ],
          [
           40,
           "Graduation",
           "Coupled"
          ],
          [
           36,
           "Graduation",
           "Coupled"
          ],
          [
           34,
           "Graduation",
           "Coupled"
          ],
          [
           57,
           "2n Cycle",
           "Coupled"
          ],
          [
           23,
           "Graduation",
           "Coupled"
          ],
          [
           26,
           "Graduation",
           "Single"
          ],
          [
           17,
           "2n Cycle",
           "Single"
          ],
          [
           38,
           "Graduation",
           "Coupled"
          ],
          [
           38,
           "2n Cycle",
           "Single"
          ],
          [
           30,
           "Graduation",
           "Single"
          ],
          [
           37,
           "2n Cycle",
           "Coupled"
          ],
          [
           42,
           "Graduation",
           "Single"
          ],
          [
           27,
           "2n Cycle",
           "Single"
          ],
          [
           31,
           "Graduation",
           "Coupled"
          ],
          [
           28,
           "Graduation",
           "Coupled"
          ],
          [
           34,
           "Basic",
           "Coupled"
          ],
          [
           31,
           "Graduation",
           "Single"
          ],
          [
           42,
           "Graduation",
           "Single"
          ],
          [
           28,
           "Graduation",
           "Coupled"
          ],
          [
           54,
           "2n Cycle",
           "Coupled"
          ],
          [
           23,
           "Graduation",
           "Coupled"
          ],
          [
           37,
           "Graduation",
           "Single"
          ],
          [
           37,
           "2n Cycle",
           "Single"
          ],
          [
           42,
           "2n Cycle",
           "Coupled"
          ],
          [
           37,
           "2n Cycle",
           "Coupled"
          ],
          [
           40,
           "Graduation",
           "Coupled"
          ],
          [
           35,
           "Graduation",
           "Single"
          ],
          [
           45,
           "Graduation",
           "Single"
          ],
          [
           38,
           "Graduation",
           "Coupled"
          ],
          [
           36,
           "Graduation",
           "Coupled"
          ],
          [
           31,
           "Graduation",
           "Single"
          ],
          [
           42,
           "Graduation",
           "Coupled"
          ],
          [
           38,
           "Graduation",
           "Coupled"
          ],
          [
           42,
           "2n Cycle",
           "Coupled"
          ],
          [
           44,
           "Graduation",
           "Coupled"
          ],
          [
           49,
           "2n Cycle",
           "Coupled"
          ],
          [
           35,
           "Graduation",
           "Coupled"
          ],
          [
           29,
           "Graduation",
           "Coupled"
          ],
          [
           35,
           "Graduation",
           "Coupled"
          ],
          [
           22,
           "Graduation",
           "Coupled"
          ],
          [
           27,
           "Graduation",
           "Coupled"
          ],
          [
           34,
           "2n Cycle",
           "Coupled"
          ],
          [
           34,
           "2n Cycle",
           "Single"
          ],
          [
           43,
           "Graduation",
           "Single"
          ],
          [
           42,
           "Graduation",
           "Coupled"
          ],
          [
           48,
           "Graduation",
           "Single"
          ],
          [
           36,
           "Graduation",
           "Coupled"
          ],
          [
           27,
           "Graduation",
           "Single"
          ],
          [
           32,
           "Basic",
           "Coupled"
          ],
          [
           38,
           "2n Cycle",
           "Coupled"
          ],
          [
           30,
           "Graduation",
           "Coupled"
          ],
          [
           46,
           "Graduation",
           "Coupled"
          ],
          [
           63,
           "Graduation",
           "Single"
          ],
          [
           40,
           "Graduation",
           "Coupled"
          ],
          [
           36,
           "Graduation",
           "Coupled"
          ],
          [
           60,
           "Graduation",
           "Single"
          ],
          [
           27,
           "2n Cycle",
           "Coupled"
          ],
          [
           37,
           "Graduation",
           "Coupled"
          ],
          [
           29,
           "Graduation",
           "Coupled"
          ],
          [
           29,
           "Graduation",
           "Coupled"
          ],
          [
           22,
           "Graduation",
           "Single"
          ],
          [
           32,
           "Graduation",
           "Coupled"
          ],
          [
           41,
           "Graduation",
           "Coupled"
          ],
          [
           43,
           "Graduation",
           "Single"
          ],
          [
           66,
           "2n Cycle",
           "Coupled"
          ],
          [
           48,
           "Graduation",
           "Single"
          ],
          [
           35,
           "Graduation",
           "Coupled"
          ],
          [
           30,
           "Graduation",
           "Coupled"
          ],
          [
           34,
           "Graduation",
           "Coupled"
          ],
          [
           44,
           "Graduation",
           "Coupled"
          ],
          [
           39,
           "Graduation",
           "Coupled"
          ],
          [
           20,
           "2n Cycle",
           "Coupled"
          ],
          [
           33,
           "Graduation",
           "Single"
          ],
          [
           28,
           "2n Cycle",
           "Coupled"
          ],
          [
           41,
           "Basic",
           "Coupled"
          ],
          [
           26,
           "Basic",
           "Coupled"
          ],
          [
           32,
           "2n Cycle",
           "Coupled"
          ],
          [
           41,
           "Graduation",
           "Single"
          ],
          [
           37,
           "2n Cycle",
           "Coupled"
          ],
          [
           32,
           "Graduation",
           "Coupled"
          ],
          [
           56,
           "2n Cycle",
           "Coupled"
          ],
          [
           39,
           "Graduation",
           "Coupled"
          ],
          [
           37,
           "Graduation",
           "Single"
          ],
          [
           32,
           "Basic",
           "Coupled"
          ],
          [
           44,
           "Graduation",
           "Single"
          ],
          [
           44,
           "Graduation",
           "Single"
          ],
          [
           40,
           "Graduation",
           "Single"
          ],
          [
           43,
           "Graduation",
           "Coupled"
          ],
          [
           45,
           "Graduation",
           "Single"
          ],
          [
           38,
           "Graduation",
           "Coupled"
          ],
          [
           44,
           "Graduation",
           "Single"
          ],
          [
           31,
           "2n Cycle",
           "Coupled"
          ],
          [
           50,
           "2n Cycle",
           "Single"
          ],
          [
           64,
           "2n Cycle",
           "Single"
          ],
          [
           21,
           "Basic",
           "Single"
          ],
          [
           32,
           "Graduation",
           "Single"
          ],
          [
           43,
           "2n Cycle",
           "Single"
          ],
          [
           39,
           "Graduation",
           "Coupled"
          ],
          [
           35,
           "Basic",
           "Single"
          ],
          [
           57,
           "2n Cycle",
           "Coupled"
          ],
          [
           42,
           "Basic",
           "Coupled"
          ],
          [
           42,
           "Graduation",
           "Single"
          ],
          [
           55,
           "2n Cycle",
           "Coupled"
          ],
          [
           61,
           "Master",
           "Single"
          ],
          [
           40,
           "Graduation",
           "Single"
          ],
          [
           39,
           "Graduation",
           "Coupled"
          ],
          [
           23,
           "Basic",
           "Single"
          ],
          [
           23,
           "Graduation",
           "Coupled"
          ],
          [
           44,
           "Graduation",
           "Single"
          ],
          [
           58,
           "2n Cycle",
           "Single"
          ],
          [
           17,
           "2n Cycle",
           "Single"
          ],
          [
           37,
           "Graduation",
           "Coupled"
          ],
          [
           30,
           "Graduation",
           "Coupled"
          ],
          [
           35,
           "Graduation",
           "Coupled"
          ],
          [
           34,
           "2n Cycle",
           "Coupled"
          ],
          [
           42,
           "Graduation",
           "Coupled"
          ],
          [
           29,
           "Graduation",
           "Single"
          ],
          [
           26,
           "Graduation",
           "Single"
          ],
          [
           39,
           "Graduation",
           "Coupled"
          ]
         ],
         "hovertemplate": "Cluster=0<br>TotalSpend=%{x}<br>Income=%{y}<br>Age=%{customdata[0]}<br>Education=%{customdata[1]}<br>Rel_Status=%{customdata[2]}<extra></extra>",
         "legendgroup": "0",
         "marker": {
          "color": "#ab63fa",
          "symbol": "circle"
         },
         "mode": "markers",
         "name": "0",
         "showlegend": true,
         "type": "scattergl",
         "x": [
          53,
          61,
          46,
          96,
          133,
          316,
          1730,
          75,
          257,
          131,
          120,
          81,
          67,
          122,
          72,
          29,
          34,
          1274,
          13,
          18,
          165,
          16,
          79,
          45,
          978,
          72,
          29,
          145,
          577,
          81,
          33,
          43,
          559,
          29,
          312,
          68,
          22,
          211,
          429,
          89,
          18,
          162,
          121,
          57,
          978,
          57,
          50,
          80,
          91,
          315,
          31,
          53,
          482,
          17,
          114,
          189,
          1588,
          22,
          19,
          69,
          57,
          26,
          26,
          210,
          44,
          31,
          67,
          99,
          102,
          70,
          52,
          68,
          32,
          728,
          273,
          66,
          107,
          53,
          37,
          102,
          30,
          37,
          23,
          33,
          62,
          139,
          18,
          44,
          49,
          57,
          51,
          30,
          254,
          81,
          37,
          51,
          22,
          211,
          41,
          186,
          47,
          27,
          96,
          64,
          163,
          79,
          369,
          78,
          45,
          43,
          684,
          1082,
          57,
          36,
          34,
          37,
          34,
          20,
          48,
          431,
          348,
          2059,
          1289,
          120,
          15,
          17,
          44,
          25,
          506,
          296,
          266,
          20,
          205,
          309,
          43,
          263,
          137,
          42,
          52,
          358,
          210,
          42,
          521,
          46,
          232,
          54,
          201,
          41,
          134,
          69,
          54,
          91,
          64,
          78,
          889,
          21,
          17,
          369,
          177,
          49,
          47,
          55,
          63,
          49,
          67,
          63,
          79,
          42,
          67,
          28,
          45,
          37,
          37,
          373,
          42,
          95,
          33,
          981,
          36,
          191,
          889,
          93,
          48,
          210,
          22,
          74,
          59,
          198,
          11,
          172,
          467,
          23,
          18,
          112,
          233,
          1152,
          48,
          71,
          18,
          109,
          38,
          28,
          1215,
          1006,
          66,
          183,
          81,
          29,
          25,
          24,
          38,
          57,
          377,
          50,
          270,
          1071,
          60,
          72,
          48,
          20,
          55,
          55,
          1576,
          36,
          22,
          680,
          50,
          46,
          290,
          89,
          70,
          1066,
          1345,
          53,
          368,
          1853,
          1062,
          40,
          15,
          341,
          369,
          69,
          45,
          182,
          156,
          128,
          86,
          68,
          16,
          55,
          83,
          14,
          84,
          28,
          67,
          350,
          2052,
          125,
          32,
          1120,
          66,
          683,
          50,
          995,
          231,
          93,
          662,
          92,
          491,
          23,
          6,
          1315,
          19,
          23,
          724,
          58,
          69,
          279,
          1363,
          39,
          137,
          79,
          58,
          94,
          80,
          1211,
          55,
          313,
          178,
          36,
          497,
          1363,
          56,
          270,
          1826,
          18,
          22,
          357,
          15,
          17,
          23,
          756,
          367,
          443,
          61,
          64,
          562,
          1104,
          635,
          135,
          78,
          24,
          1168,
          15,
          57,
          326,
          74,
          46,
          145,
          27,
          18,
          515,
          75,
          16,
          34,
          75,
          91,
          17,
          24,
          51,
          183,
          1072,
          174,
          31,
          43,
          140,
          114,
          101,
          25,
          789,
          87,
          61,
          189,
          63,
          52,
          34,
          21,
          8,
          119,
          587,
          23,
          84,
          1383,
          246,
          362,
          1229,
          44,
          78,
          26,
          76,
          57,
          37,
          310,
          401,
          820,
          274,
          44,
          102,
          61,
          473,
          50,
          58,
          101,
          316,
          311,
          299,
          85,
          24,
          112,
          30,
          28,
          103,
          62,
          939,
          797,
          415,
          30,
          91,
          68,
          177,
          45,
          22,
          41,
          95,
          72,
          15,
          59,
          209,
          61,
          44,
          817,
          78,
          61,
          449,
          38,
          34,
          48,
          30,
          156,
          65,
          1319,
          690,
          209,
          180,
          77,
          44,
          65,
          175,
          40,
          32,
          46,
          1159,
          75,
          55,
          38,
          436,
          1048,
          73,
          275,
          78,
          106,
          84,
          5,
          1513,
          271,
          103,
          269,
          22,
          72,
          80,
          167,
          23,
          641,
          20,
          102,
          156,
          17,
          92,
          436,
          147,
          137,
          221,
          58,
          339,
          710,
          57,
          270,
          31,
          16,
          77,
          1289,
          54,
          78,
          15,
          29,
          823,
          55,
          117,
          694,
          76,
          981,
          82,
          244,
          36,
          71,
          31,
          67,
          25,
          57,
          103,
          69,
          64,
          497,
          31,
          211,
          11,
          563,
          460,
          369,
          48,
          44,
          38,
          622,
          48,
          55,
          165,
          461,
          47,
          318,
          502,
          119,
          1250,
          1382,
          84,
          823,
          44,
          763,
          1149,
          37,
          99,
          219,
          174,
          92,
          587,
          69,
          34,
          1365,
          13,
          14,
          20,
          2257,
          48,
          43,
          382,
          72,
          80,
          49,
          39,
          70,
          1263,
          85,
          137,
          70,
          909,
          38,
          38,
          42,
          74,
          20,
          45,
          44,
          318,
          434,
          198,
          359,
          576,
          63,
          193,
          263,
          393,
          147,
          809,
          331,
          25,
          115,
          16,
          52,
          165,
          839,
          23,
          66,
          37,
          21,
          22,
          78,
          46,
          100,
          45,
          414,
          79,
          692,
          44,
          467,
          223,
          1208,
          129,
          41,
          98,
          48,
          37,
          176,
          961,
          56,
          51,
          75,
          57,
          57,
          28,
          13,
          132,
          732,
          8,
          43,
          103,
          258,
          25,
          22,
          44,
          94,
          68,
          258,
          66,
          174,
          1565,
          29,
          54,
          1199,
          56,
          69,
          40,
          46,
          59,
          1853,
          35,
          141,
          61,
          106,
          85,
          199,
          521,
          1435,
          32,
          52,
          15,
          53,
          50,
          84,
          22,
          30
         ],
         "xaxis": "x",
         "y": [
          26646,
          7500,
          17323,
          41850,
          33812,
          37040,
          2447,
          18589,
          53359,
          38360,
          40548,
          23718,
          42429,
          7500,
          35790,
          27938,
          25721,
          88194,
          40246,
          26326,
          29760,
          26304,
          23559,
          30096,
          78497,
          47823,
          24594,
          38557,
          36550,
          30753,
          21918,
          30992,
          71488,
          9548,
          41883,
          23957,
          38547,
          35688,
          46344,
          34176,
          60199,
          55375,
          23228,
          28718,
          78497,
          16248,
          25271,
          24882,
          38872,
          51148,
          31353,
          29604,
          41443,
          52195,
          45204,
          42011,
          81975,
          38590,
          15033,
          22212,
          7500,
          22804,
          29938,
          26490,
          18701,
          15287,
          22070,
          33378,
          24480,
          30631,
          32414,
          16626,
          35388,
          58821,
          39747,
          23976,
          27038,
          12571,
          22574,
          40321,
          34421,
          27255,
          24072,
          22010,
          30675,
          41411,
          27190,
          30372,
          38643,
          28442,
          31615,
          35684,
          48178,
          22585,
          30279,
          30822,
          19986,
          35688,
          10245,
          43824,
          15345,
          23442,
          14515,
          31395,
          42373,
          23616,
          46923,
          19789,
          30096,
          10404,
          42387,
          67309,
          30015,
          7500,
          28691,
          30279,
          20130,
          23295,
          24027,
          70829,
          38988,
          89572,
          66664,
          33183,
          31880,
          37406,
          38415,
          20518,
          41124,
          32233,
          43057,
          14045,
          28457,
          46310,
          55563,
          24279,
          34935,
          26095,
          30630,
          42691,
          25545,
          32880,
          47682,
          28567,
          57247,
          25315,
          43638,
          24683,
          47850,
          19514,
          39548,
          21474,
          15315,
          33039,
          62466,
          47691,
          38200,
          44989,
          38593,
          13260,
          47821,
          39453,
          26850,
          33178,
          23910,
          26224,
          31089,
          30081,
          42429,
          26150,
          30801,
          18978,
          22574,
          45837,
          54162,
          31632,
          36975,
          72635,
          13624,
          28769,
          62466,
          32218,
          29103,
          26490,
          19986,
          25965,
          21063,
          54690,
          26751,
          36145,
          41039,
          34824,
          25252,
          33249,
          50272,
          87305,
          25851,
          7500,
          17487,
          38702,
          17003,
          33697,
          63564,
          63855,
          35523,
          46891,
          33622,
          36283,
          20587,
          30467,
          31590,
          20425,
          40780,
          16813,
          51267,
          60161,
          19329,
          26872,
          21359,
          30772,
          25804,
          22063,
          78353,
          37859,
          16529,
          48789,
          25130,
          45889,
          40049,
          34176,
          19419,
          82504,
          61618,
          15072,
          49166,
          82347,
          85710,
          23228,
          7500,
          38683,
          49514,
          30545,
          21675,
          42395,
          39922,
          17117,
          24762,
          35797,
          36627,
          51111,
          31814,
          26868,
          21846,
          45684,
          47889,
          42607,
          74116,
          46107,
          25443,
          64831,
          14906,
          57937,
          39771,
          67893,
          50183,
          33471,
          44010,
          15716,
          59052,
          46779,
          4861,
          79689,
          24884,
          34824,
          56337,
          22434,
          19514,
          30168,
          70924,
          32300,
          20180,
          34961,
          17345,
          28647,
          15038,
          68316,
          31056,
          28071,
          8028,
          34728,
          35196,
          70924,
          25959,
          42557,
          64176,
          22304,
          26907,
          36715,
          40479,
          24163,
          43776,
          80910,
          54210,
          38508,
          30023,
          15315,
          65463,
          81698,
          47025,
          48526,
          46931,
          16581,
          63998,
          25930,
          42693,
          49669,
          37155,
          21282,
          42162,
          26576,
          7500,
          46049,
          48985,
          14421,
          20130,
          23724,
          28510,
          26954,
          22327,
          45894,
          46891,
          59184,
          54809,
          15287,
          18351,
          42160,
          34377,
          8940,
          26228,
          77297,
          40211,
          22518,
          44421,
          41986,
          28427,
          28691,
          25707,
          1730,
          7500,
          62972,
          39356,
          19656,
          85485,
          38808,
          46149,
          49118,
          33986,
          46831,
          22804,
          43050,
          7500,
          23148,
          44267,
          50200,
          74805,
          59060,
          46094,
          40321,
          37235,
          37774,
          18393,
          24711,
          27244,
          48752,
          51948,
          39660,
          18929,
          24367,
          33249,
          26887,
          18227,
          38136,
          17256,
          52203,
          59601,
          47025,
          37971,
          50523,
          21355,
          54342,
          20895,
          26907,
          44964,
          22682,
          41658,
          39996,
          26759,
          34412,
          36026,
          24639,
          65704,
          28164,
          38741,
          31907,
          31163,
          34853,
          31086,
          20491,
          39922,
          21645,
          78041,
          69401,
          46053,
          43300,
          26290,
          16531,
          23162,
          34380,
          34704,
          19414,
          19107,
          75484,
          35765,
          32952,
          31163,
          42014,
          46772,
          20981,
          51766,
          33039,
          27242,
          37697,
          3502,
          57036,
          53083,
          23331,
          23331,
          9255,
          31928,
          30390,
          30983,
          37284,
          76800,
          31859,
          27215,
          39922,
          24645,
          44322,
          42014,
          45203,
          34935,
          34968,
          13724,
          36108,
          51250,
          12393,
          33955,
          31353,
          28359,
          18793,
          66664,
          19444,
          36301,
          22775,
          24594,
          75774,
          22448,
          34213,
          50334,
          41473,
          72635,
          20193,
          27573,
          15862,
          33228,
          24336,
          18222,
          42033,
          18358,
          9722,
          41154,
          18746,
          35196,
          22108,
          44392,
          17688,
          75342,
          37292,
          44989,
          31859,
          30372,
          16014,
          62905,
          13533,
          21955,
          29760,
          65370,
          20194,
          34600,
          49094,
          36075,
          60839,
          82122,
          37697,
          75774,
          18701,
          58582,
          52513,
          25293,
          29236,
          48186,
          54809,
          41580,
          62972,
          30093,
          25008,
          83257,
          22280,
          11448,
          34738,
          82326,
          44503,
          23830,
          42081,
          31158,
          24882,
          22148,
          29819,
          33235,
          92556,
          18929,
          20180,
          31878,
          70932,
          34984,
          25410,
          23763,
          36065,
          29478,
          44359,
          39062,
          34600,
          40794,
          54690,
          4428,
          32632,
          36781,
          24570,
          57113,
          51373,
          23477,
          96547,
          67506,
          24206,
          22979,
          33279,
          30368,
          39146,
          34445,
          37284,
          36790,
          27943,
          22263,
          30261,
          28587,
          23272,
          7500,
          17649,
          40059,
          38680,
          49767,
          29009,
          37150,
          43020,
          81044,
          23478,
          42554,
          31761,
          34350,
          25293,
          27803,
          87000,
          30828,
          14796,
          14188,
          20425,
          27733,
          25818,
          25176,
          43586,
          53230,
          33590,
          30992,
          16005,
          40590,
          20587,
          19346,
          35788,
          36997,
          17148,
          40590,
          32146,
          41713,
          74859,
          15253,
          41967,
          65706,
          26067,
          26487,
          53233,
          25224,
          40851,
          82347,
          8820,
          43322,
          37085,
          16185,
          18929,
          35893,
          41769,
          80617,
          5305,
          28427,
          22775,
          7500,
          24434,
          11012,
          26816,
          34421
         ],
         "yaxis": "y"
        }
       ],
       "layout": {
        "legend": {
         "title": {
          "text": "Cluster"
         },
         "tracegroupgap": 0
        },
        "margin": {
         "t": 60
        },
        "template": {
         "data": {
          "bar": [
           {
            "error_x": {
             "color": "#2a3f5f"
            },
            "error_y": {
             "color": "#2a3f5f"
            },
            "marker": {
             "line": {
              "color": "#E5ECF6",
              "width": 0.5
             },
             "pattern": {
              "fillmode": "overlay",
              "size": 10,
              "solidity": 0.2
             }
            },
            "type": "bar"
           }
          ],
          "barpolar": [
           {
            "marker": {
             "line": {
              "color": "#E5ECF6",
              "width": 0.5
             },
             "pattern": {
              "fillmode": "overlay",
              "size": 10,
              "solidity": 0.2
             }
            },
            "type": "barpolar"
           }
          ],
          "carpet": [
           {
            "aaxis": {
             "endlinecolor": "#2a3f5f",
             "gridcolor": "white",
             "linecolor": "white",
             "minorgridcolor": "white",
             "startlinecolor": "#2a3f5f"
            },
            "baxis": {
             "endlinecolor": "#2a3f5f",
             "gridcolor": "white",
             "linecolor": "white",
             "minorgridcolor": "white",
             "startlinecolor": "#2a3f5f"
            },
            "type": "carpet"
           }
          ],
          "choropleth": [
           {
            "colorbar": {
             "outlinewidth": 0,
             "ticks": ""
            },
            "type": "choropleth"
           }
          ],
          "contour": [
           {
            "colorbar": {
             "outlinewidth": 0,
             "ticks": ""
            },
            "colorscale": [
             [
              0,
              "#0d0887"
             ],
             [
              0.1111111111111111,
              "#46039f"
             ],
             [
              0.2222222222222222,
              "#7201a8"
             ],
             [
              0.3333333333333333,
              "#9c179e"
             ],
             [
              0.4444444444444444,
              "#bd3786"
             ],
             [
              0.5555555555555556,
              "#d8576b"
             ],
             [
              0.6666666666666666,
              "#ed7953"
             ],
             [
              0.7777777777777778,
              "#fb9f3a"
             ],
             [
              0.8888888888888888,
              "#fdca26"
             ],
             [
              1,
              "#f0f921"
             ]
            ],
            "type": "contour"
           }
          ],
          "contourcarpet": [
           {
            "colorbar": {
             "outlinewidth": 0,
             "ticks": ""
            },
            "type": "contourcarpet"
           }
          ],
          "heatmap": [
           {
            "colorbar": {
             "outlinewidth": 0,
             "ticks": ""
            },
            "colorscale": [
             [
              0,
              "#0d0887"
             ],
             [
              0.1111111111111111,
              "#46039f"
             ],
             [
              0.2222222222222222,
              "#7201a8"
             ],
             [
              0.3333333333333333,
              "#9c179e"
             ],
             [
              0.4444444444444444,
              "#bd3786"
             ],
             [
              0.5555555555555556,
              "#d8576b"
             ],
             [
              0.6666666666666666,
              "#ed7953"
             ],
             [
              0.7777777777777778,
              "#fb9f3a"
             ],
             [
              0.8888888888888888,
              "#fdca26"
             ],
             [
              1,
              "#f0f921"
             ]
            ],
            "type": "heatmap"
           }
          ],
          "heatmapgl": [
           {
            "colorbar": {
             "outlinewidth": 0,
             "ticks": ""
            },
            "colorscale": [
             [
              0,
              "#0d0887"
             ],
             [
              0.1111111111111111,
              "#46039f"
             ],
             [
              0.2222222222222222,
              "#7201a8"
             ],
             [
              0.3333333333333333,
              "#9c179e"
             ],
             [
              0.4444444444444444,
              "#bd3786"
             ],
             [
              0.5555555555555556,
              "#d8576b"
             ],
             [
              0.6666666666666666,
              "#ed7953"
             ],
             [
              0.7777777777777778,
              "#fb9f3a"
             ],
             [
              0.8888888888888888,
              "#fdca26"
             ],
             [
              1,
              "#f0f921"
             ]
            ],
            "type": "heatmapgl"
           }
          ],
          "histogram": [
           {
            "marker": {
             "pattern": {
              "fillmode": "overlay",
              "size": 10,
              "solidity": 0.2
             }
            },
            "type": "histogram"
           }
          ],
          "histogram2d": [
           {
            "colorbar": {
             "outlinewidth": 0,
             "ticks": ""
            },
            "colorscale": [
             [
              0,
              "#0d0887"
             ],
             [
              0.1111111111111111,
              "#46039f"
             ],
             [
              0.2222222222222222,
              "#7201a8"
             ],
             [
              0.3333333333333333,
              "#9c179e"
             ],
             [
              0.4444444444444444,
              "#bd3786"
             ],
             [
              0.5555555555555556,
              "#d8576b"
             ],
             [
              0.6666666666666666,
              "#ed7953"
             ],
             [
              0.7777777777777778,
              "#fb9f3a"
             ],
             [
              0.8888888888888888,
              "#fdca26"
             ],
             [
              1,
              "#f0f921"
             ]
            ],
            "type": "histogram2d"
           }
          ],
          "histogram2dcontour": [
           {
            "colorbar": {
             "outlinewidth": 0,
             "ticks": ""
            },
            "colorscale": [
             [
              0,
              "#0d0887"
             ],
             [
              0.1111111111111111,
              "#46039f"
             ],
             [
              0.2222222222222222,
              "#7201a8"
             ],
             [
              0.3333333333333333,
              "#9c179e"
             ],
             [
              0.4444444444444444,
              "#bd3786"
             ],
             [
              0.5555555555555556,
              "#d8576b"
             ],
             [
              0.6666666666666666,
              "#ed7953"
             ],
             [
              0.7777777777777778,
              "#fb9f3a"
             ],
             [
              0.8888888888888888,
              "#fdca26"
             ],
             [
              1,
              "#f0f921"
             ]
            ],
            "type": "histogram2dcontour"
           }
          ],
          "mesh3d": [
           {
            "colorbar": {
             "outlinewidth": 0,
             "ticks": ""
            },
            "type": "mesh3d"
           }
          ],
          "parcoords": [
           {
            "line": {
             "colorbar": {
              "outlinewidth": 0,
              "ticks": ""
             }
            },
            "type": "parcoords"
           }
          ],
          "pie": [
           {
            "automargin": true,
            "type": "pie"
           }
          ],
          "scatter": [
           {
            "marker": {
             "colorbar": {
              "outlinewidth": 0,
              "ticks": ""
             }
            },
            "type": "scatter"
           }
          ],
          "scatter3d": [
           {
            "line": {
             "colorbar": {
              "outlinewidth": 0,
              "ticks": ""
             }
            },
            "marker": {
             "colorbar": {
              "outlinewidth": 0,
              "ticks": ""
             }
            },
            "type": "scatter3d"
           }
          ],
          "scattercarpet": [
           {
            "marker": {
             "colorbar": {
              "outlinewidth": 0,
              "ticks": ""
             }
            },
            "type": "scattercarpet"
           }
          ],
          "scattergeo": [
           {
            "marker": {
             "colorbar": {
              "outlinewidth": 0,
              "ticks": ""
             }
            },
            "type": "scattergeo"
           }
          ],
          "scattergl": [
           {
            "marker": {
             "colorbar": {
              "outlinewidth": 0,
              "ticks": ""
             }
            },
            "type": "scattergl"
           }
          ],
          "scattermapbox": [
           {
            "marker": {
             "colorbar": {
              "outlinewidth": 0,
              "ticks": ""
             }
            },
            "type": "scattermapbox"
           }
          ],
          "scatterpolar": [
           {
            "marker": {
             "colorbar": {
              "outlinewidth": 0,
              "ticks": ""
             }
            },
            "type": "scatterpolar"
           }
          ],
          "scatterpolargl": [
           {
            "marker": {
             "colorbar": {
              "outlinewidth": 0,
              "ticks": ""
             }
            },
            "type": "scatterpolargl"
           }
          ],
          "scatterternary": [
           {
            "marker": {
             "colorbar": {
              "outlinewidth": 0,
              "ticks": ""
             }
            },
            "type": "scatterternary"
           }
          ],
          "surface": [
           {
            "colorbar": {
             "outlinewidth": 0,
             "ticks": ""
            },
            "colorscale": [
             [
              0,
              "#0d0887"
             ],
             [
              0.1111111111111111,
              "#46039f"
             ],
             [
              0.2222222222222222,
              "#7201a8"
             ],
             [
              0.3333333333333333,
              "#9c179e"
             ],
             [
              0.4444444444444444,
              "#bd3786"
             ],
             [
              0.5555555555555556,
              "#d8576b"
             ],
             [
              0.6666666666666666,
              "#ed7953"
             ],
             [
              0.7777777777777778,
              "#fb9f3a"
             ],
             [
              0.8888888888888888,
              "#fdca26"
             ],
             [
              1,
              "#f0f921"
             ]
            ],
            "type": "surface"
           }
          ],
          "table": [
           {
            "cells": {
             "fill": {
              "color": "#EBF0F8"
             },
             "line": {
              "color": "white"
             }
            },
            "header": {
             "fill": {
              "color": "#C8D4E3"
             },
             "line": {
              "color": "white"
             }
            },
            "type": "table"
           }
          ]
         },
         "layout": {
          "annotationdefaults": {
           "arrowcolor": "#2a3f5f",
           "arrowhead": 0,
           "arrowwidth": 1
          },
          "autotypenumbers": "strict",
          "coloraxis": {
           "colorbar": {
            "outlinewidth": 0,
            "ticks": ""
           }
          },
          "colorscale": {
           "diverging": [
            [
             0,
             "#8e0152"
            ],
            [
             0.1,
             "#c51b7d"
            ],
            [
             0.2,
             "#de77ae"
            ],
            [
             0.3,
             "#f1b6da"
            ],
            [
             0.4,
             "#fde0ef"
            ],
            [
             0.5,
             "#f7f7f7"
            ],
            [
             0.6,
             "#e6f5d0"
            ],
            [
             0.7,
             "#b8e186"
            ],
            [
             0.8,
             "#7fbc41"
            ],
            [
             0.9,
             "#4d9221"
            ],
            [
             1,
             "#276419"
            ]
           ],
           "sequential": [
            [
             0,
             "#0d0887"
            ],
            [
             0.1111111111111111,
             "#46039f"
            ],
            [
             0.2222222222222222,
             "#7201a8"
            ],
            [
             0.3333333333333333,
             "#9c179e"
            ],
            [
             0.4444444444444444,
             "#bd3786"
            ],
            [
             0.5555555555555556,
             "#d8576b"
            ],
            [
             0.6666666666666666,
             "#ed7953"
            ],
            [
             0.7777777777777778,
             "#fb9f3a"
            ],
            [
             0.8888888888888888,
             "#fdca26"
            ],
            [
             1,
             "#f0f921"
            ]
           ],
           "sequentialminus": [
            [
             0,
             "#0d0887"
            ],
            [
             0.1111111111111111,
             "#46039f"
            ],
            [
             0.2222222222222222,
             "#7201a8"
            ],
            [
             0.3333333333333333,
             "#9c179e"
            ],
            [
             0.4444444444444444,
             "#bd3786"
            ],
            [
             0.5555555555555556,
             "#d8576b"
            ],
            [
             0.6666666666666666,
             "#ed7953"
            ],
            [
             0.7777777777777778,
             "#fb9f3a"
            ],
            [
             0.8888888888888888,
             "#fdca26"
            ],
            [
             1,
             "#f0f921"
            ]
           ]
          },
          "colorway": [
           "#636efa",
           "#EF553B",
           "#00cc96",
           "#ab63fa",
           "#FFA15A",
           "#19d3f3",
           "#FF6692",
           "#B6E880",
           "#FF97FF",
           "#FECB52"
          ],
          "font": {
           "color": "#2a3f5f"
          },
          "geo": {
           "bgcolor": "white",
           "lakecolor": "white",
           "landcolor": "#E5ECF6",
           "showlakes": true,
           "showland": true,
           "subunitcolor": "white"
          },
          "hoverlabel": {
           "align": "left"
          },
          "hovermode": "closest",
          "mapbox": {
           "style": "light"
          },
          "paper_bgcolor": "white",
          "plot_bgcolor": "#E5ECF6",
          "polar": {
           "angularaxis": {
            "gridcolor": "white",
            "linecolor": "white",
            "ticks": ""
           },
           "bgcolor": "#E5ECF6",
           "radialaxis": {
            "gridcolor": "white",
            "linecolor": "white",
            "ticks": ""
           }
          },
          "scene": {
           "xaxis": {
            "backgroundcolor": "#E5ECF6",
            "gridcolor": "white",
            "gridwidth": 2,
            "linecolor": "white",
            "showbackground": true,
            "ticks": "",
            "zerolinecolor": "white"
           },
           "yaxis": {
            "backgroundcolor": "#E5ECF6",
            "gridcolor": "white",
            "gridwidth": 2,
            "linecolor": "white",
            "showbackground": true,
            "ticks": "",
            "zerolinecolor": "white"
           },
           "zaxis": {
            "backgroundcolor": "#E5ECF6",
            "gridcolor": "white",
            "gridwidth": 2,
            "linecolor": "white",
            "showbackground": true,
            "ticks": "",
            "zerolinecolor": "white"
           }
          },
          "shapedefaults": {
           "line": {
            "color": "#2a3f5f"
           }
          },
          "ternary": {
           "aaxis": {
            "gridcolor": "white",
            "linecolor": "white",
            "ticks": ""
           },
           "baxis": {
            "gridcolor": "white",
            "linecolor": "white",
            "ticks": ""
           },
           "bgcolor": "#E5ECF6",
           "caxis": {
            "gridcolor": "white",
            "linecolor": "white",
            "ticks": ""
           }
          },
          "title": {
           "x": 0.05
          },
          "xaxis": {
           "automargin": true,
           "gridcolor": "white",
           "linecolor": "white",
           "ticks": "",
           "title": {
            "standoff": 15
           },
           "zerolinecolor": "white",
           "zerolinewidth": 2
          },
          "yaxis": {
           "automargin": true,
           "gridcolor": "white",
           "linecolor": "white",
           "ticks": "",
           "title": {
            "standoff": 15
           },
           "zerolinecolor": "white",
           "zerolinewidth": 2
          }
         }
        },
        "xaxis": {
         "anchor": "y",
         "domain": [
          0,
          1
         ],
         "title": {
          "text": "TotalSpend"
         }
        },
        "yaxis": {
         "anchor": "x",
         "domain": [
          0,
          1
         ],
         "title": {
          "text": "Income"
         }
        }
       }
      }
     },
     "metadata": {},
     "output_type": "display_data"
    }
   ],
   "source": [
    "fig = px.scatter(df_orig, x='TotalSpend', y='Income', color='Cluster', hover_data=['Age', 'Education', 'Rel_Status'])\n",
    "fig.show()"
   ]
  },
  {
   "cell_type": "code",
   "execution_count": 24,
   "metadata": {},
   "outputs": [
    {
     "data": {
      "text/html": [
       "<div>\n",
       "<style scoped>\n",
       "    .dataframe tbody tr th:only-of-type {\n",
       "        vertical-align: middle;\n",
       "    }\n",
       "\n",
       "    .dataframe tbody tr th {\n",
       "        vertical-align: top;\n",
       "    }\n",
       "\n",
       "    .dataframe thead th {\n",
       "        text-align: right;\n",
       "    }\n",
       "</style>\n",
       "<table border=\"1\" class=\"dataframe\">\n",
       "  <thead>\n",
       "    <tr style=\"text-align: right;\">\n",
       "      <th></th>\n",
       "      <th>Age</th>\n",
       "      <th>Education</th>\n",
       "      <th>Rel_Status</th>\n",
       "      <th>Income</th>\n",
       "      <th>TotalSpend</th>\n",
       "      <th>Wines</th>\n",
       "      <th>Fruits</th>\n",
       "      <th>Meat</th>\n",
       "      <th>Fish</th>\n",
       "      <th>Sweet</th>\n",
       "      <th>Gold</th>\n",
       "      <th>Cluster</th>\n",
       "      <th>AgeRange</th>\n",
       "    </tr>\n",
       "  </thead>\n",
       "  <tbody>\n",
       "    <tr>\n",
       "      <th>0</th>\n",
       "      <td>55</td>\n",
       "      <td>Graduation</td>\n",
       "      <td>Single</td>\n",
       "      <td>58138.0</td>\n",
       "      <td>1617</td>\n",
       "      <td>635</td>\n",
       "      <td>88</td>\n",
       "      <td>546</td>\n",
       "      <td>172</td>\n",
       "      <td>88</td>\n",
       "      <td>88</td>\n",
       "      <td>3</td>\n",
       "      <td>50-60</td>\n",
       "    </tr>\n",
       "    <tr>\n",
       "      <th>1</th>\n",
       "      <td>60</td>\n",
       "      <td>Graduation</td>\n",
       "      <td>Single</td>\n",
       "      <td>46344.0</td>\n",
       "      <td>27</td>\n",
       "      <td>11</td>\n",
       "      <td>1</td>\n",
       "      <td>6</td>\n",
       "      <td>2</td>\n",
       "      <td>1</td>\n",
       "      <td>6</td>\n",
       "      <td>2</td>\n",
       "      <td>50-60</td>\n",
       "    </tr>\n",
       "    <tr>\n",
       "      <th>2</th>\n",
       "      <td>48</td>\n",
       "      <td>Graduation</td>\n",
       "      <td>Coupled</td>\n",
       "      <td>71613.0</td>\n",
       "      <td>776</td>\n",
       "      <td>426</td>\n",
       "      <td>49</td>\n",
       "      <td>127</td>\n",
       "      <td>111</td>\n",
       "      <td>21</td>\n",
       "      <td>42</td>\n",
       "      <td>1</td>\n",
       "      <td>40-50</td>\n",
       "    </tr>\n",
       "    <tr>\n",
       "      <th>3</th>\n",
       "      <td>30</td>\n",
       "      <td>Graduation</td>\n",
       "      <td>Coupled</td>\n",
       "      <td>26646.0</td>\n",
       "      <td>53</td>\n",
       "      <td>11</td>\n",
       "      <td>4</td>\n",
       "      <td>20</td>\n",
       "      <td>10</td>\n",
       "      <td>3</td>\n",
       "      <td>5</td>\n",
       "      <td>0</td>\n",
       "      <td>25-40</td>\n",
       "    </tr>\n",
       "    <tr>\n",
       "      <th>4</th>\n",
       "      <td>33</td>\n",
       "      <td>PhD</td>\n",
       "      <td>Coupled</td>\n",
       "      <td>58293.0</td>\n",
       "      <td>422</td>\n",
       "      <td>173</td>\n",
       "      <td>43</td>\n",
       "      <td>118</td>\n",
       "      <td>46</td>\n",
       "      <td>27</td>\n",
       "      <td>15</td>\n",
       "      <td>2</td>\n",
       "      <td>25-40</td>\n",
       "    </tr>\n",
       "  </tbody>\n",
       "</table>\n",
       "</div>"
      ],
      "text/plain": [
       "   Age   Education Rel_Status   Income  TotalSpend  Wines  Fruits  Meat  Fish  \\\n",
       "0   55  Graduation     Single  58138.0        1617    635      88   546   172   \n",
       "1   60  Graduation     Single  46344.0          27     11       1     6     2   \n",
       "2   48  Graduation    Coupled  71613.0         776    426      49   127   111   \n",
       "3   30  Graduation    Coupled  26646.0          53     11       4    20    10   \n",
       "4   33         PhD    Coupled  58293.0         422    173      43   118    46   \n",
       "\n",
       "   Sweet  Gold Cluster AgeRange  \n",
       "0     88    88       3    50-60  \n",
       "1      1     6       2    50-60  \n",
       "2     21    42       1    40-50  \n",
       "3      3     5       0    25-40  \n",
       "4     27    15       2    25-40  "
      ]
     },
     "execution_count": 24,
     "metadata": {},
     "output_type": "execute_result"
    }
   ],
   "source": [
    "df_orig.head()"
   ]
  },
  {
   "cell_type": "code",
   "execution_count": 25,
   "metadata": {},
   "outputs": [
    {
     "data": {
      "text/html": [
       "<div>\n",
       "<style scoped>\n",
       "    .dataframe tbody tr th:only-of-type {\n",
       "        vertical-align: middle;\n",
       "    }\n",
       "\n",
       "    .dataframe tbody tr th {\n",
       "        vertical-align: top;\n",
       "    }\n",
       "\n",
       "    .dataframe thead th {\n",
       "        text-align: right;\n",
       "    }\n",
       "</style>\n",
       "<table border=\"1\" class=\"dataframe\">\n",
       "  <thead>\n",
       "    <tr style=\"text-align: right;\">\n",
       "      <th></th>\n",
       "      <th>AgeRange</th>\n",
       "      <th>Education</th>\n",
       "      <th>Rel_Status</th>\n",
       "      <th>Income</th>\n",
       "      <th>TotalSpend</th>\n",
       "      <th>Cluster</th>\n",
       "    </tr>\n",
       "  </thead>\n",
       "  <tbody>\n",
       "    <tr>\n",
       "      <th>0</th>\n",
       "      <td>50-60</td>\n",
       "      <td>Graduation</td>\n",
       "      <td>Single</td>\n",
       "      <td>58138.0</td>\n",
       "      <td>1617</td>\n",
       "      <td>3</td>\n",
       "    </tr>\n",
       "    <tr>\n",
       "      <th>1</th>\n",
       "      <td>50-60</td>\n",
       "      <td>Graduation</td>\n",
       "      <td>Single</td>\n",
       "      <td>46344.0</td>\n",
       "      <td>27</td>\n",
       "      <td>2</td>\n",
       "    </tr>\n",
       "    <tr>\n",
       "      <th>2</th>\n",
       "      <td>40-50</td>\n",
       "      <td>Graduation</td>\n",
       "      <td>Coupled</td>\n",
       "      <td>71613.0</td>\n",
       "      <td>776</td>\n",
       "      <td>1</td>\n",
       "    </tr>\n",
       "    <tr>\n",
       "      <th>3</th>\n",
       "      <td>25-40</td>\n",
       "      <td>Graduation</td>\n",
       "      <td>Coupled</td>\n",
       "      <td>26646.0</td>\n",
       "      <td>53</td>\n",
       "      <td>0</td>\n",
       "    </tr>\n",
       "    <tr>\n",
       "      <th>4</th>\n",
       "      <td>25-40</td>\n",
       "      <td>PhD</td>\n",
       "      <td>Coupled</td>\n",
       "      <td>58293.0</td>\n",
       "      <td>422</td>\n",
       "      <td>2</td>\n",
       "    </tr>\n",
       "  </tbody>\n",
       "</table>\n",
       "</div>"
      ],
      "text/plain": [
       "  AgeRange   Education Rel_Status   Income  TotalSpend Cluster\n",
       "0    50-60  Graduation     Single  58138.0        1617       3\n",
       "1    50-60  Graduation     Single  46344.0          27       2\n",
       "2    40-50  Graduation    Coupled  71613.0         776       1\n",
       "3    25-40  Graduation    Coupled  26646.0          53       0\n",
       "4    25-40         PhD    Coupled  58293.0         422       2"
      ]
     },
     "execution_count": 25,
     "metadata": {},
     "output_type": "execute_result"
    }
   ],
   "source": [
    "plot_df = df_orig[df_orig.columns[1:5]].copy()\n",
    "plot_df = pd.concat([df_orig['AgeRange'], plot_df], axis=1)\n",
    "plot_df = pd.concat([plot_df, df_orig['Cluster']], axis=1)\n",
    "plot_df.head()"
   ]
  },
  {
   "cell_type": "code",
   "execution_count": 29,
   "metadata": {},
   "outputs": [
    {
     "data": {
      "text/plain": [
       "Graduation    1115\n",
       "PhD            480\n",
       "Master         365\n",
       "2n Cycle       198\n",
       "Basic           54\n",
       "Name: Education, dtype: int64"
      ]
     },
     "execution_count": 29,
     "metadata": {},
     "output_type": "execute_result"
    }
   ],
   "source": [
    "plot_df['Education'].value_counts()"
   ]
  },
  {
   "cell_type": "code",
   "execution_count": 27,
   "metadata": {},
   "outputs": [
    {
     "data": {
      "image/png": "[encoded data removed]",
      "text/plain": [
       "<Figure size 1846.12x720 with 10 Axes>"
      ]
     },
     "metadata": {},
     "output_type": "display_data"
    }
   ],
   "source": [
    "# g = sns.FacetGrid(data=plot_df, row='AgeRange', col='Education', hue='Cluster', height=5, aspect=1)\n",
    "# g.map(sns.scatterplot, 'Rel_Status', 'TotalSpend')\n",
    "col_order = ['PhD', 'Master', 'Graduation', 'Basic', '2n Cycle']\n",
    "# custom_palette = sns.color_palette(palette=[ '#fb8a89', '#a6cee3', '#3f6284', '#a7b170', '#66a61e'])\n",
    "ax = sns.catplot(data=plot_df, kind='strip', x='AgeRange', y='TotalSpend', row='Rel_Status', col='Education', col_order=col_order, hue='Cluster')\n"
   ]
  },
  {
   "cell_type": "markdown",
   "metadata": {},
   "source": [
    "From the plots above, we can observe that people with higher income are likely to spend more on our products which is intuitively appropriate.\n",
    "Customers with spouses are likely to spend more. This could be due to purchases for the family.\n",
    "Most of our customers are graduates, followed by people holding PhD degrees. A significant cluster is also formed by people with Education listed as \"2n Cycle\". These are degrees equivalent to 2-year Masters' education, usually prominent in European countries like Italy and Poland. This hints at the fact that quite a few of our customers are internationals.\n"
   ]
  }
 ],
 "metadata": {
  "interpreter": {
   "hash": "328451d13929b4b204fb6aa8aa903a01b55f8619bc5c8844eedec07f455652ec"
  },
  "kernelspec": {
   "display_name": "Python 3.9.6 64-bit",
   "name": "python3"
  },
  "language_info": {
   "codemirror_mode": {
    "name": "ipython",
    "version": 3
   },
   "file_extension": ".py",
   "mimetype": "text/x-python",
   "name": "python",
   "nbconvert_exporter": "python",
   "pygments_lexer": "ipython3",
   "version": "3.9.6"
  },
  "orig_nbformat": 4
 },
 "nbformat": 4,
 "nbformat_minor": 2
}
