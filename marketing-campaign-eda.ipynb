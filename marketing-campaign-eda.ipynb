{
 "cells": [
  {
   "cell_type": "code",
   "execution_count": 19,
   "metadata": {},
   "outputs": [],
   "source": [
    "import pandas as pd\n",
    "import numpy as np\n",
    "import seaborn as sns\n",
    "import matplotlib.pyplot as plt\n",
    "import plotly.express as px"
   ]
  },
  {
   "cell_type": "code",
   "execution_count": 20,
   "metadata": {},
   "outputs": [
    {
     "data": {
      "text/plain": [
       "(2240, 29)"
      ]
     },
     "execution_count": 20,
     "metadata": {},
     "output_type": "execute_result"
    }
   ],
   "source": [
    "df = pd.read_csv('dataset/marketing_campaign.csv', sep=';')\n",
    "df.shape"
   ]
  },
  {
   "cell_type": "code",
   "execution_count": 21,
   "metadata": {},
   "outputs": [
    {
     "name": "stdout",
     "output_type": "stream",
     "text": [
      "<class 'pandas.core.frame.DataFrame'>\n",
      "RangeIndex: 2240 entries, 0 to 2239\n",
      "Data columns (total 29 columns):\n",
      " #   Column               Non-Null Count  Dtype  \n",
      "---  ------               --------------  -----  \n",
      " 0   ID                   2240 non-null   int64  \n",
      " 1   Year_Birth           2240 non-null   int64  \n",
      " 2   Education            2240 non-null   object \n",
      " 3   Marital_Status       2240 non-null   object \n",
      " 4   Income               2216 non-null   float64\n",
      " 5   Kidhome              2240 non-null   int64  \n",
      " 6   Teenhome             2240 non-null   int64  \n",
      " 7   Dt_Customer          2240 non-null   object \n",
      " 8   Recency              2240 non-null   int64  \n",
      " 9   MntWines             2240 non-null   int64  \n",
      " 10  MntFruits            2240 non-null   int64  \n",
      " 11  MntMeatProducts      2240 non-null   int64  \n",
      " 12  MntFishProducts      2240 non-null   int64  \n",
      " 13  MntSweetProducts     2240 non-null   int64  \n",
      " 14  MntGoldProds         2240 non-null   int64  \n",
      " 15  NumDealsPurchases    2240 non-null   int64  \n",
      " 16  NumWebPurchases      2240 non-null   int64  \n",
      " 17  NumCatalogPurchases  2240 non-null   int64  \n",
      " 18  NumStorePurchases    2240 non-null   int64  \n",
      " 19  NumWebVisitsMonth    2240 non-null   int64  \n",
      " 20  AcceptedCmp3         2240 non-null   int64  \n",
      " 21  AcceptedCmp4         2240 non-null   int64  \n",
      " 22  AcceptedCmp5         2240 non-null   int64  \n",
      " 23  AcceptedCmp1         2240 non-null   int64  \n",
      " 24  AcceptedCmp2         2240 non-null   int64  \n",
      " 25  Complain             2240 non-null   int64  \n",
      " 26  Z_CostContact        2240 non-null   int64  \n",
      " 27  Z_Revenue            2240 non-null   int64  \n",
      " 28  Response             2240 non-null   int64  \n",
      "dtypes: float64(1), int64(25), object(3)\n",
      "memory usage: 507.6+ KB\n",
      "None\n"
     ]
    }
   ],
   "source": [
    "print(df.info())"
   ]
  },
  {
   "cell_type": "code",
   "execution_count": 22,
   "metadata": {},
   "outputs": [
    {
     "data": {
      "text/html": [
       "<div>\n",
       "<style scoped>\n",
       "    .dataframe tbody tr th:only-of-type {\n",
       "        vertical-align: middle;\n",
       "    }\n",
       "\n",
       "    .dataframe tbody tr th {\n",
       "        vertical-align: top;\n",
       "    }\n",
       "\n",
       "    .dataframe thead th {\n",
       "        text-align: right;\n",
       "    }\n",
       "</style>\n",
       "<table border=\"1\" class=\"dataframe\">\n",
       "  <thead>\n",
       "    <tr style=\"text-align: right;\">\n",
       "      <th></th>\n",
       "      <th>ID</th>\n",
       "      <th>Year_Birth</th>\n",
       "      <th>Education</th>\n",
       "      <th>Marital_Status</th>\n",
       "      <th>Income</th>\n",
       "      <th>Kidhome</th>\n",
       "      <th>Teenhome</th>\n",
       "      <th>Dt_Customer</th>\n",
       "      <th>Recency</th>\n",
       "      <th>MntWines</th>\n",
       "      <th>...</th>\n",
       "      <th>NumWebVisitsMonth</th>\n",
       "      <th>AcceptedCmp3</th>\n",
       "      <th>AcceptedCmp4</th>\n",
       "      <th>AcceptedCmp5</th>\n",
       "      <th>AcceptedCmp1</th>\n",
       "      <th>AcceptedCmp2</th>\n",
       "      <th>Complain</th>\n",
       "      <th>Z_CostContact</th>\n",
       "      <th>Z_Revenue</th>\n",
       "      <th>Response</th>\n",
       "    </tr>\n",
       "  </thead>\n",
       "  <tbody>\n",
       "    <tr>\n",
       "      <th>0</th>\n",
       "      <td>5524</td>\n",
       "      <td>1957</td>\n",
       "      <td>Graduation</td>\n",
       "      <td>Single</td>\n",
       "      <td>58138.0</td>\n",
       "      <td>0</td>\n",
       "      <td>0</td>\n",
       "      <td>2012-09-04</td>\n",
       "      <td>58</td>\n",
       "      <td>635</td>\n",
       "      <td>...</td>\n",
       "      <td>7</td>\n",
       "      <td>0</td>\n",
       "      <td>0</td>\n",
       "      <td>0</td>\n",
       "      <td>0</td>\n",
       "      <td>0</td>\n",
       "      <td>0</td>\n",
       "      <td>3</td>\n",
       "      <td>11</td>\n",
       "      <td>1</td>\n",
       "    </tr>\n",
       "    <tr>\n",
       "      <th>1</th>\n",
       "      <td>2174</td>\n",
       "      <td>1954</td>\n",
       "      <td>Graduation</td>\n",
       "      <td>Single</td>\n",
       "      <td>46344.0</td>\n",
       "      <td>1</td>\n",
       "      <td>1</td>\n",
       "      <td>2014-03-08</td>\n",
       "      <td>38</td>\n",
       "      <td>11</td>\n",
       "      <td>...</td>\n",
       "      <td>5</td>\n",
       "      <td>0</td>\n",
       "      <td>0</td>\n",
       "      <td>0</td>\n",
       "      <td>0</td>\n",
       "      <td>0</td>\n",
       "      <td>0</td>\n",
       "      <td>3</td>\n",
       "      <td>11</td>\n",
       "      <td>0</td>\n",
       "    </tr>\n",
       "    <tr>\n",
       "      <th>2</th>\n",
       "      <td>4141</td>\n",
       "      <td>1965</td>\n",
       "      <td>Graduation</td>\n",
       "      <td>Together</td>\n",
       "      <td>71613.0</td>\n",
       "      <td>0</td>\n",
       "      <td>0</td>\n",
       "      <td>2013-08-21</td>\n",
       "      <td>26</td>\n",
       "      <td>426</td>\n",
       "      <td>...</td>\n",
       "      <td>4</td>\n",
       "      <td>0</td>\n",
       "      <td>0</td>\n",
       "      <td>0</td>\n",
       "      <td>0</td>\n",
       "      <td>0</td>\n",
       "      <td>0</td>\n",
       "      <td>3</td>\n",
       "      <td>11</td>\n",
       "      <td>0</td>\n",
       "    </tr>\n",
       "    <tr>\n",
       "      <th>3</th>\n",
       "      <td>6182</td>\n",
       "      <td>1984</td>\n",
       "      <td>Graduation</td>\n",
       "      <td>Together</td>\n",
       "      <td>26646.0</td>\n",
       "      <td>1</td>\n",
       "      <td>0</td>\n",
       "      <td>2014-02-10</td>\n",
       "      <td>26</td>\n",
       "      <td>11</td>\n",
       "      <td>...</td>\n",
       "      <td>6</td>\n",
       "      <td>0</td>\n",
       "      <td>0</td>\n",
       "      <td>0</td>\n",
       "      <td>0</td>\n",
       "      <td>0</td>\n",
       "      <td>0</td>\n",
       "      <td>3</td>\n",
       "      <td>11</td>\n",
       "      <td>0</td>\n",
       "    </tr>\n",
       "    <tr>\n",
       "      <th>4</th>\n",
       "      <td>5324</td>\n",
       "      <td>1981</td>\n",
       "      <td>PhD</td>\n",
       "      <td>Married</td>\n",
       "      <td>58293.0</td>\n",
       "      <td>1</td>\n",
       "      <td>0</td>\n",
       "      <td>2014-01-19</td>\n",
       "      <td>94</td>\n",
       "      <td>173</td>\n",
       "      <td>...</td>\n",
       "      <td>5</td>\n",
       "      <td>0</td>\n",
       "      <td>0</td>\n",
       "      <td>0</td>\n",
       "      <td>0</td>\n",
       "      <td>0</td>\n",
       "      <td>0</td>\n",
       "      <td>3</td>\n",
       "      <td>11</td>\n",
       "      <td>0</td>\n",
       "    </tr>\n",
       "  </tbody>\n",
       "</table>\n",
       "<p>5 rows × 29 columns</p>\n",
       "</div>"
      ],
      "text/plain": [
       "     ID  Year_Birth   Education Marital_Status   Income  Kidhome  Teenhome  \\\n",
       "0  5524        1957  Graduation         Single  58138.0        0         0   \n",
       "1  2174        1954  Graduation         Single  46344.0        1         1   \n",
       "2  4141        1965  Graduation       Together  71613.0        0         0   \n",
       "3  6182        1984  Graduation       Together  26646.0        1         0   \n",
       "4  5324        1981         PhD        Married  58293.0        1         0   \n",
       "\n",
       "  Dt_Customer  Recency  MntWines  ...  NumWebVisitsMonth  AcceptedCmp3  \\\n",
       "0  2012-09-04       58       635  ...                  7             0   \n",
       "1  2014-03-08       38        11  ...                  5             0   \n",
       "2  2013-08-21       26       426  ...                  4             0   \n",
       "3  2014-02-10       26        11  ...                  6             0   \n",
       "4  2014-01-19       94       173  ...                  5             0   \n",
       "\n",
       "   AcceptedCmp4  AcceptedCmp5  AcceptedCmp1  AcceptedCmp2  Complain  \\\n",
       "0             0             0             0             0         0   \n",
       "1             0             0             0             0         0   \n",
       "2             0             0             0             0         0   \n",
       "3             0             0             0             0         0   \n",
       "4             0             0             0             0         0   \n",
       "\n",
       "   Z_CostContact  Z_Revenue  Response  \n",
       "0              3         11         1  \n",
       "1              3         11         0  \n",
       "2              3         11         0  \n",
       "3              3         11         0  \n",
       "4              3         11         0  \n",
       "\n",
       "[5 rows x 29 columns]"
      ]
     },
     "execution_count": 22,
     "metadata": {},
     "output_type": "execute_result"
    }
   ],
   "source": [
    "df.head()"
   ]
  },
  {
   "cell_type": "code",
   "execution_count": 23,
   "metadata": {},
   "outputs": [
    {
     "name": "stdout",
     "output_type": "stream",
     "text": [
      "count    2240.0\n",
      "mean        3.0\n",
      "std         0.0\n",
      "min         3.0\n",
      "25%         3.0\n",
      "50%         3.0\n",
      "75%         3.0\n",
      "max         3.0\n",
      "Name: Z_CostContact, dtype: float64\n",
      "count    2240.0\n",
      "mean       11.0\n",
      "std         0.0\n",
      "min        11.0\n",
      "25%        11.0\n",
      "50%        11.0\n",
      "75%        11.0\n",
      "max        11.0\n",
      "Name: Z_Revenue, dtype: float64\n"
     ]
    }
   ],
   "source": [
    "print(df.Z_CostContact.describe())\n",
    "print(df.Z_Revenue.describe())"
   ]
  },
  {
   "cell_type": "markdown",
   "metadata": {},
   "source": [
    "**Z_CostContact** and **Z_Revenue** seem to be constants which won't affect our analysis or algorithms, so we can drop these columns."
   ]
  },
  {
   "cell_type": "code",
   "execution_count": 24,
   "metadata": {},
   "outputs": [],
   "source": [
    "df = df.drop(['Z_Revenue', 'Z_CostContact'], axis=1)"
   ]
  },
  {
   "cell_type": "code",
   "execution_count": 25,
   "metadata": {},
   "outputs": [
    {
     "data": {
      "text/plain": [
       "0    1293\n",
       "1     899\n",
       "2      48\n",
       "Name: Kidhome, dtype: int64"
      ]
     },
     "execution_count": 25,
     "metadata": {},
     "output_type": "execute_result"
    }
   ],
   "source": [
    "df['Kidhome'].value_counts()"
   ]
  },
  {
   "cell_type": "code",
   "execution_count": 26,
   "metadata": {},
   "outputs": [
    {
     "data": {
      "text/plain": [
       "0    1158\n",
       "1    1030\n",
       "2      52\n",
       "Name: Teenhome, dtype: int64"
      ]
     },
     "execution_count": 26,
     "metadata": {},
     "output_type": "execute_result"
    }
   ],
   "source": [
    "df['Teenhome'].value_counts()"
   ]
  },
  {
   "cell_type": "markdown",
   "metadata": {},
   "source": [
    "The number of kids at home and teens at home can be combined into a single column."
   ]
  },
  {
   "cell_type": "code",
   "execution_count": 27,
   "metadata": {},
   "outputs": [],
   "source": [
    "df['Minorhome'] = df.Kidhome + df.Teenhome\n",
    "df = df.drop(['Kidhome', 'Teenhome'], axis=1)\n",
    "# print(df.info())"
   ]
  },
  {
   "cell_type": "code",
   "execution_count": 28,
   "metadata": {},
   "outputs": [
    {
     "data": {
      "text/plain": [
       "1    1128\n",
       "0     638\n",
       "2     421\n",
       "3      53\n",
       "Name: Minorhome, dtype: int64"
      ]
     },
     "execution_count": 28,
     "metadata": {},
     "output_type": "execute_result"
    }
   ],
   "source": [
    "df['Minorhome'].value_counts()"
   ]
  },
  {
   "cell_type": "code",
   "execution_count": 29,
   "metadata": {},
   "outputs": [
    {
     "data": {
      "text/plain": [
       "<AxesSubplot:>"
      ]
     },
     "execution_count": 29,
     "metadata": {},
     "output_type": "execute_result"
    },
    {
     "data": {
      "image/png": "[encoded data removed]",
      "text/plain": [
       "<Figure size 1008x864 with 2 Axes>"
      ]
     },
     "metadata": {
      "needs_background": "light"
     },
     "output_type": "display_data"
    }
   ],
   "source": [
    "correlation = df.corr()\n",
    "plt.figure(figsize=(14, 12))\n",
    "sns.heatmap(correlation, center=0, vmax=0.5, square=True, linewidths=1, cmap='coolwarm')\n",
    "# plt.show()\n",
    "# df.corr()['Response'].sort_values(ascending=False)"
   ]
  },
  {
   "cell_type": "code",
   "execution_count": 30,
   "metadata": {},
   "outputs": [
    {
     "data": {
      "text/plain": [
       "count           2240\n",
       "unique           663\n",
       "top       2012-08-31\n",
       "freq              12\n",
       "Name: Dt_Customer, dtype: object"
      ]
     },
     "execution_count": 30,
     "metadata": {},
     "output_type": "execute_result"
    }
   ],
   "source": [
    "df.Dt_Customer.describe()"
   ]
  },
  {
   "cell_type": "code",
   "execution_count": 31,
   "metadata": {},
   "outputs": [
    {
     "data": {
      "text/plain": [
       "count    2240.000000\n",
       "mean     1968.805804\n",
       "std        11.984069\n",
       "min      1893.000000\n",
       "25%      1959.000000\n",
       "50%      1970.000000\n",
       "75%      1977.000000\n",
       "max      1996.000000\n",
       "Name: Year_Birth, dtype: float64"
      ]
     },
     "execution_count": 31,
     "metadata": {},
     "output_type": "execute_result"
    }
   ],
   "source": [
    "df.Year_Birth.describe()"
   ]
  },
  {
   "cell_type": "markdown",
   "metadata": {},
   "source": [
    "We can extract more useful features from these two columns and strip away the superfluous information.\n",
    "- `year` and `month` from `Dt_Customer`\n",
    "- `Age` from `(Dt_Customer - Year_Birth)`"
   ]
  },
  {
   "cell_type": "code",
   "execution_count": 32,
   "metadata": {},
   "outputs": [],
   "source": [
    "year = pd.to_numeric(df['Dt_Customer'].str.extract(r'(\\d{4})', expand=False))\n",
    "month = pd.to_numeric(df['Dt_Customer'].str.extract(r'-(\\d{2})-', expand=False))"
   ]
  },
  {
   "cell_type": "code",
   "execution_count": 34,
   "metadata": {},
   "outputs": [
    {
     "name": "stdout",
     "output_type": "stream",
     "text": [
      "   Month  Enrolments\n",
      "4    Jan         197\n",
      "8    Feb         178\n",
      "3    Mar         211\n",
      "7    Apr         182\n",
      "1    May         216\n",
      "10   Jun         166\n",
      "11   Jul         101\n",
      "0    Aug         222\n",
      "5    Sep         193\n",
      "2    Oct         212\n",
      "6    Nov         187\n",
      "9    Dec         175\n"
     ]
    }
   ],
   "source": [
    "month_names = {1: 'Jan', 2: 'Feb', 3: 'Mar', 4: 'Apr', 5: 'May', 6: 'Jun', 7: 'Jul', 8: 'Aug', 9: 'Sep', 10: 'Oct', 11: 'Nov', 12: 'Dec'}\n",
    "month = month.value_counts().reset_index().sort_values('index')\n",
    "month = month.replace(month_names)\n",
    "month = month.rename(columns={'index': 'Month', 'Dt_Customer': 'Enrolments'})\n",
    "print(month)"
   ]
  },
  {
   "cell_type": "code",
   "execution_count": 35,
   "metadata": {},
   "outputs": [
    {
     "data": {
      "application/vnd.plotly.v1+json": {
       "config": {
        "plotlyServerURL": "https://plot.ly"
       },
       "data": [
        {
         "alignmentgroup": "True",
         "hovertemplate": "Month=%{x}<br>Enrolments=%{y}<extra></extra>",
         "legendgroup": "Jan",
         "marker": {
          "color": "rgb(55, 83, 109)",
          "pattern": {
           "shape": ""
          }
         },
         "name": "Jan",
         "offsetgroup": "Jan",
         "orientation": "v",
         "showlegend": true,
         "textposition": "auto",
         "type": "bar",
         "x": [
          "Jan"
         ],
         "xaxis": "x",
         "y": [
          197
         ],
         "yaxis": "y"
        },
        {
         "alignmentgroup": "True",
         "hovertemplate": "Month=%{x}<br>Enrolments=%{y}<extra></extra>",
         "legendgroup": "Feb",
         "marker": {
          "color": "rgb(55, 83, 109)",
          "pattern": {
           "shape": ""
          }
         },
         "name": "Feb",
         "offsetgroup": "Feb",
         "orientation": "v",
         "showlegend": true,
         "textposition": "auto",
         "type": "bar",
         "x": [
          "Feb"
         ],
         "xaxis": "x",
         "y": [
          178
         ],
         "yaxis": "y"
        },
        {
         "alignmentgroup": "True",
         "hovertemplate": "Month=%{x}<br>Enrolments=%{y}<extra></extra>",
         "legendgroup": "Mar",
         "marker": {
          "color": "crimson",
          "pattern": {
           "shape": ""
          }
         },
         "name": "Mar",
         "offsetgroup": "Mar",
         "orientation": "v",
         "showlegend": true,
         "textposition": "auto",
         "type": "bar",
         "x": [
          "Mar"
         ],
         "xaxis": "x",
         "y": [
          211
         ],
         "yaxis": "y"
        },
        {
         "alignmentgroup": "True",
         "hovertemplate": "Month=%{x}<br>Enrolments=%{y}<extra></extra>",
         "legendgroup": "Apr",
         "marker": {
          "color": "rgb(55, 83, 109)",
          "pattern": {
           "shape": ""
          }
         },
         "name": "Apr",
         "offsetgroup": "Apr",
         "orientation": "v",
         "showlegend": true,
         "textposition": "auto",
         "type": "bar",
         "x": [
          "Apr"
         ],
         "xaxis": "x",
         "y": [
          182
         ],
         "yaxis": "y"
        },
        {
         "alignmentgroup": "True",
         "hovertemplate": "Month=%{x}<br>Enrolments=%{y}<extra></extra>",
         "legendgroup": "May",
         "marker": {
          "color": "crimson",
          "pattern": {
           "shape": ""
          }
         },
         "name": "May",
         "offsetgroup": "May",
         "orientation": "v",
         "showlegend": true,
         "textposition": "auto",
         "type": "bar",
         "x": [
          "May"
         ],
         "xaxis": "x",
         "y": [
          216
         ],
         "yaxis": "y"
        },
        {
         "alignmentgroup": "True",
         "hovertemplate": "Month=%{x}<br>Enrolments=%{y}<extra></extra>",
         "legendgroup": "Jun",
         "marker": {
          "color": "rgb(55, 83, 109)",
          "pattern": {
           "shape": ""
          }
         },
         "name": "Jun",
         "offsetgroup": "Jun",
         "orientation": "v",
         "showlegend": true,
         "textposition": "auto",
         "type": "bar",
         "x": [
          "Jun"
         ],
         "xaxis": "x",
         "y": [
          166
         ],
         "yaxis": "y"
        },
        {
         "alignmentgroup": "True",
         "hovertemplate": "Month=%{x}<br>Enrolments=%{y}<extra></extra>",
         "legendgroup": "Jul",
         "marker": {
          "color": "rgb(55, 83, 109)",
          "pattern": {
           "shape": ""
          }
         },
         "name": "Jul",
         "offsetgroup": "Jul",
         "orientation": "v",
         "showlegend": true,
         "textposition": "auto",
         "type": "bar",
         "x": [
          "Jul"
         ],
         "xaxis": "x",
         "y": [
          101
         ],
         "yaxis": "y"
        },
        {
         "alignmentgroup": "True",
         "hovertemplate": "Month=%{x}<br>Enrolments=%{y}<extra></extra>",
         "legendgroup": "Aug",
         "marker": {
          "color": "crimson",
          "pattern": {
           "shape": ""
          }
         },
         "name": "Aug",
         "offsetgroup": "Aug",
         "orientation": "v",
         "showlegend": true,
         "textposition": "auto",
         "type": "bar",
         "x": [
          "Aug"
         ],
         "xaxis": "x",
         "y": [
          222
         ],
         "yaxis": "y"
        },
        {
         "alignmentgroup": "True",
         "hovertemplate": "Month=%{x}<br>Enrolments=%{y}<extra></extra>",
         "legendgroup": "Sep",
         "marker": {
          "color": "rgb(55, 83, 109)",
          "pattern": {
           "shape": ""
          }
         },
         "name": "Sep",
         "offsetgroup": "Sep",
         "orientation": "v",
         "showlegend": true,
         "textposition": "auto",
         "type": "bar",
         "x": [
          "Sep"
         ],
         "xaxis": "x",
         "y": [
          193
         ],
         "yaxis": "y"
        },
        {
         "alignmentgroup": "True",
         "hovertemplate": "Month=%{x}<br>Enrolments=%{y}<extra></extra>",
         "legendgroup": "Oct",
         "marker": {
          "color": "crimson",
          "pattern": {
           "shape": ""
          }
         },
         "name": "Oct",
         "offsetgroup": "Oct",
         "orientation": "v",
         "showlegend": true,
         "textposition": "auto",
         "type": "bar",
         "x": [
          "Oct"
         ],
         "xaxis": "x",
         "y": [
          212
         ],
         "yaxis": "y"
        },
        {
         "alignmentgroup": "True",
         "hovertemplate": "Month=%{x}<br>Enrolments=%{y}<extra></extra>",
         "legendgroup": "Nov",
         "marker": {
          "color": "rgb(55, 83, 109)",
          "pattern": {
           "shape": ""
          }
         },
         "name": "Nov",
         "offsetgroup": "Nov",
         "orientation": "v",
         "showlegend": true,
         "textposition": "auto",
         "type": "bar",
         "x": [
          "Nov"
         ],
         "xaxis": "x",
         "y": [
          187
         ],
         "yaxis": "y"
        },
        {
         "alignmentgroup": "True",
         "hovertemplate": "Month=%{x}<br>Enrolments=%{y}<extra></extra>",
         "legendgroup": "Dec",
         "marker": {
          "color": "rgb(55, 83, 109)",
          "pattern": {
           "shape": ""
          }
         },
         "name": "Dec",
         "offsetgroup": "Dec",
         "orientation": "v",
         "showlegend": true,
         "textposition": "auto",
         "type": "bar",
         "x": [
          "Dec"
         ],
         "xaxis": "x",
         "y": [
          175
         ],
         "yaxis": "y"
        }
       ],
       "layout": {
        "barmode": "relative",
        "legend": {
         "title": {
          "text": "Month"
         },
         "tracegroupgap": 0
        },
        "showlegend": false,
        "template": {
         "data": {
          "bar": [
           {
            "error_x": {
             "color": "#2a3f5f"
            },
            "error_y": {
             "color": "#2a3f5f"
            },
            "marker": {
             "line": {
              "color": "#E5ECF6",
              "width": 0.5
             },
             "pattern": {
              "fillmode": "overlay",
              "size": 10,
              "solidity": 0.2
             }
            },
            "type": "bar"
           }
          ],
          "barpolar": [
           {
            "marker": {
             "line": {
              "color": "#E5ECF6",
              "width": 0.5
             },
             "pattern": {
              "fillmode": "overlay",
              "size": 10,
              "solidity": 0.2
             }
            },
            "type": "barpolar"
           }
          ],
          "carpet": [
           {
            "aaxis": {
             "endlinecolor": "#2a3f5f",
             "gridcolor": "white",
             "linecolor": "white",
             "minorgridcolor": "white",
             "startlinecolor": "#2a3f5f"
            },
            "baxis": {
             "endlinecolor": "#2a3f5f",
             "gridcolor": "white",
             "linecolor": "white",
             "minorgridcolor": "white",
             "startlinecolor": "#2a3f5f"
            },
            "type": "carpet"
           }
          ],
          "choropleth": [
           {
            "colorbar": {
             "outlinewidth": 0,
             "ticks": ""
            },
            "type": "choropleth"
           }
          ],
          "contour": [
           {
            "colorbar": {
             "outlinewidth": 0,
             "ticks": ""
            },
            "colorscale": [
             [
              0,
              "#0d0887"
             ],
             [
              0.1111111111111111,
              "#46039f"
             ],
             [
              0.2222222222222222,
              "#7201a8"
             ],
             [
              0.3333333333333333,
              "#9c179e"
             ],
             [
              0.4444444444444444,
              "#bd3786"
             ],
             [
              0.5555555555555556,
              "#d8576b"
             ],
             [
              0.6666666666666666,
              "#ed7953"
             ],
             [
              0.7777777777777778,
              "#fb9f3a"
             ],
             [
              0.8888888888888888,
              "#fdca26"
             ],
             [
              1,
              "#f0f921"
             ]
            ],
            "type": "contour"
           }
          ],
          "contourcarpet": [
           {
            "colorbar": {
             "outlinewidth": 0,
             "ticks": ""
            },
            "type": "contourcarpet"
           }
          ],
          "heatmap": [
           {
            "colorbar": {
             "outlinewidth": 0,
             "ticks": ""
            },
            "colorscale": [
             [
              0,
              "#0d0887"
             ],
             [
              0.1111111111111111,
              "#46039f"
             ],
             [
              0.2222222222222222,
              "#7201a8"
             ],
             [
              0.3333333333333333,
              "#9c179e"
             ],
             [
              0.4444444444444444,
              "#bd3786"
             ],
             [
              0.5555555555555556,
              "#d8576b"
             ],
             [
              0.6666666666666666,
              "#ed7953"
             ],
             [
              0.7777777777777778,
              "#fb9f3a"
             ],
             [
              0.8888888888888888,
              "#fdca26"
             ],
             [
              1,
              "#f0f921"
             ]
            ],
            "type": "heatmap"
           }
          ],
          "heatmapgl": [
           {
            "colorbar": {
             "outlinewidth": 0,
             "ticks": ""
            },
            "colorscale": [
             [
              0,
              "#0d0887"
             ],
             [
              0.1111111111111111,
              "#46039f"
             ],
             [
              0.2222222222222222,
              "#7201a8"
             ],
             [
              0.3333333333333333,
              "#9c179e"
             ],
             [
              0.4444444444444444,
              "#bd3786"
             ],
             [
              0.5555555555555556,
              "#d8576b"
             ],
             [
              0.6666666666666666,
              "#ed7953"
             ],
             [
              0.7777777777777778,
              "#fb9f3a"
             ],
             [
              0.8888888888888888,
              "#fdca26"
             ],
             [
              1,
              "#f0f921"
             ]
            ],
            "type": "heatmapgl"
           }
          ],
          "histogram": [
           {
            "marker": {
             "pattern": {
              "fillmode": "overlay",
              "size": 10,
              "solidity": 0.2
             }
            },
            "type": "histogram"
           }
          ],
          "histogram2d": [
           {
            "colorbar": {
             "outlinewidth": 0,
             "ticks": ""
            },
            "colorscale": [
             [
              0,
              "#0d0887"
             ],
             [
              0.1111111111111111,
              "#46039f"
             ],
             [
              0.2222222222222222,
              "#7201a8"
             ],
             [
              0.3333333333333333,
              "#9c179e"
             ],
             [
              0.4444444444444444,
              "#bd3786"
             ],
             [
              0.5555555555555556,
              "#d8576b"
             ],
             [
              0.6666666666666666,
              "#ed7953"
             ],
             [
              0.7777777777777778,
              "#fb9f3a"
             ],
             [
              0.8888888888888888,
              "#fdca26"
             ],
             [
              1,
              "#f0f921"
             ]
            ],
            "type": "histogram2d"
           }
          ],
          "histogram2dcontour": [
           {
            "colorbar": {
             "outlinewidth": 0,
             "ticks": ""
            },
            "colorscale": [
             [
              0,
              "#0d0887"
             ],
             [
              0.1111111111111111,
              "#46039f"
             ],
             [
              0.2222222222222222,
              "#7201a8"
             ],
             [
              0.3333333333333333,
              "#9c179e"
             ],
             [
              0.4444444444444444,
              "#bd3786"
             ],
             [
              0.5555555555555556,
              "#d8576b"
             ],
             [
              0.6666666666666666,
              "#ed7953"
             ],
             [
              0.7777777777777778,
              "#fb9f3a"
             ],
             [
              0.8888888888888888,
              "#fdca26"
             ],
             [
              1,
              "#f0f921"
             ]
            ],
            "type": "histogram2dcontour"
           }
          ],
          "mesh3d": [
           {
            "colorbar": {
             "outlinewidth": 0,
             "ticks": ""
            },
            "type": "mesh3d"
           }
          ],
          "parcoords": [
           {
            "line": {
             "colorbar": {
              "outlinewidth": 0,
              "ticks": ""
             }
            },
            "type": "parcoords"
           }
          ],
          "pie": [
           {
            "automargin": true,
            "type": "pie"
           }
          ],
          "scatter": [
           {
            "marker": {
             "colorbar": {
              "outlinewidth": 0,
              "ticks": ""
             }
            },
            "type": "scatter"
           }
          ],
          "scatter3d": [
           {
            "line": {
             "colorbar": {
              "outlinewidth": 0,
              "ticks": ""
             }
            },
            "marker": {
             "colorbar": {
              "outlinewidth": 0,
              "ticks": ""
             }
            },
            "type": "scatter3d"
           }
          ],
          "scattercarpet": [
           {
            "marker": {
             "colorbar": {
              "outlinewidth": 0,
              "ticks": ""
             }
            },
            "type": "scattercarpet"
           }
          ],
          "scattergeo": [
           {
            "marker": {
             "colorbar": {
              "outlinewidth": 0,
              "ticks": ""
             }
            },
            "type": "scattergeo"
           }
          ],
          "scattergl": [
           {
            "marker": {
             "colorbar": {
              "outlinewidth": 0,
              "ticks": ""
             }
            },
            "type": "scattergl"
           }
          ],
          "scattermapbox": [
           {
            "marker": {
             "colorbar": {
              "outlinewidth": 0,
              "ticks": ""
             }
            },
            "type": "scattermapbox"
           }
          ],
          "scatterpolar": [
           {
            "marker": {
             "colorbar": {
              "outlinewidth": 0,
              "ticks": ""
             }
            },
            "type": "scatterpolar"
           }
          ],
          "scatterpolargl": [
           {
            "marker": {
             "colorbar": {
              "outlinewidth": 0,
              "ticks": ""
             }
            },
            "type": "scatterpolargl"
           }
          ],
          "scatterternary": [
           {
            "marker": {
             "colorbar": {
              "outlinewidth": 0,
              "ticks": ""
             }
            },
            "type": "scatterternary"
           }
          ],
          "surface": [
           {
            "colorbar": {
             "outlinewidth": 0,
             "ticks": ""
            },
            "colorscale": [
             [
              0,
              "#0d0887"
             ],
             [
              0.1111111111111111,
              "#46039f"
             ],
             [
              0.2222222222222222,
              "#7201a8"
             ],
             [
              0.3333333333333333,
              "#9c179e"
             ],
             [
              0.4444444444444444,
              "#bd3786"
             ],
             [
              0.5555555555555556,
              "#d8576b"
             ],
             [
              0.6666666666666666,
              "#ed7953"
             ],
             [
              0.7777777777777778,
              "#fb9f3a"
             ],
             [
              0.8888888888888888,
              "#fdca26"
             ],
             [
              1,
              "#f0f921"
             ]
            ],
            "type": "surface"
           }
          ],
          "table": [
           {
            "cells": {
             "fill": {
              "color": "#EBF0F8"
             },
             "line": {
              "color": "white"
             }
            },
            "header": {
             "fill": {
              "color": "#C8D4E3"
             },
             "line": {
              "color": "white"
             }
            },
            "type": "table"
           }
          ]
         },
         "layout": {
          "annotationdefaults": {
           "arrowcolor": "#2a3f5f",
           "arrowhead": 0,
           "arrowwidth": 1
          },
          "autotypenumbers": "strict",
          "coloraxis": {
           "colorbar": {
            "outlinewidth": 0,
            "ticks": ""
           }
          },
          "colorscale": {
           "diverging": [
            [
             0,
             "#8e0152"
            ],
            [
             0.1,
             "#c51b7d"
            ],
            [
             0.2,
             "#de77ae"
            ],
            [
             0.3,
             "#f1b6da"
            ],
            [
             0.4,
             "#fde0ef"
            ],
            [
             0.5,
             "#f7f7f7"
            ],
            [
             0.6,
             "#e6f5d0"
            ],
            [
             0.7,
             "#b8e186"
            ],
            [
             0.8,
             "#7fbc41"
            ],
            [
             0.9,
             "#4d9221"
            ],
            [
             1,
             "#276419"
            ]
           ],
           "sequential": [
            [
             0,
             "#0d0887"
            ],
            [
             0.1111111111111111,
             "#46039f"
            ],
            [
             0.2222222222222222,
             "#7201a8"
            ],
            [
             0.3333333333333333,
             "#9c179e"
            ],
            [
             0.4444444444444444,
             "#bd3786"
            ],
            [
             0.5555555555555556,
             "#d8576b"
            ],
            [
             0.6666666666666666,
             "#ed7953"
            ],
            [
             0.7777777777777778,
             "#fb9f3a"
            ],
            [
             0.8888888888888888,
             "#fdca26"
            ],
            [
             1,
             "#f0f921"
            ]
           ],
           "sequentialminus": [
            [
             0,
             "#0d0887"
            ],
            [
             0.1111111111111111,
             "#46039f"
            ],
            [
             0.2222222222222222,
             "#7201a8"
            ],
            [
             0.3333333333333333,
             "#9c179e"
            ],
            [
             0.4444444444444444,
             "#bd3786"
            ],
            [
             0.5555555555555556,
             "#d8576b"
            ],
            [
             0.6666666666666666,
             "#ed7953"
            ],
            [
             0.7777777777777778,
             "#fb9f3a"
            ],
            [
             0.8888888888888888,
             "#fdca26"
            ],
            [
             1,
             "#f0f921"
            ]
           ]
          },
          "colorway": [
           "#636efa",
           "#EF553B",
           "#00cc96",
           "#ab63fa",
           "#FFA15A",
           "#19d3f3",
           "#FF6692",
           "#B6E880",
           "#FF97FF",
           "#FECB52"
          ],
          "font": {
           "color": "#2a3f5f"
          },
          "geo": {
           "bgcolor": "white",
           "lakecolor": "white",
           "landcolor": "#E5ECF6",
           "showlakes": true,
           "showland": true,
           "subunitcolor": "white"
          },
          "hoverlabel": {
           "align": "left"
          },
          "hovermode": "closest",
          "mapbox": {
           "style": "light"
          },
          "paper_bgcolor": "white",
          "plot_bgcolor": "#E5ECF6",
          "polar": {
           "angularaxis": {
            "gridcolor": "white",
            "linecolor": "white",
            "ticks": ""
           },
           "bgcolor": "#E5ECF6",
           "radialaxis": {
            "gridcolor": "white",
            "linecolor": "white",
            "ticks": ""
           }
          },
          "scene": {
           "xaxis": {
            "backgroundcolor": "#E5ECF6",
            "gridcolor": "white",
            "gridwidth": 2,
            "linecolor": "white",
            "showbackground": true,
            "ticks": "",
            "zerolinecolor": "white"
           },
           "yaxis": {
            "backgroundcolor": "#E5ECF6",
            "gridcolor": "white",
            "gridwidth": 2,
            "linecolor": "white",
            "showbackground": true,
            "ticks": "",
            "zerolinecolor": "white"
           },
           "zaxis": {
            "backgroundcolor": "#E5ECF6",
            "gridcolor": "white",
            "gridwidth": 2,
            "linecolor": "white",
            "showbackground": true,
            "ticks": "",
            "zerolinecolor": "white"
           }
          },
          "shapedefaults": {
           "line": {
            "color": "#2a3f5f"
           }
          },
          "ternary": {
           "aaxis": {
            "gridcolor": "white",
            "linecolor": "white",
            "ticks": ""
           },
           "baxis": {
            "gridcolor": "white",
            "linecolor": "white",
            "ticks": ""
           },
           "bgcolor": "#E5ECF6",
           "caxis": {
            "gridcolor": "white",
            "linecolor": "white",
            "ticks": ""
           }
          },
          "title": {
           "x": 0.05
          },
          "xaxis": {
           "automargin": true,
           "gridcolor": "white",
           "linecolor": "white",
           "ticks": "",
           "title": {
            "standoff": 15
           },
           "zerolinecolor": "white",
           "zerolinewidth": 2
          },
          "yaxis": {
           "automargin": true,
           "gridcolor": "white",
           "linecolor": "white",
           "ticks": "",
           "title": {
            "standoff": 15
           },
           "zerolinecolor": "white",
           "zerolinewidth": 2
          }
         }
        },
        "title": {
         "text": "Customer Enrolments by Month"
        },
        "xaxis": {
         "anchor": "y",
         "categoryarray": [
          "Jan",
          "Feb",
          "Mar",
          "Apr",
          "May",
          "Jun",
          "Jul",
          "Aug",
          "Sep",
          "Oct",
          "Nov",
          "Dec"
         ],
         "categoryorder": "array",
         "domain": [
          0,
          1
         ],
         "title": {
          "text": "Month"
         }
        },
        "yaxis": {
         "anchor": "x",
         "domain": [
          0,
          1
         ],
         "title": {
          "text": "Enrolments"
         }
        }
       }
      }
     },
     "metadata": {},
     "output_type": "display_data"
    }
   ],
   "source": [
    "is_high = month['Enrolments'] > 200\n",
    "color_sequence = is_high.apply(lambda x: 'crimson' if x else 'rgb(55, 83, 109)')\n",
    "color_sequence = color_sequence.tolist()\n",
    "\n",
    "fig = px.bar(month, x='Month', y='Enrolments', title='Customer Enrolments by Month', color='Month', color_discrete_sequence=color_sequence)\n",
    "fig.layout.update(showlegend=False)\n",
    "fig.show()"
   ]
  },
  {
   "cell_type": "markdown",
   "metadata": {},
   "source": [
    "This chart could have been much more powerful if we had data on the months in which the last few campaigns were active, so it would have been possible to measure impact.</br>\n",
    "Without this information and with our current visualization, there seem to be no stand-out months which could boost the response.</br>\n",
    "However, it seems as if July should be excluded from the campaign period."
   ]
  },
  {
   "cell_type": "code",
   "execution_count": 36,
   "metadata": {},
   "outputs": [],
   "source": [
    "df['Age'] = year - df['Year_Birth']\n",
    "df = df.drop(['Year_Birth'], axis=1)\n",
    "# print(df['Age'].head())"
   ]
  },
  {
   "cell_type": "code",
   "execution_count": 37,
   "metadata": {},
   "outputs": [
    {
     "data": {
      "text/plain": [
       "count    2240.000000\n",
       "mean       44.222321\n",
       "std        12.022855\n",
       "min        16.000000\n",
       "25%        36.000000\n",
       "50%        43.000000\n",
       "75%        54.000000\n",
       "max       121.000000\n",
       "Name: Age, dtype: float64"
      ]
     },
     "execution_count": 37,
     "metadata": {},
     "output_type": "execute_result"
    }
   ],
   "source": [
    "df.Age.describe()"
   ]
  },
  {
   "cell_type": "code",
   "execution_count": 38,
   "metadata": {},
   "outputs": [
    {
     "data": {
      "text/plain": [
       "239     121\n",
       "339     114\n",
       "192     113\n",
       "1950     73\n",
       "424      72\n",
       "       ... \n",
       "914      18\n",
       "1163     18\n",
       "2213     17\n",
       "1850     17\n",
       "46       16\n",
       "Name: Age, Length: 2240, dtype: int64"
      ]
     },
     "execution_count": 38,
     "metadata": {},
     "output_type": "execute_result"
    }
   ],
   "source": [
    "df.Age.sort_values(ascending=False)"
   ]
  },
  {
   "cell_type": "markdown",
   "metadata": {},
   "source": [
    "The **Age** column has a few entries over 100 years. This is highly unlikely and possibly an error. We can eliminate these entries."
   ]
  },
  {
   "cell_type": "code",
   "execution_count": 39,
   "metadata": {},
   "outputs": [],
   "source": [
    "df = df[df['Age'] < 100]"
   ]
  },
  {
   "cell_type": "markdown",
   "metadata": {},
   "source": [
    "**Age** makes more sense as a *categorical* variable than a *continuous* variable so we can group users together."
   ]
  },
  {
   "cell_type": "code",
   "execution_count": 47,
   "metadata": {},
   "outputs": [
    {
     "data": {
      "text/plain": [
       "50-65    638\n",
       "40-50    630\n",
       "30-40    610\n",
       "<30      299\n",
       "65+       60\n",
       "Name: AgeRange, dtype: int64"
      ]
     },
     "execution_count": 47,
     "metadata": {},
     "output_type": "execute_result"
    }
   ],
   "source": [
    "bins = [0, 30, 40, 50, 65, np.inf]\n",
    "labels = ['<30', '30-40', '40-50', '50-65', '65+']\n",
    "df['AgeRange'] = pd.cut(df['Age'], bins=bins, labels=labels)\n",
    "df['AgeRange'].value_counts()"
   ]
  },
  {
   "cell_type": "code",
   "execution_count": 48,
   "metadata": {},
   "outputs": [
    {
     "data": {
      "text/plain": [
       "Index(['ID', 'Education', 'Marital_Status', 'Income', 'Dt_Customer', 'Recency',\n",
       "       'Wines', 'Fruits', 'Meat', 'Fish', 'Sweet', 'Gold', 'NumDealsPurchases',\n",
       "       'NumWebPurchases', 'NumCatalogPurchases', 'NumStorePurchases',\n",
       "       'NumWebVisitsMonth', 'AcceptedCmp3', 'AcceptedCmp4', 'AcceptedCmp5',\n",
       "       'AcceptedCmp1', 'AcceptedCmp2', 'Complain', 'Response', 'Minorhome',\n",
       "       'Age', 'AgeRange', 'TotalSpend'],\n",
       "      dtype='object')"
      ]
     },
     "execution_count": 48,
     "metadata": {},
     "output_type": "execute_result"
    }
   ],
   "source": [
    "df.columns"
   ]
  },
  {
   "cell_type": "code",
   "execution_count": 49,
   "metadata": {},
   "outputs": [],
   "source": [
    "rename_cols_dict = {'MntWines': 'Wines', 'MntFruits': 'Fruits', 'MntMeatProducts': 'Meat', 'MntFishProducts': 'Fish', 'MntSweetProducts': 'Sweet', 'MntGoldProds': 'Gold'}\n",
    "df = df.rename(columns=rename_cols_dict)"
   ]
  },
  {
   "cell_type": "code",
   "execution_count": 50,
   "metadata": {},
   "outputs": [],
   "source": [
    "df['TotalSpend'] = df['Wines'] + df['Fruits'] + df['Meat'] + df['Fish'] + df['Sweet'] + df['Gold']"
   ]
  },
  {
   "cell_type": "markdown",
   "metadata": {},
   "source": [
    "Let's identify the largest buying groups by age."
   ]
  },
  {
   "cell_type": "code",
   "execution_count": 51,
   "metadata": {},
   "outputs": [
    {
     "data": {
      "text/html": [
       "<div>\n",
       "<style scoped>\n",
       "    .dataframe tbody tr th:only-of-type {\n",
       "        vertical-align: middle;\n",
       "    }\n",
       "\n",
       "    .dataframe tbody tr th {\n",
       "        vertical-align: top;\n",
       "    }\n",
       "\n",
       "    .dataframe thead th {\n",
       "        text-align: right;\n",
       "    }\n",
       "</style>\n",
       "<table border=\"1\" class=\"dataframe\">\n",
       "  <thead>\n",
       "    <tr style=\"text-align: right;\">\n",
       "      <th></th>\n",
       "      <th>AgeRange</th>\n",
       "      <th>TotalSpend</th>\n",
       "      <th>Wines</th>\n",
       "      <th>Fruits</th>\n",
       "      <th>Meat</th>\n",
       "      <th>Fish</th>\n",
       "      <th>Sweet</th>\n",
       "      <th>Gold</th>\n",
       "    </tr>\n",
       "  </thead>\n",
       "  <tbody>\n",
       "    <tr>\n",
       "      <th>0</th>\n",
       "      <td>&lt;30</td>\n",
       "      <td>178348</td>\n",
       "      <td>75271</td>\n",
       "      <td>9010</td>\n",
       "      <td>59483</td>\n",
       "      <td>11982</td>\n",
       "      <td>9141</td>\n",
       "      <td>13461</td>\n",
       "    </tr>\n",
       "    <tr>\n",
       "      <th>1</th>\n",
       "      <td>30-40</td>\n",
       "      <td>312636</td>\n",
       "      <td>151042</td>\n",
       "      <td>14211</td>\n",
       "      <td>87903</td>\n",
       "      <td>21042</td>\n",
       "      <td>15014</td>\n",
       "      <td>23424</td>\n",
       "    </tr>\n",
       "    <tr>\n",
       "      <th>2</th>\n",
       "      <td>40-50</td>\n",
       "      <td>363762</td>\n",
       "      <td>190403</td>\n",
       "      <td>15717</td>\n",
       "      <td>93979</td>\n",
       "      <td>20665</td>\n",
       "      <td>15787</td>\n",
       "      <td>27211</td>\n",
       "    </tr>\n",
       "    <tr>\n",
       "      <th>3</th>\n",
       "      <td>50-65</td>\n",
       "      <td>438459</td>\n",
       "      <td>232795</td>\n",
       "      <td>16895</td>\n",
       "      <td>113145</td>\n",
       "      <td>26263</td>\n",
       "      <td>18000</td>\n",
       "      <td>31361</td>\n",
       "    </tr>\n",
       "    <tr>\n",
       "      <th>4</th>\n",
       "      <td>65+</td>\n",
       "      <td>61843</td>\n",
       "      <td>30527</td>\n",
       "      <td>2934</td>\n",
       "      <td>18883</td>\n",
       "      <td>3987</td>\n",
       "      <td>2611</td>\n",
       "      <td>2901</td>\n",
       "    </tr>\n",
       "  </tbody>\n",
       "</table>\n",
       "</div>"
      ],
      "text/plain": [
       "  AgeRange  TotalSpend   Wines  Fruits    Meat   Fish  Sweet   Gold\n",
       "0      <30      178348   75271    9010   59483  11982   9141  13461\n",
       "1    30-40      312636  151042   14211   87903  21042  15014  23424\n",
       "2    40-50      363762  190403   15717   93979  20665  15787  27211\n",
       "3    50-65      438459  232795   16895  113145  26263  18000  31361\n",
       "4      65+       61843   30527    2934   18883   3987   2611   2901"
      ]
     },
     "execution_count": 51,
     "metadata": {},
     "output_type": "execute_result"
    }
   ],
   "source": [
    "grouped_df = df.groupby(by=['AgeRange'], as_index=False).agg({'TotalSpend': 'sum', 'Wines': 'sum', 'Fruits': 'sum', 'Meat': 'sum', 'Fish': 'sum', 'Sweet': 'sum', 'Gold': 'sum'})\n",
    "grouped_df"
   ]
  },
  {
   "cell_type": "code",
   "execution_count": 52,
   "metadata": {},
   "outputs": [
    {
     "data": {
      "application/vnd.plotly.v1+json": {
       "config": {
        "plotlyServerURL": "https://plot.ly"
       },
       "data": [
        {
         "alignmentgroup": "True",
         "hovertemplate": "AgeRange=%{x}<br>TotalSpend=%{y}<extra></extra>",
         "legendgroup": "",
         "marker": {
          "color": "rgb(55, 83, 109)",
          "pattern": {
           "shape": ""
          }
         },
         "name": "",
         "offsetgroup": "",
         "orientation": "v",
         "showlegend": false,
         "textposition": "auto",
         "type": "bar",
         "x": [
          "<30",
          "30-40",
          "40-50",
          "50-65",
          "65+"
         ],
         "xaxis": "x",
         "y": [
          178348,
          312636,
          363762,
          438459,
          61843
         ],
         "yaxis": "y"
        }
       ],
       "layout": {
        "barmode": "relative",
        "legend": {
         "tracegroupgap": 0
        },
        "template": {
         "data": {
          "bar": [
           {
            "error_x": {
             "color": "#2a3f5f"
            },
            "error_y": {
             "color": "#2a3f5f"
            },
            "marker": {
             "line": {
              "color": "#E5ECF6",
              "width": 0.5
             },
             "pattern": {
              "fillmode": "overlay",
              "size": 10,
              "solidity": 0.2
             }
            },
            "type": "bar"
           }
          ],
          "barpolar": [
           {
            "marker": {
             "line": {
              "color": "#E5ECF6",
              "width": 0.5
             },
             "pattern": {
              "fillmode": "overlay",
              "size": 10,
              "solidity": 0.2
             }
            },
            "type": "barpolar"
           }
          ],
          "carpet": [
           {
            "aaxis": {
             "endlinecolor": "#2a3f5f",
             "gridcolor": "white",
             "linecolor": "white",
             "minorgridcolor": "white",
             "startlinecolor": "#2a3f5f"
            },
            "baxis": {
             "endlinecolor": "#2a3f5f",
             "gridcolor": "white",
             "linecolor": "white",
             "minorgridcolor": "white",
             "startlinecolor": "#2a3f5f"
            },
            "type": "carpet"
           }
          ],
          "choropleth": [
           {
            "colorbar": {
             "outlinewidth": 0,
             "ticks": ""
            },
            "type": "choropleth"
           }
          ],
          "contour": [
           {
            "colorbar": {
             "outlinewidth": 0,
             "ticks": ""
            },
            "colorscale": [
             [
              0,
              "#0d0887"
             ],
             [
              0.1111111111111111,
              "#46039f"
             ],
             [
              0.2222222222222222,
              "#7201a8"
             ],
             [
              0.3333333333333333,
              "#9c179e"
             ],
             [
              0.4444444444444444,
              "#bd3786"
             ],
             [
              0.5555555555555556,
              "#d8576b"
             ],
             [
              0.6666666666666666,
              "#ed7953"
             ],
             [
              0.7777777777777778,
              "#fb9f3a"
             ],
             [
              0.8888888888888888,
              "#fdca26"
             ],
             [
              1,
              "#f0f921"
             ]
            ],
            "type": "contour"
           }
          ],
          "contourcarpet": [
           {
            "colorbar": {
             "outlinewidth": 0,
             "ticks": ""
            },
            "type": "contourcarpet"
           }
          ],
          "heatmap": [
           {
            "colorbar": {
             "outlinewidth": 0,
             "ticks": ""
            },
            "colorscale": [
             [
              0,
              "#0d0887"
             ],
             [
              0.1111111111111111,
              "#46039f"
             ],
             [
              0.2222222222222222,
              "#7201a8"
             ],
             [
              0.3333333333333333,
              "#9c179e"
             ],
             [
              0.4444444444444444,
              "#bd3786"
             ],
             [
              0.5555555555555556,
              "#d8576b"
             ],
             [
              0.6666666666666666,
              "#ed7953"
             ],
             [
              0.7777777777777778,
              "#fb9f3a"
             ],
             [
              0.8888888888888888,
              "#fdca26"
             ],
             [
              1,
              "#f0f921"
             ]
            ],
            "type": "heatmap"
           }
          ],
          "heatmapgl": [
           {
            "colorbar": {
             "outlinewidth": 0,
             "ticks": ""
            },
            "colorscale": [
             [
              0,
              "#0d0887"
             ],
             [
              0.1111111111111111,
              "#46039f"
             ],
             [
              0.2222222222222222,
              "#7201a8"
             ],
             [
              0.3333333333333333,
              "#9c179e"
             ],
             [
              0.4444444444444444,
              "#bd3786"
             ],
             [
              0.5555555555555556,
              "#d8576b"
             ],
             [
              0.6666666666666666,
              "#ed7953"
             ],
             [
              0.7777777777777778,
              "#fb9f3a"
             ],
             [
              0.8888888888888888,
              "#fdca26"
             ],
             [
              1,
              "#f0f921"
             ]
            ],
            "type": "heatmapgl"
           }
          ],
          "histogram": [
           {
            "marker": {
             "pattern": {
              "fillmode": "overlay",
              "size": 10,
              "solidity": 0.2
             }
            },
            "type": "histogram"
           }
          ],
          "histogram2d": [
           {
            "colorbar": {
             "outlinewidth": 0,
             "ticks": ""
            },
            "colorscale": [
             [
              0,
              "#0d0887"
             ],
             [
              0.1111111111111111,
              "#46039f"
             ],
             [
              0.2222222222222222,
              "#7201a8"
             ],
             [
              0.3333333333333333,
              "#9c179e"
             ],
             [
              0.4444444444444444,
              "#bd3786"
             ],
             [
              0.5555555555555556,
              "#d8576b"
             ],
             [
              0.6666666666666666,
              "#ed7953"
             ],
             [
              0.7777777777777778,
              "#fb9f3a"
             ],
             [
              0.8888888888888888,
              "#fdca26"
             ],
             [
              1,
              "#f0f921"
             ]
            ],
            "type": "histogram2d"
           }
          ],
          "histogram2dcontour": [
           {
            "colorbar": {
             "outlinewidth": 0,
             "ticks": ""
            },
            "colorscale": [
             [
              0,
              "#0d0887"
             ],
             [
              0.1111111111111111,
              "#46039f"
             ],
             [
              0.2222222222222222,
              "#7201a8"
             ],
             [
              0.3333333333333333,
              "#9c179e"
             ],
             [
              0.4444444444444444,
              "#bd3786"
             ],
             [
              0.5555555555555556,
              "#d8576b"
             ],
             [
              0.6666666666666666,
              "#ed7953"
             ],
             [
              0.7777777777777778,
              "#fb9f3a"
             ],
             [
              0.8888888888888888,
              "#fdca26"
             ],
             [
              1,
              "#f0f921"
             ]
            ],
            "type": "histogram2dcontour"
           }
          ],
          "mesh3d": [
           {
            "colorbar": {
             "outlinewidth": 0,
             "ticks": ""
            },
            "type": "mesh3d"
           }
          ],
          "parcoords": [
           {
            "line": {
             "colorbar": {
              "outlinewidth": 0,
              "ticks": ""
             }
            },
            "type": "parcoords"
           }
          ],
          "pie": [
           {
            "automargin": true,
            "type": "pie"
           }
          ],
          "scatter": [
           {
            "marker": {
             "colorbar": {
              "outlinewidth": 0,
              "ticks": ""
             }
            },
            "type": "scatter"
           }
          ],
          "scatter3d": [
           {
            "line": {
             "colorbar": {
              "outlinewidth": 0,
              "ticks": ""
             }
            },
            "marker": {
             "colorbar": {
              "outlinewidth": 0,
              "ticks": ""
             }
            },
            "type": "scatter3d"
           }
          ],
          "scattercarpet": [
           {
            "marker": {
             "colorbar": {
              "outlinewidth": 0,
              "ticks": ""
             }
            },
            "type": "scattercarpet"
           }
          ],
          "scattergeo": [
           {
            "marker": {
             "colorbar": {
              "outlinewidth": 0,
              "ticks": ""
             }
            },
            "type": "scattergeo"
           }
          ],
          "scattergl": [
           {
            "marker": {
             "colorbar": {
              "outlinewidth": 0,
              "ticks": ""
             }
            },
            "type": "scattergl"
           }
          ],
          "scattermapbox": [
           {
            "marker": {
             "colorbar": {
              "outlinewidth": 0,
              "ticks": ""
             }
            },
            "type": "scattermapbox"
           }
          ],
          "scatterpolar": [
           {
            "marker": {
             "colorbar": {
              "outlinewidth": 0,
              "ticks": ""
             }
            },
            "type": "scatterpolar"
           }
          ],
          "scatterpolargl": [
           {
            "marker": {
             "colorbar": {
              "outlinewidth": 0,
              "ticks": ""
             }
            },
            "type": "scatterpolargl"
           }
          ],
          "scatterternary": [
           {
            "marker": {
             "colorbar": {
              "outlinewidth": 0,
              "ticks": ""
             }
            },
            "type": "scatterternary"
           }
          ],
          "surface": [
           {
            "colorbar": {
             "outlinewidth": 0,
             "ticks": ""
            },
            "colorscale": [
             [
              0,
              "#0d0887"
             ],
             [
              0.1111111111111111,
              "#46039f"
             ],
             [
              0.2222222222222222,
              "#7201a8"
             ],
             [
              0.3333333333333333,
              "#9c179e"
             ],
             [
              0.4444444444444444,
              "#bd3786"
             ],
             [
              0.5555555555555556,
              "#d8576b"
             ],
             [
              0.6666666666666666,
              "#ed7953"
             ],
             [
              0.7777777777777778,
              "#fb9f3a"
             ],
             [
              0.8888888888888888,
              "#fdca26"
             ],
             [
              1,
              "#f0f921"
             ]
            ],
            "type": "surface"
           }
          ],
          "table": [
           {
            "cells": {
             "fill": {
              "color": "#EBF0F8"
             },
             "line": {
              "color": "white"
             }
            },
            "header": {
             "fill": {
              "color": "#C8D4E3"
             },
             "line": {
              "color": "white"
             }
            },
            "type": "table"
           }
          ]
         },
         "layout": {
          "annotationdefaults": {
           "arrowcolor": "#2a3f5f",
           "arrowhead": 0,
           "arrowwidth": 1
          },
          "autotypenumbers": "strict",
          "coloraxis": {
           "colorbar": {
            "outlinewidth": 0,
            "ticks": ""
           }
          },
          "colorscale": {
           "diverging": [
            [
             0,
             "#8e0152"
            ],
            [
             0.1,
             "#c51b7d"
            ],
            [
             0.2,
             "#de77ae"
            ],
            [
             0.3,
             "#f1b6da"
            ],
            [
             0.4,
             "#fde0ef"
            ],
            [
             0.5,
             "#f7f7f7"
            ],
            [
             0.6,
             "#e6f5d0"
            ],
            [
             0.7,
             "#b8e186"
            ],
            [
             0.8,
             "#7fbc41"
            ],
            [
             0.9,
             "#4d9221"
            ],
            [
             1,
             "#276419"
            ]
           ],
           "sequential": [
            [
             0,
             "#0d0887"
            ],
            [
             0.1111111111111111,
             "#46039f"
            ],
            [
             0.2222222222222222,
             "#7201a8"
            ],
            [
             0.3333333333333333,
             "#9c179e"
            ],
            [
             0.4444444444444444,
             "#bd3786"
            ],
            [
             0.5555555555555556,
             "#d8576b"
            ],
            [
             0.6666666666666666,
             "#ed7953"
            ],
            [
             0.7777777777777778,
             "#fb9f3a"
            ],
            [
             0.8888888888888888,
             "#fdca26"
            ],
            [
             1,
             "#f0f921"
            ]
           ],
           "sequentialminus": [
            [
             0,
             "#0d0887"
            ],
            [
             0.1111111111111111,
             "#46039f"
            ],
            [
             0.2222222222222222,
             "#7201a8"
            ],
            [
             0.3333333333333333,
             "#9c179e"
            ],
            [
             0.4444444444444444,
             "#bd3786"
            ],
            [
             0.5555555555555556,
             "#d8576b"
            ],
            [
             0.6666666666666666,
             "#ed7953"
            ],
            [
             0.7777777777777778,
             "#fb9f3a"
            ],
            [
             0.8888888888888888,
             "#fdca26"
            ],
            [
             1,
             "#f0f921"
            ]
           ]
          },
          "colorway": [
           "#636efa",
           "#EF553B",
           "#00cc96",
           "#ab63fa",
           "#FFA15A",
           "#19d3f3",
           "#FF6692",
           "#B6E880",
           "#FF97FF",
           "#FECB52"
          ],
          "font": {
           "color": "#2a3f5f"
          },
          "geo": {
           "bgcolor": "white",
           "lakecolor": "white",
           "landcolor": "#E5ECF6",
           "showlakes": true,
           "showland": true,
           "subunitcolor": "white"
          },
          "hoverlabel": {
           "align": "left"
          },
          "hovermode": "closest",
          "mapbox": {
           "style": "light"
          },
          "paper_bgcolor": "white",
          "plot_bgcolor": "#E5ECF6",
          "polar": {
           "angularaxis": {
            "gridcolor": "white",
            "linecolor": "white",
            "ticks": ""
           },
           "bgcolor": "#E5ECF6",
           "radialaxis": {
            "gridcolor": "white",
            "linecolor": "white",
            "ticks": ""
           }
          },
          "scene": {
           "xaxis": {
            "backgroundcolor": "#E5ECF6",
            "gridcolor": "white",
            "gridwidth": 2,
            "linecolor": "white",
            "showbackground": true,
            "ticks": "",
            "zerolinecolor": "white"
           },
           "yaxis": {
            "backgroundcolor": "#E5ECF6",
            "gridcolor": "white",
            "gridwidth": 2,
            "linecolor": "white",
            "showbackground": true,
            "ticks": "",
            "zerolinecolor": "white"
           },
           "zaxis": {
            "backgroundcolor": "#E5ECF6",
            "gridcolor": "white",
            "gridwidth": 2,
            "linecolor": "white",
            "showbackground": true,
            "ticks": "",
            "zerolinecolor": "white"
           }
          },
          "shapedefaults": {
           "line": {
            "color": "#2a3f5f"
           }
          },
          "ternary": {
           "aaxis": {
            "gridcolor": "white",
            "linecolor": "white",
            "ticks": ""
           },
           "baxis": {
            "gridcolor": "white",
            "linecolor": "white",
            "ticks": ""
           },
           "bgcolor": "#E5ECF6",
           "caxis": {
            "gridcolor": "white",
            "linecolor": "white",
            "ticks": ""
           }
          },
          "title": {
           "x": 0.05
          },
          "xaxis": {
           "automargin": true,
           "gridcolor": "white",
           "linecolor": "white",
           "ticks": "",
           "title": {
            "standoff": 15
           },
           "zerolinecolor": "white",
           "zerolinewidth": 2
          },
          "yaxis": {
           "automargin": true,
           "gridcolor": "white",
           "linecolor": "white",
           "ticks": "",
           "title": {
            "standoff": 15
           },
           "zerolinecolor": "white",
           "zerolinewidth": 2
          }
         }
        },
        "title": {
         "text": "Total Revenue by Age Group"
        },
        "xaxis": {
         "anchor": "y",
         "domain": [
          0,
          1
         ],
         "title": {
          "text": "AgeRange"
         }
        },
        "yaxis": {
         "anchor": "x",
         "domain": [
          0,
          1
         ],
         "title": {
          "text": "TotalSpend"
         }
        }
       }
      }
     },
     "metadata": {},
     "output_type": "display_data"
    }
   ],
   "source": [
    "fig = px.bar(grouped_df, x='AgeRange', y='TotalSpend', title='Total Revenue by Age Group', color_discrete_sequence=['rgb(55, 83, 109)']*5)\n",
    "fig.show()"
   ]
  },
  {
   "cell_type": "markdown",
   "metadata": {},
   "source": [
    "Middle-aged customers (40+ years) form our largest buying group. This could be due to these customers being the primary breadwinners for the family."
   ]
  },
  {
   "cell_type": "code",
   "execution_count": 53,
   "metadata": {},
   "outputs": [
    {
     "data": {
      "application/vnd.plotly.v1+json": {
       "config": {
        "plotlyServerURL": "https://plot.ly"
       },
       "data": [
        {
         "alignmentgroup": "True",
         "hovertemplate": "variable=Wines<br>AgeRange=%{x}<br>value=%{y}<extra></extra>",
         "legendgroup": "Wines",
         "marker": {
          "color": "#521010",
          "pattern": {
           "shape": ""
          }
         },
         "name": "Wines",
         "offsetgroup": "Wines",
         "orientation": "v",
         "showlegend": true,
         "textposition": "auto",
         "type": "bar",
         "x": [
          "<30",
          "30-40",
          "40-50",
          "50-65",
          "65+"
         ],
         "xaxis": "x",
         "y": [
          75271,
          151042,
          190403,
          232795,
          30527
         ],
         "yaxis": "y"
        },
        {
         "alignmentgroup": "True",
         "hovertemplate": "variable=Fruits<br>AgeRange=%{x}<br>value=%{y}<extra></extra>",
         "legendgroup": "Fruits",
         "marker": {
          "color": "#55ab18",
          "pattern": {
           "shape": ""
          }
         },
         "name": "Fruits",
         "offsetgroup": "Fruits",
         "orientation": "v",
         "showlegend": true,
         "textposition": "auto",
         "type": "bar",
         "x": [
          "<30",
          "30-40",
          "40-50",
          "50-65",
          "65+"
         ],
         "xaxis": "x",
         "y": [
          9010,
          14211,
          15717,
          16895,
          2934
         ],
         "yaxis": "y"
        },
        {
         "alignmentgroup": "True",
         "hovertemplate": "variable=Meat<br>AgeRange=%{x}<br>value=%{y}<extra></extra>",
         "legendgroup": "Meat",
         "marker": {
          "color": "#b53128",
          "pattern": {
           "shape": ""
          }
         },
         "name": "Meat",
         "offsetgroup": "Meat",
         "orientation": "v",
         "showlegend": true,
         "textposition": "auto",
         "type": "bar",
         "x": [
          "<30",
          "30-40",
          "40-50",
          "50-65",
          "65+"
         ],
         "xaxis": "x",
         "y": [
          59483,
          87903,
          93979,
          113145,
          18883
         ],
         "yaxis": "y"
        },
        {
         "alignmentgroup": "True",
         "hovertemplate": "variable=Fish<br>AgeRange=%{x}<br>value=%{y}<extra></extra>",
         "legendgroup": "Fish",
         "marker": {
          "color": "#9e34e0",
          "pattern": {
           "shape": ""
          }
         },
         "name": "Fish",
         "offsetgroup": "Fish",
         "orientation": "v",
         "showlegend": true,
         "textposition": "auto",
         "type": "bar",
         "x": [
          "<30",
          "30-40",
          "40-50",
          "50-65",
          "65+"
         ],
         "xaxis": "x",
         "y": [
          11982,
          21042,
          20665,
          26263,
          3987
         ],
         "yaxis": "y"
        },
        {
         "alignmentgroup": "True",
         "hovertemplate": "variable=Sweet<br>AgeRange=%{x}<br>value=%{y}<extra></extra>",
         "legendgroup": "Sweet",
         "marker": {
          "color": "#2eb1d9",
          "pattern": {
           "shape": ""
          }
         },
         "name": "Sweet",
         "offsetgroup": "Sweet",
         "orientation": "v",
         "showlegend": true,
         "textposition": "auto",
         "type": "bar",
         "x": [
          "<30",
          "30-40",
          "40-50",
          "50-65",
          "65+"
         ],
         "xaxis": "x",
         "y": [
          9141,
          15014,
          15787,
          18000,
          2611
         ],
         "yaxis": "y"
        },
        {
         "alignmentgroup": "True",
         "hovertemplate": "variable=Gold<br>AgeRange=%{x}<br>value=%{y}<extra></extra>",
         "legendgroup": "Gold",
         "marker": {
          "color": "#999912",
          "pattern": {
           "shape": ""
          }
         },
         "name": "Gold",
         "offsetgroup": "Gold",
         "orientation": "v",
         "showlegend": true,
         "textposition": "auto",
         "type": "bar",
         "x": [
          "<30",
          "30-40",
          "40-50",
          "50-65",
          "65+"
         ],
         "xaxis": "x",
         "y": [
          13461,
          23424,
          27211,
          31361,
          2901
         ],
         "yaxis": "y"
        }
       ],
       "layout": {
        "barmode": "group",
        "legend": {
         "title": {
          "text": "Product"
         },
         "tracegroupgap": 0
        },
        "template": {
         "data": {
          "bar": [
           {
            "error_x": {
             "color": "#2a3f5f"
            },
            "error_y": {
             "color": "#2a3f5f"
            },
            "marker": {
             "line": {
              "color": "#E5ECF6",
              "width": 0.5
             },
             "pattern": {
              "fillmode": "overlay",
              "size": 10,
              "solidity": 0.2
             }
            },
            "type": "bar"
           }
          ],
          "barpolar": [
           {
            "marker": {
             "line": {
              "color": "#E5ECF6",
              "width": 0.5
             },
             "pattern": {
              "fillmode": "overlay",
              "size": 10,
              "solidity": 0.2
             }
            },
            "type": "barpolar"
           }
          ],
          "carpet": [
           {
            "aaxis": {
             "endlinecolor": "#2a3f5f",
             "gridcolor": "white",
             "linecolor": "white",
             "minorgridcolor": "white",
             "startlinecolor": "#2a3f5f"
            },
            "baxis": {
             "endlinecolor": "#2a3f5f",
             "gridcolor": "white",
             "linecolor": "white",
             "minorgridcolor": "white",
             "startlinecolor": "#2a3f5f"
            },
            "type": "carpet"
           }
          ],
          "choropleth": [
           {
            "colorbar": {
             "outlinewidth": 0,
             "ticks": ""
            },
            "type": "choropleth"
           }
          ],
          "contour": [
           {
            "colorbar": {
             "outlinewidth": 0,
             "ticks": ""
            },
            "colorscale": [
             [
              0,
              "#0d0887"
             ],
             [
              0.1111111111111111,
              "#46039f"
             ],
             [
              0.2222222222222222,
              "#7201a8"
             ],
             [
              0.3333333333333333,
              "#9c179e"
             ],
             [
              0.4444444444444444,
              "#bd3786"
             ],
             [
              0.5555555555555556,
              "#d8576b"
             ],
             [
              0.6666666666666666,
              "#ed7953"
             ],
             [
              0.7777777777777778,
              "#fb9f3a"
             ],
             [
              0.8888888888888888,
              "#fdca26"
             ],
             [
              1,
              "#f0f921"
             ]
            ],
            "type": "contour"
           }
          ],
          "contourcarpet": [
           {
            "colorbar": {
             "outlinewidth": 0,
             "ticks": ""
            },
            "type": "contourcarpet"
           }
          ],
          "heatmap": [
           {
            "colorbar": {
             "outlinewidth": 0,
             "ticks": ""
            },
            "colorscale": [
             [
              0,
              "#0d0887"
             ],
             [
              0.1111111111111111,
              "#46039f"
             ],
             [
              0.2222222222222222,
              "#7201a8"
             ],
             [
              0.3333333333333333,
              "#9c179e"
             ],
             [
              0.4444444444444444,
              "#bd3786"
             ],
             [
              0.5555555555555556,
              "#d8576b"
             ],
             [
              0.6666666666666666,
              "#ed7953"
             ],
             [
              0.7777777777777778,
              "#fb9f3a"
             ],
             [
              0.8888888888888888,
              "#fdca26"
             ],
             [
              1,
              "#f0f921"
             ]
            ],
            "type": "heatmap"
           }
          ],
          "heatmapgl": [
           {
            "colorbar": {
             "outlinewidth": 0,
             "ticks": ""
            },
            "colorscale": [
             [
              0,
              "#0d0887"
             ],
             [
              0.1111111111111111,
              "#46039f"
             ],
             [
              0.2222222222222222,
              "#7201a8"
             ],
             [
              0.3333333333333333,
              "#9c179e"
             ],
             [
              0.4444444444444444,
              "#bd3786"
             ],
             [
              0.5555555555555556,
              "#d8576b"
             ],
             [
              0.6666666666666666,
              "#ed7953"
             ],
             [
              0.7777777777777778,
              "#fb9f3a"
             ],
             [
              0.8888888888888888,
              "#fdca26"
             ],
             [
              1,
              "#f0f921"
             ]
            ],
            "type": "heatmapgl"
           }
          ],
          "histogram": [
           {
            "marker": {
             "pattern": {
              "fillmode": "overlay",
              "size": 10,
              "solidity": 0.2
             }
            },
            "type": "histogram"
           }
          ],
          "histogram2d": [
           {
            "colorbar": {
             "outlinewidth": 0,
             "ticks": ""
            },
            "colorscale": [
             [
              0,
              "#0d0887"
             ],
             [
              0.1111111111111111,
              "#46039f"
             ],
             [
              0.2222222222222222,
              "#7201a8"
             ],
             [
              0.3333333333333333,
              "#9c179e"
             ],
             [
              0.4444444444444444,
              "#bd3786"
             ],
             [
              0.5555555555555556,
              "#d8576b"
             ],
             [
              0.6666666666666666,
              "#ed7953"
             ],
             [
              0.7777777777777778,
              "#fb9f3a"
             ],
             [
              0.8888888888888888,
              "#fdca26"
             ],
             [
              1,
              "#f0f921"
             ]
            ],
            "type": "histogram2d"
           }
          ],
          "histogram2dcontour": [
           {
            "colorbar": {
             "outlinewidth": 0,
             "ticks": ""
            },
            "colorscale": [
             [
              0,
              "#0d0887"
             ],
             [
              0.1111111111111111,
              "#46039f"
             ],
             [
              0.2222222222222222,
              "#7201a8"
             ],
             [
              0.3333333333333333,
              "#9c179e"
             ],
             [
              0.4444444444444444,
              "#bd3786"
             ],
             [
              0.5555555555555556,
              "#d8576b"
             ],
             [
              0.6666666666666666,
              "#ed7953"
             ],
             [
              0.7777777777777778,
              "#fb9f3a"
             ],
             [
              0.8888888888888888,
              "#fdca26"
             ],
             [
              1,
              "#f0f921"
             ]
            ],
            "type": "histogram2dcontour"
           }
          ],
          "mesh3d": [
           {
            "colorbar": {
             "outlinewidth": 0,
             "ticks": ""
            },
            "type": "mesh3d"
           }
          ],
          "parcoords": [
           {
            "line": {
             "colorbar": {
              "outlinewidth": 0,
              "ticks": ""
             }
            },
            "type": "parcoords"
           }
          ],
          "pie": [
           {
            "automargin": true,
            "type": "pie"
           }
          ],
          "scatter": [
           {
            "marker": {
             "colorbar": {
              "outlinewidth": 0,
              "ticks": ""
             }
            },
            "type": "scatter"
           }
          ],
          "scatter3d": [
           {
            "line": {
             "colorbar": {
              "outlinewidth": 0,
              "ticks": ""
             }
            },
            "marker": {
             "colorbar": {
              "outlinewidth": 0,
              "ticks": ""
             }
            },
            "type": "scatter3d"
           }
          ],
          "scattercarpet": [
           {
            "marker": {
             "colorbar": {
              "outlinewidth": 0,
              "ticks": ""
             }
            },
            "type": "scattercarpet"
           }
          ],
          "scattergeo": [
           {
            "marker": {
             "colorbar": {
              "outlinewidth": 0,
              "ticks": ""
             }
            },
            "type": "scattergeo"
           }
          ],
          "scattergl": [
           {
            "marker": {
             "colorbar": {
              "outlinewidth": 0,
              "ticks": ""
             }
            },
            "type": "scattergl"
           }
          ],
          "scattermapbox": [
           {
            "marker": {
             "colorbar": {
              "outlinewidth": 0,
              "ticks": ""
             }
            },
            "type": "scattermapbox"
           }
          ],
          "scatterpolar": [
           {
            "marker": {
             "colorbar": {
              "outlinewidth": 0,
              "ticks": ""
             }
            },
            "type": "scatterpolar"
           }
          ],
          "scatterpolargl": [
           {
            "marker": {
             "colorbar": {
              "outlinewidth": 0,
              "ticks": ""
             }
            },
            "type": "scatterpolargl"
           }
          ],
          "scatterternary": [
           {
            "marker": {
             "colorbar": {
              "outlinewidth": 0,
              "ticks": ""
             }
            },
            "type": "scatterternary"
           }
          ],
          "surface": [
           {
            "colorbar": {
             "outlinewidth": 0,
             "ticks": ""
            },
            "colorscale": [
             [
              0,
              "#0d0887"
             ],
             [
              0.1111111111111111,
              "#46039f"
             ],
             [
              0.2222222222222222,
              "#7201a8"
             ],
             [
              0.3333333333333333,
              "#9c179e"
             ],
             [
              0.4444444444444444,
              "#bd3786"
             ],
             [
              0.5555555555555556,
              "#d8576b"
             ],
             [
              0.6666666666666666,
              "#ed7953"
             ],
             [
              0.7777777777777778,
              "#fb9f3a"
             ],
             [
              0.8888888888888888,
              "#fdca26"
             ],
             [
              1,
              "#f0f921"
             ]
            ],
            "type": "surface"
           }
          ],
          "table": [
           {
            "cells": {
             "fill": {
              "color": "#EBF0F8"
             },
             "line": {
              "color": "white"
             }
            },
            "header": {
             "fill": {
              "color": "#C8D4E3"
             },
             "line": {
              "color": "white"
             }
            },
            "type": "table"
           }
          ]
         },
         "layout": {
          "annotationdefaults": {
           "arrowcolor": "#2a3f5f",
           "arrowhead": 0,
           "arrowwidth": 1
          },
          "autotypenumbers": "strict",
          "coloraxis": {
           "colorbar": {
            "outlinewidth": 0,
            "ticks": ""
           }
          },
          "colorscale": {
           "diverging": [
            [
             0,
             "#8e0152"
            ],
            [
             0.1,
             "#c51b7d"
            ],
            [
             0.2,
             "#de77ae"
            ],
            [
             0.3,
             "#f1b6da"
            ],
            [
             0.4,
             "#fde0ef"
            ],
            [
             0.5,
             "#f7f7f7"
            ],
            [
             0.6,
             "#e6f5d0"
            ],
            [
             0.7,
             "#b8e186"
            ],
            [
             0.8,
             "#7fbc41"
            ],
            [
             0.9,
             "#4d9221"
            ],
            [
             1,
             "#276419"
            ]
           ],
           "sequential": [
            [
             0,
             "#0d0887"
            ],
            [
             0.1111111111111111,
             "#46039f"
            ],
            [
             0.2222222222222222,
             "#7201a8"
            ],
            [
             0.3333333333333333,
             "#9c179e"
            ],
            [
             0.4444444444444444,
             "#bd3786"
            ],
            [
             0.5555555555555556,
             "#d8576b"
            ],
            [
             0.6666666666666666,
             "#ed7953"
            ],
            [
             0.7777777777777778,
             "#fb9f3a"
            ],
            [
             0.8888888888888888,
             "#fdca26"
            ],
            [
             1,
             "#f0f921"
            ]
           ],
           "sequentialminus": [
            [
             0,
             "#0d0887"
            ],
            [
             0.1111111111111111,
             "#46039f"
            ],
            [
             0.2222222222222222,
             "#7201a8"
            ],
            [
             0.3333333333333333,
             "#9c179e"
            ],
            [
             0.4444444444444444,
             "#bd3786"
            ],
            [
             0.5555555555555556,
             "#d8576b"
            ],
            [
             0.6666666666666666,
             "#ed7953"
            ],
            [
             0.7777777777777778,
             "#fb9f3a"
            ],
            [
             0.8888888888888888,
             "#fdca26"
            ],
            [
             1,
             "#f0f921"
            ]
           ]
          },
          "colorway": [
           "#636efa",
           "#EF553B",
           "#00cc96",
           "#ab63fa",
           "#FFA15A",
           "#19d3f3",
           "#FF6692",
           "#B6E880",
           "#FF97FF",
           "#FECB52"
          ],
          "font": {
           "color": "#2a3f5f"
          },
          "geo": {
           "bgcolor": "white",
           "lakecolor": "white",
           "landcolor": "#E5ECF6",
           "showlakes": true,
           "showland": true,
           "subunitcolor": "white"
          },
          "hoverlabel": {
           "align": "left"
          },
          "hovermode": "closest",
          "mapbox": {
           "style": "light"
          },
          "paper_bgcolor": "white",
          "plot_bgcolor": "#E5ECF6",
          "polar": {
           "angularaxis": {
            "gridcolor": "white",
            "linecolor": "white",
            "ticks": ""
           },
           "bgcolor": "#E5ECF6",
           "radialaxis": {
            "gridcolor": "white",
            "linecolor": "white",
            "ticks": ""
           }
          },
          "scene": {
           "xaxis": {
            "backgroundcolor": "#E5ECF6",
            "gridcolor": "white",
            "gridwidth": 2,
            "linecolor": "white",
            "showbackground": true,
            "ticks": "",
            "zerolinecolor": "white"
           },
           "yaxis": {
            "backgroundcolor": "#E5ECF6",
            "gridcolor": "white",
            "gridwidth": 2,
            "linecolor": "white",
            "showbackground": true,
            "ticks": "",
            "zerolinecolor": "white"
           },
           "zaxis": {
            "backgroundcolor": "#E5ECF6",
            "gridcolor": "white",
            "gridwidth": 2,
            "linecolor": "white",
            "showbackground": true,
            "ticks": "",
            "zerolinecolor": "white"
           }
          },
          "shapedefaults": {
           "line": {
            "color": "#2a3f5f"
           }
          },
          "ternary": {
           "aaxis": {
            "gridcolor": "white",
            "linecolor": "white",
            "ticks": ""
           },
           "baxis": {
            "gridcolor": "white",
            "linecolor": "white",
            "ticks": ""
           },
           "bgcolor": "#E5ECF6",
           "caxis": {
            "gridcolor": "white",
            "linecolor": "white",
            "ticks": ""
           }
          },
          "title": {
           "x": 0.05
          },
          "xaxis": {
           "automargin": true,
           "gridcolor": "white",
           "linecolor": "white",
           "ticks": "",
           "title": {
            "standoff": 15
           },
           "zerolinecolor": "white",
           "zerolinewidth": 2
          },
          "yaxis": {
           "automargin": true,
           "gridcolor": "white",
           "linecolor": "white",
           "ticks": "",
           "title": {
            "standoff": 15
           },
           "zerolinecolor": "white",
           "zerolinewidth": 2
          }
         }
        },
        "title": {
         "text": "Product-wise Revenue by Age Group"
        },
        "xaxis": {
         "anchor": "y",
         "domain": [
          0,
          1
         ],
         "title": {
          "text": "AgeRange"
         }
        },
        "yaxis": {
         "anchor": "x",
         "domain": [
          0,
          1
         ],
         "title": {
          "text": "value"
         }
        }
       }
      }
     },
     "metadata": {},
     "output_type": "display_data"
    }
   ],
   "source": [
    "color_sequence = ['#521010', '#55ab18', '#b53128', '#9e34e0', '#2eb1d9', '#999912']\n",
    "fig = px.bar(grouped_df, x='AgeRange', y=['Wines', 'Fruits', 'Meat', 'Fish', 'Sweet', 'Gold'], barmode='group', title='Product-wise Revenue by Age Group', color_discrete_sequence=color_sequence)\n",
    "fig.layout.legend.update(title='Product')\n",
    "fig.show()"
   ]
  },
  {
   "cell_type": "markdown",
   "metadata": {},
   "source": [
    "Wines generate the most revenue across all customer age groups, followed by meat products. This indicates our fictional company might be a **Wine & Meat** company."
   ]
  },
  {
   "cell_type": "code",
   "execution_count": null,
   "metadata": {},
   "outputs": [],
   "source": [
    "# from collections import Counter\n",
    "# print(Counter(df['Education']))\n",
    "# %timeit -n 10000 df.Education.value_counts()\n",
    "# %timeit -n 10000 Counter(df['Education'])"
   ]
  },
  {
   "cell_type": "code",
   "execution_count": null,
   "metadata": {},
   "outputs": [],
   "source": [
    "# print(df.loc[307:, ['Marital_Status', 'Income']].head(6))"
   ]
  },
  {
   "cell_type": "markdown",
   "metadata": {},
   "source": [
    "Handle Dt_Customer and Recency"
   ]
  },
  {
   "cell_type": "code",
   "execution_count": 54,
   "metadata": {},
   "outputs": [
    {
     "data": {
      "text/html": [
       "<div>\n",
       "<style scoped>\n",
       "    .dataframe tbody tr th:only-of-type {\n",
       "        vertical-align: middle;\n",
       "    }\n",
       "\n",
       "    .dataframe tbody tr th {\n",
       "        vertical-align: top;\n",
       "    }\n",
       "\n",
       "    .dataframe thead th {\n",
       "        text-align: right;\n",
       "    }\n",
       "</style>\n",
       "<table border=\"1\" class=\"dataframe\">\n",
       "  <thead>\n",
       "    <tr style=\"text-align: right;\">\n",
       "      <th></th>\n",
       "      <th>Level</th>\n",
       "      <th>Count</th>\n",
       "    </tr>\n",
       "  </thead>\n",
       "  <tbody>\n",
       "    <tr>\n",
       "      <th>0</th>\n",
       "      <td>Graduation</td>\n",
       "      <td>1127</td>\n",
       "    </tr>\n",
       "    <tr>\n",
       "      <th>1</th>\n",
       "      <td>PhD</td>\n",
       "      <td>485</td>\n",
       "    </tr>\n",
       "    <tr>\n",
       "      <th>2</th>\n",
       "      <td>Master</td>\n",
       "      <td>370</td>\n",
       "    </tr>\n",
       "    <tr>\n",
       "      <th>3</th>\n",
       "      <td>2n Cycle</td>\n",
       "      <td>201</td>\n",
       "    </tr>\n",
       "    <tr>\n",
       "      <th>4</th>\n",
       "      <td>Basic</td>\n",
       "      <td>54</td>\n",
       "    </tr>\n",
       "  </tbody>\n",
       "</table>\n",
       "</div>"
      ],
      "text/plain": [
       "        Level  Count\n",
       "0  Graduation   1127\n",
       "1         PhD    485\n",
       "2      Master    370\n",
       "3    2n Cycle    201\n",
       "4       Basic     54"
      ]
     },
     "execution_count": 54,
     "metadata": {},
     "output_type": "execute_result"
    }
   ],
   "source": [
    "edu_df = df.Education.value_counts().reset_index()\n",
    "edu_df = edu_df.rename(columns={'index': 'Level', 'Education': 'Count'})\n",
    "edu_df"
   ]
  },
  {
   "cell_type": "code",
   "execution_count": 55,
   "metadata": {},
   "outputs": [
    {
     "data": {
      "application/vnd.plotly.v1+json": {
       "config": {
        "plotlyServerURL": "https://plot.ly"
       },
       "data": [
        {
         "customdata": [
          [
           "Graduation"
          ],
          [
           "PhD"
          ],
          [
           "Master"
          ],
          [
           "2n Cycle"
          ],
          [
           "Basic"
          ]
         ],
         "domain": {
          "x": [
           0,
           1
          ],
          "y": [
           0,
           1
          ]
         },
         "hovertemplate": "Level=%{customdata[0]}<br>Count=%{value}<extra></extra>",
         "labels": [
          "Graduation",
          "PhD",
          "Master",
          "2n Cycle",
          "Basic"
         ],
         "legendgroup": "",
         "marker": {
          "colors": [
           "#520810",
           "#791412",
           "#a43741",
           "goldenrod",
           "#a29994"
          ]
         },
         "name": "",
         "pull": [
          0,
          0,
          0,
          0.15,
          0
         ],
         "showlegend": true,
         "type": "pie",
         "values": [
          1127,
          485,
          370,
          201,
          54
         ]
        }
       ],
       "layout": {
        "legend": {
         "tracegroupgap": 0
        },
        "template": {
         "data": {
          "bar": [
           {
            "error_x": {
             "color": "#2a3f5f"
            },
            "error_y": {
             "color": "#2a3f5f"
            },
            "marker": {
             "line": {
              "color": "#E5ECF6",
              "width": 0.5
             },
             "pattern": {
              "fillmode": "overlay",
              "size": 10,
              "solidity": 0.2
             }
            },
            "type": "bar"
           }
          ],
          "barpolar": [
           {
            "marker": {
             "line": {
              "color": "#E5ECF6",
              "width": 0.5
             },
             "pattern": {
              "fillmode": "overlay",
              "size": 10,
              "solidity": 0.2
             }
            },
            "type": "barpolar"
           }
          ],
          "carpet": [
           {
            "aaxis": {
             "endlinecolor": "#2a3f5f",
             "gridcolor": "white",
             "linecolor": "white",
             "minorgridcolor": "white",
             "startlinecolor": "#2a3f5f"
            },
            "baxis": {
             "endlinecolor": "#2a3f5f",
             "gridcolor": "white",
             "linecolor": "white",
             "minorgridcolor": "white",
             "startlinecolor": "#2a3f5f"
            },
            "type": "carpet"
           }
          ],
          "choropleth": [
           {
            "colorbar": {
             "outlinewidth": 0,
             "ticks": ""
            },
            "type": "choropleth"
           }
          ],
          "contour": [
           {
            "colorbar": {
             "outlinewidth": 0,
             "ticks": ""
            },
            "colorscale": [
             [
              0,
              "#0d0887"
             ],
             [
              0.1111111111111111,
              "#46039f"
             ],
             [
              0.2222222222222222,
              "#7201a8"
             ],
             [
              0.3333333333333333,
              "#9c179e"
             ],
             [
              0.4444444444444444,
              "#bd3786"
             ],
             [
              0.5555555555555556,
              "#d8576b"
             ],
             [
              0.6666666666666666,
              "#ed7953"
             ],
             [
              0.7777777777777778,
              "#fb9f3a"
             ],
             [
              0.8888888888888888,
              "#fdca26"
             ],
             [
              1,
              "#f0f921"
             ]
            ],
            "type": "contour"
           }
          ],
          "contourcarpet": [
           {
            "colorbar": {
             "outlinewidth": 0,
             "ticks": ""
            },
            "type": "contourcarpet"
           }
          ],
          "heatmap": [
           {
            "colorbar": {
             "outlinewidth": 0,
             "ticks": ""
            },
            "colorscale": [
             [
              0,
              "#0d0887"
             ],
             [
              0.1111111111111111,
              "#46039f"
             ],
             [
              0.2222222222222222,
              "#7201a8"
             ],
             [
              0.3333333333333333,
              "#9c179e"
             ],
             [
              0.4444444444444444,
              "#bd3786"
             ],
             [
              0.5555555555555556,
              "#d8576b"
             ],
             [
              0.6666666666666666,
              "#ed7953"
             ],
             [
              0.7777777777777778,
              "#fb9f3a"
             ],
             [
              0.8888888888888888,
              "#fdca26"
             ],
             [
              1,
              "#f0f921"
             ]
            ],
            "type": "heatmap"
           }
          ],
          "heatmapgl": [
           {
            "colorbar": {
             "outlinewidth": 0,
             "ticks": ""
            },
            "colorscale": [
             [
              0,
              "#0d0887"
             ],
             [
              0.1111111111111111,
              "#46039f"
             ],
             [
              0.2222222222222222,
              "#7201a8"
             ],
             [
              0.3333333333333333,
              "#9c179e"
             ],
             [
              0.4444444444444444,
              "#bd3786"
             ],
             [
              0.5555555555555556,
              "#d8576b"
             ],
             [
              0.6666666666666666,
              "#ed7953"
             ],
             [
              0.7777777777777778,
              "#fb9f3a"
             ],
             [
              0.8888888888888888,
              "#fdca26"
             ],
             [
              1,
              "#f0f921"
             ]
            ],
            "type": "heatmapgl"
           }
          ],
          "histogram": [
           {
            "marker": {
             "pattern": {
              "fillmode": "overlay",
              "size": 10,
              "solidity": 0.2
             }
            },
            "type": "histogram"
           }
          ],
          "histogram2d": [
           {
            "colorbar": {
             "outlinewidth": 0,
             "ticks": ""
            },
            "colorscale": [
             [
              0,
              "#0d0887"
             ],
             [
              0.1111111111111111,
              "#46039f"
             ],
             [
              0.2222222222222222,
              "#7201a8"
             ],
             [
              0.3333333333333333,
              "#9c179e"
             ],
             [
              0.4444444444444444,
              "#bd3786"
             ],
             [
              0.5555555555555556,
              "#d8576b"
             ],
             [
              0.6666666666666666,
              "#ed7953"
             ],
             [
              0.7777777777777778,
              "#fb9f3a"
             ],
             [
              0.8888888888888888,
              "#fdca26"
             ],
             [
              1,
              "#f0f921"
             ]
            ],
            "type": "histogram2d"
           }
          ],
          "histogram2dcontour": [
           {
            "colorbar": {
             "outlinewidth": 0,
             "ticks": ""
            },
            "colorscale": [
             [
              0,
              "#0d0887"
             ],
             [
              0.1111111111111111,
              "#46039f"
             ],
             [
              0.2222222222222222,
              "#7201a8"
             ],
             [
              0.3333333333333333,
              "#9c179e"
             ],
             [
              0.4444444444444444,
              "#bd3786"
             ],
             [
              0.5555555555555556,
              "#d8576b"
             ],
             [
              0.6666666666666666,
              "#ed7953"
             ],
             [
              0.7777777777777778,
              "#fb9f3a"
             ],
             [
              0.8888888888888888,
              "#fdca26"
             ],
             [
              1,
              "#f0f921"
             ]
            ],
            "type": "histogram2dcontour"
           }
          ],
          "mesh3d": [
           {
            "colorbar": {
             "outlinewidth": 0,
             "ticks": ""
            },
            "type": "mesh3d"
           }
          ],
          "parcoords": [
           {
            "line": {
             "colorbar": {
              "outlinewidth": 0,
              "ticks": ""
             }
            },
            "type": "parcoords"
           }
          ],
          "pie": [
           {
            "automargin": true,
            "type": "pie"
           }
          ],
          "scatter": [
           {
            "marker": {
             "colorbar": {
              "outlinewidth": 0,
              "ticks": ""
             }
            },
            "type": "scatter"
           }
          ],
          "scatter3d": [
           {
            "line": {
             "colorbar": {
              "outlinewidth": 0,
              "ticks": ""
             }
            },
            "marker": {
             "colorbar": {
              "outlinewidth": 0,
              "ticks": ""
             }
            },
            "type": "scatter3d"
           }
          ],
          "scattercarpet": [
           {
            "marker": {
             "colorbar": {
              "outlinewidth": 0,
              "ticks": ""
             }
            },
            "type": "scattercarpet"
           }
          ],
          "scattergeo": [
           {
            "marker": {
             "colorbar": {
              "outlinewidth": 0,
              "ticks": ""
             }
            },
            "type": "scattergeo"
           }
          ],
          "scattergl": [
           {
            "marker": {
             "colorbar": {
              "outlinewidth": 0,
              "ticks": ""
             }
            },
            "type": "scattergl"
           }
          ],
          "scattermapbox": [
           {
            "marker": {
             "colorbar": {
              "outlinewidth": 0,
              "ticks": ""
             }
            },
            "type": "scattermapbox"
           }
          ],
          "scatterpolar": [
           {
            "marker": {
             "colorbar": {
              "outlinewidth": 0,
              "ticks": ""
             }
            },
            "type": "scatterpolar"
           }
          ],
          "scatterpolargl": [
           {
            "marker": {
             "colorbar": {
              "outlinewidth": 0,
              "ticks": ""
             }
            },
            "type": "scatterpolargl"
           }
          ],
          "scatterternary": [
           {
            "marker": {
             "colorbar": {
              "outlinewidth": 0,
              "ticks": ""
             }
            },
            "type": "scatterternary"
           }
          ],
          "surface": [
           {
            "colorbar": {
             "outlinewidth": 0,
             "ticks": ""
            },
            "colorscale": [
             [
              0,
              "#0d0887"
             ],
             [
              0.1111111111111111,
              "#46039f"
             ],
             [
              0.2222222222222222,
              "#7201a8"
             ],
             [
              0.3333333333333333,
              "#9c179e"
             ],
             [
              0.4444444444444444,
              "#bd3786"
             ],
             [
              0.5555555555555556,
              "#d8576b"
             ],
             [
              0.6666666666666666,
              "#ed7953"
             ],
             [
              0.7777777777777778,
              "#fb9f3a"
             ],
             [
              0.8888888888888888,
              "#fdca26"
             ],
             [
              1,
              "#f0f921"
             ]
            ],
            "type": "surface"
           }
          ],
          "table": [
           {
            "cells": {
             "fill": {
              "color": "#EBF0F8"
             },
             "line": {
              "color": "white"
             }
            },
            "header": {
             "fill": {
              "color": "#C8D4E3"
             },
             "line": {
              "color": "white"
             }
            },
            "type": "table"
           }
          ]
         },
         "layout": {
          "annotationdefaults": {
           "arrowcolor": "#2a3f5f",
           "arrowhead": 0,
           "arrowwidth": 1
          },
          "autotypenumbers": "strict",
          "coloraxis": {
           "colorbar": {
            "outlinewidth": 0,
            "ticks": ""
           }
          },
          "colorscale": {
           "diverging": [
            [
             0,
             "#8e0152"
            ],
            [
             0.1,
             "#c51b7d"
            ],
            [
             0.2,
             "#de77ae"
            ],
            [
             0.3,
             "#f1b6da"
            ],
            [
             0.4,
             "#fde0ef"
            ],
            [
             0.5,
             "#f7f7f7"
            ],
            [
             0.6,
             "#e6f5d0"
            ],
            [
             0.7,
             "#b8e186"
            ],
            [
             0.8,
             "#7fbc41"
            ],
            [
             0.9,
             "#4d9221"
            ],
            [
             1,
             "#276419"
            ]
           ],
           "sequential": [
            [
             0,
             "#0d0887"
            ],
            [
             0.1111111111111111,
             "#46039f"
            ],
            [
             0.2222222222222222,
             "#7201a8"
            ],
            [
             0.3333333333333333,
             "#9c179e"
            ],
            [
             0.4444444444444444,
             "#bd3786"
            ],
            [
             0.5555555555555556,
             "#d8576b"
            ],
            [
             0.6666666666666666,
             "#ed7953"
            ],
            [
             0.7777777777777778,
             "#fb9f3a"
            ],
            [
             0.8888888888888888,
             "#fdca26"
            ],
            [
             1,
             "#f0f921"
            ]
           ],
           "sequentialminus": [
            [
             0,
             "#0d0887"
            ],
            [
             0.1111111111111111,
             "#46039f"
            ],
            [
             0.2222222222222222,
             "#7201a8"
            ],
            [
             0.3333333333333333,
             "#9c179e"
            ],
            [
             0.4444444444444444,
             "#bd3786"
            ],
            [
             0.5555555555555556,
             "#d8576b"
            ],
            [
             0.6666666666666666,
             "#ed7953"
            ],
            [
             0.7777777777777778,
             "#fb9f3a"
            ],
            [
             0.8888888888888888,
             "#fdca26"
            ],
            [
             1,
             "#f0f921"
            ]
           ]
          },
          "colorway": [
           "#636efa",
           "#EF553B",
           "#00cc96",
           "#ab63fa",
           "#FFA15A",
           "#19d3f3",
           "#FF6692",
           "#B6E880",
           "#FF97FF",
           "#FECB52"
          ],
          "font": {
           "color": "#2a3f5f"
          },
          "geo": {
           "bgcolor": "white",
           "lakecolor": "white",
           "landcolor": "#E5ECF6",
           "showlakes": true,
           "showland": true,
           "subunitcolor": "white"
          },
          "hoverlabel": {
           "align": "left"
          },
          "hovermode": "closest",
          "mapbox": {
           "style": "light"
          },
          "paper_bgcolor": "white",
          "plot_bgcolor": "#E5ECF6",
          "polar": {
           "angularaxis": {
            "gridcolor": "white",
            "linecolor": "white",
            "ticks": ""
           },
           "bgcolor": "#E5ECF6",
           "radialaxis": {
            "gridcolor": "white",
            "linecolor": "white",
            "ticks": ""
           }
          },
          "scene": {
           "xaxis": {
            "backgroundcolor": "#E5ECF6",
            "gridcolor": "white",
            "gridwidth": 2,
            "linecolor": "white",
            "showbackground": true,
            "ticks": "",
            "zerolinecolor": "white"
           },
           "yaxis": {
            "backgroundcolor": "#E5ECF6",
            "gridcolor": "white",
            "gridwidth": 2,
            "linecolor": "white",
            "showbackground": true,
            "ticks": "",
            "zerolinecolor": "white"
           },
           "zaxis": {
            "backgroundcolor": "#E5ECF6",
            "gridcolor": "white",
            "gridwidth": 2,
            "linecolor": "white",
            "showbackground": true,
            "ticks": "",
            "zerolinecolor": "white"
           }
          },
          "shapedefaults": {
           "line": {
            "color": "#2a3f5f"
           }
          },
          "ternary": {
           "aaxis": {
            "gridcolor": "white",
            "linecolor": "white",
            "ticks": ""
           },
           "baxis": {
            "gridcolor": "white",
            "linecolor": "white",
            "ticks": ""
           },
           "bgcolor": "#E5ECF6",
           "caxis": {
            "gridcolor": "white",
            "linecolor": "white",
            "ticks": ""
           }
          },
          "title": {
           "x": 0.05
          },
          "xaxis": {
           "automargin": true,
           "gridcolor": "white",
           "linecolor": "white",
           "ticks": "",
           "title": {
            "standoff": 15
           },
           "zerolinecolor": "white",
           "zerolinewidth": 2
          },
          "yaxis": {
           "automargin": true,
           "gridcolor": "white",
           "linecolor": "white",
           "ticks": "",
           "title": {
            "standoff": 15
           },
           "zerolinecolor": "white",
           "zerolinewidth": 2
          }
         }
        },
        "title": {
         "text": "Distribution of Customers by Education Level"
        }
       }
      }
     },
     "metadata": {},
     "output_type": "display_data"
    }
   ],
   "source": [
    "color_dict = {'PhD':'#791412', 'Master':'#a43741', 'Graduation':'#520810', 'Basic':'#a29994', '2n Cycle':'goldenrod'}\n",
    "fig = px.pie(data_frame=edu_df, names='Level', values='Count', color='Level', color_discrete_map=color_dict, title='Distribution of Customers by Education Level')\n",
    "fig.update_traces(pull=[0, 0, 0, 0.15, 0])\n",
    "fig.show()"
   ]
  },
  {
   "cell_type": "markdown",
   "metadata": {},
   "source": [
    "The **Education** column seems to be well-distributed with no extremely skewed groups.</br>\n",
    "- About half of our customers are graduates, with almost 98% having received more than basic education.</br>\n",
    "- An interesting observation is that 9% of our customers have received the \"2n Cycle\" education. This is a degree prevalent in European countries like Italy and Poland. So this segment possibly corresponds to our international customer base.</br>"
   ]
  },
  {
   "cell_type": "code",
   "execution_count": 56,
   "metadata": {},
   "outputs": [
    {
     "data": {
      "text/plain": [
       "2233    666666.0\n",
       "617     162397.0\n",
       "687     160803.0\n",
       "1300    157733.0\n",
       "164     157243.0\n",
       "          ...   \n",
       "2078         NaN\n",
       "2079         NaN\n",
       "2081         NaN\n",
       "2084         NaN\n",
       "2228         NaN\n",
       "Name: Income, Length: 2237, dtype: float64"
      ]
     },
     "execution_count": 56,
     "metadata": {},
     "output_type": "execute_result"
    }
   ],
   "source": [
    "df.Income.sort_values(ascending=False)"
   ]
  },
  {
   "cell_type": "code",
   "execution_count": 57,
   "metadata": {},
   "outputs": [
    {
     "data": {
      "text/plain": [
       "count      2213.000000\n",
       "mean      52236.581563\n",
       "std       25178.603047\n",
       "min        1730.000000\n",
       "25%       35246.000000\n",
       "50%       51373.000000\n",
       "75%       68487.000000\n",
       "max      666666.000000\n",
       "Name: Income, dtype: float64"
      ]
     },
     "execution_count": 57,
     "metadata": {},
     "output_type": "execute_result"
    }
   ],
   "source": [
    "df.Income.describe()"
   ]
  },
  {
   "cell_type": "markdown",
   "metadata": {},
   "source": [
    "There seems to be a single high outlier for the **Income** field. We can safely remove it due to the singularity.</br>\n",
    "We can also drop the `(2237-2213) = 24` rows with no entries since this number is less than 5% of the total number of data samples."
   ]
  },
  {
   "cell_type": "code",
   "execution_count": 59,
   "metadata": {},
   "outputs": [],
   "source": [
    "df = df.dropna(subset=['Income'])\n",
    "df = df[df['Income'] < 200000]"
   ]
  },
  {
   "cell_type": "code",
   "execution_count": 60,
   "metadata": {},
   "outputs": [
    {
     "data": {
      "application/vnd.plotly.v1+json": {
       "config": {
        "plotlyServerURL": "https://plot.ly"
       },
       "data": [
        {
         "alignmentgroup": "True",
         "bingroup": "x",
         "hovertemplate": "Income=%{x}<br>count=%{y}<extra></extra>",
         "legendgroup": "",
         "marker": {
          "color": "#18acd9",
          "opacity": 0.9,
          "pattern": {
           "shape": ""
          }
         },
         "name": "",
         "nbinsx": 20,
         "offsetgroup": "",
         "orientation": "v",
         "showlegend": false,
         "type": "histogram",
         "x": [
          58138,
          46344,
          71613,
          26646,
          58293,
          62513,
          55635,
          33454,
          30351,
          5648,
          7500,
          63033,
          59354,
          17323,
          82800,
          41850,
          37760,
          76995,
          33812,
          37040,
          2447,
          58607,
          65324,
          40689,
          18589,
          53359,
          38360,
          84618,
          10979,
          38620,
          40548,
          46610,
          68657,
          49389,
          67353,
          23718,
          42429,
          48948,
          80011,
          20559,
          21994,
          7500,
          79941,
          7500,
          41728,
          72550,
          65486,
          79143,
          35790,
          82582,
          66373,
          82384,
          70287,
          27938,
          55954,
          75777,
          66653,
          61823,
          67680,
          70666,
          25721,
          32474,
          88194,
          69096,
          74854,
          66991,
          65031,
          60631,
          28332,
          40246,
          75251,
          75825,
          26326,
          56046,
          29760,
          26304,
          23559,
          38620,
          81361,
          29440,
          36138,
          50388,
          79593,
          54178,
          42394,
          23626,
          30096,
          47916,
          51813,
          78497,
          50150,
          47823,
          34554,
          85693,
          65846,
          87195,
          24594,
          49096,
          52413,
          38557,
          89058,
          77298,
          68126,
          57288,
          86037,
          43974,
          50785,
          90765,
          36550,
          30753,
          21918,
          56129,
          32557,
          19510,
          30992,
          101970,
          71488,
          79607,
          54348,
          77376,
          62998,
          61331,
          73448,
          41551,
          62981,
          9548,
          33762,
          35860,
          36921,
          92859,
          65104,
          86111,
          68352,
          41883,
          59809,
          23957,
          38547,
          35688,
          49605,
          59354,
          65747,
          46344,
          34176,
          61010,
          69372,
          49967,
          60199,
          55375,
          80317,
          30523,
          70356,
          23228,
          74165,
          157243,
          43482,
          62551,
          52332,
          66951,
          26091,
          33456,
          28718,
          50447,
          53537,
          52074,
          80427,
          83837,
          38853,
          38285,
          78497,
          51650,
          16248,
          66835,
          30477,
          28249,
          25271,
          32303,
          61286,
          74068,
          45759,
          24882,
          66973,
          38872,
          51148,
          31353,
          69661,
          80067,
          86718,
          46854,
          69142,
          75922,
          63693,
          102160,
          40637,
          18890,
          29604,
          48721,
          44794,
          64497,
          46097,
          77972,
          44377,
          46014,
          70951,
          41443,
          52195,
          83790,
          44551,
          69508,
          45204,
          72460,
          77622,
          30732,
          63887,
          42011,
          51369,
          51537,
          79930,
          34320,
          37070,
          81975,
          38590,
          15033,
          62745,
          22212,
          23661,
          79761,
          7500,
          73455,
          64961,
          22804,
          73687,
          61074,
          31686,
          80134,
          75027,
          67546,
          65176,
          31160,
          29938,
          102692,
          26490,
          75702,
          30899,
          63342,
          45989,
          18701,
          40737,
          15287,
          69674,
          44159,
          37717,
          43776,
          38179,
          80124,
          38097,
          72940,
          22070,
          69267,
          31788,
          61905,
          29315,
          33378,
          66313,
          60714,
          77882,
          69867,
          63841,
          24480,
          51369,
          37760,
          65640,
          44319,
          30631,
          75278,
          50898,
          79946,
          35416,
          32414,
          38361,
          82497,
          16626,
          29672,
          55951,
          35388,
          42386,
          68627,
          57912,
          35246,
          58821,
          46377,
          39747,
          23976,
          80950,
          27038,
          77457,
          64100,
          42670,
          12571,
          22574,
          70893,
          54198,
          28839,
          40321,
          66503,
          30833,
          64795,
          34421,
          47025,
          64325,
          40464,
          62187,
          14849,
          27255,
          54432,
          29999,
          24072,
          33996,
          66334,
          35178,
          22010,
          62204,
          75693,
          30675,
          83003,
          68655,
          41411,
          55212,
          59292,
          27190,
          82623,
          44300,
          84835,
          30372,
          33181,
          71113,
          71952,
          69759,
          72099,
          60000,
          38643,
          50737,
          68462,
          65073,
          46681,
          78618,
          62187,
          28442,
          37717,
          51479,
          54803,
          79530,
          31615,
          72025,
          52614,
          35684,
          48178,
          29548,
          63810,
          38578,
          46098,
          22585,
          30279,
          66426,
          30822,
          33581,
          19986,
          27421,
          35688,
          36143,
          10245,
          43795,
          63381,
          38823,
          83664,
          90300,
          62499,
          74293,
          51012,
          70777,
          68682,
          43824,
          15345,
          23442,
          14515,
          31395,
          75276,
          42373,
          30507,
          55521,
          48006,
          27213,
          65808,
          30351,
          50437,
          23616,
          53858,
          66465,
          46923,
          75072,
          75865,
          19789,
          80134,
          91065,
          49505,
          37401,
          30096,
          18492,
          82584,
          93027,
          48686,
          92910,
          75433,
          10404,
          61314,
          84865,
          42387,
          67309,
          75236,
          30015,
          50943,
          67272,
          51529,
          32011,
          7500,
          28691,
          56223,
          18100,
          30279,
          20130,
          23295,
          42618,
          81246,
          24027,
          55707,
          57959,
          56796,
          36230,
          70829,
          65991,
          38988,
          89572,
          42207,
          50300,
          66664,
          60597,
          70165,
          50520,
          80124,
          33183,
          66582,
          75261,
          31880,
          53790,
          49269,
          61456,
          37406,
          56937,
          38415,
          20518,
          62503,
          41644,
          55842,
          62010,
          41124,
          38961,
          37760,
          32233,
          43057,
          83151,
          78825,
          65104,
          60093,
          14045,
          28457,
          78952,
          46310,
          76005,
          58308,
          55614,
          59432,
          55563,
          78642,
          67911,
          65275,
          27203,
          48330,
          24279,
          64355,
          50943,
          53653,
          65665,
          81217,
          34935,
          61250,
          39665,
          60152,
          48920,
          89120,
          44124,
          81169,
          36443,
          26095,
          71367,
          80184,
          30630,
          73454,
          42691,
          70503,
          25545,
          32880,
          77863,
          50353,
          61839,
          49154,
          47682,
          72679,
          57954,
          65316,
          28567,
          47352,
          44931,
          76982,
          57247,
          22944,
          25315,
          43638,
          42710,
          84169,
          54058,
          24683,
          85620,
          47850,
          19514,
          27159,
          39548,
          21474,
          60504,
          22419,
          81698,
          43462,
          54880,
          79908,
          15315,
          87771,
          33039,
          81741,
          71499,
          62466,
          48799,
          52157,
          66565,
          29298,
          47691,
          38200,
          44989,
          38443,
          38593,
          64413,
          36959,
          61996,
          51287,
          13260,
          47472,
          54603,
          45207,
          40689,
          47821,
          27450,
          39453,
          26850,
          79800,
          61794,
          53863,
          24221,
          39684,
          92163,
          69882,
          33178,
          59973,
          17459,
          23910,
          42169,
          26224,
          31089,
          30081,
          62807,
          72906,
          61467,
          49618,
          21888,
          42429,
          26150,
          30801,
          81168,
          26877,
          45006,
          18978,
          22574,
          48240,
          45837,
          35791,
          162397,
          54162,
          30522,
          54456,
          31632,
          72298,
          36975,
          72635,
          13624,
          84196,
          70971,
          34487,
          28769,
          69084,
          65488,
          62466,
          32218,
          83917,
          46102,
          84574,
          56181,
          63120,
          73691,
          63381,
          76140,
          62859,
          45906,
          77632,
          46463,
          105471,
          55282,
          78710,
          66886,
          98777,
          29103,
          67445,
          50616,
          49431,
          153924,
          61278,
          26490,
          73059,
          46734,
          56253,
          19986,
          58330,
          25965,
          14661,
          18690,
          45068,
          21063,
          29187,
          54690,
          59304,
          59247,
          66731,
          77353,
          52614,
          26751,
          81300,
          70337,
          36145,
          65295,
          68118,
          68743,
          41039,
          38946,
          65777,
          66476,
          86857,
          160803,
          77845,
          69476,
          50611,
          61209,
          42315,
          13084,
          47570,
          61923,
          34824,
          26518,
          45938,
          78468,
          78901,
          71427,
          71022,
          90247,
          41335,
          71952,
          35682,
          43185,
          66375,
          35178,
          25252,
          55250,
          33249,
          58398,
          50272,
          76618,
          87305,
          25851,
          58710,
          45160,
          74806,
          59111,
          18988,
          72190,
          7500,
          44794,
          80395,
          75012,
          56962,
          89891,
          35946,
          53593,
          66373,
          45072,
          89694,
          72025,
          67432,
          70545,
          17487,
          62882,
          64108,
          34941,
          48767,
          38702,
          82224,
          83844,
          17003,
          71163,
          33697,
          63564,
          83443,
          51518,
          58330,
          80952,
          75507,
          63855,
          62220,
          58512,
          40662,
          38829,
          35523,
          79146,
          78285,
          31626,
          75127,
          48726,
          74985,
          67430,
          46891,
          62058,
          72063,
          78939,
          42720,
          33622,
          6835,
          41452,
          40760,
          74250,
          51124,
          72258,
          71466,
          36283,
          20587,
          30467,
          31590,
          20425,
          17144,
          42564,
          43783,
          40780,
          62847,
          82017,
          16813,
          51267,
          46524,
          45183,
          70421,
          60161,
          73926,
          19329,
          61872,
          46984,
          34838,
          82716,
          48192,
          49681,
          56850,
          55267,
          59666,
          72504,
          26872,
          21359,
          73170,
          52750,
          91820,
          65968,
          30772,
          22507,
          65685,
          25804,
          76412,
          22063,
          57091,
          22419,
          87771,
          78353,
          93404,
          37859,
          80995,
          16529,
          55412,
          48789,
          56575,
          25130,
          35441,
          71391,
          49494,
          81702,
          45889,
          56628,
          34026,
          40049,
          34176,
          19419,
          82504,
          81205,
          61618,
          55284,
          49980,
          15072,
          49166,
          65324,
          82347,
          30843,
          46374,
          60474,
          38576,
          55357,
          37758,
          85710,
          23228,
          44602,
          7500,
          38683,
          49514,
          57906,
          43456,
          19485,
          53172,
          30545,
          70123,
          62450,
          21675,
          42395,
          61346,
          80812,
          42835,
          39922,
          86424,
          17117,
          24762,
          35797,
          36627,
          51111,
          86857,
          82072,
          46231,
          42243,
          51195,
          68092,
          31814,
          51390,
          76630,
          26868,
          48948,
          55260,
          64090,
          78331,
          37087,
          21846,
          81320,
          54137,
          66825,
          57100,
          58917,
          85072,
          86429,
          45684,
          47889,
          45921,
          78420,
          75114,
          52278,
          35641,
          95529,
          62820,
          73113,
          84169,
          42607,
          74637,
          46015,
          72354,
          39858,
          34469,
          83033,
          24401,
          77583,
          74116,
          74293,
          68397,
          79632,
          46107,
          64950,
          25443,
          75127,
          32892,
          71796,
          67536,
          55239,
          60554,
          64831,
          56067,
          82025,
          94384,
          14906,
          51563,
          57937,
          68274,
          39771,
          67893,
          27922,
          52190,
          44051,
          42767,
          46106,
          16927,
          59754,
          53700,
          59041,
          54237,
          70647,
          52597,
          41021,
          40233,
          50183,
          54753,
          92955,
          33471,
          34596,
          44010,
          84219,
          40706,
          15716,
          59052,
          80573,
          83715,
          82576,
          56962,
          35704,
          53103,
          46779,
          4861,
          33462,
          63693,
          80763,
          65352,
          82170,
          75759,
          79689,
          35340,
          85683,
          24884,
          42021,
          64449,
          64587,
          34824,
          75437,
          26091,
          52845,
          46086,
          78028,
          95169,
          56337,
          22434,
          36930,
          36130,
          65569,
          83844,
          19514,
          36736,
          77568,
          49187,
          30168,
          34053,
          38196,
          59412,
          70924,
          54165,
          32300,
          20180,
          34961,
          28440,
          64504,
          33564,
          17345,
          56320,
          28647,
          15038,
          32173,
          68316,
          74538,
          91700,
          68695,
          31056,
          79593,
          28071,
          37334,
          46423,
          37126,
          47703,
          61180,
          38998,
          8028,
          76081,
          34728,
          33168,
          33585,
          77037,
          35196,
          44529,
          70924,
          28764,
          69098,
          25959,
          27100,
          70596,
          42557,
          53312,
          72228,
          67605,
          62845,
          65196,
          42000,
          35860,
          65526,
          16860,
          83528,
          64176,
          22304,
          67023,
          32892,
          70713,
          59925,
          39722,
          46610,
          88347,
          87171,
          26907,
          50014,
          41014,
          66294,
          36715,
          79456,
          40479,
          75345,
          54233,
          24163,
          84460,
          43776,
          71691,
          85844,
          39190,
          71367,
          38578,
          57236,
          61825,
          79803,
          80910,
          27590,
          56775,
          83829,
          54210,
          38508,
          53187,
          30023,
          76045,
          50870,
          15315,
          65463,
          66480,
          76773,
          81698,
          54466,
          98777,
          16269,
          71819,
          33569,
          36262,
          22634,
          47025,
          70566,
          31605,
          52034,
          48526,
          46734,
          39552,
          86358,
          46931,
          16581,
          63998,
          67381,
          25930,
          42693,
          85606,
          72903,
          49669,
          36778,
          85696,
          10979,
          49678,
          56129,
          37155,
          21282,
          33419,
          63285,
          21255,
          42162,
          54450,
          57744,
          26576,
          57513,
          68142,
          7500,
          83145,
          54197,
          23091,
          46049,
          56715,
          79410,
          57304,
          44375,
          54450,
          59594,
          80685,
          40344,
          62710,
          48985,
          35322,
          77142,
          81657,
          14421,
          20130,
          74214,
          66726,
          23724,
          47353,
          33444,
          54386,
          28510,
          90638,
          48070,
          43140,
          54959,
          15056,
          26954,
          22327,
          44393,
          62000,
          31497,
          45894,
          78579,
          67369,
          58401,
          62307,
          43641,
          63841,
          46891,
          70091,
          78075,
          59184,
          54809,
          58113,
          51412,
          15287,
          66636,
          50965,
          84618,
          18351,
          40451,
          36317,
          42213,
          65748,
          77044,
          74918,
          56721,
          42160,
          61559,
          33629,
          68682,
          34377,
          8940,
          26228,
          77297,
          40211,
          33438,
          75032,
          61284,
          22518,
          54730,
          38452,
          44421,
          38197,
          41986,
          28427,
          37395,
          64722,
          55249,
          84906,
          28691,
          44213,
          25707,
          59062,
          76624,
          66000,
          27683,
          1730,
          7500,
          40521,
          20427,
          65106,
          69969,
          67433,
          77766,
          74716,
          68118,
          55158,
          62972,
          74190,
          39356,
          76653,
          35860,
          90687,
          73450,
          31454,
          47139,
          83829,
          53378,
          19656,
          45579,
          85485,
          55956,
          64191,
          38808,
          57183,
          23748,
          66303,
          37368,
          40800,
          71847,
          46149,
          78687,
          49118,
          37633,
          39767,
          26997,
          33986,
          57091,
          46831,
          83151,
          52531,
          15759,
          22804,
          43050,
          42997,
          48918,
          60033,
          34043,
          57811,
          78569,
          7500,
          157733,
          94384,
          23148,
          44267,
          71626,
          60894,
          50200,
          81051,
          65169,
          59868,
          65695,
          64857,
          45143,
          74805,
          59060,
          27238,
          47009,
          46094,
          40321,
          37235,
          81843,
          46692,
          77382,
          37774,
          18393,
          72828,
          24711,
          45503,
          6560,
          71604,
          27244,
          48752,
          71434,
          90842,
          88097,
          51948,
          71853,
          35876,
          40049,
          39660,
          50127,
          43263,
          62845,
          18929,
          24367,
          33249,
          26887,
          50150,
          62061,
          85696,
          76542,
          70515,
          18227,
          69139,
          69109,
          69627,
          38136,
          62159,
          80695,
          33316,
          58554,
          17256,
          53034,
          52203,
          59601,
          75154,
          47025,
          37971,
          41335,
          67267,
          57338,
          50523,
          35791,
          50611,
          56242,
          48904,
          56243,
          21355,
          57420,
          46390,
          54342,
          20895,
          92344,
          26907,
          44964,
          75507,
          53761,
          22682,
          38887,
          41658,
          29791,
          63915,
          39996,
          26759,
          63841,
          51039,
          60544,
          65685,
          37716,
          36864,
          44511,
          36947,
          47352,
          67087,
          57045,
          36957,
          69389,
          80134,
          43142,
          80589,
          34412,
          57537,
          22634,
          51315,
          36026,
          24639,
          34578,
          65704,
          63810,
          54132,
          18690,
          28164,
          34596,
          43269,
          38741,
          31907,
          27100,
          31163,
          92533,
          34853,
          70844,
          31086,
          60544,
          20491,
          42523,
          39922,
          33402,
          36408,
          21645,
          78427,
          82657,
          51876,
          78041,
          52852,
          70038,
          69401,
          46053,
          77343,
          73892,
          40304,
          32727,
          68695,
          43300,
          26290,
          93790,
          38410,
          64866,
          57957,
          46015,
          16531,
          28072,
          49476,
          50725,
          83844,
          41145,
          67419,
          23162,
          34380,
          34704,
          94871,
          65148,
          39898,
          64857,
          59892,
          41020,
          57072,
          60474,
          62807,
          19414,
          19107,
          75484,
          70379,
          79419,
          64014,
          76998,
          49854,
          60585,
          42873,
          87679,
          57867,
          35765,
          65492,
          32952,
          53374,
          71706,
          68487,
          53253,
          31163,
          42014,
          54108,
          49667,
          63206,
          57136,
          46772,
          78931,
          53977,
          84219,
          46098,
          73538,
          79529,
          20981,
          51766,
          55759,
          33039,
          37787,
          27242,
          87188,
          69930,
          37697,
          37401,
          3502,
          58597,
          82032,
          28087,
          74004,
          19740,
          57036,
          53083,
          69283,
          46098,
          23331,
          23331,
          9255,
          67786,
          71969,
          59235,
          31928,
          74881,
          65819,
          51411,
          51983,
          42386,
          30390,
          30983,
          66033,
          37284,
          57530,
          76800,
          63943,
          76081,
          67445,
          37054,
          47175,
          31859,
          27215,
          70179,
          39922,
          49681,
          24645,
          79865,
          44322,
          47958,
          63972,
          75315,
          55517,
          75283,
          82800,
          38998,
          90638,
          27161,
          42014,
          38201,
          45203,
          81574,
          34935,
          60482,
          34633,
          78093,
          82460,
          45903,
          81361,
          35860,
          40442,
          61482,
          34968,
          75794,
          31497,
          74268,
          13724,
          45143,
          52569,
          48432,
          17144,
          36108,
          76445,
          36663,
          53843,
          90226,
          70638,
          44512,
          27116,
          54072,
          71855,
          51250,
          60432,
          65526,
          68655,
          12393,
          64509,
          33955,
          31353,
          55434,
          28359,
          57100,
          69139,
          52973,
          51717,
          18793,
          66664,
          50664,
          54414,
          54549,
          47111,
          41003,
          19444,
          36301,
          73059,
          42731,
          52854,
          22775,
          46681,
          59821,
          50002,
          69755,
          44078,
          30560,
          35924,
          64140,
          56386,
          24594,
          75774,
          39228,
          58494,
          58684,
          57136,
          56551,
          22448,
          82014,
          34213,
          157146,
          25358,
          35544,
          36634,
          62670,
          50334,
          72066,
          50729,
          34916,
          64892,
          43602,
          33996,
          41473,
          63246,
          36732,
          69084,
          77766,
          37929,
          86610,
          80141,
          72635,
          69016,
          20193,
          27573,
          15862,
          49544,
          33228,
          70440,
          38232,
          22554,
          23536,
          49413,
          42231,
          78789,
          56534,
          58350,
          81217,
          49090,
          61787,
          18169,
          24336,
          18222,
          62335,
          42033,
          86580,
          41437,
          73705,
          61064,
          38452,
          18358,
          55012,
          9722,
          38175,
          58656,
          52117,
          64813,
          54222,
          83512,
          77520,
          41154,
          80398,
          18746,
          35196,
          60230,
          22108,
          44392,
          55424,
          17688,
          92491,
          90273,
          82571,
          38513,
          16653,
          42586,
          23529,
          74881,
          71107,
          46910,
          18690,
          37244,
          82427,
          75342,
          70044,
          79146,
          77437,
          54984,
          42403,
          55761,
          37292,
          45576,
          70321,
          58086,
          81795,
          28389,
          66835,
          69901,
          80360,
          63342,
          44989,
          31859,
          51569,
          30372,
          16014,
          41120,
          39763,
          38725,
          77981,
          62905,
          13533,
          59481,
          72117,
          21955,
          67131,
          36802,
          71853,
          28249,
          47808,
          25509,
          51012,
          70596,
          85431,
          42664,
          42586,
          29760,
          28973,
          39435,
          65370,
          20194,
          42473,
          64590,
          71232,
          34600,
          46904,
          49094,
          36075,
          60839,
          77298,
          34026,
          48918,
          82122,
          37697,
          34074,
          28520,
          62535,
          36273,
          63404,
          75774,
          78416,
          75702,
          59385,
          37070,
          44689,
          53977,
          7144,
          18701,
          90369,
          63159,
          37758,
          46757,
          79734,
          63207,
          72071,
          21840,
          58582,
          72282,
          50387,
          32583,
          62568,
          44635,
          33316,
          63967,
          52513,
          25293,
          54111,
          78394,
          80739,
          22669,
          29236,
          44911,
          54693,
          48186,
          54809,
          41580,
          80336,
          47743,
          62972,
          57333,
          32313,
          84953,
          27071,
          68148,
          65735,
          86836,
          4023,
          30093,
          57705,
          25008,
          83257,
          22280,
          72159,
          64260,
          82733,
          74290,
          58217,
          21024,
          70116,
          54006,
          69063,
          11448,
          61825,
          70886,
          69109,
          60208,
          32889,
          34738,
          30538,
          82326,
          26642,
          69932,
          44503,
          60200,
          49638,
          23830,
          33051,
          72905,
          69702,
          70300,
          70643,
          30396,
          50616,
          62772,
          30298,
          52413,
          44155,
          86979,
          76532,
          42081,
          67546,
          88420,
          31158,
          61671,
          69719,
          49160,
          24882,
          90933,
          113734,
          59292,
          45759,
          22148,
          73395,
          29819,
          45688,
          62820,
          60491,
          33235,
          35701,
          31535,
          92556,
          67384,
          80573,
          77870,
          52278,
          57107,
          18929,
          36038,
          20180,
          34230,
          31878,
          70932,
          91249,
          77598,
          80982,
          22701,
          55212,
          70617,
          64849,
          62694,
          61917,
          67472,
          21059,
          29543,
          75903,
          34984,
          54998,
          54356,
          34242,
          25410,
          73356,
          28320,
          23763,
          72570,
          34529,
          70792,
          63211,
          83891,
          36065,
          39898,
          51141,
          56939,
          80872,
          72335,
          61798,
          76842,
          29478,
          46998,
          96843,
          56551,
          70053,
          71670,
          44359,
          40887,
          48877,
          74485,
          64474,
          77226,
          72643,
          85738,
          55686,
          39062,
          34600,
          40794,
          54690,
          4428,
          32632,
          38236,
          36781,
          31385,
          24570,
          25509,
          94642,
          58646,
          53201,
          21994,
          57113,
          51373,
          23477,
          58116,
          72968,
          39791,
          91712,
          94472,
          13672,
          96547,
          79205,
          56559,
          32644,
          67506,
          24206,
          28420,
          22979,
          33279,
          46423,
          30368,
          63684,
          41638,
          68805,
          65814,
          71964,
          39146,
          96876,
          34445,
          68281,
          37284,
          36790,
          27943,
          22263,
          30261,
          28587,
          43815,
          48195,
          77027,
          71322,
          32765,
          29672,
          23272,
          49912,
          7500,
          68117,
          67225,
          17649,
          55914,
          40059,
          60905,
          75330,
          60689,
          38680,
          61416,
          49767,
          83273,
          29009,
          45057,
          37150,
          43020,
          53154,
          65308,
          76467,
          81044,
          32871,
          55801,
          76320,
          36927,
          48794,
          23478,
          71128,
          70179,
          59462,
          38361,
          70038,
          42554,
          67445,
          67046,
          42192,
          77610,
          31761,
          34350,
          54591,
          71866,
          25293,
          42000,
          69520,
          64713,
          27889,
          22123,
          27803,
          51651,
          68487,
          56796,
          87000,
          79823,
          30828,
          34109,
          53367,
          22390,
          71322,
          79244,
          49912,
          48699,
          80144,
          54252,
          81929,
          76068,
          53204,
          67911,
          14796,
          78128,
          14188,
          20425,
          58646,
          72967,
          48150,
          82332,
          58275,
          44953,
          34587,
          43018,
          45736,
          66476,
          27733,
          69805,
          72217,
          25818,
          37509,
          25176,
          43586,
          53230,
          50116,
          84906,
          61286,
          82333,
          65220,
          33590,
          30992,
          72309,
          156924,
          16005,
          65487,
          58692,
          40590,
          20587,
          62637,
          29435,
          19346,
          35788,
          36997,
          23539,
          65333,
          78499,
          29732,
          41275,
          63516,
          42769,
          49572,
          69209,
          17148,
          40590,
          30560,
          32146,
          41713,
          34176,
          58482,
          59686,
          60896,
          62994,
          47320,
          74859,
          15253,
          31560,
          72071,
          91172,
          90000,
          41967,
          69263,
          65706,
          60934,
          71965,
          65210,
          79174,
          81380,
          48432,
          52914,
          38946,
          26067,
          44325,
          42523,
          26487,
          53233,
          67716,
          76234,
          84117,
          65487,
          25224,
          89616,
          40851,
          27469,
          82347,
          73803,
          8820,
          43322,
          55593,
          50501,
          37085,
          16185,
          57731,
          48432,
          73807,
          18929,
          35893,
          61014,
          32144,
          14918,
          45146,
          41769,
          88325,
          38054,
          80617,
          5305,
          36807,
          28427,
          82032,
          22775,
          40101,
          58025,
          75777,
          7500,
          33562,
          57642,
          58554,
          63777,
          57967,
          24434,
          11012,
          44802,
          26816,
          34421,
          61223,
          64014,
          56981,
          69245,
          52869
         ],
         "xaxis": "x",
         "yaxis": "y"
        }
       ],
       "layout": {
        "barmode": "relative",
        "legend": {
         "tracegroupgap": 0
        },
        "template": {
         "data": {
          "bar": [
           {
            "error_x": {
             "color": "#2a3f5f"
            },
            "error_y": {
             "color": "#2a3f5f"
            },
            "marker": {
             "line": {
              "color": "#E5ECF6",
              "width": 0.5
             },
             "pattern": {
              "fillmode": "overlay",
              "size": 10,
              "solidity": 0.2
             }
            },
            "type": "bar"
           }
          ],
          "barpolar": [
           {
            "marker": {
             "line": {
              "color": "#E5ECF6",
              "width": 0.5
             },
             "pattern": {
              "fillmode": "overlay",
              "size": 10,
              "solidity": 0.2
             }
            },
            "type": "barpolar"
           }
          ],
          "carpet": [
           {
            "aaxis": {
             "endlinecolor": "#2a3f5f",
             "gridcolor": "white",
             "linecolor": "white",
             "minorgridcolor": "white",
             "startlinecolor": "#2a3f5f"
            },
            "baxis": {
             "endlinecolor": "#2a3f5f",
             "gridcolor": "white",
             "linecolor": "white",
             "minorgridcolor": "white",
             "startlinecolor": "#2a3f5f"
            },
            "type": "carpet"
           }
          ],
          "choropleth": [
           {
            "colorbar": {
             "outlinewidth": 0,
             "ticks": ""
            },
            "type": "choropleth"
           }
          ],
          "contour": [
           {
            "colorbar": {
             "outlinewidth": 0,
             "ticks": ""
            },
            "colorscale": [
             [
              0,
              "#0d0887"
             ],
             [
              0.1111111111111111,
              "#46039f"
             ],
             [
              0.2222222222222222,
              "#7201a8"
             ],
             [
              0.3333333333333333,
              "#9c179e"
             ],
             [
              0.4444444444444444,
              "#bd3786"
             ],
             [
              0.5555555555555556,
              "#d8576b"
             ],
             [
              0.6666666666666666,
              "#ed7953"
             ],
             [
              0.7777777777777778,
              "#fb9f3a"
             ],
             [
              0.8888888888888888,
              "#fdca26"
             ],
             [
              1,
              "#f0f921"
             ]
            ],
            "type": "contour"
           }
          ],
          "contourcarpet": [
           {
            "colorbar": {
             "outlinewidth": 0,
             "ticks": ""
            },
            "type": "contourcarpet"
           }
          ],
          "heatmap": [
           {
            "colorbar": {
             "outlinewidth": 0,
             "ticks": ""
            },
            "colorscale": [
             [
              0,
              "#0d0887"
             ],
             [
              0.1111111111111111,
              "#46039f"
             ],
             [
              0.2222222222222222,
              "#7201a8"
             ],
             [
              0.3333333333333333,
              "#9c179e"
             ],
             [
              0.4444444444444444,
              "#bd3786"
             ],
             [
              0.5555555555555556,
              "#d8576b"
             ],
             [
              0.6666666666666666,
              "#ed7953"
             ],
             [
              0.7777777777777778,
              "#fb9f3a"
             ],
             [
              0.8888888888888888,
              "#fdca26"
             ],
             [
              1,
              "#f0f921"
             ]
            ],
            "type": "heatmap"
           }
          ],
          "heatmapgl": [
           {
            "colorbar": {
             "outlinewidth": 0,
             "ticks": ""
            },
            "colorscale": [
             [
              0,
              "#0d0887"
             ],
             [
              0.1111111111111111,
              "#46039f"
             ],
             [
              0.2222222222222222,
              "#7201a8"
             ],
             [
              0.3333333333333333,
              "#9c179e"
             ],
             [
              0.4444444444444444,
              "#bd3786"
             ],
             [
              0.5555555555555556,
              "#d8576b"
             ],
             [
              0.6666666666666666,
              "#ed7953"
             ],
             [
              0.7777777777777778,
              "#fb9f3a"
             ],
             [
              0.8888888888888888,
              "#fdca26"
             ],
             [
              1,
              "#f0f921"
             ]
            ],
            "type": "heatmapgl"
           }
          ],
          "histogram": [
           {
            "marker": {
             "pattern": {
              "fillmode": "overlay",
              "size": 10,
              "solidity": 0.2
             }
            },
            "type": "histogram"
           }
          ],
          "histogram2d": [
           {
            "colorbar": {
             "outlinewidth": 0,
             "ticks": ""
            },
            "colorscale": [
             [
              0,
              "#0d0887"
             ],
             [
              0.1111111111111111,
              "#46039f"
             ],
             [
              0.2222222222222222,
              "#7201a8"
             ],
             [
              0.3333333333333333,
              "#9c179e"
             ],
             [
              0.4444444444444444,
              "#bd3786"
             ],
             [
              0.5555555555555556,
              "#d8576b"
             ],
             [
              0.6666666666666666,
              "#ed7953"
             ],
             [
              0.7777777777777778,
              "#fb9f3a"
             ],
             [
              0.8888888888888888,
              "#fdca26"
             ],
             [
              1,
              "#f0f921"
             ]
            ],
            "type": "histogram2d"
           }
          ],
          "histogram2dcontour": [
           {
            "colorbar": {
             "outlinewidth": 0,
             "ticks": ""
            },
            "colorscale": [
             [
              0,
              "#0d0887"
             ],
             [
              0.1111111111111111,
              "#46039f"
             ],
             [
              0.2222222222222222,
              "#7201a8"
             ],
             [
              0.3333333333333333,
              "#9c179e"
             ],
             [
              0.4444444444444444,
              "#bd3786"
             ],
             [
              0.5555555555555556,
              "#d8576b"
             ],
             [
              0.6666666666666666,
              "#ed7953"
             ],
             [
              0.7777777777777778,
              "#fb9f3a"
             ],
             [
              0.8888888888888888,
              "#fdca26"
             ],
             [
              1,
              "#f0f921"
             ]
            ],
            "type": "histogram2dcontour"
           }
          ],
          "mesh3d": [
           {
            "colorbar": {
             "outlinewidth": 0,
             "ticks": ""
            },
            "type": "mesh3d"
           }
          ],
          "parcoords": [
           {
            "line": {
             "colorbar": {
              "outlinewidth": 0,
              "ticks": ""
             }
            },
            "type": "parcoords"
           }
          ],
          "pie": [
           {
            "automargin": true,
            "type": "pie"
           }
          ],
          "scatter": [
           {
            "marker": {
             "colorbar": {
              "outlinewidth": 0,
              "ticks": ""
             }
            },
            "type": "scatter"
           }
          ],
          "scatter3d": [
           {
            "line": {
             "colorbar": {
              "outlinewidth": 0,
              "ticks": ""
             }
            },
            "marker": {
             "colorbar": {
              "outlinewidth": 0,
              "ticks": ""
             }
            },
            "type": "scatter3d"
           }
          ],
          "scattercarpet": [
           {
            "marker": {
             "colorbar": {
              "outlinewidth": 0,
              "ticks": ""
             }
            },
            "type": "scattercarpet"
           }
          ],
          "scattergeo": [
           {
            "marker": {
             "colorbar": {
              "outlinewidth": 0,
              "ticks": ""
             }
            },
            "type": "scattergeo"
           }
          ],
          "scattergl": [
           {
            "marker": {
             "colorbar": {
              "outlinewidth": 0,
              "ticks": ""
             }
            },
            "type": "scattergl"
           }
          ],
          "scattermapbox": [
           {
            "marker": {
             "colorbar": {
              "outlinewidth": 0,
              "ticks": ""
             }
            },
            "type": "scattermapbox"
           }
          ],
          "scatterpolar": [
           {
            "marker": {
             "colorbar": {
              "outlinewidth": 0,
              "ticks": ""
             }
            },
            "type": "scatterpolar"
           }
          ],
          "scatterpolargl": [
           {
            "marker": {
             "colorbar": {
              "outlinewidth": 0,
              "ticks": ""
             }
            },
            "type": "scatterpolargl"
           }
          ],
          "scatterternary": [
           {
            "marker": {
             "colorbar": {
              "outlinewidth": 0,
              "ticks": ""
             }
            },
            "type": "scatterternary"
           }
          ],
          "surface": [
           {
            "colorbar": {
             "outlinewidth": 0,
             "ticks": ""
            },
            "colorscale": [
             [
              0,
              "#0d0887"
             ],
             [
              0.1111111111111111,
              "#46039f"
             ],
             [
              0.2222222222222222,
              "#7201a8"
             ],
             [
              0.3333333333333333,
              "#9c179e"
             ],
             [
              0.4444444444444444,
              "#bd3786"
             ],
             [
              0.5555555555555556,
              "#d8576b"
             ],
             [
              0.6666666666666666,
              "#ed7953"
             ],
             [
              0.7777777777777778,
              "#fb9f3a"
             ],
             [
              0.8888888888888888,
              "#fdca26"
             ],
             [
              1,
              "#f0f921"
             ]
            ],
            "type": "surface"
           }
          ],
          "table": [
           {
            "cells": {
             "fill": {
              "color": "#EBF0F8"
             },
             "line": {
              "color": "white"
             }
            },
            "header": {
             "fill": {
              "color": "#C8D4E3"
             },
             "line": {
              "color": "white"
             }
            },
            "type": "table"
           }
          ]
         },
         "layout": {
          "annotationdefaults": {
           "arrowcolor": "#2a3f5f",
           "arrowhead": 0,
           "arrowwidth": 1
          },
          "autotypenumbers": "strict",
          "coloraxis": {
           "colorbar": {
            "outlinewidth": 0,
            "ticks": ""
           }
          },
          "colorscale": {
           "diverging": [
            [
             0,
             "#8e0152"
            ],
            [
             0.1,
             "#c51b7d"
            ],
            [
             0.2,
             "#de77ae"
            ],
            [
             0.3,
             "#f1b6da"
            ],
            [
             0.4,
             "#fde0ef"
            ],
            [
             0.5,
             "#f7f7f7"
            ],
            [
             0.6,
             "#e6f5d0"
            ],
            [
             0.7,
             "#b8e186"
            ],
            [
             0.8,
             "#7fbc41"
            ],
            [
             0.9,
             "#4d9221"
            ],
            [
             1,
             "#276419"
            ]
           ],
           "sequential": [
            [
             0,
             "#0d0887"
            ],
            [
             0.1111111111111111,
             "#46039f"
            ],
            [
             0.2222222222222222,
             "#7201a8"
            ],
            [
             0.3333333333333333,
             "#9c179e"
            ],
            [
             0.4444444444444444,
             "#bd3786"
            ],
            [
             0.5555555555555556,
             "#d8576b"
            ],
            [
             0.6666666666666666,
             "#ed7953"
            ],
            [
             0.7777777777777778,
             "#fb9f3a"
            ],
            [
             0.8888888888888888,
             "#fdca26"
            ],
            [
             1,
             "#f0f921"
            ]
           ],
           "sequentialminus": [
            [
             0,
             "#0d0887"
            ],
            [
             0.1111111111111111,
             "#46039f"
            ],
            [
             0.2222222222222222,
             "#7201a8"
            ],
            [
             0.3333333333333333,
             "#9c179e"
            ],
            [
             0.4444444444444444,
             "#bd3786"
            ],
            [
             0.5555555555555556,
             "#d8576b"
            ],
            [
             0.6666666666666666,
             "#ed7953"
            ],
            [
             0.7777777777777778,
             "#fb9f3a"
            ],
            [
             0.8888888888888888,
             "#fdca26"
            ],
            [
             1,
             "#f0f921"
            ]
           ]
          },
          "colorway": [
           "#636efa",
           "#EF553B",
           "#00cc96",
           "#ab63fa",
           "#FFA15A",
           "#19d3f3",
           "#FF6692",
           "#B6E880",
           "#FF97FF",
           "#FECB52"
          ],
          "font": {
           "color": "#2a3f5f"
          },
          "geo": {
           "bgcolor": "white",
           "lakecolor": "white",
           "landcolor": "#E5ECF6",
           "showlakes": true,
           "showland": true,
           "subunitcolor": "white"
          },
          "hoverlabel": {
           "align": "left"
          },
          "hovermode": "closest",
          "mapbox": {
           "style": "light"
          },
          "paper_bgcolor": "white",
          "plot_bgcolor": "#E5ECF6",
          "polar": {
           "angularaxis": {
            "gridcolor": "white",
            "linecolor": "white",
            "ticks": ""
           },
           "bgcolor": "#E5ECF6",
           "radialaxis": {
            "gridcolor": "white",
            "linecolor": "white",
            "ticks": ""
           }
          },
          "scene": {
           "xaxis": {
            "backgroundcolor": "#E5ECF6",
            "gridcolor": "white",
            "gridwidth": 2,
            "linecolor": "white",
            "showbackground": true,
            "ticks": "",
            "zerolinecolor": "white"
           },
           "yaxis": {
            "backgroundcolor": "#E5ECF6",
            "gridcolor": "white",
            "gridwidth": 2,
            "linecolor": "white",
            "showbackground": true,
            "ticks": "",
            "zerolinecolor": "white"
           },
           "zaxis": {
            "backgroundcolor": "#E5ECF6",
            "gridcolor": "white",
            "gridwidth": 2,
            "linecolor": "white",
            "showbackground": true,
            "ticks": "",
            "zerolinecolor": "white"
           }
          },
          "shapedefaults": {
           "line": {
            "color": "#2a3f5f"
           }
          },
          "ternary": {
           "aaxis": {
            "gridcolor": "white",
            "linecolor": "white",
            "ticks": ""
           },
           "baxis": {
            "gridcolor": "white",
            "linecolor": "white",
            "ticks": ""
           },
           "bgcolor": "#E5ECF6",
           "caxis": {
            "gridcolor": "white",
            "linecolor": "white",
            "ticks": ""
           }
          },
          "title": {
           "x": 0.05
          },
          "xaxis": {
           "automargin": true,
           "gridcolor": "white",
           "linecolor": "white",
           "ticks": "",
           "title": {
            "standoff": 15
           },
           "zerolinecolor": "white",
           "zerolinewidth": 2
          },
          "yaxis": {
           "automargin": true,
           "gridcolor": "white",
           "linecolor": "white",
           "ticks": "",
           "title": {
            "standoff": 15
           },
           "zerolinecolor": "white",
           "zerolinewidth": 2
          }
         }
        },
        "title": {
         "text": "Distribution of Customers by Annual Income"
        },
        "xaxis": {
         "anchor": "y",
         "domain": [
          0,
          1
         ],
         "title": {
          "text": "Income"
         }
        },
        "yaxis": {
         "anchor": "x",
         "domain": [
          0,
          1
         ],
         "title": {
          "text": "count"
         }
        }
       }
      }
     },
     "metadata": {},
     "output_type": "display_data"
    }
   ],
   "source": [
    "fig = px.histogram(data_frame=df, x='Income',opacity=0.9, color_discrete_sequence=['#18acd9'], nbins=20, title='Distribution of Customers by Annual Income')\n",
    "fig.show()"
   ]
  },
  {
   "cell_type": "markdown",
   "metadata": {},
   "source": [
    "Most customers belong to the middle class, and have an annual household income between 30k and 70k. There are a few wealthy customers with annual incomes over 150k as well."
   ]
  },
  {
   "cell_type": "code",
   "execution_count": 61,
   "metadata": {},
   "outputs": [
    {
     "data": {
      "text/plain": [
       "Married     857\n",
       "Together    571\n",
       "Single      470\n",
       "Divorced    231\n",
       "Widow        76\n",
       "Alone         3\n",
       "Absurd        2\n",
       "YOLO          2\n",
       "Name: Marital_Status, dtype: int64"
      ]
     },
     "execution_count": 61,
     "metadata": {},
     "output_type": "execute_result"
    }
   ],
   "source": [
    "df.Marital_Status.value_counts()"
   ]
  },
  {
   "cell_type": "markdown",
   "metadata": {},
   "source": [
    "The **Marital_Status** column has some skewed groups. Most of these categories can be grouped together."
   ]
  },
  {
   "cell_type": "code",
   "execution_count": 62,
   "metadata": {},
   "outputs": [],
   "source": [
    "mstatus_dict = {'Married':'Coupled', 'Together':'Coupled', 'Divorced':'Single', 'Widow':'Single', 'Alone':'Single', 'YOLO':'Single', 'Absurd':'Single'}\n",
    "df['Marital_Status'] = df['Marital_Status'].replace(mstatus_dict)"
   ]
  },
  {
   "cell_type": "code",
   "execution_count": 63,
   "metadata": {},
   "outputs": [],
   "source": [
    "rel_df = df['Marital_Status'].value_counts().reset_index()\n",
    "rel_df = rel_df.rename(columns={'index': 'Relationship Status', 'Marital_Status': 'Count'})"
   ]
  },
  {
   "cell_type": "code",
   "execution_count": 64,
   "metadata": {},
   "outputs": [
    {
     "data": {
      "application/vnd.plotly.v1+json": {
       "config": {
        "plotlyServerURL": "https://plot.ly"
       },
       "data": [
        {
         "customdata": [
          [
           "Coupled"
          ],
          [
           "Single"
          ]
         ],
         "domain": {
          "x": [
           0,
           1
          ],
          "y": [
           0,
           1
          ]
         },
         "hovertemplate": "Relationship Status=%{customdata[0]}<br>Count=%{value}<extra></extra>",
         "labels": [
          "Coupled",
          "Single"
         ],
         "legendgroup": "",
         "marker": {
          "colors": [
           "#7a547a",
           "#eb73af"
          ]
         },
         "name": "",
         "pull": [
          0,
          0.02
         ],
         "showlegend": true,
         "type": "pie",
         "values": [
          1428,
          784
         ]
        }
       ],
       "layout": {
        "legend": {
         "tracegroupgap": 0
        },
        "template": {
         "data": {
          "bar": [
           {
            "error_x": {
             "color": "#2a3f5f"
            },
            "error_y": {
             "color": "#2a3f5f"
            },
            "marker": {
             "line": {
              "color": "#E5ECF6",
              "width": 0.5
             },
             "pattern": {
              "fillmode": "overlay",
              "size": 10,
              "solidity": 0.2
             }
            },
            "type": "bar"
           }
          ],
          "barpolar": [
           {
            "marker": {
             "line": {
              "color": "#E5ECF6",
              "width": 0.5
             },
             "pattern": {
              "fillmode": "overlay",
              "size": 10,
              "solidity": 0.2
             }
            },
            "type": "barpolar"
           }
          ],
          "carpet": [
           {
            "aaxis": {
             "endlinecolor": "#2a3f5f",
             "gridcolor": "white",
             "linecolor": "white",
             "minorgridcolor": "white",
             "startlinecolor": "#2a3f5f"
            },
            "baxis": {
             "endlinecolor": "#2a3f5f",
             "gridcolor": "white",
             "linecolor": "white",
             "minorgridcolor": "white",
             "startlinecolor": "#2a3f5f"
            },
            "type": "carpet"
           }
          ],
          "choropleth": [
           {
            "colorbar": {
             "outlinewidth": 0,
             "ticks": ""
            },
            "type": "choropleth"
           }
          ],
          "contour": [
           {
            "colorbar": {
             "outlinewidth": 0,
             "ticks": ""
            },
            "colorscale": [
             [
              0,
              "#0d0887"
             ],
             [
              0.1111111111111111,
              "#46039f"
             ],
             [
              0.2222222222222222,
              "#7201a8"
             ],
             [
              0.3333333333333333,
              "#9c179e"
             ],
             [
              0.4444444444444444,
              "#bd3786"
             ],
             [
              0.5555555555555556,
              "#d8576b"
             ],
             [
              0.6666666666666666,
              "#ed7953"
             ],
             [
              0.7777777777777778,
              "#fb9f3a"
             ],
             [
              0.8888888888888888,
              "#fdca26"
             ],
             [
              1,
              "#f0f921"
             ]
            ],
            "type": "contour"
           }
          ],
          "contourcarpet": [
           {
            "colorbar": {
             "outlinewidth": 0,
             "ticks": ""
            },
            "type": "contourcarpet"
           }
          ],
          "heatmap": [
           {
            "colorbar": {
             "outlinewidth": 0,
             "ticks": ""
            },
            "colorscale": [
             [
              0,
              "#0d0887"
             ],
             [
              0.1111111111111111,
              "#46039f"
             ],
             [
              0.2222222222222222,
              "#7201a8"
             ],
             [
              0.3333333333333333,
              "#9c179e"
             ],
             [
              0.4444444444444444,
              "#bd3786"
             ],
             [
              0.5555555555555556,
              "#d8576b"
             ],
             [
              0.6666666666666666,
              "#ed7953"
             ],
             [
              0.7777777777777778,
              "#fb9f3a"
             ],
             [
              0.8888888888888888,
              "#fdca26"
             ],
             [
              1,
              "#f0f921"
             ]
            ],
            "type": "heatmap"
           }
          ],
          "heatmapgl": [
           {
            "colorbar": {
             "outlinewidth": 0,
             "ticks": ""
            },
            "colorscale": [
             [
              0,
              "#0d0887"
             ],
             [
              0.1111111111111111,
              "#46039f"
             ],
             [
              0.2222222222222222,
              "#7201a8"
             ],
             [
              0.3333333333333333,
              "#9c179e"
             ],
             [
              0.4444444444444444,
              "#bd3786"
             ],
             [
              0.5555555555555556,
              "#d8576b"
             ],
             [
              0.6666666666666666,
              "#ed7953"
             ],
             [
              0.7777777777777778,
              "#fb9f3a"
             ],
             [
              0.8888888888888888,
              "#fdca26"
             ],
             [
              1,
              "#f0f921"
             ]
            ],
            "type": "heatmapgl"
           }
          ],
          "histogram": [
           {
            "marker": {
             "pattern": {
              "fillmode": "overlay",
              "size": 10,
              "solidity": 0.2
             }
            },
            "type": "histogram"
           }
          ],
          "histogram2d": [
           {
            "colorbar": {
             "outlinewidth": 0,
             "ticks": ""
            },
            "colorscale": [
             [
              0,
              "#0d0887"
             ],
             [
              0.1111111111111111,
              "#46039f"
             ],
             [
              0.2222222222222222,
              "#7201a8"
             ],
             [
              0.3333333333333333,
              "#9c179e"
             ],
             [
              0.4444444444444444,
              "#bd3786"
             ],
             [
              0.5555555555555556,
              "#d8576b"
             ],
             [
              0.6666666666666666,
              "#ed7953"
             ],
             [
              0.7777777777777778,
              "#fb9f3a"
             ],
             [
              0.8888888888888888,
              "#fdca26"
             ],
             [
              1,
              "#f0f921"
             ]
            ],
            "type": "histogram2d"
           }
          ],
          "histogram2dcontour": [
           {
            "colorbar": {
             "outlinewidth": 0,
             "ticks": ""
            },
            "colorscale": [
             [
              0,
              "#0d0887"
             ],
             [
              0.1111111111111111,
              "#46039f"
             ],
             [
              0.2222222222222222,
              "#7201a8"
             ],
             [
              0.3333333333333333,
              "#9c179e"
             ],
             [
              0.4444444444444444,
              "#bd3786"
             ],
             [
              0.5555555555555556,
              "#d8576b"
             ],
             [
              0.6666666666666666,
              "#ed7953"
             ],
             [
              0.7777777777777778,
              "#fb9f3a"
             ],
             [
              0.8888888888888888,
              "#fdca26"
             ],
             [
              1,
              "#f0f921"
             ]
            ],
            "type": "histogram2dcontour"
           }
          ],
          "mesh3d": [
           {
            "colorbar": {
             "outlinewidth": 0,
             "ticks": ""
            },
            "type": "mesh3d"
           }
          ],
          "parcoords": [
           {
            "line": {
             "colorbar": {
              "outlinewidth": 0,
              "ticks": ""
             }
            },
            "type": "parcoords"
           }
          ],
          "pie": [
           {
            "automargin": true,
            "type": "pie"
           }
          ],
          "scatter": [
           {
            "marker": {
             "colorbar": {
              "outlinewidth": 0,
              "ticks": ""
             }
            },
            "type": "scatter"
           }
          ],
          "scatter3d": [
           {
            "line": {
             "colorbar": {
              "outlinewidth": 0,
              "ticks": ""
             }
            },
            "marker": {
             "colorbar": {
              "outlinewidth": 0,
              "ticks": ""
             }
            },
            "type": "scatter3d"
           }
          ],
          "scattercarpet": [
           {
            "marker": {
             "colorbar": {
              "outlinewidth": 0,
              "ticks": ""
             }
            },
            "type": "scattercarpet"
           }
          ],
          "scattergeo": [
           {
            "marker": {
             "colorbar": {
              "outlinewidth": 0,
              "ticks": ""
             }
            },
            "type": "scattergeo"
           }
          ],
          "scattergl": [
           {
            "marker": {
             "colorbar": {
              "outlinewidth": 0,
              "ticks": ""
             }
            },
            "type": "scattergl"
           }
          ],
          "scattermapbox": [
           {
            "marker": {
             "colorbar": {
              "outlinewidth": 0,
              "ticks": ""
             }
            },
            "type": "scattermapbox"
           }
          ],
          "scatterpolar": [
           {
            "marker": {
             "colorbar": {
              "outlinewidth": 0,
              "ticks": ""
             }
            },
            "type": "scatterpolar"
           }
          ],
          "scatterpolargl": [
           {
            "marker": {
             "colorbar": {
              "outlinewidth": 0,
              "ticks": ""
             }
            },
            "type": "scatterpolargl"
           }
          ],
          "scatterternary": [
           {
            "marker": {
             "colorbar": {
              "outlinewidth": 0,
              "ticks": ""
             }
            },
            "type": "scatterternary"
           }
          ],
          "surface": [
           {
            "colorbar": {
             "outlinewidth": 0,
             "ticks": ""
            },
            "colorscale": [
             [
              0,
              "#0d0887"
             ],
             [
              0.1111111111111111,
              "#46039f"
             ],
             [
              0.2222222222222222,
              "#7201a8"
             ],
             [
              0.3333333333333333,
              "#9c179e"
             ],
             [
              0.4444444444444444,
              "#bd3786"
             ],
             [
              0.5555555555555556,
              "#d8576b"
             ],
             [
              0.6666666666666666,
              "#ed7953"
             ],
             [
              0.7777777777777778,
              "#fb9f3a"
             ],
             [
              0.8888888888888888,
              "#fdca26"
             ],
             [
              1,
              "#f0f921"
             ]
            ],
            "type": "surface"
           }
          ],
          "table": [
           {
            "cells": {
             "fill": {
              "color": "#EBF0F8"
             },
             "line": {
              "color": "white"
             }
            },
            "header": {
             "fill": {
              "color": "#C8D4E3"
             },
             "line": {
              "color": "white"
             }
            },
            "type": "table"
           }
          ]
         },
         "layout": {
          "annotationdefaults": {
           "arrowcolor": "#2a3f5f",
           "arrowhead": 0,
           "arrowwidth": 1
          },
          "autotypenumbers": "strict",
          "coloraxis": {
           "colorbar": {
            "outlinewidth": 0,
            "ticks": ""
           }
          },
          "colorscale": {
           "diverging": [
            [
             0,
             "#8e0152"
            ],
            [
             0.1,
             "#c51b7d"
            ],
            [
             0.2,
             "#de77ae"
            ],
            [
             0.3,
             "#f1b6da"
            ],
            [
             0.4,
             "#fde0ef"
            ],
            [
             0.5,
             "#f7f7f7"
            ],
            [
             0.6,
             "#e6f5d0"
            ],
            [
             0.7,
             "#b8e186"
            ],
            [
             0.8,
             "#7fbc41"
            ],
            [
             0.9,
             "#4d9221"
            ],
            [
             1,
             "#276419"
            ]
           ],
           "sequential": [
            [
             0,
             "#0d0887"
            ],
            [
             0.1111111111111111,
             "#46039f"
            ],
            [
             0.2222222222222222,
             "#7201a8"
            ],
            [
             0.3333333333333333,
             "#9c179e"
            ],
            [
             0.4444444444444444,
             "#bd3786"
            ],
            [
             0.5555555555555556,
             "#d8576b"
            ],
            [
             0.6666666666666666,
             "#ed7953"
            ],
            [
             0.7777777777777778,
             "#fb9f3a"
            ],
            [
             0.8888888888888888,
             "#fdca26"
            ],
            [
             1,
             "#f0f921"
            ]
           ],
           "sequentialminus": [
            [
             0,
             "#0d0887"
            ],
            [
             0.1111111111111111,
             "#46039f"
            ],
            [
             0.2222222222222222,
             "#7201a8"
            ],
            [
             0.3333333333333333,
             "#9c179e"
            ],
            [
             0.4444444444444444,
             "#bd3786"
            ],
            [
             0.5555555555555556,
             "#d8576b"
            ],
            [
             0.6666666666666666,
             "#ed7953"
            ],
            [
             0.7777777777777778,
             "#fb9f3a"
            ],
            [
             0.8888888888888888,
             "#fdca26"
            ],
            [
             1,
             "#f0f921"
            ]
           ]
          },
          "colorway": [
           "#636efa",
           "#EF553B",
           "#00cc96",
           "#ab63fa",
           "#FFA15A",
           "#19d3f3",
           "#FF6692",
           "#B6E880",
           "#FF97FF",
           "#FECB52"
          ],
          "font": {
           "color": "#2a3f5f"
          },
          "geo": {
           "bgcolor": "white",
           "lakecolor": "white",
           "landcolor": "#E5ECF6",
           "showlakes": true,
           "showland": true,
           "subunitcolor": "white"
          },
          "hoverlabel": {
           "align": "left"
          },
          "hovermode": "closest",
          "mapbox": {
           "style": "light"
          },
          "paper_bgcolor": "white",
          "plot_bgcolor": "#E5ECF6",
          "polar": {
           "angularaxis": {
            "gridcolor": "white",
            "linecolor": "white",
            "ticks": ""
           },
           "bgcolor": "#E5ECF6",
           "radialaxis": {
            "gridcolor": "white",
            "linecolor": "white",
            "ticks": ""
           }
          },
          "scene": {
           "xaxis": {
            "backgroundcolor": "#E5ECF6",
            "gridcolor": "white",
            "gridwidth": 2,
            "linecolor": "white",
            "showbackground": true,
            "ticks": "",
            "zerolinecolor": "white"
           },
           "yaxis": {
            "backgroundcolor": "#E5ECF6",
            "gridcolor": "white",
            "gridwidth": 2,
            "linecolor": "white",
            "showbackground": true,
            "ticks": "",
            "zerolinecolor": "white"
           },
           "zaxis": {
            "backgroundcolor": "#E5ECF6",
            "gridcolor": "white",
            "gridwidth": 2,
            "linecolor": "white",
            "showbackground": true,
            "ticks": "",
            "zerolinecolor": "white"
           }
          },
          "shapedefaults": {
           "line": {
            "color": "#2a3f5f"
           }
          },
          "ternary": {
           "aaxis": {
            "gridcolor": "white",
            "linecolor": "white",
            "ticks": ""
           },
           "baxis": {
            "gridcolor": "white",
            "linecolor": "white",
            "ticks": ""
           },
           "bgcolor": "#E5ECF6",
           "caxis": {
            "gridcolor": "white",
            "linecolor": "white",
            "ticks": ""
           }
          },
          "title": {
           "x": 0.05
          },
          "xaxis": {
           "automargin": true,
           "gridcolor": "white",
           "linecolor": "white",
           "ticks": "",
           "title": {
            "standoff": 15
           },
           "zerolinecolor": "white",
           "zerolinewidth": 2
          },
          "yaxis": {
           "automargin": true,
           "gridcolor": "white",
           "linecolor": "white",
           "ticks": "",
           "title": {
            "standoff": 15
           },
           "zerolinecolor": "white",
           "zerolinewidth": 2
          }
         }
        },
        "title": {
         "text": "Distribution of Customers by Relationship Status"
        }
       }
      }
     },
     "metadata": {},
     "output_type": "display_data"
    }
   ],
   "source": [
    "color_map = {'Coupled': '#7a547a', 'Single': '#eb73af'}\n",
    "fig = px.pie(data_frame=rel_df, names='Relationship Status', values='Count', title='Distribution of Customers by Relationship Status', color='Relationship Status', color_discrete_map=color_map)\n",
    "fig.update_traces(pull=[0, 0.02])\n",
    "fig.show()"
   ]
  },
  {
   "cell_type": "markdown",
   "metadata": {},
   "source": [
    "Most customers are in a relationship. However, there is a significant portion that is single as well. Focusing on only one segment might not lead to optimally higher profits."
   ]
  },
  {
   "cell_type": "code",
   "execution_count": 65,
   "metadata": {},
   "outputs": [],
   "source": [
    "rename_cols_dict = {'Marital_Status': 'Rel_Status', 'NumWebPurchases': 'Web', 'NumCatalogPurchases': 'Catalog', 'NumStorePurchases': 'Store', 'NumDealsPurchases': 'Discount'}\n",
    "df = df.rename(columns=rename_cols_dict)"
   ]
  },
  {
   "cell_type": "code",
   "execution_count": 66,
   "metadata": {},
   "outputs": [
    {
     "data": {
      "text/plain": [
       "Index(['ID', 'Education', 'Rel_Status', 'Income', 'Dt_Customer', 'Recency',\n",
       "       'Wines', 'Fruits', 'Meat', 'Fish', 'Sweet', 'Gold', 'Discount', 'Web',\n",
       "       'Catalog', 'Store', 'NumWebVisitsMonth', 'AcceptedCmp3', 'AcceptedCmp4',\n",
       "       'AcceptedCmp5', 'AcceptedCmp1', 'AcceptedCmp2', 'Complain', 'Response',\n",
       "       'Minorhome', 'Age', 'AgeRange', 'TotalSpend'],\n",
       "      dtype='object')"
      ]
     },
     "execution_count": 66,
     "metadata": {},
     "output_type": "execute_result"
    }
   ],
   "source": [
    "df.columns"
   ]
  },
  {
   "cell_type": "code",
   "execution_count": 67,
   "metadata": {},
   "outputs": [
    {
     "data": {
      "text/plain": [
       "count    2212.000000\n",
       "mean        5.321429\n",
       "std         2.425597\n",
       "min         0.000000\n",
       "25%         3.000000\n",
       "50%         6.000000\n",
       "75%         7.000000\n",
       "max        20.000000\n",
       "Name: NumWebVisitsMonth, dtype: float64"
      ]
     },
     "execution_count": 67,
     "metadata": {},
     "output_type": "execute_result"
    }
   ],
   "source": [
    "df.NumWebVisitsMonth.describe()"
   ]
  },
  {
   "cell_type": "code",
   "execution_count": 68,
   "metadata": {},
   "outputs": [
    {
     "data": {
      "text/plain": [
       "count    2212.000000\n",
       "mean        4.088156\n",
       "std         2.742187\n",
       "min         0.000000\n",
       "25%         2.000000\n",
       "50%         4.000000\n",
       "75%         6.000000\n",
       "max        27.000000\n",
       "Name: Web, dtype: float64"
      ]
     },
     "execution_count": 68,
     "metadata": {},
     "output_type": "execute_result"
    }
   ],
   "source": [
    "df.Web.describe()"
   ]
  },
  {
   "cell_type": "code",
   "execution_count": null,
   "metadata": {},
   "outputs": [],
   "source": [
    "# webPurchasesPerVisit = df.Web / df.NumWebVisitsMonth\n",
    "\n"
   ]
  },
  {
   "cell_type": "code",
   "execution_count": 115,
   "metadata": {},
   "outputs": [
    {
     "data": {
      "text/html": [
       "<div>\n",
       "<style scoped>\n",
       "    .dataframe tbody tr th:only-of-type {\n",
       "        vertical-align: middle;\n",
       "    }\n",
       "\n",
       "    .dataframe tbody tr th {\n",
       "        vertical-align: top;\n",
       "    }\n",
       "\n",
       "    .dataframe thead th {\n",
       "        text-align: right;\n",
       "    }\n",
       "</style>\n",
       "<table border=\"1\" class=\"dataframe\">\n",
       "  <thead>\n",
       "    <tr style=\"text-align: right;\">\n",
       "      <th></th>\n",
       "      <th>AgeRange</th>\n",
       "      <th>Web</th>\n",
       "      <th>Catalog</th>\n",
       "      <th>Store</th>\n",
       "      <th>Discount</th>\n",
       "      <th>TotalPurchases</th>\n",
       "    </tr>\n",
       "  </thead>\n",
       "  <tbody>\n",
       "    <tr>\n",
       "      <th>0</th>\n",
       "      <td>&lt;30</td>\n",
       "      <td>977</td>\n",
       "      <td>748</td>\n",
       "      <td>1567</td>\n",
       "      <td>507</td>\n",
       "      <td>3799</td>\n",
       "    </tr>\n",
       "    <tr>\n",
       "      <th>1</th>\n",
       "      <td>30-40</td>\n",
       "      <td>2332</td>\n",
       "      <td>1349</td>\n",
       "      <td>3277</td>\n",
       "      <td>1431</td>\n",
       "      <td>8389</td>\n",
       "    </tr>\n",
       "    <tr>\n",
       "      <th>2</th>\n",
       "      <td>40-50</td>\n",
       "      <td>2622</td>\n",
       "      <td>1559</td>\n",
       "      <td>3544</td>\n",
       "      <td>1594</td>\n",
       "      <td>9319</td>\n",
       "    </tr>\n",
       "    <tr>\n",
       "      <th>3</th>\n",
       "      <td>50-65</td>\n",
       "      <td>2778</td>\n",
       "      <td>2001</td>\n",
       "      <td>4011</td>\n",
       "      <td>1530</td>\n",
       "      <td>10320</td>\n",
       "    </tr>\n",
       "    <tr>\n",
       "      <th>4</th>\n",
       "      <td>65+</td>\n",
       "      <td>334</td>\n",
       "      <td>254</td>\n",
       "      <td>445</td>\n",
       "      <td>80</td>\n",
       "      <td>1113</td>\n",
       "    </tr>\n",
       "  </tbody>\n",
       "</table>\n",
       "</div>"
      ],
      "text/plain": [
       "  AgeRange   Web  Catalog  Store  Discount  TotalPurchases\n",
       "0      <30   977      748   1567       507            3799\n",
       "1    30-40  2332     1349   3277      1431            8389\n",
       "2    40-50  2622     1559   3544      1594            9319\n",
       "3    50-65  2778     2001   4011      1530           10320\n",
       "4      65+   334      254    445        80            1113"
      ]
     },
     "execution_count": 115,
     "metadata": {},
     "output_type": "execute_result"
    }
   ],
   "source": [
    "grouped_df = df.groupby(by=['AgeRange'], as_index=False).agg({'Web': 'sum', 'Catalog': 'sum', 'Store': 'sum', 'Discount': 'sum'})\n",
    "grouped_df['TotalPurchases'] = grouped_df.Web + grouped_df.Catalog + grouped_df.Store + grouped_df.Discount\n",
    "grouped_df"
   ]
  },
  {
   "cell_type": "code",
   "execution_count": 116,
   "metadata": {},
   "outputs": [
    {
     "data": {
      "application/vnd.plotly.v1+json": {
       "config": {
        "plotlyServerURL": "https://plot.ly"
       },
       "data": [
        {
         "alignmentgroup": "True",
         "hovertemplate": "variable=Web<br>Age Range=%{x}<br>Number of Purchases=%{y}<extra></extra>",
         "legendgroup": "Web",
         "marker": {
          "color": "#150E56",
          "pattern": {
           "shape": ""
          }
         },
         "name": "Web",
         "offsetgroup": "Web",
         "orientation": "v",
         "showlegend": true,
         "textposition": "auto",
         "type": "bar",
         "x": [
          "<30",
          "30-40",
          "40-50",
          "50-65",
          "65+"
         ],
         "xaxis": "x",
         "y": [
          977,
          2332,
          2622,
          2778,
          334
         ],
         "yaxis": "y"
        },
        {
         "alignmentgroup": "True",
         "hovertemplate": "variable=Catalog<br>Age Range=%{x}<br>Number of Purchases=%{y}<extra></extra>",
         "legendgroup": "Catalog",
         "marker": {
          "color": "#D89216",
          "pattern": {
           "shape": ""
          }
         },
         "name": "Catalog",
         "offsetgroup": "Catalog",
         "orientation": "v",
         "showlegend": true,
         "textposition": "auto",
         "type": "bar",
         "x": [
          "<30",
          "30-40",
          "40-50",
          "50-65",
          "65+"
         ],
         "xaxis": "x",
         "y": [
          748,
          1349,
          1559,
          2001,
          254
         ],
         "yaxis": "y"
        },
        {
         "alignmentgroup": "True",
         "hovertemplate": "variable=Store<br>Age Range=%{x}<br>Number of Purchases=%{y}<extra></extra>",
         "legendgroup": "Store",
         "marker": {
          "color": "#7B113A",
          "pattern": {
           "shape": ""
          }
         },
         "name": "Store",
         "offsetgroup": "Store",
         "orientation": "v",
         "showlegend": true,
         "textposition": "auto",
         "type": "bar",
         "x": [
          "<30",
          "30-40",
          "40-50",
          "50-65",
          "65+"
         ],
         "xaxis": "x",
         "y": [
          1567,
          3277,
          3544,
          4011,
          445
         ],
         "yaxis": "y"
        },
        {
         "alignmentgroup": "True",
         "hovertemplate": "variable=Discount<br>Age Range=%{x}<br>Number of Purchases=%{y}<extra></extra>",
         "legendgroup": "Discount",
         "marker": {
          "color": "#1597BB",
          "pattern": {
           "shape": ""
          }
         },
         "name": "Discount",
         "offsetgroup": "Discount",
         "orientation": "v",
         "showlegend": true,
         "textposition": "auto",
         "type": "bar",
         "x": [
          "<30",
          "30-40",
          "40-50",
          "50-65",
          "65+"
         ],
         "xaxis": "x",
         "y": [
          507,
          1431,
          1594,
          1530,
          80
         ],
         "yaxis": "y"
        }
       ],
       "layout": {
        "barmode": "relative",
        "legend": {
         "title": {
          "text": "Purchase Medium"
         },
         "tracegroupgap": 0
        },
        "margin": {
         "t": 60
        },
        "template": {
         "data": {
          "bar": [
           {
            "error_x": {
             "color": "#2a3f5f"
            },
            "error_y": {
             "color": "#2a3f5f"
            },
            "marker": {
             "line": {
              "color": "#E5ECF6",
              "width": 0.5
             },
             "pattern": {
              "fillmode": "overlay",
              "size": 10,
              "solidity": 0.2
             }
            },
            "type": "bar"
           }
          ],
          "barpolar": [
           {
            "marker": {
             "line": {
              "color": "#E5ECF6",
              "width": 0.5
             },
             "pattern": {
              "fillmode": "overlay",
              "size": 10,
              "solidity": 0.2
             }
            },
            "type": "barpolar"
           }
          ],
          "carpet": [
           {
            "aaxis": {
             "endlinecolor": "#2a3f5f",
             "gridcolor": "white",
             "linecolor": "white",
             "minorgridcolor": "white",
             "startlinecolor": "#2a3f5f"
            },
            "baxis": {
             "endlinecolor": "#2a3f5f",
             "gridcolor": "white",
             "linecolor": "white",
             "minorgridcolor": "white",
             "startlinecolor": "#2a3f5f"
            },
            "type": "carpet"
           }
          ],
          "choropleth": [
           {
            "colorbar": {
             "outlinewidth": 0,
             "ticks": ""
            },
            "type": "choropleth"
           }
          ],
          "contour": [
           {
            "colorbar": {
             "outlinewidth": 0,
             "ticks": ""
            },
            "colorscale": [
             [
              0,
              "#0d0887"
             ],
             [
              0.1111111111111111,
              "#46039f"
             ],
             [
              0.2222222222222222,
              "#7201a8"
             ],
             [
              0.3333333333333333,
              "#9c179e"
             ],
             [
              0.4444444444444444,
              "#bd3786"
             ],
             [
              0.5555555555555556,
              "#d8576b"
             ],
             [
              0.6666666666666666,
              "#ed7953"
             ],
             [
              0.7777777777777778,
              "#fb9f3a"
             ],
             [
              0.8888888888888888,
              "#fdca26"
             ],
             [
              1,
              "#f0f921"
             ]
            ],
            "type": "contour"
           }
          ],
          "contourcarpet": [
           {
            "colorbar": {
             "outlinewidth": 0,
             "ticks": ""
            },
            "type": "contourcarpet"
           }
          ],
          "heatmap": [
           {
            "colorbar": {
             "outlinewidth": 0,
             "ticks": ""
            },
            "colorscale": [
             [
              0,
              "#0d0887"
             ],
             [
              0.1111111111111111,
              "#46039f"
             ],
             [
              0.2222222222222222,
              "#7201a8"
             ],
             [
              0.3333333333333333,
              "#9c179e"
             ],
             [
              0.4444444444444444,
              "#bd3786"
             ],
             [
              0.5555555555555556,
              "#d8576b"
             ],
             [
              0.6666666666666666,
              "#ed7953"
             ],
             [
              0.7777777777777778,
              "#fb9f3a"
             ],
             [
              0.8888888888888888,
              "#fdca26"
             ],
             [
              1,
              "#f0f921"
             ]
            ],
            "type": "heatmap"
           }
          ],
          "heatmapgl": [
           {
            "colorbar": {
             "outlinewidth": 0,
             "ticks": ""
            },
            "colorscale": [
             [
              0,
              "#0d0887"
             ],
             [
              0.1111111111111111,
              "#46039f"
             ],
             [
              0.2222222222222222,
              "#7201a8"
             ],
             [
              0.3333333333333333,
              "#9c179e"
             ],
             [
              0.4444444444444444,
              "#bd3786"
             ],
             [
              0.5555555555555556,
              "#d8576b"
             ],
             [
              0.6666666666666666,
              "#ed7953"
             ],
             [
              0.7777777777777778,
              "#fb9f3a"
             ],
             [
              0.8888888888888888,
              "#fdca26"
             ],
             [
              1,
              "#f0f921"
             ]
            ],
            "type": "heatmapgl"
           }
          ],
          "histogram": [
           {
            "marker": {
             "pattern": {
              "fillmode": "overlay",
              "size": 10,
              "solidity": 0.2
             }
            },
            "type": "histogram"
           }
          ],
          "histogram2d": [
           {
            "colorbar": {
             "outlinewidth": 0,
             "ticks": ""
            },
            "colorscale": [
             [
              0,
              "#0d0887"
             ],
             [
              0.1111111111111111,
              "#46039f"
             ],
             [
              0.2222222222222222,
              "#7201a8"
             ],
             [
              0.3333333333333333,
              "#9c179e"
             ],
             [
              0.4444444444444444,
              "#bd3786"
             ],
             [
              0.5555555555555556,
              "#d8576b"
             ],
             [
              0.6666666666666666,
              "#ed7953"
             ],
             [
              0.7777777777777778,
              "#fb9f3a"
             ],
             [
              0.8888888888888888,
              "#fdca26"
             ],
             [
              1,
              "#f0f921"
             ]
            ],
            "type": "histogram2d"
           }
          ],
          "histogram2dcontour": [
           {
            "colorbar": {
             "outlinewidth": 0,
             "ticks": ""
            },
            "colorscale": [
             [
              0,
              "#0d0887"
             ],
             [
              0.1111111111111111,
              "#46039f"
             ],
             [
              0.2222222222222222,
              "#7201a8"
             ],
             [
              0.3333333333333333,
              "#9c179e"
             ],
             [
              0.4444444444444444,
              "#bd3786"
             ],
             [
              0.5555555555555556,
              "#d8576b"
             ],
             [
              0.6666666666666666,
              "#ed7953"
             ],
             [
              0.7777777777777778,
              "#fb9f3a"
             ],
             [
              0.8888888888888888,
              "#fdca26"
             ],
             [
              1,
              "#f0f921"
             ]
            ],
            "type": "histogram2dcontour"
           }
          ],
          "mesh3d": [
           {
            "colorbar": {
             "outlinewidth": 0,
             "ticks": ""
            },
            "type": "mesh3d"
           }
          ],
          "parcoords": [
           {
            "line": {
             "colorbar": {
              "outlinewidth": 0,
              "ticks": ""
             }
            },
            "type": "parcoords"
           }
          ],
          "pie": [
           {
            "automargin": true,
            "type": "pie"
           }
          ],
          "scatter": [
           {
            "marker": {
             "colorbar": {
              "outlinewidth": 0,
              "ticks": ""
             }
            },
            "type": "scatter"
           }
          ],
          "scatter3d": [
           {
            "line": {
             "colorbar": {
              "outlinewidth": 0,
              "ticks": ""
             }
            },
            "marker": {
             "colorbar": {
              "outlinewidth": 0,
              "ticks": ""
             }
            },
            "type": "scatter3d"
           }
          ],
          "scattercarpet": [
           {
            "marker": {
             "colorbar": {
              "outlinewidth": 0,
              "ticks": ""
             }
            },
            "type": "scattercarpet"
           }
          ],
          "scattergeo": [
           {
            "marker": {
             "colorbar": {
              "outlinewidth": 0,
              "ticks": ""
             }
            },
            "type": "scattergeo"
           }
          ],
          "scattergl": [
           {
            "marker": {
             "colorbar": {
              "outlinewidth": 0,
              "ticks": ""
             }
            },
            "type": "scattergl"
           }
          ],
          "scattermapbox": [
           {
            "marker": {
             "colorbar": {
              "outlinewidth": 0,
              "ticks": ""
             }
            },
            "type": "scattermapbox"
           }
          ],
          "scatterpolar": [
           {
            "marker": {
             "colorbar": {
              "outlinewidth": 0,
              "ticks": ""
             }
            },
            "type": "scatterpolar"
           }
          ],
          "scatterpolargl": [
           {
            "marker": {
             "colorbar": {
              "outlinewidth": 0,
              "ticks": ""
             }
            },
            "type": "scatterpolargl"
           }
          ],
          "scatterternary": [
           {
            "marker": {
             "colorbar": {
              "outlinewidth": 0,
              "ticks": ""
             }
            },
            "type": "scatterternary"
           }
          ],
          "surface": [
           {
            "colorbar": {
             "outlinewidth": 0,
             "ticks": ""
            },
            "colorscale": [
             [
              0,
              "#0d0887"
             ],
             [
              0.1111111111111111,
              "#46039f"
             ],
             [
              0.2222222222222222,
              "#7201a8"
             ],
             [
              0.3333333333333333,
              "#9c179e"
             ],
             [
              0.4444444444444444,
              "#bd3786"
             ],
             [
              0.5555555555555556,
              "#d8576b"
             ],
             [
              0.6666666666666666,
              "#ed7953"
             ],
             [
              0.7777777777777778,
              "#fb9f3a"
             ],
             [
              0.8888888888888888,
              "#fdca26"
             ],
             [
              1,
              "#f0f921"
             ]
            ],
            "type": "surface"
           }
          ],
          "table": [
           {
            "cells": {
             "fill": {
              "color": "#EBF0F8"
             },
             "line": {
              "color": "white"
             }
            },
            "header": {
             "fill": {
              "color": "#C8D4E3"
             },
             "line": {
              "color": "white"
             }
            },
            "type": "table"
           }
          ]
         },
         "layout": {
          "annotationdefaults": {
           "arrowcolor": "#2a3f5f",
           "arrowhead": 0,
           "arrowwidth": 1
          },
          "autotypenumbers": "strict",
          "coloraxis": {
           "colorbar": {
            "outlinewidth": 0,
            "ticks": ""
           }
          },
          "colorscale": {
           "diverging": [
            [
             0,
             "#8e0152"
            ],
            [
             0.1,
             "#c51b7d"
            ],
            [
             0.2,
             "#de77ae"
            ],
            [
             0.3,
             "#f1b6da"
            ],
            [
             0.4,
             "#fde0ef"
            ],
            [
             0.5,
             "#f7f7f7"
            ],
            [
             0.6,
             "#e6f5d0"
            ],
            [
             0.7,
             "#b8e186"
            ],
            [
             0.8,
             "#7fbc41"
            ],
            [
             0.9,
             "#4d9221"
            ],
            [
             1,
             "#276419"
            ]
           ],
           "sequential": [
            [
             0,
             "#0d0887"
            ],
            [
             0.1111111111111111,
             "#46039f"
            ],
            [
             0.2222222222222222,
             "#7201a8"
            ],
            [
             0.3333333333333333,
             "#9c179e"
            ],
            [
             0.4444444444444444,
             "#bd3786"
            ],
            [
             0.5555555555555556,
             "#d8576b"
            ],
            [
             0.6666666666666666,
             "#ed7953"
            ],
            [
             0.7777777777777778,
             "#fb9f3a"
            ],
            [
             0.8888888888888888,
             "#fdca26"
            ],
            [
             1,
             "#f0f921"
            ]
           ],
           "sequentialminus": [
            [
             0,
             "#0d0887"
            ],
            [
             0.1111111111111111,
             "#46039f"
            ],
            [
             0.2222222222222222,
             "#7201a8"
            ],
            [
             0.3333333333333333,
             "#9c179e"
            ],
            [
             0.4444444444444444,
             "#bd3786"
            ],
            [
             0.5555555555555556,
             "#d8576b"
            ],
            [
             0.6666666666666666,
             "#ed7953"
            ],
            [
             0.7777777777777778,
             "#fb9f3a"
            ],
            [
             0.8888888888888888,
             "#fdca26"
            ],
            [
             1,
             "#f0f921"
            ]
           ]
          },
          "colorway": [
           "#636efa",
           "#EF553B",
           "#00cc96",
           "#ab63fa",
           "#FFA15A",
           "#19d3f3",
           "#FF6692",
           "#B6E880",
           "#FF97FF",
           "#FECB52"
          ],
          "font": {
           "color": "#2a3f5f"
          },
          "geo": {
           "bgcolor": "white",
           "lakecolor": "white",
           "landcolor": "#E5ECF6",
           "showlakes": true,
           "showland": true,
           "subunitcolor": "white"
          },
          "hoverlabel": {
           "align": "left"
          },
          "hovermode": "closest",
          "mapbox": {
           "style": "light"
          },
          "paper_bgcolor": "white",
          "plot_bgcolor": "#E5ECF6",
          "polar": {
           "angularaxis": {
            "gridcolor": "white",
            "linecolor": "white",
            "ticks": ""
           },
           "bgcolor": "#E5ECF6",
           "radialaxis": {
            "gridcolor": "white",
            "linecolor": "white",
            "ticks": ""
           }
          },
          "scene": {
           "xaxis": {
            "backgroundcolor": "#E5ECF6",
            "gridcolor": "white",
            "gridwidth": 2,
            "linecolor": "white",
            "showbackground": true,
            "ticks": "",
            "zerolinecolor": "white"
           },
           "yaxis": {
            "backgroundcolor": "#E5ECF6",
            "gridcolor": "white",
            "gridwidth": 2,
            "linecolor": "white",
            "showbackground": true,
            "ticks": "",
            "zerolinecolor": "white"
           },
           "zaxis": {
            "backgroundcolor": "#E5ECF6",
            "gridcolor": "white",
            "gridwidth": 2,
            "linecolor": "white",
            "showbackground": true,
            "ticks": "",
            "zerolinecolor": "white"
           }
          },
          "shapedefaults": {
           "line": {
            "color": "#2a3f5f"
           }
          },
          "ternary": {
           "aaxis": {
            "gridcolor": "white",
            "linecolor": "white",
            "ticks": ""
           },
           "baxis": {
            "gridcolor": "white",
            "linecolor": "white",
            "ticks": ""
           },
           "bgcolor": "#E5ECF6",
           "caxis": {
            "gridcolor": "white",
            "linecolor": "white",
            "ticks": ""
           }
          },
          "title": {
           "x": 0.05
          },
          "xaxis": {
           "automargin": true,
           "gridcolor": "white",
           "linecolor": "white",
           "ticks": "",
           "title": {
            "standoff": 15
           },
           "zerolinecolor": "white",
           "zerolinewidth": 2
          },
          "yaxis": {
           "automargin": true,
           "gridcolor": "white",
           "linecolor": "white",
           "ticks": "",
           "title": {
            "standoff": 15
           },
           "zerolinecolor": "white",
           "zerolinewidth": 2
          }
         }
        },
        "title": {
         "text": "Number of Purchases by Media and Age Range"
        },
        "xaxis": {
         "anchor": "y",
         "domain": [
          0,
          1
         ],
         "title": {
          "text": "Age Range"
         }
        },
        "yaxis": {
         "anchor": "x",
         "domain": [
          0,
          1
         ],
         "title": {
          "text": "Number of Purchases"
         }
        }
       }
      }
     },
     "metadata": {},
     "output_type": "display_data"
    }
   ],
   "source": [
    "color_sequence = ['#150E56', '#D89216', '#7B113A', '#1597BB']\n",
    "fig = px.bar(data_frame=grouped_df, x='AgeRange', y=['Web', 'Catalog', 'Store', 'Discount'], labels={'AgeRange': 'Age Range', 'value': 'Number of Purchases'}, color_discrete_sequence=color_sequence)\n",
    "fig.update_layout(title='Number of Purchases by Media and Age Range')\n",
    "fig.layout.legend.update(title='Purchase Medium')\n",
    "fig.show()"
   ]
  },
  {
   "cell_type": "markdown",
   "metadata": {},
   "source": [
    "Store purchases are the most common, followed by purchases on the website. Discounts seem to not have any major impact on sales."
   ]
  },
  {
   "cell_type": "code",
   "execution_count": 121,
   "metadata": {},
   "outputs": [],
   "source": [
    "df['TotalPurchases'] = df['Web'] + df['Catalog'] + df['Store'] + df['Discount']\n",
    "df['SpendPerPurchase'] = df['TotalSpend'] / df['TotalPurchases']"
   ]
  },
  {
   "cell_type": "code",
   "execution_count": 143,
   "metadata": {},
   "outputs": [
    {
     "data": {
      "application/vnd.plotly.v1+json": {
       "config": {
        "plotlyServerURL": "https://plot.ly"
       },
       "data": [
        {
         "hovertemplate": "Rel_Status=Single<br>Education=Graduation<br>Spend per Purchase=%{x}<br>Total Purchases=%{y}<br>Income=%{marker.size}<extra></extra>",
         "legendgroup": "Single",
         "marker": {
          "color": "#636efa",
          "opacity": 0.5,
          "size": [
           58138,
           46344,
           55635,
           63033,
           18589,
           42429,
           79941,
           65486,
           35790,
           82582,
           70287,
           27938,
           61823,
           40246,
           75825,
           29760,
           81361,
           50388,
           47916,
           51813,
           38557,
           86037,
           50785,
           30992,
           101970,
           79607,
           34176,
           49967,
           60199,
           80317,
           62551,
           52332,
           66951,
           52074,
           69142,
           75922,
           63693,
           64497,
           63887,
           51537,
           37070,
           15033,
           7500,
           73455,
           22804,
           29938,
           102692,
           45989,
           18701,
           15287,
           69267,
           33378,
           60714,
           79946,
           68627,
           35246,
           39747,
           27038,
           77457,
           12571,
           66503,
           40464,
           24072,
           62204,
           75693,
           68655,
           41411,
           82623,
           84835,
           30372,
           38643,
           54803,
           31615,
           63810,
           22585,
           30279,
           30822,
           27421,
           10245,
           74293,
           23442,
           42373,
           46923,
           91065,
           30015,
           67272,
           30279,
           23295,
           81246,
           57959,
           70165,
           31880,
           20518,
           32233,
           46310,
           55563,
           53653,
           81217,
           61250,
           60152,
           26095,
           30630,
           61839,
           72679,
           28567,
           76982,
           43638,
           85620,
           21474,
           81741,
           66565,
           47691,
           79800,
           23910,
           30081,
           72906,
           42429,
           26150,
           54162,
           31632,
           72298,
           84196,
           28769,
           83917,
           46102,
           84574,
           45906,
           49431,
           153924,
           58330,
           66731,
           70337,
           68118,
           68743,
           61209,
           34824,
           45938,
           78901,
           71022,
           43185,
           33249,
           58710,
           45160,
           89694,
           71163,
           33697,
           58330,
           79146,
           75127,
           42720,
           72258,
           20587,
           40780,
           16813,
           46524,
           46984,
           72504,
           21359,
           73170,
           22507,
           57091,
           37859,
           48789,
           81702,
           56628,
           34176,
           49980,
           49166,
           60474,
           62450,
           24762,
           36627,
           78331,
           21846,
           54137,
           85072,
           86429,
           45684,
           95529,
           72354,
           74293,
           46107,
           75127,
           55239,
           82025,
           68274,
           53700,
           70647,
           4861,
           63693,
           85683,
           64449,
           64587,
           34824,
           46086,
           36130,
           30168,
           20180,
           28647,
           91700,
           28071,
           8028,
           70596,
           72228,
           83528,
           22304,
           66294,
           24163,
           61825,
           79803,
           83829,
           76773,
           70566,
           48526,
           39552,
           86358,
           25930,
           72903,
           63285,
           26576,
           81657,
           28510,
           26954,
           22327,
           58401,
           62307,
           15287,
           42160,
           61559,
           34377,
           44421,
           41986,
           44213,
           76624,
           1730,
           68118,
           47139,
           83829,
           38808,
           71847,
           33986,
           22804,
           7500,
           44267,
           37774,
           90842,
           40049,
           39660,
           33249,
           70515,
           69627,
           80695,
           53034,
           47025,
           57338,
           48904,
           56243,
           39996,
           26759,
           36864,
           34412,
           57537,
           63810,
           31907,
           34853,
           70844,
           73892,
           43300,
           93790,
           34704,
           60474,
           32952,
           51766,
           27242,
           37697,
           3502,
           9255,
           51983,
           30983,
           66033,
           31859,
           27215,
           79865,
           47958,
           82460,
           81361,
           36108,
           68655,
           64509,
           33955,
           57100,
           50664,
           50002,
           58684,
           57136,
           82014,
           34213,
           72066,
           64892,
           43602,
           58350,
           81217,
           49090,
           62335,
           18358,
           60230,
           90273,
           37244,
           70044,
           79146,
           69901,
           30372,
           70596,
           29760,
           46904,
           37697,
           62535,
           37070,
           18701,
           72071,
           72282,
           29236,
           25008,
           61825,
           60208,
           34738,
           69932,
           44503,
           49638,
           70300,
           52413,
           61671,
           69719,
           49160,
           22148,
           29819,
           67384,
           57107,
           20180,
           91249,
           80982,
           64849,
           23763,
           70792,
           36065,
           80872,
           46998,
           96843,
           40887,
           48877,
           72643,
           55686,
           39062,
           53201,
           94472,
           24206,
           33279,
           41638,
           71964,
           39146,
           68281,
           22263,
           23272,
           60689,
           49767,
           83273,
           43020,
           76467,
           55801,
           76320,
           23478,
           71128,
           67046,
           64713,
           30828,
           79244,
           54252,
           72967,
           82332,
           58275,
           25818,
           30992,
           40590,
           20587,
           19346,
           36997,
           65333,
           78499,
           40590,
           59686,
           72071,
           41967,
           69263,
           40851,
           43322,
           57731,
           35893,
           45146,
           57967,
           11012,
           26816,
           56981
          ],
          "sizemode": "area",
          "sizeref": 405.9925,
          "symbol": "circle"
         },
         "mode": "markers",
         "name": "Single",
         "showlegend": true,
         "type": "scattergl",
         "x": [
          64.68,
          4.5,
          28.095238095238095,
          68.875,
          9.375,
          9.571428571428571,
          61.5,
          29.823529411764707,
          10.285714285714286,
          77,
          52.04761904761905,
          4.833333333333333,
          36.833333333333336,
          3.25,
          100.4090909090909,
          13.75,
          28.814814814814813,
          21.88235294117647,
          27.545454545454547,
          9,
          16.11111111111111,
          29.2,
          14.25,
          8.6,
          42.03703703703704,
          120.1875,
          8.090909090909092,
          20.4,
          4.5,
          68.38888888888889,
          23.38888888888889,
          21.583333333333332,
          74.46666666666667,
          17,
          28.157894736842106,
          71.94444444444444,
          39.6551724137931,
          62.206896551724135,
          38.90625,
          61.27777777777778,
          18.82608695652174,
          3.8,
          5.181818181818182,
          94.9090909090909,
          5.2,
          4.333333333333333,
          38.3448275862069,
          20.125,
          4.4,
          5.166666666666667,
          116.78571428571429,
          11,
          41.608695652173914,
          67.18181818181819,
          68.75,
          5.636363636363637,
          21,
          15.285714285714286,
          64.27777777777777,
          4.818181818181818,
          26.733333333333334,
          26.25,
          5.75,
          43,
          65.54545454545455,
          73.23809523809524,
          17.375,
          58.75,
          79.33333333333333,
          5.5,
          7,
          36.473684210526315,
          7.285714285714286,
          59.608695652173914,
          16.2,
          7.4,
          10.2,
          23.142857142857142,
          5.125,
          70.4375,
          5.4,
          12.538461538461538,
          23.0625,
          56.69230769230769,
          8.142857142857142,
          31.869565217391305,
          7.4,
          5,
          81.11764705882354,
          32.148148148148145,
          42.09090909090909,
          3.75,
          5,
          24.666666666666668,
          22.071428571428573,
          7.166666666666667,
          43.214285714285715,
          52.59090909090909,
          29.2,
          41,
          8.4,
          7.428571428571429,
          111.47058823529412,
          68.70588235294117,
          6.571428571428571,
          66.375,
          18.272727272727273,
          114.28571428571429,
          11.375,
          82.73684210526316,
          56.05263157894737,
          5.25,
          84.86363636363636,
          11.166666666666666,
          8.4,
          67.70588235294117,
          9.571428571428571,
          5.6,
          8.4,
          15.833333333333334,
          67.07142857142857,
          61.85,
          15.916666666666666,
          75.57142857142857,
          4,
          42.96875,
          32.4,
          24.333333333333332,
          null,
          44.333333333333336,
          60.529411764705884,
          33.88235294117647,
          40.34782608695652,
          69.13333333333334,
          73.61538461538461,
          5.75,
          31.8,
          36.7,
          69.19047619047619,
          31.85,
          14,
          38.225806451612904,
          5.25,
          105.14285714285714,
          40,
          7,
          44.333333333333336,
          29.68421052631579,
          43.8421052631579,
          26.16,
          69.31818181818181,
          5,
          22.176470588235293,
          8.333333333333334,
          19.666666666666668,
          8.2,
          67.18181818181819,
          6.857142857142857,
          45.375,
          30,
          32.05555555555556,
          6,
          37.77777777777778,
          60.48148148148148,
          38.05,
          8.090909090909092,
          17.727272727272727,
          28.307692307692307,
          38.064516129032256,
          62.1875,
          9.555555555555555,
          4,
          65.52,
          7.636363636363637,
          18.454545454545453,
          79.05555555555556,
          80.5,
          7,
          110.55555555555556,
          64.63157894736842,
          70.4375,
          17.857142857142858,
          43.8421052631579,
          29.96153846153846,
          98.91666666666667,
          23.46153846153846,
          31.545454545454547,
          41.5,
          null,
          39.6551724137931,
          105.23529411764706,
          33.541666666666664,
          13.5,
          5.75,
          21.4375,
          23.238095238095237,
          15.5,
          17.125,
          13.428571428571429,
          98.4,
          24.076923076923077,
          11.125,
          46.095238095238095,
          56.81818181818182,
          71.73913043478261,
          4.5,
          74.38461538461539,
          2.8333333333333335,
          28.266666666666666,
          66.76923076923077,
          109.52941176470588,
          72.25,
          34.40909090909091,
          16.875,
          19.2,
          95.66666666666667,
          3.75,
          95.85714285714286,
          44.12,
          6.75,
          68.5625,
          10.11111111111111,
          4.25,
          4.8,
          16,
          17.77777777777778,
          5.166666666666667,
          12.727272727272727,
          31.176470588235293,
          14.25,
          13.5,
          6.3,
          12.666666666666666,
          39.08695652173913,
          0.5333333333333333,
          40.34782608695652,
          11.857142857142858,
          109.52941176470588,
          17.571428571428573,
          54.18181818181818,
          8.8,
          5.2,
          5.7,
          19.375,
          29.5625,
          52.74074074074074,
          6.4,
          21.357142857142858,
          14,
          74,
          37.43478260869565,
          100.94736842105263,
          20.318181818181817,
          24.41176470588235,
          19.75,
          21.823529411764707,
          19.8,
          3.75,
          7.375,
          25.285714285714285,
          19,
          28.68421052631579,
          59.608695652173914,
          32.07142857142857,
          4.857142857142857,
          17.294117647058822,
          65.52173913043478,
          16.363636363636363,
          93.96,
          8,
          38.064516129032256,
          9.166666666666666,
          22.916666666666668,
          15.142857142857142,
          12,
          null,
          4.4,
          33.041666666666664,
          20.875,
          33.85,
          5,
          9.272727272727273,
          37.714285714285715,
          25.4375,
          64.93333333333334,
          28.814814814814813,
          22.6,
          73.23809523809524,
          90.63157894736842,
          18,
          22.214285714285715,
          23.375,
          33.578947368421055,
          38.714285714285715,
          58.95,
          68.68181818181819,
          13,
          105.41176470588235,
          37.583333333333336,
          7.555555555555555,
          37.074074074074076,
          52.59090909090909,
          32.76190476190476,
          33.714285714285715,
          5.7,
          62.76470588235294,
          104.78947368421052,
          11,
          57.84615384615385,
          29.68421052631579,
          38.34782608695652,
          5.5,
          46.095238095238095,
          13.75,
          18.071428571428573,
          12,
          28.428571428571427,
          18.82608695652174,
          4.4,
          66.9,
          60.5,
          11,
          5.666666666666667,
          28.266666666666666,
          22.620689655172413,
          4,
          40.34615384615385,
          6.857142857142857,
          7.8,
          61.38461538461539,
          26.470588235294116,
          26.142857142857142,
          72.81818181818181,
          19.666666666666668,
          9.8,
          4.333333333333333,
          67.72727272727273,
          18.08695652173913,
          17.125,
          76.18181818181819,
          39.7,
          70.3157894736842,
          8.4,
          66.94736842105263,
          8.222222222222221,
          70.3157894736842,
          20.944444444444443,
          55.142857142857146,
          16.1,
          18,
          68.04761904761905,
          61.375,
          8.8,
          18.863636363636363,
          105.6875,
          5,
          4,
          25.941176470588236,
          110,
          15,
          66.2,
          3.5,
          9.2,
          29.045454545454547,
          38.44444444444444,
          48,
          18.583333333333332,
          112.5,
          25.095238095238095,
          62.13333333333333,
          18.428571428571427,
          59.81481481481482,
          66.2,
          31.68421052631579,
          7,
          55.27272727272727,
          17.6,
          26.157894736842106,
          95.52380952380952,
          26.73913043478261,
          7,
          8.6,
          17.2,
          5,
          4.4,
          7.833333333333333,
          28.5,
          70.21052631578948,
          17.2,
          22.833333333333332,
          66.9,
          10.8,
          31.555555555555557,
          11.8,
          17.625,
          27.076923076923077,
          13.266666666666667,
          8.833333333333334,
          24.63157894736842,
          9.333333333333334,
          5.5,
          65.3157894736842
         ],
         "xaxis": "x5",
         "y": [
          25,
          6,
          21,
          16,
          8,
          7,
          16,
          17,
          7,
          21,
          21,
          6,
          24,
          4,
          22,
          12,
          27,
          17,
          22,
          7,
          9,
          25,
          8,
          5,
          27,
          16,
          11,
          15,
          4,
          18,
          18,
          12,
          15,
          7,
          19,
          18,
          29,
          29,
          32,
          18,
          23,
          5,
          11,
          22,
          5,
          6,
          29,
          16,
          10,
          6,
          14,
          9,
          23,
          22,
          12,
          11,
          13,
          7,
          18,
          11,
          15,
          24,
          4,
          22,
          22,
          21,
          8,
          16,
          15,
          8,
          7,
          19,
          7,
          23,
          5,
          5,
          5,
          14,
          8,
          16,
          5,
          13,
          16,
          26,
          7,
          23,
          5,
          4,
          17,
          27,
          22,
          4,
          5,
          12,
          14,
          6,
          28,
          22,
          25,
          23,
          5,
          7,
          17,
          17,
          7,
          16,
          11,
          14,
          8,
          19,
          19,
          4,
          22,
          6,
          5,
          17,
          7,
          5,
          5,
          6,
          14,
          20,
          12,
          21,
          4,
          32,
          15,
          15,
          0,
          24,
          17,
          17,
          23,
          30,
          13,
          4,
          20,
          20,
          21,
          20,
          8,
          31,
          4,
          14,
          24,
          4,
          24,
          19,
          19,
          25,
          22,
          5,
          17,
          6,
          9,
          5,
          22,
          7,
          16,
          19,
          18,
          6,
          18,
          27,
          20,
          11,
          11,
          13,
          31,
          16,
          9,
          4,
          25,
          11,
          11,
          18,
          18,
          4,
          18,
          19,
          16,
          7,
          19,
          26,
          12,
          13,
          22,
          26,
          0,
          29,
          17,
          24,
          8,
          4,
          16,
          21,
          18,
          8,
          7,
          20,
          13,
          16,
          21,
          22,
          23,
          4,
          13,
          6,
          15,
          13,
          17,
          16,
          22,
          8,
          20,
          18,
          4,
          21,
          25,
          4,
          16,
          9,
          4,
          5,
          6,
          9,
          6,
          11,
          17,
          8,
          14,
          10,
          12,
          23,
          15,
          23,
          7,
          17,
          14,
          22,
          5,
          5,
          10,
          16,
          16,
          27,
          5,
          14,
          8,
          17,
          23,
          19,
          22,
          17,
          12,
          17,
          20,
          4,
          8,
          14,
          11,
          19,
          23,
          14,
          7,
          17,
          23,
          11,
          25,
          5,
          31,
          6,
          12,
          7,
          7,
          0,
          5,
          24,
          8,
          20,
          4,
          11,
          21,
          16,
          15,
          27,
          15,
          21,
          19,
          15,
          14,
          24,
          19,
          21,
          20,
          22,
          9,
          17,
          24,
          9,
          27,
          22,
          21,
          21,
          10,
          17,
          19,
          5,
          26,
          19,
          23,
          8,
          21,
          12,
          14,
          7,
          14,
          23,
          10,
          20,
          22,
          9,
          6,
          15,
          29,
          5,
          26,
          7,
          5,
          26,
          17,
          28,
          11,
          12,
          5,
          9,
          22,
          23,
          8,
          22,
          30,
          19,
          5,
          19,
          9,
          19,
          18,
          28,
          10,
          8,
          21,
          16,
          5,
          22,
          16,
          5,
          4,
          17,
          17,
          11,
          25,
          6,
          5,
          22,
          18,
          29,
          12,
          14,
          21,
          15,
          7,
          27,
          15,
          19,
          8,
          22,
          15,
          19,
          21,
          23,
          4,
          5,
          15,
          5,
          5,
          12,
          28,
          19,
          15,
          12,
          20,
          5,
          18,
          5,
          8,
          26,
          15,
          6,
          19,
          9,
          4,
          19
         ],
         "yaxis": "y5"
        },
        {
         "hovertemplate": "Rel_Status=Single<br>Education=PhD<br>Spend per Purchase=%{x}<br>Total Purchases=%{y}<br>Income=%{marker.size}<extra></extra>",
         "legendgroup": "Single",
         "marker": {
          "color": "#636efa",
          "opacity": 0.5,
          "size": [
           82800,
           46610,
           48948,
           67680,
           34554,
           68126,
           35860,
           36921,
           68352,
           74165,
           32303,
           46854,
           40637,
           79761,
           30899,
           40737,
           69674,
           69867,
           57912,
           47025,
           64325,
           14849,
           29999,
           33996,
           69759,
           60000,
           62187,
           52614,
           38578,
           83664,
           55521,
           27213,
           65808,
           84865,
           50520,
           66582,
           41644,
           78825,
           55614,
           42710,
           60504,
           54880,
           48799,
           39684,
           48240,
           34487,
           62859,
           46734,
           52614,
           65295,
           66476,
           86857,
           50611,
           26518,
           35682,
           35946,
           45072,
           64108,
           48767,
           31626,
           40760,
           71466,
           42564,
           82716,
           76412,
           80995,
           55412,
           86857,
           46231,
           48948,
           55260,
           78420,
           52278,
           74637,
           64950,
           60554,
           42767,
           54237,
           52597,
           35340,
           78028,
           95169,
           36736,
           32173,
           42000,
           35860,
           71691,
           39190,
           38578,
           76045,
           54466,
           16269,
           85696,
           33419,
           57513,
           23091,
           54959,
           62000,
           33438,
           61284,
           35860,
           90687,
           42997,
           48918,
           27238,
           85696,
           62159,
           50611,
           36957,
           40304,
           42873,
           49667,
           87188,
           82032,
           74004,
           67786,
           51411,
           70179,
           82800,
           35860,
           52569,
           48432,
           47111,
           41003,
           64140,
           56551,
           25358,
           50729,
           33996,
           37929,
           41437,
           82571,
           38513,
           45576,
           58086,
           51569,
           36802,
           25509,
           42473,
           48918,
           7144,
           63159,
           46757,
           54111,
           57333,
           82733,
           26642,
           60200,
           50616,
           30298,
           86979,
           90933,
           113734,
           52278,
           36038,
           54998,
           54356,
           51141,
           61798,
           76842,
           56551,
           71670,
           38236,
           25509,
           72968,
           28420,
           68805,
           68117,
           70179,
           42000,
           31560,
           48432,
           48432,
           82032,
           57642
          ],
          "sizemode": "area",
          "sizeref": 405.9925,
          "symbol": "circle"
         },
         "mode": "markers",
         "name": "Single",
         "showlegend": false,
         "type": "scattergl",
         "x": [
          50.57692307692308,
          17.764705882352942,
          37.583333333333336,
          31.894736842105264,
          7.857142857142857,
          107.05882352941177,
          8.166666666666666,
          5.428571428571429,
          34.84,
          64.65,
          5.571428571428571,
          17.533333333333335,
          6.333333333333333,
          31.842105263157894,
          5.5,
          4.25,
          33.8,
          54.411764705882355,
          32.714285714285715,
          5,
          56.82608695652174,
          7.222222222222222,
          13.333333333333334,
          11.833333333333334,
          57.166666666666664,
          53.208333333333336,
          30.285714285714285,
          61.875,
          8.11111111111111,
          61.73684210526316,
          18.583333333333332,
          7.777777777777778,
          19.428571428571427,
          105.5,
          15,
          64.4,
          5.166666666666667,
          30.862068965517242,
          34.1,
          29,
          29.22222222222222,
          37.857142857142854,
          22.066666666666666,
          11.571428571428571,
          35.28,
          11.444444444444445,
          56.82608695652174,
          18.583333333333332,
          61.875,
          33.2,
          34.45,
          96.0909090909091,
          22.40909090909091,
          7.125,
          9.5,
          2.75,
          17.75,
          36.63333333333333,
          7,
          14.333333333333334,
          11.625,
          64.73684210526316,
          33.875,
          41.67857142857143,
          100.44444444444444,
          67.36363636363636,
          10.5,
          96.0909090909091,
          17.533333333333335,
          37.583333333333336,
          45.56,
          66.04545454545455,
          38.645161290322584,
          66,
          38.64,
          35.26086956521739,
          18.714285714285715,
          22.5625,
          28.9,
          6.428571428571429,
          26.4,
          158.41666666666666,
          4.25,
          4.4,
          32.65,
          8.166666666666666,
          70.11764705882354,
          14.777777777777779,
          8.11111111111111,
          63,
          4,
          4.888888888888889,
          65.65,
          10.75,
          39.25925925925926,
          4.8,
          58.666666666666664,
          39.23076923076923,
          8.181818181818182,
          36.86363636363637,
          8.166666666666666,
          104.6470588235294,
          3.75,
          8.857142857142858,
          6.333333333333333,
          65.65,
          33.36842105263158,
          22.40909090909091,
          13.818181818181818,
          9.5,
          17.933333333333334,
          63.45454545454545,
          101.21052631578948,
          72.58823529411765,
          110.53333333333333,
          72.25,
          4.5,
          39.76923076923077,
          50.57692307692308,
          8.166666666666666,
          13.571428571428571,
          22.31578947368421,
          52,
          35.35294117647059,
          97.22222222222223,
          13.8,
          5.333333333333333,
          20.666666666666668,
          11.833333333333334,
          20.384615384615383,
          6.4,
          70.25,
          19.058823529411764,
          18.125,
          34.43478260869565,
          24.57894736842105,
          4,
          11.222222222222221,
          14.4,
          8.857142857142858,
          16.64,
          105.70588235294117,
          54.42857142857143,
          25.866666666666667,
          50.36363636363637,
          66.15,
          6,
          27.4,
          14.9,
          4.666666666666667,
          106.375,
          112.33333333333333,
          10.25925925925926,
          38.645161290322584,
          5.875,
          22.75,
          32.291666666666664,
          17.444444444444443,
          28.9375,
          66.47058823529412,
          13.8,
          117.73333333333333,
          8,
          11.222222222222221,
          103.05263157894737,
          3.25,
          23.583333333333332,
          37.2,
          39.76923076923077,
          32.65,
          11.75,
          22.31578947368421,
          22.31578947368421,
          72.58823529411765,
          30.863636363636363
         ],
         "xaxis": "x4",
         "y": [
          26,
          17,
          24,
          19,
          7,
          17,
          6,
          7,
          25,
          20,
          7,
          15,
          6,
          19,
          6,
          4,
          25,
          17,
          28,
          4,
          23,
          9,
          12,
          6,
          18,
          24,
          21,
          16,
          9,
          19,
          24,
          9,
          14,
          16,
          9,
          20,
          6,
          29,
          20,
          14,
          18,
          21,
          15,
          7,
          25,
          9,
          23,
          12,
          16,
          20,
          20,
          22,
          22,
          8,
          6,
          4,
          16,
          30,
          9,
          6,
          8,
          19,
          24,
          28,
          18,
          22,
          6,
          22,
          15,
          24,
          25,
          22,
          31,
          25,
          25,
          23,
          7,
          16,
          20,
          7,
          20,
          12,
          4,
          5,
          20,
          6,
          17,
          9,
          9,
          21,
          4,
          9,
          20,
          8,
          27,
          10,
          21,
          26,
          11,
          22,
          6,
          17,
          4,
          7,
          9,
          20,
          19,
          22,
          11,
          6,
          15,
          22,
          19,
          17,
          15,
          16,
          4,
          26,
          26,
          6,
          7,
          19,
          21,
          17,
          18,
          10,
          6,
          24,
          6,
          13,
          5,
          24,
          17,
          8,
          23,
          19,
          5,
          9,
          10,
          7,
          25,
          17,
          21,
          15,
          33,
          20,
          7,
          25,
          10,
          6,
          16,
          15,
          27,
          31,
          8,
          20,
          24,
          9,
          16,
          17,
          10,
          15,
          11,
          9,
          19,
          4,
          12,
          25,
          26,
          20,
          8,
          19,
          19,
          17,
          22
         ],
         "yaxis": "y4"
        },
        {
         "hovertemplate": "Rel_Status=Single<br>Education=Master<br>Spend per Purchase=%{x}<br>Total Purchases=%{y}<br>Income=%{marker.size}<extra></extra>",
         "legendgroup": "Single",
         "marker": {
          "color": "#636efa",
          "opacity": 0.5,
          "size": [
           59354,
           10979,
           49389,
           75777,
           42394,
           32557,
           61331,
           92859,
           30523,
           18890,
           48721,
           44551,
           31160,
           31788,
           63841,
           35416,
           70893,
           29548,
           46098,
           36143,
           51529,
           42618,
           36230,
           37760,
           58308,
           59432,
           81169,
           73454,
           22944,
           69882,
           21888,
           26877,
           45006,
           35791,
           63120,
           55282,
           98777,
           59247,
           47570,
           90247,
           41335,
           55250,
           75012,
           51124,
           45183,
           49494,
           55284,
           43456,
           19485,
           42835,
           86424,
           68092,
           51390,
           39858,
           44051,
           33462,
           46423,
           33168,
           50014,
           75345,
           98777,
           52034,
           10979,
           90638,
           78579,
           67369,
           63841,
           64191,
           23748,
           64857,
           6560,
           33316,
           75154,
           41335,
           35791,
           46390,
           63841,
           78427,
           64866,
           49476,
           64857,
           41020,
           70379,
           46098,
           46098,
           59235,
           57530,
           63972,
           90638,
           60482,
           70638,
           39228,
           35544,
           78789,
           61787,
           73705,
           16653,
           39763,
           36273,
           44635,
           33316,
           84953,
           27071,
           74290,
           58217,
           33051,
           62772,
           77598,
           31385,
           91712,
           46423,
           36927,
           53367,
           72217,
           72309,
           65487,
           62637,
           29435,
           91172,
           81380,
           89616,
           8820,
           38054,
           75777,
           44802
          ],
          "sizemode": "area",
          "sizeref": 405.9925,
          "symbol": "circle"
         },
         "mode": "markers",
         "name": "Single",
         "showlegend": false,
         "type": "scattergl",
         "x": [
          20.666666666666668,
          3.75,
          10.833333333333334,
          68.47619047619048,
          6.4,
          8.88888888888889,
          27.47826086956522,
          94.4090909090909,
          3.25,
          8.75,
          17.235294117647058,
          23.75,
          9.142857142857142,
          6,
          41.27272727272727,
          24.375,
          65.56521739130434,
          5.8,
          10.909090909090908,
          4.75,
          27.470588235294116,
          17.454545454545453,
          8.428571428571429,
          9,
          60,
          30.136363636363637,
          94.95454545454545,
          127,
          8.444444444444445,
          73.9,
          17.75,
          22.333333333333332,
          22.166666666666668,
          5.833333333333333,
          56.80769230769231,
          21.363636363636363,
          105.6842105263158,
          27.333333333333332,
          13.444444444444445,
          108.06666666666666,
          15.583333333333334,
          34.73076923076923,
          44.65217391304348,
          7.166666666666667,
          24.23076923076923,
          27.5,
          33.21739130434783,
          23.11764705882353,
          2.5,
          25.869565217391305,
          43.785714285714285,
          64.05,
          19.61111111111111,
          13.571428571428571,
          14.25,
          9,
          10.222222222222221,
          12.2,
          26.4,
          104.35,
          105.6842105263158,
          20.75,
          3.75,
          140.27777777777777,
          113.25,
          58.44,
          41.27272727272727,
          34.375,
          8.444444444444445,
          66.95652173913044,
          186.5,
          13.1,
          71.4375,
          15.583333333333334,
          5.833333333333333,
          22.2,
          41.27272727272727,
          83.91304347826087,
          26.476190476190474,
          36.13636363636363,
          66.95652173913044,
          21.7,
          34.4,
          10.909090909090908,
          10.909090909090908,
          40.285714285714285,
          13.142857142857142,
          55.17391304347826,
          140.27777777777777,
          29.823529411764707,
          66.7,
          5,
          11.166666666666666,
          109.625,
          69.42105263157895,
          67.8,
          7.666666666666667,
          16.7,
          9.5,
          9.714285714285714,
          13.1,
          56.888888888888886,
          5,
          38.03125,
          14.714285714285714,
          39.76190476190476,
          41.130434782608695,
          66.73076923076923,
          6.75,
          82.11111111111111,
          10.222222222222221,
          8.875,
          19.047619047619047,
          71.5,
          96.55,
          68.76470588235294,
          18.5,
          16.363636363636363,
          78,
          111.3529411764706,
          65.76,
          3.5,
          6.428571428571429,
          68.47619047619048,
          38.851851851851855
         ],
         "xaxis": "x3",
         "y": [
          15,
          8,
          6,
          21,
          5,
          9,
          23,
          22,
          4,
          4,
          17,
          12,
          7,
          10,
          22,
          16,
          23,
          5,
          11,
          4,
          17,
          11,
          7,
          6,
          15,
          22,
          22,
          13,
          9,
          20,
          12,
          12,
          12,
          6,
          26,
          11,
          19,
          21,
          9,
          15,
          12,
          26,
          23,
          6,
          13,
          14,
          23,
          17,
          4,
          23,
          28,
          20,
          18,
          7,
          12,
          6,
          9,
          10,
          15,
          20,
          19,
          16,
          8,
          18,
          16,
          25,
          22,
          24,
          9,
          23,
          2,
          10,
          16,
          12,
          6,
          10,
          22,
          23,
          21,
          22,
          23,
          10,
          25,
          11,
          11,
          28,
          7,
          23,
          18,
          17,
          20,
          4,
          6,
          16,
          19,
          25,
          9,
          10,
          8,
          7,
          10,
          18,
          7,
          32,
          7,
          21,
          23,
          26,
          4,
          27,
          9,
          8,
          21,
          22,
          20,
          17,
          10,
          11,
          14,
          17,
          25,
          10,
          7,
          21,
          27
         ],
         "yaxis": "y3"
        },
        {
         "hovertemplate": "Rel_Status=Single<br>Education=Basic<br>Spend per Purchase=%{x}<br>Total Purchases=%{y}<br>Income=%{marker.size}<extra></extra>",
         "legendgroup": "Single",
         "marker": {
          "color": "#636efa",
          "opacity": 0.5,
          "size": [
           9548,
           21063,
           26868,
           14906,
           15038,
           16581,
           15056,
           8940,
           25707,
           7500,
           24367,
           15862,
           18746,
           23529,
           16014,
           20194,
           22123,
           15253,
           26487,
           16185
          ],
          "sizemode": "area",
          "sizeref": 405.9925,
          "symbol": "circle"
         },
         "mode": "markers",
         "name": "Single",
         "showlegend": false,
         "type": "scattergl",
         "x": [
          4.833333333333333,
          8.428571428571429,
          3.5,
          7.333333333333333,
          11.428571428571429,
          6,
          7.333333333333333,
          10.1,
          4.2,
          10.818181818181818,
          6,
          7.2,
          8,
          10.8,
          3.8,
          6.714285714285714,
          14.571428571428571,
          4.833333333333333,
          7.666666666666667,
          13.25
         ],
         "xaxis": "x2",
         "y": [
          6,
          7,
          4,
          9,
          7,
          4,
          12,
          10,
          5,
          11,
          4,
          5,
          8,
          5,
          10,
          7,
          7,
          6,
          9,
          8
         ],
         "yaxis": "y2"
        },
        {
         "hovertemplate": "Rel_Status=Single<br>Education=2n Cycle<br>Spend per Purchase=%{x}<br>Total Purchases=%{y}<br>Income=%{marker.size}<extra></extra>",
         "legendgroup": "Single",
         "marker": {
          "color": "#636efa",
          "opacity": 0.5,
          "size": [
           33812,
           88194,
           47823,
           52195,
           81975,
           35388,
           31395,
           23616,
           89572,
           28457,
           47682,
           39548,
           38593,
           36975,
           32218,
           87305,
           60161,
           78353,
           45889,
           61618,
           49514,
           42395,
           42607,
           74116,
           64831,
           67893,
           59052,
           46779,
           79689,
           25959,
           64176,
           80910,
           81698,
           63998,
           21282,
           59184,
           77297,
           85485,
           49118,
           59601,
           41658,
           65704,
           38741,
           31163,
           31163,
           23331,
           51250,
           41473,
           24336,
           75342,
           31859,
           13533,
           83257,
           11448,
           23830,
           31878,
           67506,
           41713,
           74859,
           65706,
           41769,
           80617
          ],
          "sizemode": "area",
          "sizeref": 405.9925,
          "symbol": "circle"
         },
         "mode": "markers",
         "name": "Single",
         "showlegend": false,
         "type": "scattergl",
         "x": [
          16.625,
          39.8125,
          10.285714285714286,
          4.25,
          113.42857142857143,
          6.4,
          6.4,
          9.875,
          85.79166666666667,
          20.5,
          27.42105263157895,
          7.714285714285714,
          16.09090909090909,
          6.6,
          13.285714285714286,
          67.76470588235294,
          41.19230769230769,
          65.66666666666667,
          9.2,
          70.78947368421052,
          28.384615384615383,
          15.166666666666666,
          25,
          108,
          50.90909090909091,
          62.1875,
          27.27777777777778,
          5.75,
          48.7037037037037,
          8,
          55.333333333333336,
          50.4,
          69,
          46.72,
          6.571428571428571,
          39.7037037037037,
          35.86363636363637,
          72.78947368421052,
          43.892857142857146,
          53.13333333333333,
          12,
          35.52173913043478,
          8.714285714285714,
          7.6,
          7.6,
          15.823529411764707,
          29.583333333333332,
          12.666666666666666,
          7.75,
          31.27777777777778,
          9.6,
          6.857142857142857,
          48.75,
          3.5,
          8.6,
          11.666666666666666,
          27.583333333333332,
          13.384615384615385,
          68.04347826086956,
          44.407407407407405,
          23.681818181818183,
          75.52631578947368
         ],
         "xaxis": "x",
         "y": [
          8,
          32,
          7,
          4,
          14,
          5,
          10,
          8,
          24,
          10,
          19,
          7,
          11,
          5,
          7,
          17,
          26,
          24,
          5,
          19,
          13,
          12,
          14,
          19,
          22,
          16,
          18,
          4,
          27,
          7,
          33,
          15,
          16,
          25,
          7,
          27,
          22,
          19,
          28,
          15,
          6,
          23,
          7,
          5,
          5,
          17,
          24,
          6,
          4,
          18,
          5,
          7,
          28,
          4,
          5,
          6,
          12,
          13,
          23,
          27,
          22,
          19
         ],
         "yaxis": "y"
        },
        {
         "hovertemplate": "Rel_Status=Coupled<br>Education=Graduation<br>Spend per Purchase=%{x}<br>Total Purchases=%{y}<br>Income=%{marker.size}<extra></extra>",
         "legendgroup": "Coupled",
         "marker": {
          "color": "#EF553B",
          "opacity": 0.5,
          "size": [
           71613,
           26646,
           17323,
           41850,
           37760,
           37040,
           2447,
           40689,
           53359,
           38360,
           40548,
           80011,
           21994,
           41728,
           66373,
           66653,
           70666,
           25721,
           32474,
           69096,
           74854,
           65031,
           28332,
           56046,
           26304,
           29440,
           79593,
           54178,
           30096,
           85693,
           87195,
           49096,
           52413,
           77298,
           90765,
           21918,
           62998,
           73448,
           86111,
           41883,
           59809,
           23957,
           38547,
           65747,
           69372,
           55375,
           23228,
           43482,
           26091,
           33456,
           28718,
           50447,
           38285,
           25271,
           61286,
           74068,
           38872,
           51148,
           31353,
           80067,
           86718,
           29604,
           44794,
           46097,
           77972,
           70951,
           41443,
           69508,
           72460,
           42011,
           51369,
           38590,
           64961,
           73687,
           61074,
           80134,
           75027,
           75702,
           80124,
           72940,
           22070,
           29315,
           51369,
           37760,
           30631,
           75278,
           38361,
           82497,
           16626,
           29672,
           23976,
           22574,
           54198,
           40321,
           30833,
           64795,
           34421,
           62187,
           27255,
           22010,
           30675,
           83003,
           44300,
           71113,
           71952,
           72099,
           50737,
           78618,
           28442,
           51479,
           79530,
           72025,
           48178,
           19986,
           63381,
           38823,
           90300,
           43824,
           15345,
           75276,
           30507,
           48006,
           50437,
           53858,
           75072,
           80134,
           30096,
           48686,
           92910,
           75433,
           61314,
           42387,
           75236,
           28691,
           18100,
           24027,
           56796,
           65991,
           38988,
           50300,
           60597,
           80124,
           33183,
           53790,
           61456,
           37406,
           38415,
           62503,
           41124,
           43057,
           60093,
           14045,
           76005,
           65275,
           27203,
           65665,
           34935,
           48920,
           36443,
           71367,
           42691,
           70503,
           25545,
           32880,
           65316,
           44931,
           54058,
           47850,
           19514,
           22419,
           43462,
           79908,
           87771,
           33039,
           38200,
           44989,
           51287,
           13260,
           40689,
           39453,
           53863,
           24221,
           33178,
           31089,
           62807,
           81168,
           22574,
           45837,
           13624,
           70971,
           56181,
           73691,
           63381,
           105471,
           66886,
           29103,
           67445,
           61278,
           56253,
           19986,
           18690,
           77353,
           26751,
           38946,
           65777,
           78468,
           71427,
           71952,
           25252,
           58398,
           50272,
           25851,
           59111,
           72190,
           7500,
           44794,
           80395,
           89891,
           66373,
           72025,
           67432,
           62882,
           82224,
           83844,
           80952,
           75507,
           58512,
           48726,
           74985,
           67430,
           72063,
           33622,
           41452,
           36283,
           30467,
           31590,
           51267,
           73926,
           19329,
           34838,
           48192,
           55267,
           59666,
           26872,
           30772,
           65685,
           22063,
           22419,
           87771,
           93404,
           16529,
           35441,
           71391,
           34026,
           40049,
           19419,
           81205,
           15072,
           55357,
           37758,
           23228,
           7500,
           53172,
           30545,
           21675,
           80812,
           39922,
           35797,
           42243,
           51195,
           31814,
           76630,
           64090,
           81320,
           66825,
           57100,
           58917,
           47889,
           75114,
           62820,
           83033,
           77583,
           71796,
           94384,
           39771,
           59754,
           59041,
           50183,
           54753,
           92955,
           33471,
           44010,
           84219,
           83715,
           35704,
           53103,
           80763,
           75759,
           75437,
           26091,
           52845,
           22434,
           83844,
           19514,
           77568,
           54165,
           32300,
           34961,
           17345,
           74538,
           68695,
           79593,
           47703,
           61180,
           38998,
           76081,
           34728,
           35196,
           44529,
           42557,
           67605,
           65196,
           16860,
           67023,
           70713,
           59925,
           39722,
           46610,
           88347,
           36715,
           79456,
           40479,
           54233,
           43776,
           71367,
           56775,
           38508,
           53187,
           30023,
           66480,
           71819,
           46734,
           46931,
           42693,
           85606,
           49678,
           37155,
           42162,
           54450,
           68142,
           7500,
           83145,
           46049,
           56715,
           79410,
           57304,
           44375,
           54450,
           59594,
           80685,
           62710,
           35322,
           77142,
           54386,
           48070,
           43140,
           44393,
           54809,
           58113,
           18351,
           36317,
           42213,
           65748,
           77044,
           74918,
           56721,
           26228,
           40211,
           22518,
           28427,
           64722,
           84906,
           28691,
           40521,
           65106,
           67433,
           74716,
           74190,
           39356,
           76653,
           31454,
           19656,
           55956,
           66303,
           40800,
           46149,
           78687,
           52531,
           15759,
           57811,
           78569,
           94384,
           71626,
           60894,
           50200,
           65169,
           59868,
           47009,
           40321,
           37235,
           77382,
           24711,
           27244,
           48752,
           71434,
           51948,
           71853,
           50127,
           18929,
           62061,
           18227,
           69139,
           69109,
           38136,
           58554,
           37971,
           67267,
           21355,
           20895,
           92344,
           44964,
           75507,
           22682,
           60544,
           65685,
           37716,
           57045,
           80134,
           80589,
           51315,
           36026,
           24639,
           18690,
           28164,
           92533,
           60544,
           42523,
           39922,
           33402,
           21645,
           82657,
           51876,
           52852,
           46053,
           77343,
           68695,
           26290,
           57957,
           16531,
           50725,
           83844,
           67419,
           34380,
           65148,
           39898,
           62807,
           19107,
           76998,
           87679,
           57867,
           35765,
           65492,
           71706,
           68487,
           42014,
           53977,
           84219,
           73538,
           79529,
           55759,
           33039,
           69930,
           58597,
           28087,
           19740,
           31928,
           65819,
           63943,
           76081,
           67445,
           39922,
           24645,
           44322,
           75315,
           38998,
           42014,
           45203,
           34935,
           34633,
           61482,
           34968,
           75794,
           74268,
           76445,
           44512,
           27116,
           71855,
           31353,
           55434,
           28359,
           69139,
           18793,
           54414,
           19444,
           22775,
           69755,
           44078,
           56386,
           22448,
           157146,
           34916,
           86610,
           69016,
           27573,
           33228,
           70440,
           38232,
           49413,
           42231,
           56534,
           18222,
           61064,
           52117,
           64813,
           83512,
           41154,
           80398,
           35196,
           22108,
           44392,
           17688,
           42586,
           71107,
           18690,
           82427,
           77437,
           54984,
           55761,
           37292,
           70321,
           81795,
           44989,
           41120,
           77981,
           59481,
           72117,
           67131,
           71853,
           42664,
           42586,
           64590,
           71232,
           34600,
           49094,
           36075,
           77298,
           34026,
           34074,
           63404,
           78416,
           75702,
           44689,
           53977,
           90369,
           37758,
           63207,
           50387,
           62568,
           63967,
           25293,
           78394,
           44911,
           48186,
           54809,
           41580,
           47743,
           30093,
           22280,
           64260,
           54006,
           70886,
           69109,
           72905,
           76532,
           42081,
           31158,
           45688,
           62820,
           33235,
           35701,
           77870,
           18929,
           70617,
           75903,
           25410,
           28320,
           72570,
           63211,
           39898,
           56939,
           29478,
           44359,
           74485,
           64474,
           77226,
           34600,
           40794,
           4428,
           36781,
           24570,
           94642,
           21994,
           57113,
           51373,
           23477,
           58116,
           13672,
           79205,
           22979,
           30368,
           63684,
           96876,
           36790,
           27943,
           30261,
           28587,
           48195,
           29672,
           67225,
           17649,
           55914,
           40059,
           60905,
           75330,
           38680,
           61416,
           29009,
           37150,
           53154,
           65308,
           32871,
           48794,
           59462,
           38361,
           42554,
           67445,
           42192,
           31761,
           34350,
           54591,
           71866,
           25293,
           69520,
           27803,
           51651,
           68487,
           56796,
           79823,
           71322,
           80144,
           76068,
           34587,
           43586,
           50116,
           84906,
           61286,
           33590,
           58692,
           35788,
           23539,
           69209,
           17148,
           62994,
           47320,
           90000,
           60934,
           71965,
           65210,
           52914,
           38946,
           26067,
           42523,
           67716,
           27469,
           73803,
           55593,
           50501,
           37085,
           73807,
           18929,
           61014,
           32144,
           88325,
           5305,
           36807,
           28427,
           22775,
           58025,
           58554,
           63777,
           24434,
           34421,
           61223
          ],
          "sizemode": "area",
          "sizeref": 405.9925,
          "symbol": "circle"
         },
         "mode": "markers",
         "name": "Coupled",
         "showlegend": true,
         "type": "scattergl",
         "x": [
          36.95238095238095,
          6.625,
          9.2,
          10.666666666666666,
          24.384615384615383,
          26.333333333333332,
          40.23255813953488,
          22.2,
          18.357142857142858,
          14.555555555555555,
          13.333333333333334,
          66.42857142857143,
          5.5,
          11,
          26.347826086956523,
          27.818181818181817,
          67.25,
          6.8,
          2.75,
          36.27777777777778,
          82.21052631578948,
          28.766666666666666,
          8.125,
          32.95238095238095,
          4,
          8,
          71.89473684210526,
          19.4,
          7.5,
          43.2962962962963,
          54.85,
          14.384615384615385,
          35,
          40.375,
          114.93333333333334,
          4.714285714285714,
          24.36842105263158,
          38.1578947368421,
          60.21739130434783,
          26,
          58.46666666666667,
          11.333333333333334,
          5.5,
          24.210526315789473,
          65.76190476190476,
          18,
          11,
          9.777777777777779,
          9.88888888888889,
          6,
          8.142857142857142,
          18.5,
          2.5,
          10,
          33.77777777777778,
          65.875,
          11.375,
          19.6875,
          5.166666666666667,
          94.11764705882354,
          74.70588235294117,
          10.6,
          10.833333333333334,
          16.066666666666666,
          55.05,
          70.47058823529412,
          24.1,
          40.535714285714285,
          65.4375,
          15.75,
          36,
          5.5,
          63.0625,
          73.95454545454545,
          35.54838709677419,
          105.625,
          66.19047619047619,
          44.15384615384615,
          78.6842105263158,
          75.46153846153847,
          8.375,
          4.8,
          36,
          24.384615384615383,
          10,
          40.43478260869565,
          13.7,
          101,
          7.555555555555555,
          6.25,
          6.6,
          5.285714285714286,
          14.6875,
          12.75,
          4.666666666666667,
          32.38095238095238,
          7.5,
          71.27777777777777,
          7.4,
          4.714285714285714,
          12.4,
          76.0909090909091,
          7,
          32.11538461538461,
          65.5909090909091,
          66,
          14.142857142857142,
          97.86363636363636,
          5.7,
          22.454545454545453,
          51.84615384615385,
          120.75,
          15.875,
          5.5,
          38.65384615384615,
          16.285714285714285,
          91.47368421052632,
          15.5,
          7.833333333333333,
          45.21739130434783,
          31.181818181818183,
          8.2,
          25.789473684210527,
          53.8235294117647,
          56.473684210526315,
          65.61904761904762,
          7.5,
          5,
          66.48148148148148,
          62.526315789473685,
          42,
          32.57142857142857,
          42.72,
          6.8,
          3.5,
          6.857142857142857,
          37.074074074074076,
          35.96296296296296,
          18.31578947368421,
          20.76923076923077,
          55.8125,
          78.6842105263158,
          13.333333333333334,
          27.1,
          42.06060606060606,
          4.25,
          7.333333333333333,
          37.42307692307692,
          24.095238095238095,
          17.733333333333334,
          35,
          4,
          78.27272727272727,
          35.523809523809526,
          10.666666666666666,
          39.375,
          17.125,
          21.6875,
          12.545454545454545,
          45.705882352941174,
          27.53846153846154,
          107.9375,
          21,
          8.4,
          21.666666666666668,
          13.714285714285714,
          33.1,
          16.75,
          6.9,
          20.25,
          15,
          93.26315789473684,
          97.85,
          11.142857142857142,
          4.25,
          23.0625,
          16.545454545454547,
          4.9,
          22.2,
          7.857142857142857,
          26.27777777777778,
          9.166666666666666,
          9.8,
          7.9,
          35.608695652173914,
          66.27777777777777,
          5.285714285714286,
          20.72222222222222,
          5.142857142857143,
          53.6764705882353,
          28.071428571428573,
          65.5,
          38.65384615384615,
          57.46666666666667,
          35.23529411764706,
          8,
          36.6875,
          16.5,
          27.136363636363637,
          5.5,
          12,
          33.5,
          2.75,
          21.416666666666668,
          67.41176470588235,
          35.857142857142854,
          30.7,
          65.5909090909091,
          4.5,
          29.8,
          17.923076923076923,
          6.857142857142857,
          41.38095238095238,
          121.6875,
          5.916666666666667,
          10.833333333333334,
          57.5,
          32.15384615384615,
          26.347826086956523,
          64.5,
          70.26315789473684,
          66.9,
          42.95238095238095,
          78.7,
          70.28,
          68.57142857142857,
          58.55,
          20.166666666666668,
          109.94117647058823,
          47.03448275862069,
          36.095238095238095,
          9,
          4,
          4.833333333333333,
          6,
          7.6,
          18,
          65.83333333333333,
          6,
          17,
          61.04,
          23.823529411764707,
          51.35,
          14.4,
          5,
          36.61904761904762,
          7.857142857142857,
          20.25,
          97.85,
          95.05882352941177,
          4.4,
          6.5,
          37.25,
          8.444444444444445,
          20.714285714285715,
          6.363636363636363,
          105.73684210526316,
          4.818181818181818,
          33.04545454545455,
          6.666666666666667,
          5.714285714285714,
          3.75,
          30.375,
          9.857142857142858,
          4.5,
          93.16666666666667,
          17.333333333333332,
          9.714285714285714,
          7.857142857142857,
          23.5,
          11.857142857142858,
          40.12,
          39.85,
          51.55555555555556,
          53.625,
          31.46153846153846,
          17.625,
          11.166666666666666,
          65.94736842105263,
          69.71428571428571,
          67.73076923076923,
          60.473684210526315,
          56.470588235294116,
          127.88888888888889,
          8.333333333333334,
          29.6875,
          12,
          13.588235294117647,
          34.666666666666664,
          77.30434782608695,
          9.3,
          27.583333333333332,
          66.55555555555556,
          38.583333333333336,
          10.444444444444445,
          38.75,
          61.52173913043478,
          95.61538461538461,
          64.91304347826087,
          9.88888888888889,
          37.44,
          8.285714285714286,
          78.7,
          6.9,
          104.47619047619048,
          21.454545454545453,
          7.8,
          7.9,
          8.285714285714286,
          66.4090909090909,
          68.1875,
          71.89473684210526,
          31.19047619047619,
          39.111111111111114,
          6.75,
          73.78571428571429,
          7.2,
          27.61111111111111,
          27.64,
          18,
          55.1764705882353,
          44.42307692307692,
          4.75,
          37.75,
          59.08,
          33.30434782608695,
          6.714285714285714,
          33.357142857142854,
          100.76190476190476,
          18.789473684210527,
          87.5625,
          3.75,
          37.73076923076923,
          5.75,
          45.705882352941174,
          37.48,
          22.15,
          20.53846153846154,
          10.166666666666666,
          16.42105263157895,
          112.42857142857143,
          23.571428571428573,
          11.142857142857142,
          11.4,
          81.5,
          22.5,
          10.571428571428571,
          16.11111111111111,
          22.06451612903226,
          60.791666666666664,
          4.5,
          70.5,
          19.807692307692307,
          68,
          124.54545454545455,
          41.04,
          25.083333333333332,
          22.06451612903226,
          29.352941176470587,
          47.80952380952381,
          27.545454545454547,
          11.777777777777779,
          58.23529411764706,
          27.647058823529413,
          26.526315789473685,
          21.363636363636363,
          8.571428571428571,
          14.5,
          34.45454545454545,
          7.166666666666667,
          14.777777777777779,
          24.2,
          30.27777777777778,
          34.354838709677416,
          97.47619047619048,
          19.733333333333334,
          6.25,
          12.428571428571429,
          8.714285714285714,
          7.428571428571429,
          32.2,
          67.95833333333333,
          6.8,
          5.25,
          36.03703703703704,
          35.42857142857143,
          50.588235294117645,
          33.73684210526316,
          5.75,
          99.08695652173913,
          6,
          9.333333333333334,
          62.4375,
          58.45454545454545,
          12.375,
          20.11111111111111,
          112.10526315789474,
          37.80952380952381,
          4.25,
          32.08,
          115.73333333333333,
          127.88888888888889,
          68.6842105263158,
          32,
          21.105263157894736,
          42.464285714285715,
          37.3125,
          26.352941176470587,
          12.75,
          12.2,
          43.11538461538461,
          8.285714285714286,
          12.625,
          18.58823529411765,
          66.66666666666667,
          23.923076923076923,
          67.58823529411765,
          24.615384615384617,
          14.166666666666666,
          33.333333333333336,
          7,
          20.636363636363637,
          77.75,
          12.875,
          26.636363636363637,
          6,
          22.818181818181817,
          9.714285714285714,
          7.5,
          94.95,
          8.2,
          68.57142857142857,
          9.5,
          19.266666666666666,
          36.61904761904762,
          18.8,
          25.22222222222222,
          105.625,
          68,
          22.2,
          8.714285714285714,
          4.888888888888889,
          12,
          8.666666666666666,
          49.17391304347826,
          19.266666666666666,
          17.857142857142858,
          17.333333333333332,
          7.777777777777778,
          7.222222222222222,
          99.26086956521739,
          23.846153846153847,
          33.80769230769231,
          17.416666666666668,
          66.70588235294117,
          68.1875,
          7.7,
          25.48,
          4.888888888888889,
          27.904761904761905,
          78.7,
          58.84,
          14.583333333333334,
          53.095238095238095,
          14.88888888888889,
          35.608695652173914,
          7.666666666666667,
          65.86206896551724,
          87.03448275862068,
          24.48,
          9.375,
          40.19230769230769,
          57.72,
          45.53333333333333,
          21.8,
          33.592592592592595,
          66.55555555555556,
          63.76923076923077,
          74.45454545454545,
          32.84615384615385,
          11.142857142857142,
          75.54545454545455,
          22.90625,
          12.444444444444445,
          7.857142857142857,
          8,
          69.15,
          65.05882352941177,
          73.78571428571429,
          36.6875,
          17.333333333333332,
          4.25,
          11.5,
          36.56521739130435,
          6.75,
          21.8,
          18.375,
          17.125,
          3.75,
          24.916666666666668,
          13,
          67.28,
          68.61538461538461,
          67.14285714285714,
          5.333333333333333,
          5.857142857142857,
          45.64,
          5.166666666666667,
          36.75,
          4,
          20.636363636363637,
          8.555555555555555,
          16.23076923076923,
          5.4,
          3.75,
          40.63636363636363,
          5.857142857142857,
          24.48,
          6.111111111111111,
          61.785714285714285,
          17.76923076923077,
          89.05555555555556,
          45.088235294117645,
          17.428571428571427,
          11.833333333333334,
          68.34782608695652,
          11.090909090909092,
          23.384615384615383,
          7.4,
          32.6,
          11.166666666666666,
          38.57142857142857,
          21.46153846153846,
          37.25,
          98.04545454545455,
          11.5,
          61.42307692307692,
          27.61111111111111,
          4.428571428571429,
          15.071428571428571,
          2.75,
          15.75,
          47.392857142857146,
          12,
          69.33333333333333,
          48.91304347826087,
          21.058823529411764,
          18.4,
          24.210526315789473,
          55.04,
          60.08695652173913,
          23.0625,
          9,
          31.61904761904762,
          28.8125,
          41.26923076923077,
          37.53846153846154,
          67.58823529411765,
          4.8,
          15.75,
          55.75,
          36.68,
          18.705882352941178,
          25.1,
          17,
          40.375,
          8.444444444444445,
          18.214285714285715,
          60.13333333333333,
          45.34615384615385,
          66.24137931034483,
          5.666666666666667,
          33.592592592592595,
          93.41176470588235,
          6.666666666666667,
          125.16666666666667,
          27.63157894736842,
          59.5625,
          38.34782608695652,
          7.4,
          89.25,
          17.916666666666668,
          18.25,
          14.5,
          10.222222222222221,
          19.642857142857142,
          11.5,
          3.25,
          112.42857142857143,
          32.27777777777778,
          68.57142857142857,
          77.75,
          75.75,
          32.8,
          25.466666666666665,
          10.285714285714286,
          21.857142857142858,
          69.71428571428571,
          10,
          9.2,
          100.83333333333333,
          14.166666666666666,
          91.42857142857143,
          39.17391304347826,
          6.333333333333333,
          8.6,
          47.34782608695652,
          58.65,
          14.88888888888889,
          31.166666666666668,
          4,
          5,
          66.6923076923077,
          37.40909090909091,
          40.642857142857146,
          18.705882352941178,
          27.125,
          14.36,
          10.5,
          17.545454545454547,
          105.28571428571429,
          5.5,
          16.4375,
          32.75,
          14.7,
          27.6875,
          4.166666666666667,
          55.9375,
          11.5,
          7.428571428571429,
          63.65217391304348,
          80.875,
          11,
          4.625,
          5.5,
          8.666666666666666,
          15.588235294117647,
          6.25,
          37.73913043478261,
          5,
          43.44827586206897,
          34.5,
          26.133333333333333,
          38.241379310344826,
          13.166666666666666,
          69.375,
          6.285714285714286,
          22.238095238095237,
          17.555555555555557,
          43.25,
          8.6,
          10.8,
          43.52,
          13.7,
          5.857142857142857,
          36.6875,
          14.285714285714286,
          10.88888888888889,
          9.6,
          27.31578947368421,
          35.75,
          7.4,
          69.28571428571429,
          19.555555555555557,
          25.470588235294116,
          45.53333333333333,
          37.074074074074076,
          66,
          26.923076923076923,
          71.94736842105263,
          137.6,
          3.6666666666666665,
          13.2,
          9.428571428571429,
          67.95833333333333,
          33.77777777777778,
          2,
          26.333333333333332,
          6.285714285714286,
          11.571428571428571,
          111.375,
          6.181818181818182,
          24,
          20.7,
          82.16666666666667,
          37.95652173913044,
          71.3529411764706,
          33.22727272727273,
          38.333333333333336,
          21.416666666666668,
          6.222222222222222,
          17.857142857142858,
          36.285714285714285,
          4.25,
          69.45454545454545,
          32.11764705882353,
          25,
          6.1,
          36.91304347826087,
          14.166666666666666,
          57.35,
          5.4,
          90.16666666666667,
          32,
          4,
          7.428571428571429,
          3.75,
          26.11111111111111,
          26.636363636363637,
          25.115384615384617,
          7.142857142857143,
          7.5,
          74.5
         ],
         "xaxis": "x5",
         "y": [
          21,
          8,
          5,
          9,
          13,
          12,
          43,
          20,
          14,
          9,
          9,
          21,
          4,
          5,
          23,
          22,
          16,
          5,
          4,
          18,
          19,
          30,
          8,
          21,
          4,
          7,
          19,
          10,
          6,
          27,
          20,
          13,
          26,
          24,
          15,
          7,
          19,
          19,
          23,
          12,
          15,
          6,
          4,
          19,
          21,
          9,
          11,
          9,
          9,
          6,
          7,
          8,
          4,
          5,
          18,
          24,
          8,
          16,
          6,
          17,
          17,
          5,
          6,
          15,
          20,
          17,
          20,
          28,
          16,
          12,
          16,
          4,
          16,
          22,
          31,
          16,
          21,
          26,
          19,
          13,
          8,
          10,
          16,
          13,
          7,
          23,
          10,
          19,
          9,
          4,
          10,
          7,
          16,
          8,
          6,
          21,
          4,
          18,
          5,
          7,
          5,
          22,
          6,
          26,
          22,
          18,
          7,
          22,
          10,
          22,
          26,
          16,
          16,
          4,
          26,
          7,
          19,
          12,
          6,
          23,
          11,
          5,
          19,
          17,
          19,
          21,
          6,
          4,
          27,
          19,
          24,
          21,
          25,
          5,
          4,
          7,
          27,
          27,
          19,
          13,
          16,
          19,
          9,
          20,
          33,
          4,
          6,
          26,
          21,
          15,
          21,
          5,
          22,
          21,
          6,
          24,
          8,
          16,
          11,
          17,
          13,
          16,
          10,
          5,
          12,
          7,
          20,
          8,
          10,
          8,
          16,
          19,
          20,
          7,
          4,
          16,
          11,
          10,
          20,
          7,
          18,
          6,
          5,
          10,
          23,
          18,
          7,
          18,
          7,
          34,
          14,
          18,
          26,
          30,
          17,
          6,
          32,
          10,
          22,
          4,
          5,
          20,
          4,
          12,
          17,
          28,
          20,
          22,
          4,
          20,
          13,
          7,
          21,
          16,
          12,
          6,
          24,
          26,
          23,
          26,
          19,
          20,
          21,
          20,
          25,
          21,
          20,
          12,
          17,
          29,
          21,
          9,
          4,
          6,
          4,
          5,
          15,
          24,
          10,
          10,
          25,
          17,
          20,
          5,
          4,
          21,
          7,
          8,
          20,
          17,
          5,
          6,
          28,
          9,
          14,
          11,
          19,
          11,
          22,
          6,
          7,
          4,
          16,
          7,
          10,
          18,
          9,
          7,
          7,
          24,
          7,
          25,
          20,
          18,
          16,
          13,
          16,
          6,
          19,
          14,
          26,
          19,
          17,
          18,
          6,
          16,
          8,
          17,
          21,
          23,
          10,
          24,
          18,
          24,
          9,
          28,
          23,
          26,
          23,
          9,
          25,
          7,
          20,
          10,
          21,
          11,
          5,
          10,
          7,
          22,
          16,
          19,
          21,
          18,
          8,
          14,
          5,
          18,
          25,
          15,
          17,
          26,
          8,
          24,
          25,
          23,
          7,
          14,
          21,
          19,
          16,
          4,
          26,
          4,
          17,
          25,
          20,
          13,
          6,
          19,
          14,
          14,
          7,
          5,
          24,
          14,
          7,
          9,
          31,
          24,
          4,
          26,
          26,
          15,
          11,
          25,
          12,
          31,
          17,
          21,
          22,
          9,
          17,
          17,
          19,
          11,
          7,
          12,
          22,
          6,
          9,
          15,
          18,
          31,
          21,
          15,
          4,
          7,
          7,
          7,
          25,
          24,
          5,
          4,
          27,
          28,
          17,
          19,
          4,
          23,
          8,
          9,
          16,
          22,
          8,
          18,
          19,
          21,
          4,
          25,
          15,
          18,
          19,
          26,
          19,
          28,
          32,
          17,
          8,
          5,
          26,
          7,
          8,
          17,
          21,
          13,
          17,
          13,
          6,
          24,
          4,
          11,
          20,
          8,
          22,
          5,
          11,
          7,
          6,
          20,
          5,
          21,
          10,
          15,
          21,
          10,
          18,
          16,
          21,
          10,
          7,
          9,
          5,
          9,
          23,
          15,
          7,
          9,
          9,
          9,
          23,
          13,
          26,
          12,
          17,
          16,
          10,
          25,
          9,
          21,
          20,
          25,
          12,
          21,
          9,
          23,
          6,
          29,
          29,
          25,
          8,
          26,
          25,
          30,
          20,
          27,
          18,
          26,
          22,
          26,
          7,
          22,
          32,
          9,
          7,
          9,
          20,
          17,
          14,
          32,
          9,
          4,
          8,
          23,
          8,
          20,
          8,
          8,
          4,
          12,
          17,
          25,
          13,
          21,
          6,
          7,
          25,
          6,
          24,
          4,
          11,
          9,
          13,
          10,
          4,
          22,
          7,
          25,
          9,
          28,
          13,
          18,
          34,
          14,
          6,
          23,
          11,
          13,
          5,
          25,
          6,
          28,
          13,
          20,
          22,
          6,
          26,
          18,
          7,
          14,
          4,
          16,
          28,
          5,
          21,
          23,
          17,
          10,
          19,
          25,
          23,
          16,
          9,
          21,
          16,
          26,
          26,
          17,
          5,
          16,
          24,
          25,
          17,
          20,
          7,
          24,
          9,
          14,
          15,
          26,
          29,
          6,
          27,
          17,
          6,
          12,
          19,
          16,
          23,
          5,
          16,
          12,
          12,
          12,
          9,
          14,
          6,
          4,
          14,
          18,
          14,
          20,
          20,
          25,
          15,
          7,
          14,
          14,
          7,
          5,
          18,
          6,
          14,
          23,
          6,
          5,
          23,
          20,
          9,
          18,
          5,
          9,
          26,
          22,
          28,
          17,
          16,
          25,
          6,
          11,
          21,
          4,
          16,
          12,
          10,
          16,
          6,
          16,
          10,
          7,
          23,
          24,
          6,
          8,
          4,
          9,
          17,
          4,
          23,
          9,
          29,
          12,
          15,
          29,
          6,
          24,
          7,
          21,
          9,
          28,
          5,
          5,
          25,
          10,
          7,
          32,
          7,
          9,
          5,
          19,
          20,
          5,
          21,
          9,
          17,
          30,
          27,
          23,
          13,
          19,
          10,
          6,
          10,
          7,
          24,
          18,
          4,
          15,
          7,
          7,
          16,
          11,
          13,
          20,
          18,
          23,
          17,
          22,
          15,
          12,
          9,
          7,
          28,
          4,
          22,
          17,
          20,
          10,
          23,
          6,
          20,
          10,
          18,
          1,
          4,
          7,
          4,
          18,
          22,
          26,
          7,
          4,
          18
         ],
         "yaxis": "y5"
        },
        {
         "hovertemplate": "Rel_Status=Coupled<br>Education=PhD<br>Spend per Purchase=%{x}<br>Total Purchases=%{y}<br>Income=%{marker.size}<extra></extra>",
         "legendgroup": "Coupled",
         "marker": {
          "color": "#EF553B",
          "opacity": 0.5,
          "size": [
           58293,
           33454,
           30351,
           5648,
           58607,
           65324,
           84618,
           67353,
           72550,
           55954,
           60631,
           23626,
           50150,
           65846,
           43974,
           77376,
           41551,
           62981,
           33762,
           61010,
           70356,
           157243,
           53537,
           80427,
           83837,
           38853,
           51650,
           45759,
           66973,
           102160,
           44377,
           77622,
           30732,
           79930,
           34320,
           62745,
           31686,
           67546,
           63342,
           37717,
           38097,
           61905,
           66313,
           65640,
           46377,
           54432,
           66334,
           55212,
           59292,
           68462,
           46681,
           37717,
           66426,
           33581,
           51012,
           68682,
           30351,
           66465,
           75865,
           37401,
           93027,
           32011,
           56223,
           55707,
           75261,
           49269,
           56937,
           62010,
           78952,
           78642,
           67911,
           64355,
           39665,
           44124,
           77863,
           49154,
           84169,
           52157,
           38443,
           64413,
           61996,
           47472,
           45207,
           59973,
           61467,
           162397,
           54456,
           69084,
           65488,
           76140,
           46463,
           50616,
           73059,
           45068,
           29187,
           59304,
           81300,
           160803,
           77845,
           69476,
           66375,
           76618,
           18988,
           53593,
           83443,
           51518,
           62220,
           38829,
           78939,
           6835,
           74250,
           82017,
           70421,
           91820,
           65968,
           56575,
           65324,
           30843,
           46374,
           57906,
           70123,
           82072,
           37087,
           45921,
           84169,
           46015,
           34469,
           68397,
           79632,
           32892,
           67536,
           56067,
           51563,
           27922,
           52190,
           16927,
           40233,
           34596,
           40706,
           65352,
           82170,
           36930,
           49187,
           28440,
           64504,
           56320,
           37334,
           37126,
           77037,
           28764,
           69098,
           53312,
           65526,
           32892,
           87171,
           41014,
           84460,
           85844,
           57236,
           50870,
           33569,
           31605,
           36778,
           57744,
           40344,
           74214,
           31497,
           78075,
           84618,
           40451,
           33629,
           68682,
           75032,
           38197,
           37395,
           59062,
           27683,
           20427,
           69969,
           77766,
           55158,
           53378,
           45579,
           37633,
           57091,
           34043,
           81051,
           65695,
           45503,
           71604,
           50150,
           76542,
           56242,
           38887,
           29791,
           51039,
           36947,
           69389,
           34578,
           54132,
           34596,
           43269,
           70038,
           32727,
           38410,
           46015,
           41145,
           94871,
           59892,
           57072,
           64014,
           60585,
           53374,
           78931,
           37401,
           69283,
           71969,
           55517,
           75283,
           38201,
           81574,
           31497,
           36663,
           54072,
           65526,
           51717,
           54549,
           73059,
           42731,
           52854,
           46681,
           59821,
           62670,
           63246,
           36732,
           69084,
           77766,
           49544,
           22554,
           23536,
           18169,
           86580,
           55012,
           38175,
           54222,
           55424,
           92491,
           46910,
           42403,
           80360,
           63342,
           38725,
           51012,
           85431,
           28973,
           39435,
           21840,
           32583,
           54693,
           80336,
           32313,
           86836,
           4023,
           57705,
           72159,
           70116,
           69063,
           69702,
           70643,
           30396,
           44155,
           67546,
           59292,
           45759,
           60491,
           34230,
           55212,
           61917,
           67472,
           73356,
           72335,
           56559,
           32644,
           65814,
           71322,
           70038,
           77610,
           48699,
           67911,
           78128,
           44953,
           69805,
           82333,
           65220,
           156924,
           29732,
           63516,
           42769,
           58482,
           60896,
           79174,
           44325,
           84117,
           64014,
           52869
          ],
          "sizemode": "area",
          "sizeref": 405.9925,
          "symbol": "circle"
         },
         "mode": "markers",
         "name": "Coupled",
         "showlegend": false,
         "type": "scattergl",
         "x": [
          22.210526315789473,
          16.9,
          7.666666666666667,
          24.5,
          57.1764705882353,
          27.2,
          64.3076923076923,
          32.607142857142854,
          47.107142857142854,
          27.263157894736842,
          27.541666666666668,
          4.3,
          25.625,
          70,
          26.238095238095237,
          28.73913043478261,
          17.4375,
          64.43478260869566,
          11.777777777777779,
          39.26923076923077,
          63.18518518518518,
          43.45945945945946,
          11.625,
          65.53571428571429,
          52.72,
          6.428571428571429,
          19.1,
          9.714285714285714,
          45.785714285714285,
          47.69230769230769,
          13.894736842105264,
          32.45454545454545,
          14.23076923076923,
          103.11764705882354,
          4.25,
          38.51724137931034,
          2.8333333333333335,
          106.3,
          57.94736842105263,
          6.25,
          16.727272727272727,
          19.25,
          33.47826086956522,
          30.733333333333334,
          12.857142857142858,
          7.6,
          61.10526315789474,
          59.1,
          28.166666666666668,
          111.33333333333333,
          26.5625,
          6.25,
          68.85,
          4.25,
          20.9,
          66.58333333333333,
          7.666666666666667,
          42.42857142857143,
          65.36842105263158,
          6.857142857142857,
          96.31818181818181,
          12.2,
          15.6,
          26.75,
          102.52941176470588,
          35.6,
          30.2,
          27.894736842105264,
          99.61904761904762,
          100.88888888888889,
          36.148148148148145,
          68.80952380952381,
          18,
          23.352941176470587,
          64.55,
          21.63157894736842,
          95.95,
          22.083333333333332,
          6.333333333333333,
          23.25,
          58.57142857142857,
          9.375,
          14.333333333333334,
          25.466666666666665,
          29.7,
          107,
          23.764705882352942,
          63.44,
          68.78571428571429,
          64.19047619047619,
          13.823529411764707,
          9.571428571428571,
          42.11538461538461,
          5,
          6.8,
          37.42857142857143,
          59.095238095238095,
          39.02272727272727,
          64.0952380952381,
          69.6,
          67.71428571428571,
          137.36363636363637,
          2.6666666666666665,
          20.869565217391305,
          68.04545454545455,
          26.41176470588235,
          53.30434782608695,
          12.375,
          75.35,
          137,
          64.33333333333333,
          42.88235294117647,
          33.34782608695652,
          68.04545454545455,
          27.5,
          27.1,
          27.2,
          5.833333333333333,
          24.77777777777778,
          23.58823529411765,
          101.58823529411765,
          106.21052631578948,
          23.58823529411765,
          19.9,
          95.95,
          9.2,
          6.888888888888889,
          67.42857142857143,
          55.65,
          5.75,
          60.96666666666667,
          36.25,
          65.78947368421052,
          6.833333333333333,
          8.555555555555555,
          4.416666666666667,
          11.461538461538462,
          5.75,
          7.363636363636363,
          25.3125,
          100.42105263157895,
          18.5625,
          14.5,
          10.5,
          52.56,
          33.42857142857143,
          5.636363636363637,
          12,
          41.592592592592595,
          3,
          97.6,
          23.166666666666668,
          29.764705882352942,
          5.75,
          51.92,
          5,
          23.772727272727273,
          97.9,
          12.1,
          10.5,
          12.6,
          13.88888888888889,
          8.555555555555555,
          25.6875,
          18.166666666666668,
          106.9375,
          15.5,
          70.57142857142857,
          64.3076923076923,
          9.8,
          11.692307692307692,
          66.58333333333333,
          60.75,
          8,
          7.8,
          10.142857142857142,
          21.9375,
          2.5,
          118.15384615384616,
          44.970588235294116,
          23.22222222222222,
          27.344827586206897,
          18.3,
          6.333333333333333,
          27.555555555555557,
          9.8,
          65.26086956521739,
          31.238095238095237,
          18.88888888888889,
          70.3529411764706,
          25.625,
          64.47826086956522,
          34.67857142857143,
          8.4,
          2.857142857142857,
          29.785714285714285,
          13.272727272727273,
          36.22727272727273,
          2,
          8.4,
          5.75,
          4.75,
          73.17647058823529,
          31.11764705882353,
          29.666666666666668,
          9.2,
          3.25,
          59.888888888888886,
          12.428571428571429,
          38.2962962962963,
          20.181818181818183,
          24.533333333333335,
          50.666666666666664,
          39.291666666666664,
          6.857142857142857,
          33.48148148148148,
          57.1578947368421,
          27.52173913043478,
          40.76,
          17.866666666666667,
          99.88888888888889,
          15.5,
          5.833333333333333,
          7.8,
          29.764705882352942,
          15.25,
          19.416666666666668,
          42.11538461538461,
          18.76923076923077,
          12.88888888888889,
          26.5625,
          28.23076923076923,
          37.5,
          35.09090909090909,
          5.222222222222222,
          63.44,
          44.970588235294116,
          25.25,
          4.1,
          2.5,
          5.25,
          67.81818181818181,
          26.4,
          13.909090909090908,
          22,
          35.08,
          81.36,
          9.714285714285714,
          8.4,
          148.73333333333332,
          57.94736842105263,
          6.428571428571429,
          20.9,
          68.52941176470588,
          20.692307692307693,
          14.571428571428571,
          5.4,
          2.25,
          29.967741935483872,
          42.08,
          14.454545454545455,
          24.217391304347824,
          0.6,
          27,
          66.71428571428571,
          66.78260869565217,
          66.28571428571429,
          39.96153846153846,
          101.55555555555556,
          5.666666666666667,
          9.2,
          106.3,
          28.166666666666668,
          9.714285714285714,
          36.714285714285715,
          5.25,
          59.1,
          13,
          27.6,
          68.72727272727273,
          90.95652173913044,
          26.88888888888889,
          22.944444444444443,
          32.47826086956522,
          46.607142857142854,
          73.17647058823529,
          98.82352941176471,
          8,
          36.148148148148145,
          63.2,
          42.541666666666664,
          38.44444444444444,
          101.22222222222223,
          55.73913043478261,
          null,
          7.6,
          18.75,
          11,
          33.22727272727273,
          65.42307692307692,
          107.52631578947368,
          25.80952380952381,
          65.25,
          20.181818181818183,
          15.636363636363637
         ],
         "xaxis": "x4",
         "y": [
          19,
          10,
          6,
          2,
          17,
          20,
          26,
          28,
          28,
          19,
          24,
          10,
          16,
          16,
          21,
          23,
          16,
          23,
          9,
          26,
          27,
          37,
          8,
          28,
          25,
          7,
          10,
          7,
          28,
          26,
          19,
          22,
          13,
          17,
          4,
          29,
          6,
          20,
          19,
          4,
          11,
          12,
          23,
          15,
          7,
          5,
          19,
          20,
          18,
          15,
          16,
          4,
          20,
          4,
          10,
          24,
          6,
          35,
          19,
          7,
          22,
          10,
          10,
          16,
          17,
          25,
          30,
          19,
          21,
          18,
          27,
          21,
          12,
          17,
          20,
          19,
          20,
          12,
          6,
          12,
          21,
          8,
          15,
          15,
          20,
          1,
          17,
          25,
          14,
          21,
          17,
          7,
          26,
          4,
          5,
          28,
          21,
          44,
          21,
          15,
          14,
          11,
          6,
          23,
          22,
          17,
          23,
          8,
          20,
          1,
          18,
          17,
          23,
          22,
          18,
          20,
          20,
          6,
          18,
          17,
          17,
          19,
          17,
          10,
          20,
          5,
          9,
          21,
          20,
          8,
          30,
          20,
          19,
          6,
          9,
          12,
          13,
          4,
          11,
          16,
          19,
          16,
          8,
          6,
          25,
          21,
          11,
          6,
          27,
          4,
          25,
          12,
          17,
          8,
          25,
          4,
          22,
          20,
          10,
          6,
          5,
          9,
          9,
          16,
          12,
          16,
          10,
          14,
          26,
          5,
          13,
          24,
          20,
          5,
          5,
          7,
          16,
          4,
          13,
          34,
          18,
          29,
          10,
          6,
          18,
          5,
          23,
          21,
          9,
          17,
          16,
          23,
          28,
          5,
          7,
          14,
          11,
          22,
          4,
          5,
          4,
          4,
          17,
          17,
          18,
          5,
          4,
          18,
          7,
          27,
          22,
          30,
          21,
          24,
          7,
          27,
          19,
          23,
          25,
          15,
          18,
          10,
          6,
          5,
          17,
          8,
          12,
          26,
          13,
          9,
          16,
          26,
          22,
          22,
          9,
          25,
          34,
          16,
          10,
          4,
          4,
          11,
          25,
          11,
          12,
          25,
          25,
          7,
          5,
          15,
          19,
          7,
          10,
          17,
          13,
          7,
          5,
          4,
          31,
          25,
          11,
          23,
          15,
          18,
          21,
          23,
          14,
          26,
          18,
          6,
          5,
          20,
          18,
          7,
          28,
          4,
          20,
          7,
          15,
          22,
          23,
          18,
          18,
          23,
          28,
          17,
          17,
          5,
          27,
          20,
          24,
          27,
          18,
          23,
          0,
          5,
          16,
          8,
          22,
          26,
          19,
          21,
          24,
          22,
          11
         ],
         "yaxis": "y4"
        },
        {
         "hovertemplate": "Rel_Status=Coupled<br>Education=Master<br>Spend per Purchase=%{x}<br>Total Purchases=%{y}<br>Income=%{marker.size}<extra></extra>",
         "legendgroup": "Coupled",
         "marker": {
          "color": "#EF553B",
          "opacity": 0.5,
          "size": [
           62513,
           76995,
           38620,
           68657,
           20559,
           7500,
           79143,
           82384,
           66991,
           75251,
           38620,
           36138,
           89058,
           57288,
           56129,
           19510,
           54348,
           65104,
           49605,
           59354,
           66835,
           30477,
           69661,
           46014,
           83790,
           23661,
           65176,
           44159,
           43776,
           38179,
           77882,
           44319,
           50898,
           55951,
           42386,
           80950,
           64100,
           42670,
           28839,
           35178,
           33181,
           65073,
           43795,
           62499,
           70777,
           49505,
           18492,
           82584,
           50943,
           42207,
           55842,
           38961,
           83151,
           65104,
           48330,
           50943,
           89120,
           80184,
           50353,
           57954,
           47352,
           27159,
           81698,
           71499,
           29298,
           36959,
           54603,
           27450,
           61794,
           92163,
           17459,
           42169,
           49618,
           30522,
           77632,
           78710,
           14661,
           42315,
           61923,
           35178,
           74806,
           56962,
           70545,
           34941,
           40662,
           78285,
           62058,
           17144,
           43783,
           62847,
           61872,
           49681,
           56850,
           52750,
           38576,
           44602,
           61346,
           35641,
           73113,
           24401,
           46106,
           41021,
           80573,
           82576,
           56962,
           42021,
           65569,
           34053,
           38196,
           59412,
           33564,
           33585,
           27100,
           62845,
           27590,
           36262,
           67381,
           56129,
           21255,
           54197,
           66726,
           47353,
           33444,
           43641,
           70091,
           51412,
           66636,
           50965,
           54730,
           38452,
           55249,
           66000,
           73450,
           57183,
           37368,
           39767,
           83151,
           60033,
           157733,
           45143,
           81843,
           46692,
           72828,
           88097,
           35876,
           43263,
           62845,
           57420,
           53761,
           63915,
           44511,
           47352,
           67087,
           43142,
           27100,
           36408,
           28072,
           79419,
           49854,
           53253,
           54108,
           63206,
           57136,
           37787,
           74881,
           42386,
           37054,
           47175,
           49681,
           27161,
           78093,
           45903,
           40442,
           45143,
           17144,
           53843,
           90226,
           60432,
           52973,
           30560,
           35924,
           58494,
           36634,
           80141,
           38452,
           58656,
           77520,
           74881,
           66835,
           47808,
           28520,
           59385,
           79734,
           80739,
           22669,
           68148,
           65735,
           21024,
           32889,
           30538,
           88420,
           73395,
           31535,
           80573,
           22701,
           62694,
           21059,
           29543,
           34242,
           34529,
           83891,
           70053,
           85738,
           58646,
           39791,
           43815,
           77027,
           32765,
           49912,
           45057,
           27889,
           34109,
           49912,
           81929,
           53204,
           58646,
           48150,
           43018,
           45736,
           66476,
           37509,
           41275,
           49572,
           30560,
           34176,
           76234,
           65487,
           40101,
           33562,
           69245
          ],
          "sizemode": "area",
          "sizeref": 405.9925,
          "symbol": "circle"
         },
         "mode": "markers",
         "name": "Coupled",
         "showlegend": false,
         "type": "scattergl",
         "x": [
          32.54545454545455,
          68.53846153846153,
          28.90909090909091,
          66.44444444444444,
          7.571428571428571,
          3.875,
          58.37931034482759,
          72.48148148148148,
          59.666666666666664,
          99.47368421052632,
          28.90909090909091,
          11.615384615384615,
          60.714285714285715,
          30.4,
          30,
          5,
          11.25,
          61.94117647058823,
          15.875,
          28.6875,
          43.041666666666664,
          11,
          36.26086956521739,
          20.807692307692307,
          64.6,
          4.6,
          61.24,
          18.333333333333332,
          16.176470588235293,
          8.181818181818182,
          68.16666666666667,
          5.285714285714286,
          26.03030303030303,
          59.73913043478261,
          14.285714285714286,
          52.73913043478261,
          30.333333333333332,
          21.90909090909091,
          4.571428571428571,
          11.8,
          4,
          64.28571428571429,
          28.941176470588236,
          18.5,
          34.21739130434783,
          25.896551724137932,
          2.5,
          89.6875,
          9.2,
          18.928571428571427,
          30.470588235294116,
          11.666666666666666,
          39.31578947368421,
          61.94117647058823,
          6.4,
          9.2,
          101.26315789473684,
          95.1,
          29.466666666666665,
          21.434782608695652,
          19.9375,
          3.5,
          40.32,
          30.576923076923077,
          2.75,
          8.857142857142858,
          14.1875,
          20.428571428571427,
          30.55,
          99.33333333333333,
          7.666666666666667,
          5,
          11.727272727272727,
          19.176470588235293,
          173.23076923076923,
          39,
          5.2,
          22.5,
          15.75,
          11.8,
          60.3125,
          19.571428571428573,
          25.692307692307693,
          12.125,
          11.5,
          67.95238095238095,
          25,
          3.9166666666666665,
          28.59090909090909,
          115.14285714285714,
          27.285714285714285,
          21.80952380952381,
          10.5,
          31.85185185185185,
          8.2,
          17.176470588235293,
          43,
          17.8,
          66.73333333333333,
          29.1875,
          10.8,
          9.142857142857142,
          65.16666666666667,
          100.52631578947368,
          19.571428571428573,
          26.045454545454547,
          37.34782608695652,
          14.714285714285714,
          4.888888888888889,
          27.066666666666666,
          11.833333333333334,
          17.428571428571427,
          7.4,
          42.07142857142857,
          3,
          35.5,
          56.294117647058826,
          30,
          5.545454545454546,
          19.75,
          25.764705882352942,
          17.307692307692307,
          4.5,
          13.9,
          61.10526315789474,
          17.727272727272727,
          63.76470588235294,
          31.136363636363637,
          22.5,
          8,
          16.25,
          71.1,
          66.81481481481481,
          24.4,
          7.5,
          28.529411764705884,
          102,
          19.8,
          29.5,
          20.733333333333334,
          60.851851851851855,
          26.466666666666665,
          59.92857142857143,
          42.2,
          16.125,
          27.5625,
          42.07142857142857,
          21.466666666666665,
          19.11764705882353,
          34.30434782608695,
          27.96153846153846,
          19.9375,
          36.09090909090909,
          5,
          7.4,
          5.5,
          9.4,
          108.73333333333333,
          21.11111111111111,
          22.94736842105263,
          23.34375,
          66.28571428571429,
          24.692307692307693,
          15.142857142857142,
          35.7037037037037,
          14.285714285714286,
          4.166666666666667,
          14.117647058823529,
          21.80952380952381,
          10.4,
          65,
          8.25,
          14.083333333333334,
          20.733333333333334,
          3.9166666666666665,
          28.1,
          98,
          21.105263157894736,
          37.16129032258065,
          6.2,
          6.8,
          24.75,
          22.333333333333332,
          95.04545454545455,
          8,
          38.125,
          66.34782608695652,
          35.7037037037037,
          43.041666666666664,
          22.4,
          8.6,
          18.5,
          65.28571428571429,
          68.04166666666667,
          17.3,
          69.46666666666667,
          20.789473684210527,
          12,
          6.111111111111111,
          21.58823529411765,
          103.45,
          26.466666666666665,
          10.2,
          65.16666666666667,
          4.8,
          31.208333333333332,
          4.888888888888889,
          7.875,
          3.75,
          18,
          37.09090909090909,
          38.92307692307692,
          65.28571428571429,
          17.5,
          17.4,
          13.166666666666666,
          61.8421052631579,
          5.75,
          33.61538461538461,
          8.333333333333334,
          5.2,
          5.5,
          33.61538461538461,
          102.65,
          9,
          17.5,
          20.46153846153846,
          19,
          23,
          38.96153846153846,
          13.666666666666666,
          5.545454545454546,
          7.714285714285714,
          6.2,
          5.6,
          39.43478260869565,
          68.76470588235294,
          24.41176470588235,
          5.666666666666667,
          36.65217391304348
         ],
         "xaxis": "x3",
         "y": [
          22,
          26,
          11,
          18,
          7,
          8,
          29,
          27,
          21,
          19,
          11,
          13,
          14,
          20,
          22,
          6,
          8,
          17,
          8,
          16,
          24,
          6,
          23,
          26,
          25,
          5,
          25,
          15,
          17,
          11,
          12,
          7,
          33,
          23,
          7,
          23,
          18,
          11,
          7,
          5,
          4,
          14,
          17,
          12,
          23,
          29,
          4,
          16,
          5,
          14,
          17,
          6,
          19,
          17,
          5,
          5,
          19,
          20,
          15,
          23,
          16,
          6,
          25,
          26,
          4,
          7,
          16,
          7,
          20,
          21,
          9,
          6,
          11,
          17,
          13,
          28,
          5,
          12,
          8,
          5,
          16,
          21,
          13,
          8,
          8,
          21,
          18,
          12,
          22,
          14,
          21,
          21,
          6,
          27,
          5,
          17,
          23,
          10,
          15,
          16,
          5,
          7,
          24,
          19,
          21,
          22,
          23,
          7,
          9,
          15,
          6,
          7,
          5,
          28,
          4,
          12,
          17,
          22,
          11,
          12,
          17,
          13,
          4,
          10,
          19,
          11,
          17,
          22,
          18,
          9,
          8,
          10,
          27,
          25,
          4,
          17,
          23,
          10,
          2,
          15,
          27,
          15,
          28,
          20,
          8,
          16,
          28,
          15,
          17,
          23,
          26,
          16,
          22,
          4,
          5,
          4,
          5,
          15,
          18,
          19,
          32,
          14,
          26,
          7,
          27,
          7,
          6,
          17,
          21,
          5,
          17,
          8,
          12,
          15,
          12,
          20,
          24,
          19,
          31,
          5,
          5,
          16,
          15,
          22,
          9,
          32,
          23,
          27,
          24,
          10,
          5,
          10,
          14,
          24,
          10,
          15,
          19,
          7,
          9,
          17,
          20,
          15,
          5,
          24,
          5,
          24,
          9,
          8,
          4,
          9,
          22,
          26,
          21,
          8,
          10,
          6,
          19,
          8,
          26,
          6,
          5,
          4,
          26,
          20,
          5,
          8,
          13,
          7,
          19,
          26,
          9,
          11,
          7,
          5,
          5,
          23,
          17,
          17,
          9,
          23
         ],
         "yaxis": "y3"
        },
        {
         "hovertemplate": "Rel_Status=Coupled<br>Education=Basic<br>Spend per Purchase=%{x}<br>Total Purchases=%{y}<br>Income=%{marker.size}<extra></extra>",
         "legendgroup": "Coupled",
         "marker": {
          "color": "#EF553B",
          "opacity": 0.5,
          "size": [
           7500,
           24594,
           28249,
           24882,
           24480,
           27190,
           24279,
           30801,
           18978,
           25965,
           13084,
           17487,
           20425,
           25443,
           22634,
           14421,
           23724,
           26997,
           18393,
           17256,
           22634,
           13724,
           24594,
           9722,
           28389,
           28249,
           24882,
           34445,
           22390,
           14188,
           20425,
           16005,
           25224,
           14918
          ],
          "sizemode": "area",
          "sizeref": 405.9925,
          "symbol": "circle"
         },
         "mode": "markers",
         "name": "Coupled",
         "showlegend": false,
         "type": "scattergl",
         "x": [
          10.166666666666666,
          5.8,
          7.166666666666667,
          16,
          10.2,
          4.5,
          29.22222222222222,
          7.5,
          7.4,
          12.333333333333334,
          5.8,
          4.5,
          8.142857142857142,
          6.4,
          16,
          4,
          10.714285714285714,
          33.38461538461539,
          6.25,
          8.857142857142858,
          16,
          11.6,
          5.8,
          9.363636363636363,
          7,
          7.166666666666667,
          16,
          31.074074074074073,
          6.5,
          10.714285714285714,
          8.142857142857142,
          12.875,
          6.571428571428571,
          8.6
         ],
         "xaxis": "x2",
         "y": [
          6,
          5,
          6,
          5,
          10,
          4,
          9,
          6,
          5,
          6,
          5,
          4,
          7,
          5,
          6,
          4,
          7,
          13,
          8,
          7,
          6,
          5,
          5,
          11,
          4,
          6,
          5,
          27,
          4,
          7,
          7,
          8,
          7,
          5
         ],
         "yaxis": "y2"
        },
        {
         "hovertemplate": "Rel_Status=Coupled<br>Education=2n Cycle<br>Spend per Purchase=%{x}<br>Total Purchases=%{y}<br>Income=%{marker.size}<extra></extra>",
         "legendgroup": "Coupled",
         "marker": {
          "color": "#EF553B",
          "opacity": 0.5,
          "size": [
           23718,
           7500,
           26326,
           23559,
           78497,
           36550,
           30753,
           71488,
           35688,
           46344,
           78497,
           16248,
           45204,
           22212,
           26490,
           32414,
           58821,
           35684,
           35688,
           14515,
           19789,
           10404,
           67309,
           7500,
           20130,
           70829,
           66664,
           57247,
           25315,
           24683,
           15315,
           62466,
           47821,
           26850,
           26224,
           72635,
           62466,
           26490,
           54690,
           36145,
           41039,
           38702,
           17003,
           63564,
           63855,
           35523,
           46891,
           25804,
           25130,
           82504,
           82347,
           85710,
           38683,
           17117,
           51111,
           57937,
           15716,
           24884,
           56337,
           70924,
           68316,
           31056,
           70924,
           26907,
           54210,
           15315,
           65463,
           47025,
           49669,
           48985,
           20130,
           45894,
           46891,
           62972,
           46831,
           43050,
           23148,
           74805,
           59060,
           46094,
           26887,
           52203,
           50523,
           54342,
           26907,
           31086,
           20491,
           78041,
           69401,
           23162,
           19414,
           75484,
           46772,
           20981,
           57036,
           53083,
           23331,
           30390,
           37284,
           76800,
           12393,
           66664,
           36301,
           75774,
           50334,
           72635,
           20193,
           42033,
           62905,
           21955,
           65370,
           60839,
           82122,
           75774,
           58582,
           52513,
           62972,
           82326,
           92556,
           70932,
           34984,
           54690,
           32632,
           96547,
           37284,
           7500,
           81044,
           87000,
           14796,
           27733,
           25176,
           53230,
           32146,
           53233,
           82347,
           7500
          ],
          "sizemode": "area",
          "sizeref": 405.9925,
          "symbol": "circle"
         },
         "mode": "markers",
         "name": "Coupled",
         "showlegend": false,
         "type": "scattergl",
         "x": [
          9,
          12.2,
          4.5,
          8.777777777777779,
          39.12,
          28.85,
          11.571428571428571,
          34.9375,
          13.1875,
          25.235294117647058,
          39.12,
          6.333333333333333,
          16.285714285714285,
          8.625,
          19.09090909090909,
          10.4,
          34.666666666666664,
          6,
          13.1875,
          8.727272727272727,
          8.666666666666666,
          6.142857142857143,
          27.743589743589745,
          5.142857142857143,
          6.8,
          26.9375,
          67.84210526315789,
          19.333333333333332,
          6,
          5.125,
          8,
          34.19230769230769,
          9.4,
          5.7272727272727275,
          7,
          46.714285714285715,
          34.19230769230769,
          19.09090909090909,
          16.5,
          14.333333333333334,
          31.133333333333333,
          12.11111111111111,
          4.222222222222222,
          43.392857142857146,
          41.916666666666664,
          8.25,
          22.875,
          7.857142857142857,
          7.142857142857143,
          62.705882352941174,
          74.12,
          40.84615384615385,
          20.058823529411764,
          11.636363636363637,
          7.857142857142857,
          34.15,
          9.2,
          4.75,
          32.90909090909091,
          68.15,
          37.84375,
          11,
          68.15,
          3.6666666666666665,
          26.214285714285715,
          8,
          29.57894736842105,
          27.608695652173914,
          23.285714285714285,
          12.5,
          6.8,
          10.2,
          22.875,
          36.6875,
          11.142857142857142,
          9.5,
          6.166666666666667,
          31.53846153846154,
          19.571428571428573,
          8.8,
          6,
          34.77777777777778,
          11.375,
          14.75,
          3.6666666666666665,
          8,
          7.5,
          73.27777777777777,
          40.588235294117645,
          8.125,
          6.4,
          64.38888888888889,
          34.93333333333333,
          10.428571428571429,
          58.19230769230769,
          15.941176470588236,
          12.875,
          13.333333333333334,
          5.75,
          40.0625,
          9.5,
          67.84210526315789,
          11.142857142857142,
          39.19047619047619,
          30.17391304347826,
          46.714285714285715,
          11.714285714285714,
          6.25,
          31.1,
          6.875,
          24.263157894736842,
          43.10344827586207,
          53.15384615384615,
          39.19047619047619,
          34.68181818181818,
          45.96,
          36.6875,
          102.5909090909091,
          60.142857142857146,
          41.31818181818182,
          6.333333333333333,
          16.5,
          32,
          38.523809523809526,
          5.75,
          10,
          54.90909090909091,
          53.388888888888886,
          8.5,
          8.142857142857142,
          3.25,
          31.82608695652174,
          8.25,
          8,
          74.12,
          4.818181818181818
         ],
         "xaxis": "x",
         "y": [
          9,
          10,
          4,
          9,
          25,
          20,
          7,
          16,
          16,
          17,
          25,
          9,
          7,
          8,
          11,
          5,
          21,
          5,
          16,
          11,
          9,
          7,
          39,
          7,
          5,
          16,
          19,
          12,
          9,
          8,
          8,
          26,
          5,
          11,
          9,
          21,
          26,
          11,
          12,
          12,
          15,
          9,
          9,
          28,
          24,
          8,
          8,
          7,
          7,
          17,
          25,
          26,
          17,
          11,
          7,
          20,
          10,
          4,
          22,
          20,
          32,
          5,
          20,
          6,
          14,
          8,
          19,
          23,
          14,
          6,
          5,
          5,
          8,
          16,
          7,
          8,
          6,
          26,
          14,
          5,
          5,
          27,
          8,
          12,
          6,
          6,
          4,
          18,
          17,
          8,
          5,
          18,
          30,
          7,
          26,
          17,
          8,
          6,
          4,
          16,
          6,
          19,
          7,
          21,
          23,
          21,
          7,
          4,
          20,
          8,
          19,
          29,
          26,
          21,
          22,
          25,
          16,
          22,
          21,
          22,
          6,
          12,
          18,
          21,
          4,
          10,
          22,
          18,
          6,
          7,
          4,
          23,
          8,
          5,
          25,
          11
         ],
         "yaxis": "y"
        }
       ],
       "layout": {
        "annotations": [
         {
          "font": {},
          "showarrow": false,
          "text": "Education=2n Cycle",
          "x": 0.5,
          "xanchor": "center",
          "xref": "paper",
          "y": 0.144,
          "yanchor": "bottom",
          "yref": "paper"
         },
         {
          "font": {},
          "showarrow": false,
          "text": "Education=Basic",
          "x": 0.5,
          "xanchor": "center",
          "xref": "paper",
          "y": 0.358,
          "yanchor": "bottom",
          "yref": "paper"
         },
         {
          "font": {},
          "showarrow": false,
          "text": "Education=Master",
          "x": 0.5,
          "xanchor": "center",
          "xref": "paper",
          "y": 0.572,
          "yanchor": "bottom",
          "yref": "paper"
         },
         {
          "font": {},
          "showarrow": false,
          "text": "Education=PhD",
          "x": 0.5,
          "xanchor": "center",
          "xref": "paper",
          "y": 0.7859999999999999,
          "yanchor": "bottom",
          "yref": "paper"
         },
         {
          "font": {},
          "showarrow": false,
          "text": "Education=Graduation",
          "x": 0.5,
          "xanchor": "center",
          "xref": "paper",
          "y": 1,
          "yanchor": "bottom",
          "yref": "paper"
         }
        ],
        "height": 800,
        "legend": {
         "itemsizing": "constant",
         "title": {
          "text": "Rel_Status"
         },
         "tracegroupgap": 0
        },
        "template": {
         "data": {
          "bar": [
           {
            "error_x": {
             "color": "#2a3f5f"
            },
            "error_y": {
             "color": "#2a3f5f"
            },
            "marker": {
             "line": {
              "color": "#E5ECF6",
              "width": 0.5
             },
             "pattern": {
              "fillmode": "overlay",
              "size": 10,
              "solidity": 0.2
             }
            },
            "type": "bar"
           }
          ],
          "barpolar": [
           {
            "marker": {
             "line": {
              "color": "#E5ECF6",
              "width": 0.5
             },
             "pattern": {
              "fillmode": "overlay",
              "size": 10,
              "solidity": 0.2
             }
            },
            "type": "barpolar"
           }
          ],
          "carpet": [
           {
            "aaxis": {
             "endlinecolor": "#2a3f5f",
             "gridcolor": "white",
             "linecolor": "white",
             "minorgridcolor": "white",
             "startlinecolor": "#2a3f5f"
            },
            "baxis": {
             "endlinecolor": "#2a3f5f",
             "gridcolor": "white",
             "linecolor": "white",
             "minorgridcolor": "white",
             "startlinecolor": "#2a3f5f"
            },
            "type": "carpet"
           }
          ],
          "choropleth": [
           {
            "colorbar": {
             "outlinewidth": 0,
             "ticks": ""
            },
            "type": "choropleth"
           }
          ],
          "contour": [
           {
            "colorbar": {
             "outlinewidth": 0,
             "ticks": ""
            },
            "colorscale": [
             [
              0,
              "#0d0887"
             ],
             [
              0.1111111111111111,
              "#46039f"
             ],
             [
              0.2222222222222222,
              "#7201a8"
             ],
             [
              0.3333333333333333,
              "#9c179e"
             ],
             [
              0.4444444444444444,
              "#bd3786"
             ],
             [
              0.5555555555555556,
              "#d8576b"
             ],
             [
              0.6666666666666666,
              "#ed7953"
             ],
             [
              0.7777777777777778,
              "#fb9f3a"
             ],
             [
              0.8888888888888888,
              "#fdca26"
             ],
             [
              1,
              "#f0f921"
             ]
            ],
            "type": "contour"
           }
          ],
          "contourcarpet": [
           {
            "colorbar": {
             "outlinewidth": 0,
             "ticks": ""
            },
            "type": "contourcarpet"
           }
          ],
          "heatmap": [
           {
            "colorbar": {
             "outlinewidth": 0,
             "ticks": ""
            },
            "colorscale": [
             [
              0,
              "#0d0887"
             ],
             [
              0.1111111111111111,
              "#46039f"
             ],
             [
              0.2222222222222222,
              "#7201a8"
             ],
             [
              0.3333333333333333,
              "#9c179e"
             ],
             [
              0.4444444444444444,
              "#bd3786"
             ],
             [
              0.5555555555555556,
              "#d8576b"
             ],
             [
              0.6666666666666666,
              "#ed7953"
             ],
             [
              0.7777777777777778,
              "#fb9f3a"
             ],
             [
              0.8888888888888888,
              "#fdca26"
             ],
             [
              1,
              "#f0f921"
             ]
            ],
            "type": "heatmap"
           }
          ],
          "heatmapgl": [
           {
            "colorbar": {
             "outlinewidth": 0,
             "ticks": ""
            },
            "colorscale": [
             [
              0,
              "#0d0887"
             ],
             [
              0.1111111111111111,
              "#46039f"
             ],
             [
              0.2222222222222222,
              "#7201a8"
             ],
             [
              0.3333333333333333,
              "#9c179e"
             ],
             [
              0.4444444444444444,
              "#bd3786"
             ],
             [
              0.5555555555555556,
              "#d8576b"
             ],
             [
              0.6666666666666666,
              "#ed7953"
             ],
             [
              0.7777777777777778,
              "#fb9f3a"
             ],
             [
              0.8888888888888888,
              "#fdca26"
             ],
             [
              1,
              "#f0f921"
             ]
            ],
            "type": "heatmapgl"
           }
          ],
          "histogram": [
           {
            "marker": {
             "pattern": {
              "fillmode": "overlay",
              "size": 10,
              "solidity": 0.2
             }
            },
            "type": "histogram"
           }
          ],
          "histogram2d": [
           {
            "colorbar": {
             "outlinewidth": 0,
             "ticks": ""
            },
            "colorscale": [
             [
              0,
              "#0d0887"
             ],
             [
              0.1111111111111111,
              "#46039f"
             ],
             [
              0.2222222222222222,
              "#7201a8"
             ],
             [
              0.3333333333333333,
              "#9c179e"
             ],
             [
              0.4444444444444444,
              "#bd3786"
             ],
             [
              0.5555555555555556,
              "#d8576b"
             ],
             [
              0.6666666666666666,
              "#ed7953"
             ],
             [
              0.7777777777777778,
              "#fb9f3a"
             ],
             [
              0.8888888888888888,
              "#fdca26"
             ],
             [
              1,
              "#f0f921"
             ]
            ],
            "type": "histogram2d"
           }
          ],
          "histogram2dcontour": [
           {
            "colorbar": {
             "outlinewidth": 0,
             "ticks": ""
            },
            "colorscale": [
             [
              0,
              "#0d0887"
             ],
             [
              0.1111111111111111,
              "#46039f"
             ],
             [
              0.2222222222222222,
              "#7201a8"
             ],
             [
              0.3333333333333333,
              "#9c179e"
             ],
             [
              0.4444444444444444,
              "#bd3786"
             ],
             [
              0.5555555555555556,
              "#d8576b"
             ],
             [
              0.6666666666666666,
              "#ed7953"
             ],
             [
              0.7777777777777778,
              "#fb9f3a"
             ],
             [
              0.8888888888888888,
              "#fdca26"
             ],
             [
              1,
              "#f0f921"
             ]
            ],
            "type": "histogram2dcontour"
           }
          ],
          "mesh3d": [
           {
            "colorbar": {
             "outlinewidth": 0,
             "ticks": ""
            },
            "type": "mesh3d"
           }
          ],
          "parcoords": [
           {
            "line": {
             "colorbar": {
              "outlinewidth": 0,
              "ticks": ""
             }
            },
            "type": "parcoords"
           }
          ],
          "pie": [
           {
            "automargin": true,
            "type": "pie"
           }
          ],
          "scatter": [
           {
            "marker": {
             "colorbar": {
              "outlinewidth": 0,
              "ticks": ""
             }
            },
            "type": "scatter"
           }
          ],
          "scatter3d": [
           {
            "line": {
             "colorbar": {
              "outlinewidth": 0,
              "ticks": ""
             }
            },
            "marker": {
             "colorbar": {
              "outlinewidth": 0,
              "ticks": ""
             }
            },
            "type": "scatter3d"
           }
          ],
          "scattercarpet": [
           {
            "marker": {
             "colorbar": {
              "outlinewidth": 0,
              "ticks": ""
             }
            },
            "type": "scattercarpet"
           }
          ],
          "scattergeo": [
           {
            "marker": {
             "colorbar": {
              "outlinewidth": 0,
              "ticks": ""
             }
            },
            "type": "scattergeo"
           }
          ],
          "scattergl": [
           {
            "marker": {
             "colorbar": {
              "outlinewidth": 0,
              "ticks": ""
             }
            },
            "type": "scattergl"
           }
          ],
          "scattermapbox": [
           {
            "marker": {
             "colorbar": {
              "outlinewidth": 0,
              "ticks": ""
             }
            },
            "type": "scattermapbox"
           }
          ],
          "scatterpolar": [
           {
            "marker": {
             "colorbar": {
              "outlinewidth": 0,
              "ticks": ""
             }
            },
            "type": "scatterpolar"
           }
          ],
          "scatterpolargl": [
           {
            "marker": {
             "colorbar": {
              "outlinewidth": 0,
              "ticks": ""
             }
            },
            "type": "scatterpolargl"
           }
          ],
          "scatterternary": [
           {
            "marker": {
             "colorbar": {
              "outlinewidth": 0,
              "ticks": ""
             }
            },
            "type": "scatterternary"
           }
          ],
          "surface": [
           {
            "colorbar": {
             "outlinewidth": 0,
             "ticks": ""
            },
            "colorscale": [
             [
              0,
              "#0d0887"
             ],
             [
              0.1111111111111111,
              "#46039f"
             ],
             [
              0.2222222222222222,
              "#7201a8"
             ],
             [
              0.3333333333333333,
              "#9c179e"
             ],
             [
              0.4444444444444444,
              "#bd3786"
             ],
             [
              0.5555555555555556,
              "#d8576b"
             ],
             [
              0.6666666666666666,
              "#ed7953"
             ],
             [
              0.7777777777777778,
              "#fb9f3a"
             ],
             [
              0.8888888888888888,
              "#fdca26"
             ],
             [
              1,
              "#f0f921"
             ]
            ],
            "type": "surface"
           }
          ],
          "table": [
           {
            "cells": {
             "fill": {
              "color": "#EBF0F8"
             },
             "line": {
              "color": "white"
             }
            },
            "header": {
             "fill": {
              "color": "#C8D4E3"
             },
             "line": {
              "color": "white"
             }
            },
            "type": "table"
           }
          ]
         },
         "layout": {
          "annotationdefaults": {
           "arrowcolor": "#2a3f5f",
           "arrowhead": 0,
           "arrowwidth": 1
          },
          "autotypenumbers": "strict",
          "coloraxis": {
           "colorbar": {
            "outlinewidth": 0,
            "ticks": ""
           }
          },
          "colorscale": {
           "diverging": [
            [
             0,
             "#8e0152"
            ],
            [
             0.1,
             "#c51b7d"
            ],
            [
             0.2,
             "#de77ae"
            ],
            [
             0.3,
             "#f1b6da"
            ],
            [
             0.4,
             "#fde0ef"
            ],
            [
             0.5,
             "#f7f7f7"
            ],
            [
             0.6,
             "#e6f5d0"
            ],
            [
             0.7,
             "#b8e186"
            ],
            [
             0.8,
             "#7fbc41"
            ],
            [
             0.9,
             "#4d9221"
            ],
            [
             1,
             "#276419"
            ]
           ],
           "sequential": [
            [
             0,
             "#0d0887"
            ],
            [
             0.1111111111111111,
             "#46039f"
            ],
            [
             0.2222222222222222,
             "#7201a8"
            ],
            [
             0.3333333333333333,
             "#9c179e"
            ],
            [
             0.4444444444444444,
             "#bd3786"
            ],
            [
             0.5555555555555556,
             "#d8576b"
            ],
            [
             0.6666666666666666,
             "#ed7953"
            ],
            [
             0.7777777777777778,
             "#fb9f3a"
            ],
            [
             0.8888888888888888,
             "#fdca26"
            ],
            [
             1,
             "#f0f921"
            ]
           ],
           "sequentialminus": [
            [
             0,
             "#0d0887"
            ],
            [
             0.1111111111111111,
             "#46039f"
            ],
            [
             0.2222222222222222,
             "#7201a8"
            ],
            [
             0.3333333333333333,
             "#9c179e"
            ],
            [
             0.4444444444444444,
             "#bd3786"
            ],
            [
             0.5555555555555556,
             "#d8576b"
            ],
            [
             0.6666666666666666,
             "#ed7953"
            ],
            [
             0.7777777777777778,
             "#fb9f3a"
            ],
            [
             0.8888888888888888,
             "#fdca26"
            ],
            [
             1,
             "#f0f921"
            ]
           ]
          },
          "colorway": [
           "#636efa",
           "#EF553B",
           "#00cc96",
           "#ab63fa",
           "#FFA15A",
           "#19d3f3",
           "#FF6692",
           "#B6E880",
           "#FF97FF",
           "#FECB52"
          ],
          "font": {
           "color": "#2a3f5f"
          },
          "geo": {
           "bgcolor": "white",
           "lakecolor": "white",
           "landcolor": "#E5ECF6",
           "showlakes": true,
           "showland": true,
           "subunitcolor": "white"
          },
          "hoverlabel": {
           "align": "left"
          },
          "hovermode": "closest",
          "mapbox": {
           "style": "light"
          },
          "paper_bgcolor": "white",
          "plot_bgcolor": "#E5ECF6",
          "polar": {
           "angularaxis": {
            "gridcolor": "white",
            "linecolor": "white",
            "ticks": ""
           },
           "bgcolor": "#E5ECF6",
           "radialaxis": {
            "gridcolor": "white",
            "linecolor": "white",
            "ticks": ""
           }
          },
          "scene": {
           "xaxis": {
            "backgroundcolor": "#E5ECF6",
            "gridcolor": "white",
            "gridwidth": 2,
            "linecolor": "white",
            "showbackground": true,
            "ticks": "",
            "zerolinecolor": "white"
           },
           "yaxis": {
            "backgroundcolor": "#E5ECF6",
            "gridcolor": "white",
            "gridwidth": 2,
            "linecolor": "white",
            "showbackground": true,
            "ticks": "",
            "zerolinecolor": "white"
           },
           "zaxis": {
            "backgroundcolor": "#E5ECF6",
            "gridcolor": "white",
            "gridwidth": 2,
            "linecolor": "white",
            "showbackground": true,
            "ticks": "",
            "zerolinecolor": "white"
           }
          },
          "shapedefaults": {
           "line": {
            "color": "#2a3f5f"
           }
          },
          "ternary": {
           "aaxis": {
            "gridcolor": "white",
            "linecolor": "white",
            "ticks": ""
           },
           "baxis": {
            "gridcolor": "white",
            "linecolor": "white",
            "ticks": ""
           },
           "bgcolor": "#E5ECF6",
           "caxis": {
            "gridcolor": "white",
            "linecolor": "white",
            "ticks": ""
           }
          },
          "title": {
           "x": 0.05
          },
          "xaxis": {
           "automargin": true,
           "gridcolor": "white",
           "linecolor": "white",
           "ticks": "",
           "title": {
            "standoff": 15
           },
           "zerolinecolor": "white",
           "zerolinewidth": 2
          },
          "yaxis": {
           "automargin": true,
           "gridcolor": "white",
           "linecolor": "white",
           "ticks": "",
           "title": {
            "standoff": 15
           },
           "zerolinecolor": "white",
           "zerolinewidth": 2
          }
         }
        },
        "title": {
         "text": "Spend per Purchase Patterns"
        },
        "xaxis": {
         "anchor": "y",
         "domain": [
          0,
          1
         ],
         "title": {
          "text": "Spend per Purchase"
         }
        },
        "xaxis2": {
         "anchor": "y2",
         "domain": [
          0,
          1
         ],
         "matches": "x",
         "showticklabels": false
        },
        "xaxis3": {
         "anchor": "y3",
         "domain": [
          0,
          1
         ],
         "matches": "x",
         "showticklabels": false
        },
        "xaxis4": {
         "anchor": "y4",
         "domain": [
          0,
          1
         ],
         "matches": "x",
         "showticklabels": false
        },
        "xaxis5": {
         "anchor": "y5",
         "domain": [
          0,
          1
         ],
         "matches": "x",
         "showticklabels": false
        },
        "yaxis": {
         "anchor": "x",
         "domain": [
          0,
          0.144
         ],
         "title": {
          "text": "Total Purchases"
         }
        },
        "yaxis2": {
         "anchor": "x2",
         "domain": [
          0.214,
          0.358
         ],
         "matches": "y",
         "title": {
          "text": "Total Purchases"
         }
        },
        "yaxis3": {
         "anchor": "x3",
         "domain": [
          0.428,
          0.572
         ],
         "matches": "y",
         "title": {
          "text": "Total Purchases"
         }
        },
        "yaxis4": {
         "anchor": "x4",
         "domain": [
          0.6419999999999999,
          0.7859999999999999
         ],
         "matches": "y",
         "title": {
          "text": "Total Purchases"
         }
        },
        "yaxis5": {
         "anchor": "x5",
         "domain": [
          0.856,
          1
         ],
         "matches": "y",
         "title": {
          "text": "Total Purchases"
         }
        }
       }
      }
     },
     "metadata": {},
     "output_type": "display_data"
    }
   ],
   "source": [
    "fig = px.scatter(data_frame=df, x='SpendPerPurchase', y='TotalPurchases', size='Income', color='Rel_Status', opacity=0.5, facet_col='Education', facet_col_wrap=1, height=800,\n",
    "                 labels={\n",
    "                     'SpendPerPurchase': 'Spend per Purchase',\n",
    "                     'TotalPurchases': 'Total Purchases'\n",
    "                 }, title='Spend per Purchase Patterns')\n",
    "fig.show()\n"
   ]
  },
  {
   "cell_type": "code",
   "execution_count": 144,
   "metadata": {},
   "outputs": [],
   "source": [
    "# fig = px.scatter(data_frame=df.query(\"Rel_Status=='Single'\"), x='SpendPerPurchase', y='TotalSpend', color='Education', size='Minorhome', opacity=0.7)\n",
    "# fig.show()"
   ]
  },
  {
   "cell_type": "code",
   "execution_count": null,
   "metadata": {},
   "outputs": [],
   "source": [
    "cluster_dataset = df[['Age', 'Education', 'Rel_Status', 'Income', 'TotalSpend', 'Wines', 'Fruits', 'Meat', 'Fish', 'Sweet', 'Gold']]"
   ]
  },
  {
   "cell_type": "code",
   "execution_count": null,
   "metadata": {},
   "outputs": [],
   "source": [
    "cluster_dataset.head()"
   ]
  },
  {
   "cell_type": "code",
   "execution_count": null,
   "metadata": {},
   "outputs": [],
   "source": [
    "cluster_dataset.to_csv('dataset/cluster_dataset.csv', index=False)"
   ]
  },
  {
   "cell_type": "markdown",
   "metadata": {},
   "source": [
    "To be continued..."
   ]
  }
 ],
 "metadata": {
  "interpreter": {
   "hash": "328451d13929b4b204fb6aa8aa903a01b55f8619bc5c8844eedec07f455652ec"
  },
  "kernelspec": {
   "display_name": "Python 3.9.6 64-bit",
   "name": "python3"
  },
  "language_info": {
   "codemirror_mode": {
    "name": "ipython",
    "version": 3
   },
   "file_extension": ".py",
   "mimetype": "text/x-python",
   "name": "python",
   "nbconvert_exporter": "python",
   "pygments_lexer": "ipython3",
   "version": "3.9.6"
  },
  "orig_nbformat": 4
 },
 "nbformat": 4,
 "nbformat_minor": 2
}
